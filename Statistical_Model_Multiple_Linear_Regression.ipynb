{
  "cells": [
    {
      "cell_type": "markdown",
      "metadata": {
        "id": "view-in-github",
        "colab_type": "text"
      },
      "source": [
        "<a href=\"https://colab.research.google.com/github/linahourieh/Wine_Quality_Multilinear_Reg/blob/main/Statistical_Model_Multiple_Linear_Regression.ipynb\" target=\"_parent\"><img src=\"https://colab.research.google.com/assets/colab-badge.svg\" alt=\"Open In Colab\"/></a>"
      ]
    },
    {
      "cell_type": "markdown",
      "metadata": {
        "id": "p0DFBPjNdTfa"
      },
      "source": [
        "# Objectives 🔍\n",
        "In statistical Models, the main goal is to infer about the relationships between y and many x. Thus, our aim in this dataset is to characterize the relation between citric acid and different variables.\n",
        "\n",
        "**P.S**: We are not interested in building a model that will predict the amount of citric acid.\n",
        "\n",
        "----------------------\n"
      ]
    },
    {
      "cell_type": "markdown",
      "metadata": {
        "id": "mK4Uh_Ua9f8f"
      },
      "source": [
        "# Loading Essential Libraries 📚"
      ]
    },
    {
      "cell_type": "code",
      "execution_count": 1,
      "metadata": {
        "colab": {
          "base_uri": "https://localhost:8080/"
        },
        "id": "w2B85GM7oGiF",
        "outputId": "ffeba73a-974b-418b-96ce-20f969decba0"
      },
      "outputs": [
        {
          "output_type": "stream",
          "name": "stderr",
          "text": [
            "/usr/local/lib/python3.7/dist-packages/statsmodels/tools/_testing.py:19: FutureWarning: pandas.util.testing is deprecated. Use the functions in the public API at pandas.testing instead.\n",
            "  import pandas.util.testing as tm\n"
          ]
        }
      ],
      "source": [
        "# we start first by importing essential libraries\n",
        "\n",
        "# for data manipulation\n",
        "import pandas as pd\n",
        "import numpy as np\n",
        "\n",
        "\n",
        "# for vizualization\n",
        "import plotly.express as px\n",
        "import plotly.graph_objects as go\n",
        "import plotly.figure_factory as ff\n",
        "import matplotlib.pyplot as plt\n",
        "import matplotlib as mpl\n",
        "\n",
        "# for statistical tests\n",
        "import statsmodels.api as sma\n",
        "import statsmodels.stats.api as sms\n",
        "from statsmodels.compat import lzip\n",
        "from statsmodels.tools.tools import add_constant\n",
        "from statsmodels.stats.outliers_influence import variance_inflation_factor\n",
        "from statsmodels.graphics.gofplots import qqplot\n",
        "from sklearn.model_selection import train_test_split\n",
        "from sklearn.metrics import r2_score \n",
        "\n",
        "import scipy.stats as stats\n"
      ]
    },
    {
      "cell_type": "markdown",
      "metadata": {
        "id": "tmpYEN0LfKqh"
      },
      "source": [
        "# Reading Data Set 👓"
      ]
    },
    {
      "cell_type": "code",
      "execution_count": 2,
      "metadata": {
        "id": "A2_bnOc3xWfC"
      },
      "outputs": [],
      "source": [
        "url = 'https://raw.githubusercontent.com/linahourieh/Wine_Quality_Multilinear_Reg/main/winequality-red.csv'\n",
        "df_wine = pd.read_csv(url)"
      ]
    },
    {
      "cell_type": "code",
      "execution_count": 3,
      "metadata": {
        "colab": {
          "base_uri": "https://localhost:8080/",
          "height": 268
        },
        "id": "ieTOEpMJob2u",
        "outputId": "3ce9f2b8-8191-450d-c042-c743e552ad68"
      },
      "outputs": [
        {
          "output_type": "execute_result",
          "data": {
            "text/html": [
              "\n",
              "  <div id=\"df-a32fc278-1061-4723-8fa1-5d3f1946f0cd\">\n",
              "    <div class=\"colab-df-container\">\n",
              "      <div>\n",
              "<style scoped>\n",
              "    .dataframe tbody tr th:only-of-type {\n",
              "        vertical-align: middle;\n",
              "    }\n",
              "\n",
              "    .dataframe tbody tr th {\n",
              "        vertical-align: top;\n",
              "    }\n",
              "\n",
              "    .dataframe thead th {\n",
              "        text-align: right;\n",
              "    }\n",
              "</style>\n",
              "<table border=\"1\" class=\"dataframe\">\n",
              "  <thead>\n",
              "    <tr style=\"text-align: right;\">\n",
              "      <th></th>\n",
              "      <th>fixed acidity</th>\n",
              "      <th>volatile acidity</th>\n",
              "      <th>citric acid</th>\n",
              "      <th>residual sugar</th>\n",
              "      <th>chlorides</th>\n",
              "      <th>free sulfur dioxide</th>\n",
              "      <th>total sulfur dioxide</th>\n",
              "      <th>density</th>\n",
              "      <th>pH</th>\n",
              "      <th>sulphates</th>\n",
              "      <th>alcohol</th>\n",
              "      <th>quality</th>\n",
              "    </tr>\n",
              "  </thead>\n",
              "  <tbody>\n",
              "    <tr>\n",
              "      <th>0</th>\n",
              "      <td>7.4</td>\n",
              "      <td>0.70</td>\n",
              "      <td>0.00</td>\n",
              "      <td>1.9</td>\n",
              "      <td>0.076</td>\n",
              "      <td>11.0</td>\n",
              "      <td>34.0</td>\n",
              "      <td>0.9978</td>\n",
              "      <td>3.51</td>\n",
              "      <td>0.56</td>\n",
              "      <td>9.4</td>\n",
              "      <td>5</td>\n",
              "    </tr>\n",
              "    <tr>\n",
              "      <th>1</th>\n",
              "      <td>7.8</td>\n",
              "      <td>0.88</td>\n",
              "      <td>0.00</td>\n",
              "      <td>2.6</td>\n",
              "      <td>0.098</td>\n",
              "      <td>25.0</td>\n",
              "      <td>67.0</td>\n",
              "      <td>0.9968</td>\n",
              "      <td>3.20</td>\n",
              "      <td>0.68</td>\n",
              "      <td>9.8</td>\n",
              "      <td>5</td>\n",
              "    </tr>\n",
              "    <tr>\n",
              "      <th>2</th>\n",
              "      <td>7.8</td>\n",
              "      <td>0.76</td>\n",
              "      <td>0.04</td>\n",
              "      <td>2.3</td>\n",
              "      <td>0.092</td>\n",
              "      <td>15.0</td>\n",
              "      <td>54.0</td>\n",
              "      <td>0.9970</td>\n",
              "      <td>3.26</td>\n",
              "      <td>0.65</td>\n",
              "      <td>9.8</td>\n",
              "      <td>5</td>\n",
              "    </tr>\n",
              "    <tr>\n",
              "      <th>3</th>\n",
              "      <td>11.2</td>\n",
              "      <td>0.28</td>\n",
              "      <td>0.56</td>\n",
              "      <td>1.9</td>\n",
              "      <td>0.075</td>\n",
              "      <td>17.0</td>\n",
              "      <td>60.0</td>\n",
              "      <td>0.9980</td>\n",
              "      <td>3.16</td>\n",
              "      <td>0.58</td>\n",
              "      <td>9.8</td>\n",
              "      <td>6</td>\n",
              "    </tr>\n",
              "    <tr>\n",
              "      <th>4</th>\n",
              "      <td>7.4</td>\n",
              "      <td>0.70</td>\n",
              "      <td>0.00</td>\n",
              "      <td>1.9</td>\n",
              "      <td>0.076</td>\n",
              "      <td>11.0</td>\n",
              "      <td>34.0</td>\n",
              "      <td>0.9978</td>\n",
              "      <td>3.51</td>\n",
              "      <td>0.56</td>\n",
              "      <td>9.4</td>\n",
              "      <td>5</td>\n",
              "    </tr>\n",
              "  </tbody>\n",
              "</table>\n",
              "</div>\n",
              "      <button class=\"colab-df-convert\" onclick=\"convertToInteractive('df-a32fc278-1061-4723-8fa1-5d3f1946f0cd')\"\n",
              "              title=\"Convert this dataframe to an interactive table.\"\n",
              "              style=\"display:none;\">\n",
              "        \n",
              "  <svg xmlns=\"http://www.w3.org/2000/svg\" height=\"24px\"viewBox=\"0 0 24 24\"\n",
              "       width=\"24px\">\n",
              "    <path d=\"M0 0h24v24H0V0z\" fill=\"none\"/>\n",
              "    <path d=\"M18.56 5.44l.94 2.06.94-2.06 2.06-.94-2.06-.94-.94-2.06-.94 2.06-2.06.94zm-11 1L8.5 8.5l.94-2.06 2.06-.94-2.06-.94L8.5 2.5l-.94 2.06-2.06.94zm10 10l.94 2.06.94-2.06 2.06-.94-2.06-.94-.94-2.06-.94 2.06-2.06.94z\"/><path d=\"M17.41 7.96l-1.37-1.37c-.4-.4-.92-.59-1.43-.59-.52 0-1.04.2-1.43.59L10.3 9.45l-7.72 7.72c-.78.78-.78 2.05 0 2.83L4 21.41c.39.39.9.59 1.41.59.51 0 1.02-.2 1.41-.59l7.78-7.78 2.81-2.81c.8-.78.8-2.07 0-2.86zM5.41 20L4 18.59l7.72-7.72 1.47 1.35L5.41 20z\"/>\n",
              "  </svg>\n",
              "      </button>\n",
              "      \n",
              "  <style>\n",
              "    .colab-df-container {\n",
              "      display:flex;\n",
              "      flex-wrap:wrap;\n",
              "      gap: 12px;\n",
              "    }\n",
              "\n",
              "    .colab-df-convert {\n",
              "      background-color: #E8F0FE;\n",
              "      border: none;\n",
              "      border-radius: 50%;\n",
              "      cursor: pointer;\n",
              "      display: none;\n",
              "      fill: #1967D2;\n",
              "      height: 32px;\n",
              "      padding: 0 0 0 0;\n",
              "      width: 32px;\n",
              "    }\n",
              "\n",
              "    .colab-df-convert:hover {\n",
              "      background-color: #E2EBFA;\n",
              "      box-shadow: 0px 1px 2px rgba(60, 64, 67, 0.3), 0px 1px 3px 1px rgba(60, 64, 67, 0.15);\n",
              "      fill: #174EA6;\n",
              "    }\n",
              "\n",
              "    [theme=dark] .colab-df-convert {\n",
              "      background-color: #3B4455;\n",
              "      fill: #D2E3FC;\n",
              "    }\n",
              "\n",
              "    [theme=dark] .colab-df-convert:hover {\n",
              "      background-color: #434B5C;\n",
              "      box-shadow: 0px 1px 3px 1px rgba(0, 0, 0, 0.15);\n",
              "      filter: drop-shadow(0px 1px 2px rgba(0, 0, 0, 0.3));\n",
              "      fill: #FFFFFF;\n",
              "    }\n",
              "  </style>\n",
              "\n",
              "      <script>\n",
              "        const buttonEl =\n",
              "          document.querySelector('#df-a32fc278-1061-4723-8fa1-5d3f1946f0cd button.colab-df-convert');\n",
              "        buttonEl.style.display =\n",
              "          google.colab.kernel.accessAllowed ? 'block' : 'none';\n",
              "\n",
              "        async function convertToInteractive(key) {\n",
              "          const element = document.querySelector('#df-a32fc278-1061-4723-8fa1-5d3f1946f0cd');\n",
              "          const dataTable =\n",
              "            await google.colab.kernel.invokeFunction('convertToInteractive',\n",
              "                                                     [key], {});\n",
              "          if (!dataTable) return;\n",
              "\n",
              "          const docLinkHtml = 'Like what you see? Visit the ' +\n",
              "            '<a target=\"_blank\" href=https://colab.research.google.com/notebooks/data_table.ipynb>data table notebook</a>'\n",
              "            + ' to learn more about interactive tables.';\n",
              "          element.innerHTML = '';\n",
              "          dataTable['output_type'] = 'display_data';\n",
              "          await google.colab.output.renderOutput(dataTable, element);\n",
              "          const docLink = document.createElement('div');\n",
              "          docLink.innerHTML = docLinkHtml;\n",
              "          element.appendChild(docLink);\n",
              "        }\n",
              "      </script>\n",
              "    </div>\n",
              "  </div>\n",
              "  "
            ],
            "text/plain": [
              "   fixed acidity  volatile acidity  citric acid  ...  sulphates  alcohol  quality\n",
              "0            7.4              0.70         0.00  ...       0.56      9.4        5\n",
              "1            7.8              0.88         0.00  ...       0.68      9.8        5\n",
              "2            7.8              0.76         0.04  ...       0.65      9.8        5\n",
              "3           11.2              0.28         0.56  ...       0.58      9.8        6\n",
              "4            7.4              0.70         0.00  ...       0.56      9.4        5\n",
              "\n",
              "[5 rows x 12 columns]"
            ]
          },
          "metadata": {},
          "execution_count": 3
        }
      ],
      "source": [
        "df_wine.head()"
      ]
    },
    {
      "cell_type": "code",
      "execution_count": 4,
      "metadata": {
        "colab": {
          "base_uri": "https://localhost:8080/"
        },
        "id": "pSxDtAYKx9ah",
        "outputId": "a763f8ad-1138-42d3-8c35-9880d945da1d"
      },
      "outputs": [
        {
          "output_type": "execute_result",
          "data": {
            "text/plain": [
              "(1599, 12)"
            ]
          },
          "metadata": {},
          "execution_count": 4
        }
      ],
      "source": [
        "df_wine.shape"
      ]
    },
    {
      "cell_type": "code",
      "execution_count": 5,
      "metadata": {
        "colab": {
          "base_uri": "https://localhost:8080/",
          "height": 399
        },
        "id": "QLfSr7p1yB_q",
        "outputId": "06f24e7c-a73a-4b76-b5cc-e87758600d07"
      },
      "outputs": [
        {
          "output_type": "execute_result",
          "data": {
            "text/html": [
              "\n",
              "  <div id=\"df-56aef264-178a-45e8-b47a-295b83293c07\">\n",
              "    <div class=\"colab-df-container\">\n",
              "      <div>\n",
              "<style scoped>\n",
              "    .dataframe tbody tr th:only-of-type {\n",
              "        vertical-align: middle;\n",
              "    }\n",
              "\n",
              "    .dataframe tbody tr th {\n",
              "        vertical-align: top;\n",
              "    }\n",
              "\n",
              "    .dataframe thead th {\n",
              "        text-align: right;\n",
              "    }\n",
              "</style>\n",
              "<table border=\"1\" class=\"dataframe\">\n",
              "  <thead>\n",
              "    <tr style=\"text-align: right;\">\n",
              "      <th></th>\n",
              "      <th>fixed acidity</th>\n",
              "      <th>volatile acidity</th>\n",
              "      <th>citric acid</th>\n",
              "      <th>residual sugar</th>\n",
              "      <th>chlorides</th>\n",
              "      <th>free sulfur dioxide</th>\n",
              "      <th>total sulfur dioxide</th>\n",
              "      <th>density</th>\n",
              "      <th>pH</th>\n",
              "      <th>sulphates</th>\n",
              "      <th>alcohol</th>\n",
              "      <th>quality</th>\n",
              "    </tr>\n",
              "  </thead>\n",
              "  <tbody>\n",
              "    <tr>\n",
              "      <th>count</th>\n",
              "      <td>1599.000000</td>\n",
              "      <td>1599.000000</td>\n",
              "      <td>1599.000000</td>\n",
              "      <td>1599.000000</td>\n",
              "      <td>1599.000000</td>\n",
              "      <td>1599.000000</td>\n",
              "      <td>1599.000000</td>\n",
              "      <td>1599.000000</td>\n",
              "      <td>1599.000000</td>\n",
              "      <td>1599.000000</td>\n",
              "      <td>1599.000000</td>\n",
              "      <td>1599.000000</td>\n",
              "    </tr>\n",
              "    <tr>\n",
              "      <th>mean</th>\n",
              "      <td>8.319637</td>\n",
              "      <td>0.527821</td>\n",
              "      <td>0.270976</td>\n",
              "      <td>2.538806</td>\n",
              "      <td>0.087467</td>\n",
              "      <td>15.874922</td>\n",
              "      <td>46.467792</td>\n",
              "      <td>0.996747</td>\n",
              "      <td>3.311113</td>\n",
              "      <td>0.658149</td>\n",
              "      <td>10.422983</td>\n",
              "      <td>5.636023</td>\n",
              "    </tr>\n",
              "    <tr>\n",
              "      <th>std</th>\n",
              "      <td>1.741096</td>\n",
              "      <td>0.179060</td>\n",
              "      <td>0.194801</td>\n",
              "      <td>1.409928</td>\n",
              "      <td>0.047065</td>\n",
              "      <td>10.460157</td>\n",
              "      <td>32.895324</td>\n",
              "      <td>0.001887</td>\n",
              "      <td>0.154386</td>\n",
              "      <td>0.169507</td>\n",
              "      <td>1.065668</td>\n",
              "      <td>0.807569</td>\n",
              "    </tr>\n",
              "    <tr>\n",
              "      <th>min</th>\n",
              "      <td>4.600000</td>\n",
              "      <td>0.120000</td>\n",
              "      <td>0.000000</td>\n",
              "      <td>0.900000</td>\n",
              "      <td>0.012000</td>\n",
              "      <td>1.000000</td>\n",
              "      <td>6.000000</td>\n",
              "      <td>0.990070</td>\n",
              "      <td>2.740000</td>\n",
              "      <td>0.330000</td>\n",
              "      <td>8.400000</td>\n",
              "      <td>3.000000</td>\n",
              "    </tr>\n",
              "    <tr>\n",
              "      <th>25%</th>\n",
              "      <td>7.100000</td>\n",
              "      <td>0.390000</td>\n",
              "      <td>0.090000</td>\n",
              "      <td>1.900000</td>\n",
              "      <td>0.070000</td>\n",
              "      <td>7.000000</td>\n",
              "      <td>22.000000</td>\n",
              "      <td>0.995600</td>\n",
              "      <td>3.210000</td>\n",
              "      <td>0.550000</td>\n",
              "      <td>9.500000</td>\n",
              "      <td>5.000000</td>\n",
              "    </tr>\n",
              "    <tr>\n",
              "      <th>50%</th>\n",
              "      <td>7.900000</td>\n",
              "      <td>0.520000</td>\n",
              "      <td>0.260000</td>\n",
              "      <td>2.200000</td>\n",
              "      <td>0.079000</td>\n",
              "      <td>14.000000</td>\n",
              "      <td>38.000000</td>\n",
              "      <td>0.996750</td>\n",
              "      <td>3.310000</td>\n",
              "      <td>0.620000</td>\n",
              "      <td>10.200000</td>\n",
              "      <td>6.000000</td>\n",
              "    </tr>\n",
              "    <tr>\n",
              "      <th>75%</th>\n",
              "      <td>9.200000</td>\n",
              "      <td>0.640000</td>\n",
              "      <td>0.420000</td>\n",
              "      <td>2.600000</td>\n",
              "      <td>0.090000</td>\n",
              "      <td>21.000000</td>\n",
              "      <td>62.000000</td>\n",
              "      <td>0.997835</td>\n",
              "      <td>3.400000</td>\n",
              "      <td>0.730000</td>\n",
              "      <td>11.100000</td>\n",
              "      <td>6.000000</td>\n",
              "    </tr>\n",
              "    <tr>\n",
              "      <th>max</th>\n",
              "      <td>15.900000</td>\n",
              "      <td>1.580000</td>\n",
              "      <td>1.000000</td>\n",
              "      <td>15.500000</td>\n",
              "      <td>0.611000</td>\n",
              "      <td>72.000000</td>\n",
              "      <td>289.000000</td>\n",
              "      <td>1.003690</td>\n",
              "      <td>4.010000</td>\n",
              "      <td>2.000000</td>\n",
              "      <td>14.900000</td>\n",
              "      <td>8.000000</td>\n",
              "    </tr>\n",
              "  </tbody>\n",
              "</table>\n",
              "</div>\n",
              "      <button class=\"colab-df-convert\" onclick=\"convertToInteractive('df-56aef264-178a-45e8-b47a-295b83293c07')\"\n",
              "              title=\"Convert this dataframe to an interactive table.\"\n",
              "              style=\"display:none;\">\n",
              "        \n",
              "  <svg xmlns=\"http://www.w3.org/2000/svg\" height=\"24px\"viewBox=\"0 0 24 24\"\n",
              "       width=\"24px\">\n",
              "    <path d=\"M0 0h24v24H0V0z\" fill=\"none\"/>\n",
              "    <path d=\"M18.56 5.44l.94 2.06.94-2.06 2.06-.94-2.06-.94-.94-2.06-.94 2.06-2.06.94zm-11 1L8.5 8.5l.94-2.06 2.06-.94-2.06-.94L8.5 2.5l-.94 2.06-2.06.94zm10 10l.94 2.06.94-2.06 2.06-.94-2.06-.94-.94-2.06-.94 2.06-2.06.94z\"/><path d=\"M17.41 7.96l-1.37-1.37c-.4-.4-.92-.59-1.43-.59-.52 0-1.04.2-1.43.59L10.3 9.45l-7.72 7.72c-.78.78-.78 2.05 0 2.83L4 21.41c.39.39.9.59 1.41.59.51 0 1.02-.2 1.41-.59l7.78-7.78 2.81-2.81c.8-.78.8-2.07 0-2.86zM5.41 20L4 18.59l7.72-7.72 1.47 1.35L5.41 20z\"/>\n",
              "  </svg>\n",
              "      </button>\n",
              "      \n",
              "  <style>\n",
              "    .colab-df-container {\n",
              "      display:flex;\n",
              "      flex-wrap:wrap;\n",
              "      gap: 12px;\n",
              "    }\n",
              "\n",
              "    .colab-df-convert {\n",
              "      background-color: #E8F0FE;\n",
              "      border: none;\n",
              "      border-radius: 50%;\n",
              "      cursor: pointer;\n",
              "      display: none;\n",
              "      fill: #1967D2;\n",
              "      height: 32px;\n",
              "      padding: 0 0 0 0;\n",
              "      width: 32px;\n",
              "    }\n",
              "\n",
              "    .colab-df-convert:hover {\n",
              "      background-color: #E2EBFA;\n",
              "      box-shadow: 0px 1px 2px rgba(60, 64, 67, 0.3), 0px 1px 3px 1px rgba(60, 64, 67, 0.15);\n",
              "      fill: #174EA6;\n",
              "    }\n",
              "\n",
              "    [theme=dark] .colab-df-convert {\n",
              "      background-color: #3B4455;\n",
              "      fill: #D2E3FC;\n",
              "    }\n",
              "\n",
              "    [theme=dark] .colab-df-convert:hover {\n",
              "      background-color: #434B5C;\n",
              "      box-shadow: 0px 1px 3px 1px rgba(0, 0, 0, 0.15);\n",
              "      filter: drop-shadow(0px 1px 2px rgba(0, 0, 0, 0.3));\n",
              "      fill: #FFFFFF;\n",
              "    }\n",
              "  </style>\n",
              "\n",
              "      <script>\n",
              "        const buttonEl =\n",
              "          document.querySelector('#df-56aef264-178a-45e8-b47a-295b83293c07 button.colab-df-convert');\n",
              "        buttonEl.style.display =\n",
              "          google.colab.kernel.accessAllowed ? 'block' : 'none';\n",
              "\n",
              "        async function convertToInteractive(key) {\n",
              "          const element = document.querySelector('#df-56aef264-178a-45e8-b47a-295b83293c07');\n",
              "          const dataTable =\n",
              "            await google.colab.kernel.invokeFunction('convertToInteractive',\n",
              "                                                     [key], {});\n",
              "          if (!dataTable) return;\n",
              "\n",
              "          const docLinkHtml = 'Like what you see? Visit the ' +\n",
              "            '<a target=\"_blank\" href=https://colab.research.google.com/notebooks/data_table.ipynb>data table notebook</a>'\n",
              "            + ' to learn more about interactive tables.';\n",
              "          element.innerHTML = '';\n",
              "          dataTable['output_type'] = 'display_data';\n",
              "          await google.colab.output.renderOutput(dataTable, element);\n",
              "          const docLink = document.createElement('div');\n",
              "          docLink.innerHTML = docLinkHtml;\n",
              "          element.appendChild(docLink);\n",
              "        }\n",
              "      </script>\n",
              "    </div>\n",
              "  </div>\n",
              "  "
            ],
            "text/plain": [
              "       fixed acidity  volatile acidity  ...      alcohol      quality\n",
              "count    1599.000000       1599.000000  ...  1599.000000  1599.000000\n",
              "mean        8.319637          0.527821  ...    10.422983     5.636023\n",
              "std         1.741096          0.179060  ...     1.065668     0.807569\n",
              "min         4.600000          0.120000  ...     8.400000     3.000000\n",
              "25%         7.100000          0.390000  ...     9.500000     5.000000\n",
              "50%         7.900000          0.520000  ...    10.200000     6.000000\n",
              "75%         9.200000          0.640000  ...    11.100000     6.000000\n",
              "max        15.900000          1.580000  ...    14.900000     8.000000\n",
              "\n",
              "[8 rows x 12 columns]"
            ]
          },
          "metadata": {},
          "execution_count": 5
        }
      ],
      "source": [
        "df_wine.describe()"
      ]
    },
    {
      "cell_type": "markdown",
      "metadata": {
        "id": "165mO1HZDUlW"
      },
      "source": [
        "note that fixed acidity has a low standard deviation while free sulfur dioxide has huge one. This shows that fixed acidity might be a good predictor for our model. On the countrary to free sulfur dioxide."
      ]
    },
    {
      "cell_type": "code",
      "execution_count": 6,
      "metadata": {
        "colab": {
          "base_uri": "https://localhost:8080/"
        },
        "id": "7fdwe7zw76vO",
        "outputId": "b990255d-8efd-4058-b12f-b07b9055ceae"
      },
      "outputs": [
        {
          "output_type": "execute_result",
          "data": {
            "text/plain": [
              "Index(['fixed acidity', 'volatile acidity', 'citric acid', 'residual sugar',\n",
              "       'chlorides', 'free sulfur dioxide', 'total sulfur dioxide', 'density',\n",
              "       'pH', 'sulphates', 'alcohol', 'quality'],\n",
              "      dtype='object')"
            ]
          },
          "metadata": {},
          "execution_count": 6
        }
      ],
      "source": [
        "df_wine.columns"
      ]
    },
    {
      "cell_type": "code",
      "execution_count": 7,
      "metadata": {
        "colab": {
          "base_uri": "https://localhost:8080/"
        },
        "id": "xpgjZb3KDUlX",
        "outputId": "d82096d7-596e-45ca-a32e-73c85d6c888d"
      },
      "outputs": [
        {
          "output_type": "execute_result",
          "data": {
            "text/plain": [
              "fixed acidity           0\n",
              "volatile acidity        0\n",
              "citric acid             0\n",
              "residual sugar          0\n",
              "chlorides               0\n",
              "free sulfur dioxide     0\n",
              "total sulfur dioxide    0\n",
              "density                 0\n",
              "pH                      0\n",
              "sulphates               0\n",
              "alcohol                 0\n",
              "quality                 0\n",
              "dtype: int64"
            ]
          },
          "metadata": {},
          "execution_count": 7
        }
      ],
      "source": [
        "# no null values are detected\n",
        "df_wine.isnull().sum()"
      ]
    },
    {
      "cell_type": "code",
      "execution_count": 8,
      "metadata": {
        "id": "QcAIP4vcqmCL"
      },
      "outputs": [],
      "source": [
        "# define some colors\n",
        "colors = ['#2B463C', '#688F4E', '#B1D182', '#F4F1E9']\n",
        "\n",
        "# function to generate a continuous color palette from 2 colors\n",
        "def colorFader(c1,c2,mix=0):\n",
        "    c1=np.array(mpl.colors.to_rgb(c1))\n",
        "    c2=np.array(mpl.colors.to_rgb(c2))\n",
        "    return mpl.colors.to_hex((1-mix)*c1 + mix*c2)\n",
        "\n",
        "c1=colors[1] \n",
        "c2=colors[3] \n",
        "n=1000\n",
        "\n",
        "# list containing color series\n",
        "c=[]\n",
        "for x in range(n+1):\n",
        "    c.append(colorFader(c1,c2,x/n))"
      ]
    },
    {
      "cell_type": "code",
      "execution_count": 9,
      "metadata": {
        "colab": {
          "base_uri": "https://localhost:8080/",
          "height": 717
        },
        "id": "B85lYuUymdIP",
        "outputId": "ac645ce5-27f6-4074-855d-feae70e91204"
      },
      "outputs": [
        {
          "output_type": "display_data",
          "data": {
            "text/html": [
              "<html>\n",
              "<head><meta charset=\"utf-8\" /></head>\n",
              "<body>\n",
              "    <div>            <script src=\"https://cdnjs.cloudflare.com/ajax/libs/mathjax/2.7.5/MathJax.js?config=TeX-AMS-MML_SVG\"></script><script type=\"text/javascript\">if (window.MathJax) {MathJax.Hub.Config({SVG: {font: \"STIX-Web\"}});}</script>                <script type=\"text/javascript\">window.PlotlyConfig = {MathJaxConfig: 'local'};</script>\n",
              "        <script src=\"https://cdn.plot.ly/plotly-2.8.3.min.js\"></script>                <div id=\"0a5debd8-b046-4934-bfaf-2a44f6c8cabd\" class=\"plotly-graph-div\" style=\"height:700px; width:600px;\"></div>            <script type=\"text/javascript\">                                    window.PLOTLYENV=window.PLOTLYENV || {};                                    if (document.getElementById(\"0a5debd8-b046-4934-bfaf-2a44f6c8cabd\")) {                    Plotly.newPlot(                        \"0a5debd8-b046-4934-bfaf-2a44f6c8cabd\",                        [{\"fillcolor\":\"#688f4e\",\"jitter\":0.5,\"line\":{\"width\":0.7},\"marker\":{\"color\":\"black\",\"size\":2},\"name\":\"fixed acidity\",\"whiskerwidth\":0.2,\"y\":[7.4,7.8,7.8,11.2,7.4,7.4,7.9,7.3,7.8,7.5,6.7,7.5,5.6,7.8,8.9,8.9,8.5,8.1,7.4,7.9,8.9,7.6,7.9,8.5,6.9,6.3,7.6,7.9,7.1,7.8,6.7,6.9,8.3,6.9,5.2,7.8,7.8,8.1,5.7,7.3,7.3,8.8,7.5,8.1,6.8,4.6,7.7,8.7,6.4,5.6,8.8,6.6,6.6,8.6,7.6,7.7,10.2,7.5,7.8,7.3,8.8,7.7,7.5,7.0,7.2,7.2,7.5,6.6,9.3,8.0,7.7,7.7,7.7,8.3,9.7,8.8,8.8,6.8,6.7,8.3,6.2,7.8,7.4,7.3,6.3,6.9,8.6,7.7,9.3,7.0,7.9,8.6,8.6,7.7,5.0,4.7,6.8,7.0,7.6,8.1,8.3,7.8,8.1,8.1,7.2,8.1,7.8,6.2,8.0,8.1,7.8,8.4,8.4,10.1,7.8,9.4,8.3,7.8,8.8,7.0,7.3,8.8,7.3,8.0,7.8,9.0,8.2,8.1,8.0,6.1,8.0,5.6,5.6,6.6,7.9,8.4,8.3,7.2,7.8,7.8,8.4,8.3,5.2,6.3,5.2,8.1,5.8,7.6,6.9,8.2,7.3,9.2,7.5,7.5,7.1,7.1,7.1,7.1,7.1,6.8,7.6,7.6,7.8,7.4,7.3,7.8,6.8,7.3,6.8,7.5,7.9,8.0,8.0,7.4,7.3,6.9,7.3,7.5,7.0,8.8,8.8,8.9,7.2,6.8,6.7,8.9,7.4,7.7,7.9,7.9,8.2,6.4,6.8,7.6,7.6,7.8,7.3,11.5,5.4,6.9,9.6,8.8,6.8,7.0,7.0,12.8,12.8,7.8,7.8,11.0,9.7,8.0,11.6,8.2,7.8,7.0,8.7,8.1,7.5,7.8,7.8,7.4,6.8,8.6,8.4,7.7,8.9,9.0,7.7,6.9,5.2,8.0,8.5,6.9,8.2,7.2,7.2,7.2,7.2,8.2,8.9,12.0,7.7,15.0,15.0,7.3,7.1,8.2,7.7,7.3,10.8,7.1,11.1,7.7,7.1,8.0,9.4,6.6,7.7,10.0,7.9,7.0,8.0,7.9,12.5,11.8,8.1,7.9,6.9,11.5,7.9,11.5,10.9,8.4,7.5,7.9,6.9,11.5,10.3,8.9,11.4,7.7,7.6,8.9,9.9,9.9,12.0,7.5,8.7,11.6,8.7,11.0,10.4,6.9,13.3,10.8,10.6,7.1,7.2,6.9,7.5,11.1,8.3,7.4,8.4,10.3,7.6,10.3,10.3,7.4,10.3,7.9,9.0,8.6,7.4,7.1,9.6,9.6,9.8,9.6,9.8,9.3,7.8,10.3,10.0,10.0,11.6,10.3,13.4,10.7,10.2,10.2,8.0,8.4,7.9,11.9,8.9,7.8,12.4,12.5,12.2,10.6,10.9,10.9,11.9,7.0,6.6,13.8,9.6,9.1,10.7,9.1,7.7,13.5,6.1,6.7,11.5,10.5,11.9,12.6,8.2,8.6,11.9,12.5,12.8,10.0,12.8,10.4,10.3,9.4,6.9,7.9,9.1,7.4,14.0,11.5,11.5,9.4,11.4,8.3,8.3,13.7,8.3,8.3,7.7,7.4,7.8,8.3,7.8,9.6,5.6,13.7,9.5,8.4,12.7,12.0,6.6,11.5,11.5,8.7,6.6,7.7,12.2,11.4,7.7,8.7,9.8,12.0,10.4,12.5,9.0,9.1,7.1,9.9,8.8,8.6,10.6,7.0,11.9,6.8,9.5,6.6,7.7,10.5,7.7,6.6,6.4,9.5,9.1,12.8,10.5,7.8,11.9,12.3,10.4,12.3,8.0,11.1,10.4,7.0,12.6,11.9,15.6,10.0,5.3,9.5,12.5,9.3,8.6,11.9,11.9,8.4,6.8,10.4,7.0,11.3,8.9,9.2,10.4,11.6,9.2,8.3,11.0,8.1,11.5,10.0,10.3,8.8,11.4,8.7,13.0,9.6,12.5,9.9,10.5,9.6,9.3,10.4,9.6,9.4,10.6,9.4,10.6,10.6,10.6,10.2,10.2,10.2,11.6,9.3,9.3,9.2,8.9,8.7,6.5,10.7,7.8,7.2,10.7,8.7,7.8,10.4,10.4,10.5,10.5,10.2,10.4,11.2,10.0,13.3,12.4,10.0,10.7,10.5,10.5,8.5,12.5,10.4,10.9,7.3,9.8,7.6,8.2,9.3,9.2,10.4,7.3,7.0,8.2,9.9,9.1,11.9,11.9,10.3,10.0,9.1,9.9,8.1,12.9,11.2,9.2,9.5,9.3,11.2,14.3,9.1,7.5,10.6,12.4,9.0,6.8,9.4,9.5,5.0,15.5,15.5,10.9,15.6,10.9,13.0,12.7,9.0,9.0,7.6,13.0,12.7,8.7,8.7,9.8,6.2,11.5,6.2,10.2,10.5,10.6,12.3,9.9,8.8,8.8,10.6,12.3,12.3,11.7,12.0,11.8,7.6,11.1,7.3,5.0,10.2,9.0,6.6,9.0,9.9,7.9,8.9,12.4,11.9,8.5,12.7,8.2,13.2,7.7,13.2,8.3,8.3,9.4,8.8,10.1,6.3,8.8,13.2,7.5,8.2,9.2,9.6,9.6,11.5,11.4,11.3,8.3,8.2,10.0,7.9,6.8,6.8,8.8,8.8,8.7,7.6,8.7,10.4,7.6,10.1,7.9,8.7,9.6,9.5,7.7,8.9,9.9,9.5,9.9,9.5,9.9,7.8,7.3,8.3,8.7,6.7,10.7,9.8,15.9,9.4,8.6,9.7,10.7,12.0,7.2,7.1,7.2,7.5,7.2,10.1,12.1,9.4,8.3,11.3,10.0,11.3,6.9,8.2,9.8,8.2,10.8,9.3,10.8,8.6,8.3,10.8,13.3,8.0,8.5,8.1,9.8,8.1,7.1,9.1,7.7,8.1,7.4,9.2,8.6,9.0,9.0,5.1,7.0,7.0,9.4,11.8,10.6,7.0,7.0,7.5,9.1,8.4,7.0,7.4,7.8,9.7,10.6,8.9,8.7,8.0,9.9,7.2,8.0,7.6,8.4,7.1,8.4,8.9,7.6,7.1,7.5,9.0,8.1,6.4,6.4,6.4,9.5,8.9,7.3,7.0,7.7,7.7,7.7,8.2,9.0,9.0,8.3,9.2,6.5,11.6,11.1,7.3,8.2,8.6,7.2,7.3,8.3,8.3,7.6,8.3,7.8,7.8,6.3,8.1,8.1,8.8,9.0,9.3,8.8,9.3,9.1,9.2,8.8,7.5,7.1,7.9,7.1,9.4,9.5,7.9,7.9,7.2,6.9,6.9,8.3,7.1,7.0,6.5,9.0,6.5,7.1,9.9,9.9,10.0,10.0,8.6,7.4,8.8,7.1,7.7,10.1,10.8,8.7,9.3,9.4,9.4,7.2,8.6,5.1,7.7,8.4,8.2,8.4,8.2,7.4,7.6,7.3,12.9,10.8,6.9,12.6,10.8,9.8,10.8,7.1,9.1,7.0,4.9,6.7,6.7,7.1,7.1,7.5,7.1,7.8,5.9,7.5,5.9,10.4,11.6,8.8,7.6,6.7,6.7,10.1,6.0,11.1,6.6,10.6,7.1,9.9,6.4,6.4,7.4,6.4,6.4,9.3,9.3,8.0,9.3,9.3,7.6,9.3,8.2,11.7,6.8,7.2,5.8,7.5,7.2,7.2,7.2,6.8,6.9,6.8,7.6,7.7,6.9,7.3,9.1,10.4,8.8,7.1,7.7,8.8,7.2,9.2,7.6,8.4,7.2,8.8,8.9,9.0,10.7,6.8,10.7,7.2,7.2,10.1,7.2,7.2,7.1,8.3,7.1,8.3,8.3,8.9,7.4,7.4,6.8,6.8,9.2,7.2,6.1,7.4,7.3,9.3,9.1,10.0,9.4,7.3,8.6,5.3,6.8,8.4,8.4,9.6,8.4,8.4,6.8,8.6,8.6,9.4,8.4,8.6,8.7,6.6,7.4,7.6,7.4,6.6,8.8,8.8,12.0,7.2,6.2,9.6,9.9,10.1,9.8,8.3,10.2,10.2,8.3,8.9,8.9,8.9,8.3,8.2,10.2,7.6,8.5,9.0,9.5,6.4,8.0,8.5,7.1,6.6,8.8,8.5,8.3,9.0,8.5,9.0,6.7,10.4,10.4,10.1,8.5,8.8,7.2,7.2,8.4,7.0,12.2,9.1,9.5,7.3,9.1,12.2,7.4,9.8,7.1,7.7,9.7,7.7,7.1,6.5,7.1,10.0,7.7,5.6,5.6,8.9,6.4,7.5,9.9,9.1,6.8,8.2,6.8,9.1,9.1,8.9,9.6,8.9,8.9,7.7,7.5,8.0,10.5,8.9,8.0,8.0,7.0,11.3,11.3,7.0,8.2,7.7,8.6,7.9,6.4,7.2,7.7,7.1,7.3,8.1,7.5,8.9,10.1,7.6,7.3,8.7,8.9,7.4,6.9,8.9,9.5,6.4,6.9,7.6,7.1,9.3,9.3,7.1,8.5,5.6,8.3,8.2,8.2,8.9,7.6,9.9,8.9,11.6,9.1,8.0,10.2,8.2,7.7,6.6,11.1,11.1,8.0,9.3,7.5,7.2,8.0,7.5,9.1,9.9,8.6,8.6,7.9,10.3,7.9,7.2,8.7,7.2,6.8,8.5,7.9,11.6,11.6,10.0,7.9,7.0,9.2,6.6,9.4,6.6,8.6,8.0,8.6,8.4,7.4,6.1,7.4,8.0,6.3,8.2,9.1,8.1,10.8,8.3,5.4,7.9,8.9,5.0,7.0,7.0,7.0,7.1,5.6,7.9,6.6,6.3,10.7,6.5,8.8,5.8,6.3,10.0,10.5,9.1,5.9,7.4,7.2,8.5,8.0,10.4,10.4,7.5,8.2,7.3,8.2,6.9,7.0,7.3,8.2,7.8,10.0,7.8,10.0,8.2,6.1,8.3,9.6,6.6,8.3,8.5,5.1,6.7,10.2,10.6,8.8,8.5,9.0,9.0,8.5,9.9,8.2,6.5,7.6,9.2,7.1,9.7,7.6,7.6,6.5,6.5,7.1,5.6,8.2,8.2,9.8,10.2,6.8,6.7,7.0,6.6,7.0,6.7,8.8,9.1,6.5,7.2,6.4,7.0,6.2,7.9,7.7,7.7,7.9,7.7,7.9,8.6,9.9,7.2,7.2,7.2,9.9,7.2,6.2,6.8,6.6,6.8,9.6,10.2,8.8,7.9,8.2,8.2,9.0,10.9,10.9,8.1,10.5,12.6,9.2,7.5,9.0,5.1,7.6,7.7,7.8,7.6,10.2,7.1,6.0,7.8,7.1,8.1,6.5,7.5,9.8,9.0,8.3,5.9,7.4,7.4,7.4,6.9,7.1,7.1,7.5,7.1,7.9,7.8,6.1,7.5,7.0,6.8,6.8,8.6,6.3,9.8,8.2,8.5,7.2,7.2,10.4,6.9,5.5,5.0,7.3,5.9,7.5,7.8,8.0,8.5,7.0,8.0,9.8,7.1,7.1,7.9,8.7,7.0,11.3,7.1,8.0,7.0,7.0,7.6,8.2,5.9,7.5,8.2,6.6,6.6,7.2,5.7,7.6,5.2,6.7,9.1,8.0,7.6,7.5,9.7,6.8,9.7,7.0,7.5,6.5,8.0,7.0,7.0,7.5,5.4,9.9,7.5,9.1,9.7,5.0,9.1,9.1,6.7,6.7,6.7,6.7,6.5,7.4,7.4,7.8,8.4,9.1,7.2,6.6,6.0,6.0,6.0,7.5,7.5,7.5,7.6,7.5,11.5,8.2,6.1,7.2,7.2,6.9,9.0,7.2,7.6,7.6,7.2,6.1,6.1,7.3,7.4,11.6,9.2,8.3,11.6,8.0,7.2,7.8,7.3,6.9,8.0,6.6,8.7,7.5,8.7,7.7,6.8,7.2,8.2,5.2,7.2,7.5,7.5,6.8,8.0,8.0,7.1,8.0,7.4,7.4,6.6,6.7,6.0,8.0,7.1,8.0,6.4,8.6,8.7,7.3,7.0,7.2,7.9,7.9,7.6,7.2,8.0,7.7,8.2,6.0,8.1,6.0,6.6,6.4,8.2,9.9,10.0,6.2,10.0,7.3,7.8,7.7,7.8,7.5,7.0,6.4,8.3,8.3,7.7,7.6,7.8,7.9,7.4,7.6,5.9,6.1,10.2,10.2,10.0,6.8,7.0,7.3,7.2,7.4,6.9,6.9,7.3,7.4,6.9,6.8,6.9,7.2,7.2,7.8,6.6,7.6,11.7,6.5,6.0,7.6,8.4,7.9,6.4,6.2,6.8,6.9,6.8,6.8,7.3,6.7,7.3,7.3,10.0,6.7,7.6,6.1,9.9,5.3,9.9,5.3,7.1,8.2,5.6,8.2,7.2,8.1,6.8,7.0,6.8,6.0,5.6,6.2,7.1,5.6,6.2,7.7,6.4,7.0,7.7,6.9,6.6,6.9,7.5,7.8,7.3,6.2,7.5,6.7,6.8,7.5,7.1,7.9,6.4,7.1,6.4,6.4,6.9,6.9,6.1,6.5,7.4,6.6,6.5,6.9,6.1,6.8,6.0,6.7,6.8,7.1,7.9,7.1,6.6,6.1,7.2,8.0,6.6,7.0,6.1,5.4,6.2,7.2,6.2,7.4,6.7,11.1,8.4,6.5,7.0,6.3,11.2,7.4,7.1,7.1,6.3,7.3,6.6,7.0,6.6,6.6,6.9,7.8,7.8,7.8,7.2,7.2,7.2,6.7,6.7,7.2,7.0,6.2,6.4,6.4,7.3,6.0,5.6,7.5,8.0,6.2,6.8,6.2,7.4,6.2,6.1,6.2,6.7,7.2,7.5,5.8,7.2,6.6,6.3,5.4,6.3,6.8,6.2,5.9,6.3,5.9,6.0],\"type\":\"box\"}],                        {\"template\":{\"data\":{\"barpolar\":[{\"marker\":{\"line\":{\"color\":\"white\",\"width\":0.5},\"pattern\":{\"fillmode\":\"overlay\",\"size\":10,\"solidity\":0.2}},\"type\":\"barpolar\"}],\"bar\":[{\"error_x\":{\"color\":\"#2a3f5f\"},\"error_y\":{\"color\":\"#2a3f5f\"},\"marker\":{\"line\":{\"color\":\"white\",\"width\":0.5},\"pattern\":{\"fillmode\":\"overlay\",\"size\":10,\"solidity\":0.2}},\"type\":\"bar\"}],\"carpet\":[{\"aaxis\":{\"endlinecolor\":\"#2a3f5f\",\"gridcolor\":\"#C8D4E3\",\"linecolor\":\"#C8D4E3\",\"minorgridcolor\":\"#C8D4E3\",\"startlinecolor\":\"#2a3f5f\"},\"baxis\":{\"endlinecolor\":\"#2a3f5f\",\"gridcolor\":\"#C8D4E3\",\"linecolor\":\"#C8D4E3\",\"minorgridcolor\":\"#C8D4E3\",\"startlinecolor\":\"#2a3f5f\"},\"type\":\"carpet\"}],\"choropleth\":[{\"colorbar\":{\"outlinewidth\":0,\"ticks\":\"\"},\"type\":\"choropleth\"}],\"contourcarpet\":[{\"colorbar\":{\"outlinewidth\":0,\"ticks\":\"\"},\"type\":\"contourcarpet\"}],\"contour\":[{\"colorbar\":{\"outlinewidth\":0,\"ticks\":\"\"},\"colorscale\":[[0.0,\"#0d0887\"],[0.1111111111111111,\"#46039f\"],[0.2222222222222222,\"#7201a8\"],[0.3333333333333333,\"#9c179e\"],[0.4444444444444444,\"#bd3786\"],[0.5555555555555556,\"#d8576b\"],[0.6666666666666666,\"#ed7953\"],[0.7777777777777778,\"#fb9f3a\"],[0.8888888888888888,\"#fdca26\"],[1.0,\"#f0f921\"]],\"type\":\"contour\"}],\"heatmapgl\":[{\"colorbar\":{\"outlinewidth\":0,\"ticks\":\"\"},\"colorscale\":[[0.0,\"#0d0887\"],[0.1111111111111111,\"#46039f\"],[0.2222222222222222,\"#7201a8\"],[0.3333333333333333,\"#9c179e\"],[0.4444444444444444,\"#bd3786\"],[0.5555555555555556,\"#d8576b\"],[0.6666666666666666,\"#ed7953\"],[0.7777777777777778,\"#fb9f3a\"],[0.8888888888888888,\"#fdca26\"],[1.0,\"#f0f921\"]],\"type\":\"heatmapgl\"}],\"heatmap\":[{\"colorbar\":{\"outlinewidth\":0,\"ticks\":\"\"},\"colorscale\":[[0.0,\"#0d0887\"],[0.1111111111111111,\"#46039f\"],[0.2222222222222222,\"#7201a8\"],[0.3333333333333333,\"#9c179e\"],[0.4444444444444444,\"#bd3786\"],[0.5555555555555556,\"#d8576b\"],[0.6666666666666666,\"#ed7953\"],[0.7777777777777778,\"#fb9f3a\"],[0.8888888888888888,\"#fdca26\"],[1.0,\"#f0f921\"]],\"type\":\"heatmap\"}],\"histogram2dcontour\":[{\"colorbar\":{\"outlinewidth\":0,\"ticks\":\"\"},\"colorscale\":[[0.0,\"#0d0887\"],[0.1111111111111111,\"#46039f\"],[0.2222222222222222,\"#7201a8\"],[0.3333333333333333,\"#9c179e\"],[0.4444444444444444,\"#bd3786\"],[0.5555555555555556,\"#d8576b\"],[0.6666666666666666,\"#ed7953\"],[0.7777777777777778,\"#fb9f3a\"],[0.8888888888888888,\"#fdca26\"],[1.0,\"#f0f921\"]],\"type\":\"histogram2dcontour\"}],\"histogram2d\":[{\"colorbar\":{\"outlinewidth\":0,\"ticks\":\"\"},\"colorscale\":[[0.0,\"#0d0887\"],[0.1111111111111111,\"#46039f\"],[0.2222222222222222,\"#7201a8\"],[0.3333333333333333,\"#9c179e\"],[0.4444444444444444,\"#bd3786\"],[0.5555555555555556,\"#d8576b\"],[0.6666666666666666,\"#ed7953\"],[0.7777777777777778,\"#fb9f3a\"],[0.8888888888888888,\"#fdca26\"],[1.0,\"#f0f921\"]],\"type\":\"histogram2d\"}],\"histogram\":[{\"marker\":{\"pattern\":{\"fillmode\":\"overlay\",\"size\":10,\"solidity\":0.2}},\"type\":\"histogram\"}],\"mesh3d\":[{\"colorbar\":{\"outlinewidth\":0,\"ticks\":\"\"},\"type\":\"mesh3d\"}],\"parcoords\":[{\"line\":{\"colorbar\":{\"outlinewidth\":0,\"ticks\":\"\"}},\"type\":\"parcoords\"}],\"pie\":[{\"automargin\":true,\"type\":\"pie\"}],\"scatter3d\":[{\"line\":{\"colorbar\":{\"outlinewidth\":0,\"ticks\":\"\"}},\"marker\":{\"colorbar\":{\"outlinewidth\":0,\"ticks\":\"\"}},\"type\":\"scatter3d\"}],\"scattercarpet\":[{\"marker\":{\"colorbar\":{\"outlinewidth\":0,\"ticks\":\"\"}},\"type\":\"scattercarpet\"}],\"scattergeo\":[{\"marker\":{\"colorbar\":{\"outlinewidth\":0,\"ticks\":\"\"}},\"type\":\"scattergeo\"}],\"scattergl\":[{\"marker\":{\"colorbar\":{\"outlinewidth\":0,\"ticks\":\"\"}},\"type\":\"scattergl\"}],\"scattermapbox\":[{\"marker\":{\"colorbar\":{\"outlinewidth\":0,\"ticks\":\"\"}},\"type\":\"scattermapbox\"}],\"scatterpolargl\":[{\"marker\":{\"colorbar\":{\"outlinewidth\":0,\"ticks\":\"\"}},\"type\":\"scatterpolargl\"}],\"scatterpolar\":[{\"marker\":{\"colorbar\":{\"outlinewidth\":0,\"ticks\":\"\"}},\"type\":\"scatterpolar\"}],\"scatter\":[{\"marker\":{\"colorbar\":{\"outlinewidth\":0,\"ticks\":\"\"}},\"type\":\"scatter\"}],\"scatterternary\":[{\"marker\":{\"colorbar\":{\"outlinewidth\":0,\"ticks\":\"\"}},\"type\":\"scatterternary\"}],\"surface\":[{\"colorbar\":{\"outlinewidth\":0,\"ticks\":\"\"},\"colorscale\":[[0.0,\"#0d0887\"],[0.1111111111111111,\"#46039f\"],[0.2222222222222222,\"#7201a8\"],[0.3333333333333333,\"#9c179e\"],[0.4444444444444444,\"#bd3786\"],[0.5555555555555556,\"#d8576b\"],[0.6666666666666666,\"#ed7953\"],[0.7777777777777778,\"#fb9f3a\"],[0.8888888888888888,\"#fdca26\"],[1.0,\"#f0f921\"]],\"type\":\"surface\"}],\"table\":[{\"cells\":{\"fill\":{\"color\":\"#EBF0F8\"},\"line\":{\"color\":\"white\"}},\"header\":{\"fill\":{\"color\":\"#C8D4E3\"},\"line\":{\"color\":\"white\"}},\"type\":\"table\"}]},\"layout\":{\"annotationdefaults\":{\"arrowcolor\":\"#2a3f5f\",\"arrowhead\":0,\"arrowwidth\":1},\"autotypenumbers\":\"strict\",\"coloraxis\":{\"colorbar\":{\"outlinewidth\":0,\"ticks\":\"\"}},\"colorscale\":{\"diverging\":[[0,\"#8e0152\"],[0.1,\"#c51b7d\"],[0.2,\"#de77ae\"],[0.3,\"#f1b6da\"],[0.4,\"#fde0ef\"],[0.5,\"#f7f7f7\"],[0.6,\"#e6f5d0\"],[0.7,\"#b8e186\"],[0.8,\"#7fbc41\"],[0.9,\"#4d9221\"],[1,\"#276419\"]],\"sequential\":[[0.0,\"#0d0887\"],[0.1111111111111111,\"#46039f\"],[0.2222222222222222,\"#7201a8\"],[0.3333333333333333,\"#9c179e\"],[0.4444444444444444,\"#bd3786\"],[0.5555555555555556,\"#d8576b\"],[0.6666666666666666,\"#ed7953\"],[0.7777777777777778,\"#fb9f3a\"],[0.8888888888888888,\"#fdca26\"],[1.0,\"#f0f921\"]],\"sequentialminus\":[[0.0,\"#0d0887\"],[0.1111111111111111,\"#46039f\"],[0.2222222222222222,\"#7201a8\"],[0.3333333333333333,\"#9c179e\"],[0.4444444444444444,\"#bd3786\"],[0.5555555555555556,\"#d8576b\"],[0.6666666666666666,\"#ed7953\"],[0.7777777777777778,\"#fb9f3a\"],[0.8888888888888888,\"#fdca26\"],[1.0,\"#f0f921\"]]},\"colorway\":[\"#636efa\",\"#EF553B\",\"#00cc96\",\"#ab63fa\",\"#FFA15A\",\"#19d3f3\",\"#FF6692\",\"#B6E880\",\"#FF97FF\",\"#FECB52\"],\"font\":{\"color\":\"#2a3f5f\"},\"geo\":{\"bgcolor\":\"white\",\"lakecolor\":\"white\",\"landcolor\":\"white\",\"showlakes\":true,\"showland\":true,\"subunitcolor\":\"#C8D4E3\"},\"hoverlabel\":{\"align\":\"left\"},\"hovermode\":\"closest\",\"mapbox\":{\"style\":\"light\"},\"paper_bgcolor\":\"white\",\"plot_bgcolor\":\"white\",\"polar\":{\"angularaxis\":{\"gridcolor\":\"#EBF0F8\",\"linecolor\":\"#EBF0F8\",\"ticks\":\"\"},\"bgcolor\":\"white\",\"radialaxis\":{\"gridcolor\":\"#EBF0F8\",\"linecolor\":\"#EBF0F8\",\"ticks\":\"\"}},\"scene\":{\"xaxis\":{\"backgroundcolor\":\"white\",\"gridcolor\":\"#DFE8F3\",\"gridwidth\":2,\"linecolor\":\"#EBF0F8\",\"showbackground\":true,\"ticks\":\"\",\"zerolinecolor\":\"#EBF0F8\"},\"yaxis\":{\"backgroundcolor\":\"white\",\"gridcolor\":\"#DFE8F3\",\"gridwidth\":2,\"linecolor\":\"#EBF0F8\",\"showbackground\":true,\"ticks\":\"\",\"zerolinecolor\":\"#EBF0F8\"},\"zaxis\":{\"backgroundcolor\":\"white\",\"gridcolor\":\"#DFE8F3\",\"gridwidth\":2,\"linecolor\":\"#EBF0F8\",\"showbackground\":true,\"ticks\":\"\",\"zerolinecolor\":\"#EBF0F8\"}},\"shapedefaults\":{\"line\":{\"color\":\"#2a3f5f\"}},\"ternary\":{\"aaxis\":{\"gridcolor\":\"#DFE8F3\",\"linecolor\":\"#A2B1C6\",\"ticks\":\"\"},\"baxis\":{\"gridcolor\":\"#DFE8F3\",\"linecolor\":\"#A2B1C6\",\"ticks\":\"\"},\"bgcolor\":\"white\",\"caxis\":{\"gridcolor\":\"#DFE8F3\",\"linecolor\":\"#A2B1C6\",\"ticks\":\"\"}},\"title\":{\"x\":0.05},\"xaxis\":{\"automargin\":true,\"gridcolor\":\"#EBF0F8\",\"linecolor\":\"#EBF0F8\",\"ticks\":\"\",\"title\":{\"standoff\":15},\"zerolinecolor\":\"#EBF0F8\",\"zerolinewidth\":2},\"yaxis\":{\"automargin\":true,\"gridcolor\":\"#EBF0F8\",\"linecolor\":\"#EBF0F8\",\"ticks\":\"\",\"title\":{\"standoff\":15},\"zerolinecolor\":\"#EBF0F8\",\"zerolinewidth\":2}}},\"font\":{\"size\":18},\"width\":600,\"height\":700},                        {\"responsive\": true}                    ).then(function(){\n",
              "                            \n",
              "var gd = document.getElementById('0a5debd8-b046-4934-bfaf-2a44f6c8cabd');\n",
              "var x = new MutationObserver(function (mutations, observer) {{\n",
              "        var display = window.getComputedStyle(gd).display;\n",
              "        if (!display || display === 'none') {{\n",
              "            console.log([gd, 'removed!']);\n",
              "            Plotly.purge(gd);\n",
              "            observer.disconnect();\n",
              "        }}\n",
              "}});\n",
              "\n",
              "// Listen for the removal of the full notebook cells\n",
              "var notebookContainer = gd.closest('#notebook-container');\n",
              "if (notebookContainer) {{\n",
              "    x.observe(notebookContainer, {childList: true});\n",
              "}}\n",
              "\n",
              "// Listen for the clearing of the current output cell\n",
              "var outputEl = gd.closest('.output');\n",
              "if (outputEl) {{\n",
              "    x.observe(outputEl, {childList: true});\n",
              "}}\n",
              "\n",
              "                        })                };                            </script>        </div>\n",
              "</body>\n",
              "</html>"
            ]
          },
          "metadata": {}
        }
      ],
      "source": [
        "y_data = [df_wine['fixed acidity']]\n",
        "x_data = ['fixed acidity']\n",
        "\n",
        "fig = go.Figure()\n",
        "\n",
        "for xd, yd, cls in zip(x_data,y_data, c):\n",
        "  fig.add_trace(\n",
        "      go.Box(\n",
        "              y=yd,\n",
        "              name=xd,\n",
        "              jitter=0.5,\n",
        "              whiskerwidth=0.2,\n",
        "              fillcolor=cls,\n",
        "              marker_size=2,\n",
        "              marker_color = 'black',\n",
        "              line_width=0.7)\n",
        "             )\n",
        "      \n",
        "fig.update_layout(template=\"plotly_white\",\n",
        "                  width=600,\n",
        "                  height=700,\n",
        "                  font=dict(size=18))\n",
        "              \n",
        "fig.show()"
      ]
    },
    {
      "cell_type": "code",
      "execution_count": 10,
      "metadata": {
        "colab": {
          "base_uri": "https://localhost:8080/",
          "height": 717
        },
        "id": "lm5e9JTKrReT",
        "outputId": "0156e896-f4d7-40b5-cd12-fbc4de68b3b4"
      },
      "outputs": [
        {
          "output_type": "display_data",
          "data": {
            "text/html": [
              "<html>\n",
              "<head><meta charset=\"utf-8\" /></head>\n",
              "<body>\n",
              "    <div>            <script src=\"https://cdnjs.cloudflare.com/ajax/libs/mathjax/2.7.5/MathJax.js?config=TeX-AMS-MML_SVG\"></script><script type=\"text/javascript\">if (window.MathJax) {MathJax.Hub.Config({SVG: {font: \"STIX-Web\"}});}</script>                <script type=\"text/javascript\">window.PlotlyConfig = {MathJaxConfig: 'local'};</script>\n",
              "        <script src=\"https://cdn.plot.ly/plotly-2.8.3.min.js\"></script>                <div id=\"b99e9c1f-c85f-4db9-bffd-d68b9de8bae3\" class=\"plotly-graph-div\" style=\"height:700px; width:600px;\"></div>            <script type=\"text/javascript\">                                    window.PLOTLYENV=window.PLOTLYENV || {};                                    if (document.getElementById(\"b99e9c1f-c85f-4db9-bffd-d68b9de8bae3\")) {                    Plotly.newPlot(                        \"b99e9c1f-c85f-4db9-bffd-d68b9de8bae3\",                        [{\"fillcolor\":\"#688f4e\",\"jitter\":0.5,\"line\":{\"width\":0.7},\"marker\":{\"color\":\"black\",\"size\":2},\"name\":\"free sulfur dioxide\",\"whiskerwidth\":0.2,\"y\":[11.0,25.0,15.0,17.0,11.0,13.0,15.0,15.0,9.0,17.0,15.0,17.0,16.0,9.0,52.0,51.0,35.0,16.0,6.0,17.0,29.0,23.0,10.0,9.0,21.0,11.0,4.0,10.0,14.0,8.0,17.0,22.0,15.0,40.0,13.0,5.0,3.0,13.0,7.0,12.0,12.0,17.0,8.0,9.0,5.0,8.0,22.0,12.0,5.0,12.0,4.0,8.0,6.0,30.0,33.0,25.0,4.0,50.0,17.0,9.0,19.0,20.0,12.0,13.0,4.0,4.0,11.0,6.0,27.0,8.0,15.0,17.0,18.0,11.0,28.0,9.0,9.0,14.0,12.0,27.0,3.0,22.0,21.0,16.0,18.0,19.0,20.0,9.0,34.0,8.0,42.0,20.0,19.0,9.0,41.0,17.0,8.0,3.0,5.0,13.0,11.0,8.0,13.0,12.0,5.0,12.0,18.0,15.0,18.0,37.0,12.0,11.0,14.0,22.0,12.0,13.0,11.0,7.0,14.0,22.0,10.0,14.0,3.0,11.0,21.0,27.0,3.0,3.0,3.0,6.0,30.0,17.0,17.0,17.0,13.0,16.0,10.0,13.0,15.0,17.0,16.0,10.0,27.0,3.0,27.0,32.0,21.0,10.0,12.0,11.0,5.0,32.0,25.0,25.0,29.0,28.0,29.0,28.0,12.0,18.0,7.0,9.0,17.0,36.0,35.0,14.0,18.0,17.0,11.0,15.0,4.0,6.0,6.0,24.0,7.0,19.0,7.0,8.0,7.0,10.0,10.0,23.0,16.0,11.0,8.0,26.0,14.0,9.0,15.0,17.0,21.0,21.0,16.0,7.0,7.0,24.0,15.0,12.0,13.0,12.0,9.0,39.0,16.0,16.0,14.0,9.0,9.0,26.0,18.0,7.0,5.0,10.0,5.0,28.0,10.0,26.0,13.0,11.0,10.0,24.0,24.0,16.0,5.0,8.0,15.0,29.0,27.0,9.0,29.0,10.0,19.0,12.0,18.0,10.0,7.0,14.0,14.0,15.0,14.0,7.0,5.0,6.0,28.0,10.0,10.0,6.0,16.0,11.0,9.0,6.0,16.0,16.0,5.0,8.0,16.0,17.0,5.0,12.0,8.0,14.0,18.0,12.0,10.0,23.0,5.0,6.0,26.0,15.0,7.0,4.0,27.0,4.0,17.0,10.0,27.0,27.0,7.0,4.0,5.0,10.0,6.0,5.0,12.0,10.0,32.0,32.0,25.0,29.0,20.0,33.0,20.0,6.0,18.0,5.0,17.0,5.0,26.0,8.0,5.0,8.0,20.0,7.0,12.0,5.0,12.0,6.0,7.0,6.0,5.0,9.0,6.0,15.0,19.0,30.0,26.0,20.0,37.0,30.0,21.0,30.0,21.0,25.0,6.0,35.0,13.0,13.0,6.0,5.0,6.0,7.0,10.0,10.0,21.0,16.0,17.0,7.0,6.0,29.0,28.0,12.0,10.0,5.0,6.0,6.0,6.0,40.0,17.0,6.0,15.0,11.0,17.0,11.0,8.0,23.0,40.5,17.0,29.0,12.0,10.0,10.0,14.0,21.0,6.0,6.0,7.0,7.0,7.0,11.0,15.0,6.0,35.0,11.0,26.0,12.0,6.0,6.0,19.0,6.0,6.0,24.0,11.0,17.0,11.0,11.0,23.0,11.0,23.0,17.0,23.0,16.0,12.0,17.0,6.0,13.0,6.0,7.0,68.0,13.0,13.0,9.0,68.0,20.0,19.0,10.0,15.0,11.0,9.0,12.0,6.0,26.0,26.0,23.0,15.0,6.0,24.0,31.0,6.0,34.0,7.0,34.0,35.0,32.0,15.0,6.0,15.0,32.0,19.0,6.0,9.0,13.0,6.0,21.0,12.0,6.0,22.0,6.0,38.0,6.0,22.0,7.0,6.0,7.0,6.0,11.0,5.0,6.0,31.0,6.0,7.0,17.0,17.0,9.0,18.0,5.0,21.0,6.0,5.0,29.0,5.0,10.0,14.0,6.0,10.0,25.0,5.0,10.0,21.0,7.0,6.0,36.0,15.0,25.0,25.0,5.0,10.0,5.0,6.0,6.0,5.0,6.0,6.0,6.0,6.0,7.0,6.0,6.0,6.0,5.0,35.0,10.0,24.0,12.0,13.0,23.0,28.0,5.0,14.0,43.0,5.0,23.0,14.0,38.0,38.0,6.0,6.0,10.0,6.0,6.0,26.0,23.0,19.0,26.0,15.0,6.0,6.0,34.0,5.0,5.0,11.0,39.0,15.0,16.0,47.0,38.0,23.0,29.0,39.0,33.0,32.0,6.0,1.0,12.0,12.0,15.0,13.0,1.0,6.0,5.0,5.0,5.0,20.0,5.0,5.0,16.0,6.0,38.0,10.0,6.0,27.0,6.0,9.0,14.0,14.0,32.0,10.0,10.0,10.0,10.0,10.0,6.0,5.0,26.0,41.0,25.0,6.0,5.0,5.0,5.0,5.0,19.0,10.0,19.0,10.0,14.0,20.0,28.0,6.0,18.0,17.0,18.0,5.0,5.0,5.0,10.0,54.0,8.0,16.0,18.0,19.0,5.0,21.0,23.0,21.0,9.0,20.0,30.0,6.0,5.0,5.0,11.0,7.0,12.0,6.0,12.0,14.0,6.0,10.0,26.0,11.0,15.0,25.0,5.0,18.0,10.0,10.0,28.0,28.0,14.0,4.0,6.0,16.0,14.0,9.0,21.0,21.0,21.0,5.0,5.0,7.0,20.0,7.0,5.0,21.0,11.0,46.0,24.0,30.0,31.0,7.0,25.0,16.0,21.0,16.0,21.0,16.0,5.0,6.0,5.0,10.0,24.0,8.0,35.0,22.0,9.0,7.0,20.0,8.0,23.0,5.0,5.0,5.0,15.0,9.0,5.0,15.0,25.0,6.0,6.0,15.0,6.0,30.0,5.0,32.0,5.0,7.0,12.0,7.0,12.0,45.0,20.0,15.0,16.0,32.0,5.0,35.0,5.0,13.0,13.0,4.0,5.0,5.0,12.0,16.0,21.0,24.0,18.0,8.0,8.0,18.0,5.0,26.0,8.0,9.0,22.0,4.0,11.0,10.0,16.0,11.0,13.0,21.0,16.0,13.0,10.0,21.0,13.0,10.0,12.0,10.0,17.0,10.0,35.0,15.0,36.0,5.0,5.0,18.0,4.0,4.0,27.0,12.0,4.0,10.0,16.0,9.0,11.0,11.0,19.0,28.0,19.0,12.0,28.0,9.0,25.0,21.0,12.0,12.0,16.0,12.0,12.0,17.0,17.0,24.0,17.0,14.0,22.0,15.0,10.0,10.0,33.0,9.0,5.0,8.0,5.0,11.0,12.0,12.0,13.0,24.0,7.0,24.0,23.0,23.0,1.0,2.0,7.0,5.5,6.0,7.0,21.0,12.0,9.0,26.0,9.0,20.0,11.0,11.0,19.0,19.0,21.0,18.0,25.0,17.0,7.0,7.0,7.0,24.0,21.0,5.0,5.0,26.0,8.0,14.0,14.0,4.0,4.0,4.0,4.0,4.0,4.0,4.0,7.0,20.0,4.0,19.0,20.0,8.0,19.0,21.0,9.0,9.0,16.0,15.0,15.0,6.0,15.0,4.0,15.0,34.0,16.0,5.0,16.0,34.0,36.0,16.0,27.0,36.0,36.0,9.0,13.0,9.0,21.0,34.0,9.0,26.0,14.0,14.0,12.0,14.0,12.0,9.0,9.0,26.0,41.0,41.0,10.0,41.0,16.0,17.0,15.0,15.0,15.0,7.0,17.0,15.0,16.0,13.0,13.0,15.0,27.0,31.0,36.0,28.0,6.0,6.0,7.0,7.0,31.0,30.0,18.0,10.0,30.0,14.0,18.0,30.0,9.0,8.0,29.0,32.0,23.0,30.0,16.0,10.0,16.0,17.0,27.0,17.0,27.0,17.0,6.0,10.0,16.0,16.0,11.0,11.0,15.0,12.0,6.0,34.0,7.0,3.0,3.0,4.0,3.0,7.0,3.0,7.0,26.0,32.0,38.0,10.0,32.0,38.0,26.0,14.0,53.0,52.0,11.0,14.0,10.0,8.0,13.0,29.0,13.0,8.0,19.0,19.0,6.0,23.0,7.0,13.0,9.0,13.0,10.0,11.0,7.0,11.0,6.0,10.0,10.0,10.0,6.0,6.0,5.0,6.0,9.0,5.0,12.0,25.0,12.0,18.0,7.0,6.0,20.0,18.0,24.0,6.0,23.0,29.0,7.0,6.0,6.0,6.0,6.0,7.0,35.0,35.0,31.0,9.0,3.0,8.0,13.0,51.0,8.0,3.0,7.0,3.0,35.0,19.0,14.0,19.0,31.0,30.0,31.0,20.0,19.0,3.0,3.0,4.0,7.0,6.0,31.0,13.0,4.0,27.0,4.0,13.0,12.0,12.0,26.0,7.0,12.0,11.0,22.0,3.0,14.0,12.0,36.0,36.0,10.0,3.0,3.0,4.0,3.0,12.0,17.0,14.0,28.0,41.0,12.0,9.0,9.0,5.0,14.0,15.0,5.0,26.0,20.0,25.0,21.0,16.0,13.0,21.0,18.0,12.0,32.0,33.0,27.0,3.0,6.0,27.0,16.0,19.0,9.0,5.0,5.0,3.0,28.0,30.0,3.0,3.0,7.0,6.0,6.0,5.0,6.0,13.0,3.0,3.0,28.0,19.0,30.0,33.0,16.0,30.0,45.0,3.0,3.0,3.0,37.5,3.0,37.5,31.0,32.0,31.0,40.0,3.0,18.0,22.0,22.0,42.0,8.0,10.0,11.0,9.0,6.0,9.0,5.0,5.0,5.0,23.0,14.0,18.0,14.0,16.0,13.0,9.0,10.0,4.0,27.0,6.0,23.0,6.0,3.0,29.0,15.0,15.0,15.0,14.0,7.0,8.0,21.0,27.0,17.0,3.0,13.0,3.0,26.0,28.0,24.0,5.0,57.0,18.0,10.0,6.0,22.0,6.0,6.0,29.0,16.0,33.0,24.0,6.0,16.0,35.0,31.0,6.0,6.0,9.0,6.0,4.0,16.0,9.0,17.0,50.0,9.0,45.0,16.0,22.0,11.0,6.0,12.0,12.0,10.0,10.0,15.0,7.0,29.0,8.0,5.0,5.0,26.0,5.0,26.0,26.0,48.0,23.0,6.0,17.0,11.0,11.0,5.0,41.0,16.0,11.0,6.0,6.0,6.0,11.0,5.0,6.0,6.0,11.0,6.0,15.0,21.0,23.0,4.0,19.0,23.0,4.0,5.0,6.0,33.0,24.0,24.0,24.0,24.0,24.0,14.0,8.0,22.0,8.0,5.0,6.0,20.0,10.0,43.0,8.0,25.0,17.0,17.0,33.0,9.0,8.0,18.0,27.0,8.0,18.0,19.0,15.0,48.0,19.0,14.0,11.0,6.0,7.0,11.0,12.0,11.0,36.0,28.0,15.0,10.0,72.0,15.0,15.0,15.0,22.0,24.0,24.0,27.0,6.0,6.0,20.0,26.0,43.0,12.0,15.0,15.0,19.0,17.0,34.0,13.0,26.0,16.0,16.0,13.0,21.0,28.0,26.0,24.0,25.0,34.0,17.0,13.0,3.0,3.0,13.0,3.0,28.0,28.0,9.0,17.0,18.0,20.0,17.0,3.0,20.0,20.0,6.0,25.0,14.0,6.0,25.0,51.0,51.0,15.0,11.0,5.0,15.0,20.0,4.0,28.0,21.0,24.0,22.0,15.0,22.0,27.0,24.0,12.0,14.0,20.0,24.0,17.0,16.0,10.0,17.0,18.0,12.0,16.0,9.0,21.0,18.0,18.0,18.0,18.0,13.0,17.0,17.0,31.0,6.0,12.0,4.0,19.0,15.0,15.0,15.0,13.0,13.0,13.0,17.0,13.0,8.0,10.0,5.0,7.0,7.0,21.0,32.0,8.0,14.0,14.0,7.0,5.0,4.0,27.0,52.0,6.0,11.0,13.0,6.0,11.0,10.0,10.0,10.0,9.0,16.0,4.0,12.0,5.0,12.0,34.0,16.0,13.0,7.0,23.0,10.0,11.0,11.0,4.0,25.0,25.0,20.0,34.0,8.0,8.0,7.0,36.0,15.0,5.0,5.0,19.0,27.0,3.0,4.0,17.0,13.0,10.0,33.0,33.0,6.0,3.0,12.0,18.0,8.0,40.0,35.0,40.0,5.0,8.0,8.0,12.0,3.0,8.0,3.0,21.0,3.0,32.0,3.0,24.0,39.0,14.0,8.0,8.0,23.0,6.0,27.0,38.0,18.0,13.0,3.0,11.0,55.0,55.0,27.0,15.0,3.0,31.0,15.0,19.0,18.0,8.0,31.0,19.0,18.0,22.0,40.0,15.0,15.0,8.0,37.0,27.0,7.0,9.0,38.0,27.0,8.0,7.0,34.0,6.0,14.0,14.0,34.0,34.0,31.0,19.0,31.0,20.0,8.0,8.0,23.0,14.0,48.0,16.0,48.0,16.0,3.0,10.0,6.0,10.0,3.0,6.0,4.0,8.0,9.0,9.0,5.0,4.0,8.0,5.0,6.0,23.0,15.0,15.0,23.0,7.0,7.0,7.0,8.0,21.0,15.0,6.0,5.0,6.0,6.0,5.0,17.0,7.0,26.0,19.0,11.0,17.0,16.0,16.0,23.0,29.0,7.0,14.0,29.0,9.0,23.0,29.0,22.0,18.0,18.0,15.0,21.0,42.0,9.0,13.0,18.0,32.0,13.0,15.0,24.0,20.0,15.0,34.0,11.0,19.0,29.0,14.0,12.0,16.0,17.0,12.0,19.0,17.0,17.0,18.0,32.0,18.0,15.0,15.0,12.0,15.0,66.0,31.0,31.0,31.0,12.0,12.0,12.0,26.0,24.0,12.0,25.0,15.0,19.0,15.0,35.0,15.0,23.0,12.0,16.0,13.0,13.0,24.0,9.0,24.0,13.0,32.0,24.0,22.0,34.0,18.0,34.0,29.0,26.0,16.0,29.0,28.0,32.0,39.0,29.0,32.0,18.0],\"type\":\"box\"}],                        {\"template\":{\"data\":{\"barpolar\":[{\"marker\":{\"line\":{\"color\":\"white\",\"width\":0.5},\"pattern\":{\"fillmode\":\"overlay\",\"size\":10,\"solidity\":0.2}},\"type\":\"barpolar\"}],\"bar\":[{\"error_x\":{\"color\":\"#2a3f5f\"},\"error_y\":{\"color\":\"#2a3f5f\"},\"marker\":{\"line\":{\"color\":\"white\",\"width\":0.5},\"pattern\":{\"fillmode\":\"overlay\",\"size\":10,\"solidity\":0.2}},\"type\":\"bar\"}],\"carpet\":[{\"aaxis\":{\"endlinecolor\":\"#2a3f5f\",\"gridcolor\":\"#C8D4E3\",\"linecolor\":\"#C8D4E3\",\"minorgridcolor\":\"#C8D4E3\",\"startlinecolor\":\"#2a3f5f\"},\"baxis\":{\"endlinecolor\":\"#2a3f5f\",\"gridcolor\":\"#C8D4E3\",\"linecolor\":\"#C8D4E3\",\"minorgridcolor\":\"#C8D4E3\",\"startlinecolor\":\"#2a3f5f\"},\"type\":\"carpet\"}],\"choropleth\":[{\"colorbar\":{\"outlinewidth\":0,\"ticks\":\"\"},\"type\":\"choropleth\"}],\"contourcarpet\":[{\"colorbar\":{\"outlinewidth\":0,\"ticks\":\"\"},\"type\":\"contourcarpet\"}],\"contour\":[{\"colorbar\":{\"outlinewidth\":0,\"ticks\":\"\"},\"colorscale\":[[0.0,\"#0d0887\"],[0.1111111111111111,\"#46039f\"],[0.2222222222222222,\"#7201a8\"],[0.3333333333333333,\"#9c179e\"],[0.4444444444444444,\"#bd3786\"],[0.5555555555555556,\"#d8576b\"],[0.6666666666666666,\"#ed7953\"],[0.7777777777777778,\"#fb9f3a\"],[0.8888888888888888,\"#fdca26\"],[1.0,\"#f0f921\"]],\"type\":\"contour\"}],\"heatmapgl\":[{\"colorbar\":{\"outlinewidth\":0,\"ticks\":\"\"},\"colorscale\":[[0.0,\"#0d0887\"],[0.1111111111111111,\"#46039f\"],[0.2222222222222222,\"#7201a8\"],[0.3333333333333333,\"#9c179e\"],[0.4444444444444444,\"#bd3786\"],[0.5555555555555556,\"#d8576b\"],[0.6666666666666666,\"#ed7953\"],[0.7777777777777778,\"#fb9f3a\"],[0.8888888888888888,\"#fdca26\"],[1.0,\"#f0f921\"]],\"type\":\"heatmapgl\"}],\"heatmap\":[{\"colorbar\":{\"outlinewidth\":0,\"ticks\":\"\"},\"colorscale\":[[0.0,\"#0d0887\"],[0.1111111111111111,\"#46039f\"],[0.2222222222222222,\"#7201a8\"],[0.3333333333333333,\"#9c179e\"],[0.4444444444444444,\"#bd3786\"],[0.5555555555555556,\"#d8576b\"],[0.6666666666666666,\"#ed7953\"],[0.7777777777777778,\"#fb9f3a\"],[0.8888888888888888,\"#fdca26\"],[1.0,\"#f0f921\"]],\"type\":\"heatmap\"}],\"histogram2dcontour\":[{\"colorbar\":{\"outlinewidth\":0,\"ticks\":\"\"},\"colorscale\":[[0.0,\"#0d0887\"],[0.1111111111111111,\"#46039f\"],[0.2222222222222222,\"#7201a8\"],[0.3333333333333333,\"#9c179e\"],[0.4444444444444444,\"#bd3786\"],[0.5555555555555556,\"#d8576b\"],[0.6666666666666666,\"#ed7953\"],[0.7777777777777778,\"#fb9f3a\"],[0.8888888888888888,\"#fdca26\"],[1.0,\"#f0f921\"]],\"type\":\"histogram2dcontour\"}],\"histogram2d\":[{\"colorbar\":{\"outlinewidth\":0,\"ticks\":\"\"},\"colorscale\":[[0.0,\"#0d0887\"],[0.1111111111111111,\"#46039f\"],[0.2222222222222222,\"#7201a8\"],[0.3333333333333333,\"#9c179e\"],[0.4444444444444444,\"#bd3786\"],[0.5555555555555556,\"#d8576b\"],[0.6666666666666666,\"#ed7953\"],[0.7777777777777778,\"#fb9f3a\"],[0.8888888888888888,\"#fdca26\"],[1.0,\"#f0f921\"]],\"type\":\"histogram2d\"}],\"histogram\":[{\"marker\":{\"pattern\":{\"fillmode\":\"overlay\",\"size\":10,\"solidity\":0.2}},\"type\":\"histogram\"}],\"mesh3d\":[{\"colorbar\":{\"outlinewidth\":0,\"ticks\":\"\"},\"type\":\"mesh3d\"}],\"parcoords\":[{\"line\":{\"colorbar\":{\"outlinewidth\":0,\"ticks\":\"\"}},\"type\":\"parcoords\"}],\"pie\":[{\"automargin\":true,\"type\":\"pie\"}],\"scatter3d\":[{\"line\":{\"colorbar\":{\"outlinewidth\":0,\"ticks\":\"\"}},\"marker\":{\"colorbar\":{\"outlinewidth\":0,\"ticks\":\"\"}},\"type\":\"scatter3d\"}],\"scattercarpet\":[{\"marker\":{\"colorbar\":{\"outlinewidth\":0,\"ticks\":\"\"}},\"type\":\"scattercarpet\"}],\"scattergeo\":[{\"marker\":{\"colorbar\":{\"outlinewidth\":0,\"ticks\":\"\"}},\"type\":\"scattergeo\"}],\"scattergl\":[{\"marker\":{\"colorbar\":{\"outlinewidth\":0,\"ticks\":\"\"}},\"type\":\"scattergl\"}],\"scattermapbox\":[{\"marker\":{\"colorbar\":{\"outlinewidth\":0,\"ticks\":\"\"}},\"type\":\"scattermapbox\"}],\"scatterpolargl\":[{\"marker\":{\"colorbar\":{\"outlinewidth\":0,\"ticks\":\"\"}},\"type\":\"scatterpolargl\"}],\"scatterpolar\":[{\"marker\":{\"colorbar\":{\"outlinewidth\":0,\"ticks\":\"\"}},\"type\":\"scatterpolar\"}],\"scatter\":[{\"marker\":{\"colorbar\":{\"outlinewidth\":0,\"ticks\":\"\"}},\"type\":\"scatter\"}],\"scatterternary\":[{\"marker\":{\"colorbar\":{\"outlinewidth\":0,\"ticks\":\"\"}},\"type\":\"scatterternary\"}],\"surface\":[{\"colorbar\":{\"outlinewidth\":0,\"ticks\":\"\"},\"colorscale\":[[0.0,\"#0d0887\"],[0.1111111111111111,\"#46039f\"],[0.2222222222222222,\"#7201a8\"],[0.3333333333333333,\"#9c179e\"],[0.4444444444444444,\"#bd3786\"],[0.5555555555555556,\"#d8576b\"],[0.6666666666666666,\"#ed7953\"],[0.7777777777777778,\"#fb9f3a\"],[0.8888888888888888,\"#fdca26\"],[1.0,\"#f0f921\"]],\"type\":\"surface\"}],\"table\":[{\"cells\":{\"fill\":{\"color\":\"#EBF0F8\"},\"line\":{\"color\":\"white\"}},\"header\":{\"fill\":{\"color\":\"#C8D4E3\"},\"line\":{\"color\":\"white\"}},\"type\":\"table\"}]},\"layout\":{\"annotationdefaults\":{\"arrowcolor\":\"#2a3f5f\",\"arrowhead\":0,\"arrowwidth\":1},\"autotypenumbers\":\"strict\",\"coloraxis\":{\"colorbar\":{\"outlinewidth\":0,\"ticks\":\"\"}},\"colorscale\":{\"diverging\":[[0,\"#8e0152\"],[0.1,\"#c51b7d\"],[0.2,\"#de77ae\"],[0.3,\"#f1b6da\"],[0.4,\"#fde0ef\"],[0.5,\"#f7f7f7\"],[0.6,\"#e6f5d0\"],[0.7,\"#b8e186\"],[0.8,\"#7fbc41\"],[0.9,\"#4d9221\"],[1,\"#276419\"]],\"sequential\":[[0.0,\"#0d0887\"],[0.1111111111111111,\"#46039f\"],[0.2222222222222222,\"#7201a8\"],[0.3333333333333333,\"#9c179e\"],[0.4444444444444444,\"#bd3786\"],[0.5555555555555556,\"#d8576b\"],[0.6666666666666666,\"#ed7953\"],[0.7777777777777778,\"#fb9f3a\"],[0.8888888888888888,\"#fdca26\"],[1.0,\"#f0f921\"]],\"sequentialminus\":[[0.0,\"#0d0887\"],[0.1111111111111111,\"#46039f\"],[0.2222222222222222,\"#7201a8\"],[0.3333333333333333,\"#9c179e\"],[0.4444444444444444,\"#bd3786\"],[0.5555555555555556,\"#d8576b\"],[0.6666666666666666,\"#ed7953\"],[0.7777777777777778,\"#fb9f3a\"],[0.8888888888888888,\"#fdca26\"],[1.0,\"#f0f921\"]]},\"colorway\":[\"#636efa\",\"#EF553B\",\"#00cc96\",\"#ab63fa\",\"#FFA15A\",\"#19d3f3\",\"#FF6692\",\"#B6E880\",\"#FF97FF\",\"#FECB52\"],\"font\":{\"color\":\"#2a3f5f\"},\"geo\":{\"bgcolor\":\"white\",\"lakecolor\":\"white\",\"landcolor\":\"white\",\"showlakes\":true,\"showland\":true,\"subunitcolor\":\"#C8D4E3\"},\"hoverlabel\":{\"align\":\"left\"},\"hovermode\":\"closest\",\"mapbox\":{\"style\":\"light\"},\"paper_bgcolor\":\"white\",\"plot_bgcolor\":\"white\",\"polar\":{\"angularaxis\":{\"gridcolor\":\"#EBF0F8\",\"linecolor\":\"#EBF0F8\",\"ticks\":\"\"},\"bgcolor\":\"white\",\"radialaxis\":{\"gridcolor\":\"#EBF0F8\",\"linecolor\":\"#EBF0F8\",\"ticks\":\"\"}},\"scene\":{\"xaxis\":{\"backgroundcolor\":\"white\",\"gridcolor\":\"#DFE8F3\",\"gridwidth\":2,\"linecolor\":\"#EBF0F8\",\"showbackground\":true,\"ticks\":\"\",\"zerolinecolor\":\"#EBF0F8\"},\"yaxis\":{\"backgroundcolor\":\"white\",\"gridcolor\":\"#DFE8F3\",\"gridwidth\":2,\"linecolor\":\"#EBF0F8\",\"showbackground\":true,\"ticks\":\"\",\"zerolinecolor\":\"#EBF0F8\"},\"zaxis\":{\"backgroundcolor\":\"white\",\"gridcolor\":\"#DFE8F3\",\"gridwidth\":2,\"linecolor\":\"#EBF0F8\",\"showbackground\":true,\"ticks\":\"\",\"zerolinecolor\":\"#EBF0F8\"}},\"shapedefaults\":{\"line\":{\"color\":\"#2a3f5f\"}},\"ternary\":{\"aaxis\":{\"gridcolor\":\"#DFE8F3\",\"linecolor\":\"#A2B1C6\",\"ticks\":\"\"},\"baxis\":{\"gridcolor\":\"#DFE8F3\",\"linecolor\":\"#A2B1C6\",\"ticks\":\"\"},\"bgcolor\":\"white\",\"caxis\":{\"gridcolor\":\"#DFE8F3\",\"linecolor\":\"#A2B1C6\",\"ticks\":\"\"}},\"title\":{\"x\":0.05},\"xaxis\":{\"automargin\":true,\"gridcolor\":\"#EBF0F8\",\"linecolor\":\"#EBF0F8\",\"ticks\":\"\",\"title\":{\"standoff\":15},\"zerolinecolor\":\"#EBF0F8\",\"zerolinewidth\":2},\"yaxis\":{\"automargin\":true,\"gridcolor\":\"#EBF0F8\",\"linecolor\":\"#EBF0F8\",\"ticks\":\"\",\"title\":{\"standoff\":15},\"zerolinecolor\":\"#EBF0F8\",\"zerolinewidth\":2}}},\"font\":{\"size\":18},\"width\":600,\"height\":700},                        {\"responsive\": true}                    ).then(function(){\n",
              "                            \n",
              "var gd = document.getElementById('b99e9c1f-c85f-4db9-bffd-d68b9de8bae3');\n",
              "var x = new MutationObserver(function (mutations, observer) {{\n",
              "        var display = window.getComputedStyle(gd).display;\n",
              "        if (!display || display === 'none') {{\n",
              "            console.log([gd, 'removed!']);\n",
              "            Plotly.purge(gd);\n",
              "            observer.disconnect();\n",
              "        }}\n",
              "}});\n",
              "\n",
              "// Listen for the removal of the full notebook cells\n",
              "var notebookContainer = gd.closest('#notebook-container');\n",
              "if (notebookContainer) {{\n",
              "    x.observe(notebookContainer, {childList: true});\n",
              "}}\n",
              "\n",
              "// Listen for the clearing of the current output cell\n",
              "var outputEl = gd.closest('.output');\n",
              "if (outputEl) {{\n",
              "    x.observe(outputEl, {childList: true});\n",
              "}}\n",
              "\n",
              "                        })                };                            </script>        </div>\n",
              "</body>\n",
              "</html>"
            ]
          },
          "metadata": {}
        }
      ],
      "source": [
        "y_data = [df_wine['free sulfur dioxide']]\n",
        "x_data = ['free sulfur dioxide']\n",
        "\n",
        "fig = go.Figure()\n",
        "\n",
        "for xd, yd, cls in zip(x_data,y_data, c):\n",
        "  fig.add_trace(\n",
        "      go.Box(\n",
        "              y=yd,\n",
        "              name=xd,\n",
        "              jitter=0.5,\n",
        "              whiskerwidth=0.2,\n",
        "              fillcolor=cls,\n",
        "              marker_size=2,\n",
        "              marker_color = 'black',\n",
        "              line_width=0.7)\n",
        "             )\n",
        "      \n",
        "fig.update_layout(template=\"plotly_white\",\n",
        "                  width=600,\n",
        "                  height=700,\n",
        "                  font=dict(size=18))\n",
        "              \n",
        "fig.show()"
      ]
    },
    {
      "cell_type": "markdown",
      "metadata": {
        "id": "JtMbiTybxnXA"
      },
      "source": [
        "# Model Development 🛠"
      ]
    },
    {
      "cell_type": "markdown",
      "source": [
        "### **Forward Selection**\n",
        "When picking the independent variables to our model, we should rely more on common sense and our background knowledge.\n",
        "\n",
        "Here is a good [article](https://quantifyinghealth.com/variables-to-include-in-regression/#:~:text=As%20a%20rule%20of%20thumb,sense%20and%20your%20background%20knowledge.) explaining how you should pick your independent variables.\n",
        "\n",
        "\n",
        "### **Backward Selection**\n",
        "Here we will follow this methodology. It is more common in industry.We include all variables in our model then, according to p-value and VIF, we eliminate variables accordingly.\n",
        "\n",
        "\n",
        "###**Key Metrics**\n",
        "\n",
        "> **AIC:**\n",
        "- No absolute value is significant. It is a relative measure, the lower the better\n",
        "\n",
        "> **Adjusted R-squared:**\n",
        "- It is >= 0.7\n",
        "\n",
        "> **Individual variable's P-value (P>|t|):**\n",
        "- It is =<0.05\n",
        "\n",
        "> **Individual variable's VIF:**\n",
        "- It is <5"
      ],
      "metadata": {
        "id": "zW30NH5ebeyj"
      }
    },
    {
      "cell_type": "markdown",
      "source": [
        "## Iteration 1 : Backward Selection"
      ],
      "metadata": {
        "id": "vU0rHmX5T2Df"
      }
    },
    {
      "cell_type": "code",
      "source": [
        "# have a list of the columns name \n",
        "df_wine.columns"
      ],
      "metadata": {
        "colab": {
          "base_uri": "https://localhost:8080/"
        },
        "id": "ZX_DZX7AT9FP",
        "outputId": "6b9f9553-09f8-4ae7-a500-80cb030dbd48"
      },
      "execution_count": 9,
      "outputs": [
        {
          "output_type": "execute_result",
          "data": {
            "text/plain": [
              "Index(['fixed acidity', 'volatile acidity', 'citric acid', 'residual sugar',\n",
              "       'chlorides', 'free sulfur dioxide', 'total sulfur dioxide', 'density',\n",
              "       'pH', 'sulphates', 'alcohol', 'quality'],\n",
              "      dtype='object')"
            ]
          },
          "metadata": {},
          "execution_count": 9
        }
      ]
    },
    {
      "cell_type": "code",
      "source": [
        "# prepare the X and the Y for the model\n",
        "X = df_wine[['fixed acidity', 'volatile acidity', 'residual sugar',\n",
        "       'chlorides', 'free sulfur dioxide', 'total sulfur dioxide', 'density',\n",
        "       'pH', 'sulphates', 'alcohol', 'quality']]\n",
        "Y = df_wine['citric acid']"
      ],
      "metadata": {
        "id": "9HmnadtvUEH1"
      },
      "execution_count": 10,
      "outputs": []
    },
    {
      "cell_type": "code",
      "source": [
        "# split the data\n",
        "x_train,x_test,y_train,y_test = train_test_split(X,Y,train_size=0.7,random_state=42)"
      ],
      "metadata": {
        "id": "PeG8emhlUJas"
      },
      "execution_count": 11,
      "outputs": []
    },
    {
      "cell_type": "code",
      "source": [
        "# we add constant value (that is b in y=ax+b)\n",
        "x_train_new = sma.add_constant(x_train)\n",
        "x_test_new = sma.add_constant(x_test)"
      ],
      "metadata": {
        "colab": {
          "base_uri": "https://localhost:8080/"
        },
        "id": "vyMhqPq9VfCZ",
        "outputId": "a80d7bf7-f43d-403d-fab5-dbe54ce4a7e0"
      },
      "execution_count": 12,
      "outputs": [
        {
          "output_type": "stream",
          "name": "stderr",
          "text": [
            "/usr/local/lib/python3.7/dist-packages/statsmodels/tsa/tsatools.py:117: FutureWarning: In a future version of pandas all arguments of concat except for the argument 'objs' will be keyword-only\n",
            "  x = pd.concat(x[::order], 1)\n"
          ]
        }
      ]
    },
    {
      "cell_type": "code",
      "source": [
        "# Build our model and fit\n",
        "full_model = sma.OLS(y_train, x_train_new)\n",
        "full_results = full_model.fit()"
      ],
      "metadata": {
        "id": "W1SKwxeGWHpM"
      },
      "execution_count": 13,
      "outputs": []
    },
    {
      "cell_type": "code",
      "source": [
        "# print out the results\n",
        "print(full_results.summary())"
      ],
      "metadata": {
        "colab": {
          "base_uri": "https://localhost:8080/"
        },
        "id": "Tnav5V59WXtP",
        "outputId": "16d4aa6c-7f08-46d3-e813-9aed365c5597"
      },
      "execution_count": 14,
      "outputs": [
        {
          "output_type": "stream",
          "name": "stdout",
          "text": [
            "                            OLS Regression Results                            \n",
            "==============================================================================\n",
            "Dep. Variable:            citric acid   R-squared:                       0.682\n",
            "Model:                            OLS   Adj. R-squared:                  0.679\n",
            "Method:                 Least Squares   F-statistic:                     215.8\n",
            "Date:                Thu, 17 Feb 2022   Prob (F-statistic):          2.95e-266\n",
            "Time:                        11:25:56   Log-Likelihood:                 880.23\n",
            "No. Observations:                1119   AIC:                            -1736.\n",
            "Df Residuals:                    1107   BIC:                            -1676.\n",
            "Df Model:                          11                                         \n",
            "Covariance Type:            nonrobust                                         \n",
            "========================================================================================\n",
            "                           coef    std err          t      P>|t|      [0.025      0.975]\n",
            "----------------------------------------------------------------------------------------\n",
            "const                   -2.2504      4.287     -0.525      0.600     -10.663       6.162\n",
            "fixed acidity            0.0570      0.005     11.643      0.000       0.047       0.067\n",
            "volatile acidity        -0.4580      0.021    -21.678      0.000      -0.499      -0.417\n",
            "residual sugar           0.0083      0.003      2.734      0.006       0.002       0.014\n",
            "chlorides                0.7810      0.082      9.507      0.000       0.620       0.942\n",
            "free sulfur dioxide     -0.0027      0.000     -6.099      0.000      -0.004      -0.002\n",
            "total sulfur dioxide     0.0014      0.000      9.665      0.000       0.001       0.002\n",
            "density                  2.0904      4.374      0.478      0.633      -6.492      10.673\n",
            "pH                      -0.0515      0.039     -1.334      0.182      -0.127       0.024\n",
            "sulphates                0.0209      0.023      0.895      0.371      -0.025       0.067\n",
            "alcohol                  0.0281      0.005      5.127      0.000       0.017       0.039\n",
            "quality                 -0.0072      0.005     -1.402      0.161      -0.017       0.003\n",
            "==============================================================================\n",
            "Omnibus:                       43.174   Durbin-Watson:                   2.093\n",
            "Prob(Omnibus):                  0.000   Jarque-Bera (JB):               52.389\n",
            "Skew:                           0.419   Prob(JB):                     4.21e-12\n",
            "Kurtosis:                       3.649   Cond. No.                     1.13e+05\n",
            "==============================================================================\n",
            "\n",
            "Warnings:\n",
            "[1] Standard Errors assume that the covariance matrix of the errors is correctly specified.\n",
            "[2] The condition number is large, 1.13e+05. This might indicate that there are\n",
            "strong multicollinearity or other numerical problems.\n"
          ]
        }
      ]
    },
    {
      "cell_type": "code",
      "source": [
        "# calculate vif factor\n",
        "print('Variance Inflating Factor')\n",
        "cnames = x_train.columns\n",
        "for i in np.arange(0,len(cnames)):\n",
        "  xvars = list(cnames)\n",
        "  yvar = xvars.pop(i)\n",
        "  mod = sma.OLS(x_train[yvar], sma.add_constant(x_train_new[xvars]))\n",
        "  res= mod.fit()\n",
        "  vif = 1 / (1- res.rsquared)\n",
        "  print(yvar, round(vif,3))"
      ],
      "metadata": {
        "colab": {
          "base_uri": "https://localhost:8080/"
        },
        "id": "Zv5JkfNyXyhg",
        "outputId": "55176ab3-89a3-49e2-9d75-3a9ee8293f30"
      },
      "execution_count": 15,
      "outputs": [
        {
          "output_type": "stream",
          "name": "stderr",
          "text": [
            "/usr/local/lib/python3.7/dist-packages/statsmodels/tsa/tsatools.py:117: FutureWarning: In a future version of pandas all arguments of concat except for the argument 'objs' will be keyword-only\n",
            "  x = pd.concat(x[::order], 1)\n"
          ]
        },
        {
          "output_type": "stream",
          "name": "stdout",
          "text": [
            "Variance Inflating Factor\n",
            "fixed acidity 6.408\n",
            "volatile acidity 1.347\n",
            "residual sugar 1.731\n",
            "chlorides 1.366\n",
            "free sulfur dioxide 1.914\n",
            "total sulfur dioxide 2.059\n",
            "density 5.903\n",
            "pH 3.224\n",
            "sulphates 1.473\n",
            "alcohol 3.084\n",
            "quality 1.563\n"
          ]
        }
      ]
    },
    {
      "cell_type": "markdown",
      "source": [
        "Based on P-value and Vif we remove: `density`\n"
      ],
      "metadata": {
        "id": "1mg-QSJiad6y"
      }
    },
    {
      "cell_type": "markdown",
      "source": [
        "## Iteration 2 : Backward Selection"
      ],
      "metadata": {
        "id": "whJa5t5basz0"
      }
    },
    {
      "cell_type": "code",
      "source": [
        "# prepare the X for the model\n",
        "X = df_wine[['fixed acidity', 'volatile acidity', 'residual sugar',\n",
        "       'chlorides', 'free sulfur dioxide', 'total sulfur dioxide',\n",
        "       'pH', 'sulphates', 'alcohol', 'quality']]\n",
        "Y = df_wine['citric acid']\n",
        "\n",
        "from sklearn.model_selection import train_test_split\n",
        "x_train,x_test,y_train,y_test = train_test_split(X,Y,train_size=0.7,random_state=42)\n",
        "\n",
        "x_train_new = sma.add_constant(x_train)\n",
        "x_test_new = sma.add_constant(x_test)\n",
        "\n",
        "full_model = sma.OLS(y_train, x_train_new)\n",
        "full_results = full_model.fit()\n",
        "\n",
        "print(full_results.summary())"
      ],
      "metadata": {
        "id": "Q1kkvzl3asz3",
        "colab": {
          "base_uri": "https://localhost:8080/"
        },
        "outputId": "b70932f7-5c5c-4b5c-9b14-0c91bd3ab3a2"
      },
      "execution_count": 16,
      "outputs": [
        {
          "output_type": "stream",
          "name": "stdout",
          "text": [
            "                            OLS Regression Results                            \n",
            "==============================================================================\n",
            "Dep. Variable:            citric acid   R-squared:                       0.682\n",
            "Model:                            OLS   Adj. R-squared:                  0.679\n",
            "Method:                 Least Squares   F-statistic:                     237.6\n",
            "Date:                Thu, 17 Feb 2022   Prob (F-statistic):          2.09e-267\n",
            "Time:                        11:25:56   Log-Likelihood:                 880.12\n",
            "No. Observations:                1119   AIC:                            -1738.\n",
            "Df Residuals:                    1108   BIC:                            -1683.\n",
            "Df Model:                          10                                         \n",
            "Covariance Type:            nonrobust                                         \n",
            "========================================================================================\n",
            "                           coef    std err          t      P>|t|      [0.025      0.975]\n",
            "----------------------------------------------------------------------------------------\n",
            "const                   -0.2024      0.126     -1.607      0.108      -0.450       0.045\n",
            "fixed acidity            0.0589      0.003     21.422      0.000       0.054       0.064\n",
            "volatile acidity        -0.4568      0.021    -21.778      0.000      -0.498      -0.416\n",
            "residual sugar           0.0092      0.002      3.843      0.000       0.005       0.014\n",
            "chlorides                0.7840      0.082      9.573      0.000       0.623       0.945\n",
            "free sulfur dioxide     -0.0027      0.000     -6.179      0.000      -0.004      -0.002\n",
            "total sulfur dioxide     0.0014      0.000      9.729      0.000       0.001       0.002\n",
            "pH                      -0.0411      0.032     -1.290      0.197      -0.104       0.021\n",
            "sulphates                0.0238      0.023      1.054      0.292      -0.020       0.068\n",
            "alcohol                  0.0263      0.004      6.899      0.000       0.019       0.034\n",
            "quality                 -0.0072      0.005     -1.411      0.159      -0.017       0.003\n",
            "==============================================================================\n",
            "Omnibus:                       43.196   Durbin-Watson:                   2.092\n",
            "Prob(Omnibus):                  0.000   Jarque-Bera (JB):               52.465\n",
            "Skew:                           0.419   Prob(JB):                     4.05e-12\n",
            "Kurtosis:                       3.651   Cond. No.                     2.44e+03\n",
            "==============================================================================\n",
            "\n",
            "Warnings:\n",
            "[1] Standard Errors assume that the covariance matrix of the errors is correctly specified.\n",
            "[2] The condition number is large, 2.44e+03. This might indicate that there are\n",
            "strong multicollinearity or other numerical problems.\n"
          ]
        },
        {
          "output_type": "stream",
          "name": "stderr",
          "text": [
            "/usr/local/lib/python3.7/dist-packages/statsmodels/tsa/tsatools.py:117: FutureWarning: In a future version of pandas all arguments of concat except for the argument 'objs' will be keyword-only\n",
            "  x = pd.concat(x[::order], 1)\n"
          ]
        }
      ]
    },
    {
      "cell_type": "code",
      "source": [
        "print('Variance Inflating Factor')\n",
        "cnames = x_train.columns\n",
        "for i in np.arange(0,len(cnames)):\n",
        "  xvars = list(cnames)\n",
        "  yvar = xvars.pop(i)\n",
        "  mod = sma.OLS(x_train[yvar], sma.add_constant(x_train_new[xvars]))\n",
        "  res= mod.fit()\n",
        "  vif = 1 / (1- res.rsquared)\n",
        "  print(yvar, round(vif,3))"
      ],
      "metadata": {
        "colab": {
          "base_uri": "https://localhost:8080/"
        },
        "outputId": "f359ae61-c5c4-48fc-cbd8-baf03bfa3dc1",
        "id": "jscb6m10asz7"
      },
      "execution_count": 17,
      "outputs": [
        {
          "output_type": "stream",
          "name": "stdout",
          "text": [
            "Variance Inflating Factor\n",
            "fixed acidity 2.025\n",
            "volatile acidity 1.329\n",
            "residual sugar 1.075\n",
            "chlorides 1.359\n",
            "free sulfur dioxide 1.895\n",
            "total sulfur dioxide 2.048\n",
            "pH 2.198\n",
            "sulphates 1.375\n",
            "alcohol 1.483\n",
            "quality 1.562\n"
          ]
        },
        {
          "output_type": "stream",
          "name": "stderr",
          "text": [
            "/usr/local/lib/python3.7/dist-packages/statsmodels/tsa/tsatools.py:117: FutureWarning: In a future version of pandas all arguments of concat except for the argument 'objs' will be keyword-only\n",
            "  x = pd.concat(x[::order], 1)\n"
          ]
        }
      ]
    },
    {
      "cell_type": "markdown",
      "source": [
        "Based on P-value and Vif we remove: `sulphates`\n"
      ],
      "metadata": {
        "id": "Yh-xefctasz8"
      }
    },
    {
      "cell_type": "markdown",
      "source": [
        "## Iteration 3 : Backward Selection"
      ],
      "metadata": {
        "id": "6-4TVOpVbR8P"
      }
    },
    {
      "cell_type": "code",
      "source": [
        "# prepare the X for the model\n",
        "X = df_wine[['fixed acidity', 'volatile acidity', 'residual sugar',\n",
        "       'chlorides', 'free sulfur dioxide', 'total sulfur dioxide',\n",
        "       'pH', 'alcohol', 'quality']]\n",
        "Y = df_wine['citric acid']\n",
        "\n",
        "from sklearn.model_selection import train_test_split\n",
        "x_train,x_test,y_train,y_test = train_test_split(X,Y,train_size=0.7,random_state=42)\n",
        "x_train_new = sma.add_constant(x_train)\n",
        "x_test_new = sma.add_constant(x_test)\n",
        "full_model = sma.OLS(y_train, x_train_new)\n",
        "full_results = full_model.fit()\n",
        "print(full_results.summary())"
      ],
      "metadata": {
        "colab": {
          "base_uri": "https://localhost:8080/"
        },
        "id": "iJLPkCmqbR8Q",
        "outputId": "404b6304-b5e0-4b2d-e1ef-28e841d879da"
      },
      "execution_count": 20,
      "outputs": [
        {
          "output_type": "stream",
          "name": "stdout",
          "text": [
            "                            OLS Regression Results                            \n",
            "==============================================================================\n",
            "Dep. Variable:            citric acid   R-squared:                       0.682\n",
            "Model:                            OLS   Adj. R-squared:                  0.679\n",
            "Method:                 Least Squares   F-statistic:                     263.8\n",
            "Date:                Thu, 17 Feb 2022   Prob (F-statistic):          2.18e-268\n",
            "Time:                        11:27:00   Log-Likelihood:                 879.56\n",
            "No. Observations:                1119   AIC:                            -1739.\n",
            "Df Residuals:                    1109   BIC:                            -1689.\n",
            "Df Model:                           9                                         \n",
            "Covariance Type:            nonrobust                                         \n",
            "========================================================================================\n",
            "                           coef    std err          t      P>|t|      [0.025      0.975]\n",
            "----------------------------------------------------------------------------------------\n",
            "const                   -0.1986      0.126     -1.577      0.115      -0.446       0.048\n",
            "fixed acidity            0.0591      0.003     21.538      0.000       0.054       0.064\n",
            "volatile acidity        -0.4612      0.021    -22.426      0.000      -0.502      -0.421\n",
            "residual sugar           0.0091      0.002      3.790      0.000       0.004       0.014\n",
            "chlorides                0.8195      0.075     10.982      0.000       0.673       0.966\n",
            "free sulfur dioxide     -0.0027      0.000     -6.157      0.000      -0.004      -0.002\n",
            "total sulfur dioxide     0.0014      0.000      9.832      0.000       0.001       0.002\n",
            "pH                      -0.0411      0.032     -1.289      0.198      -0.104       0.021\n",
            "alcohol                  0.0266      0.004      7.016      0.000       0.019       0.034\n",
            "quality                 -0.0062      0.005     -1.243      0.214      -0.016       0.004\n",
            "==============================================================================\n",
            "Omnibus:                       43.056   Durbin-Watson:                   2.092\n",
            "Prob(Omnibus):                  0.000   Jarque-Bera (JB):               52.378\n",
            "Skew:                           0.417   Prob(JB):                     4.23e-12\n",
            "Kurtosis:                       3.654   Cond. No.                     2.44e+03\n",
            "==============================================================================\n",
            "\n",
            "Warnings:\n",
            "[1] Standard Errors assume that the covariance matrix of the errors is correctly specified.\n",
            "[2] The condition number is large, 2.44e+03. This might indicate that there are\n",
            "strong multicollinearity or other numerical problems.\n"
          ]
        },
        {
          "output_type": "stream",
          "name": "stderr",
          "text": [
            "/usr/local/lib/python3.7/dist-packages/statsmodels/tsa/tsatools.py:117: FutureWarning: In a future version of pandas all arguments of concat except for the argument 'objs' will be keyword-only\n",
            "  x = pd.concat(x[::order], 1)\n"
          ]
        }
      ]
    },
    {
      "cell_type": "code",
      "source": [
        "print('Variance Inflating Factor')\n",
        "cnames = x_train.columns\n",
        "for i in np.arange(0,len(cnames)):\n",
        "  xvars = list(cnames)\n",
        "  yvar = xvars.pop(i)\n",
        "  mod = sma.OLS(x_train[yvar], sma.add_constant(x_train_new[xvars]))\n",
        "  res= mod.fit()\n",
        "  vif = 1 / (1- res.rsquared)\n",
        "  print(yvar, round(vif,3))"
      ],
      "metadata": {
        "colab": {
          "base_uri": "https://localhost:8080/"
        },
        "outputId": "df2fcea3-18f3-4e57-c062-c6fbd9be6adc",
        "id": "iiW_sGEPbR8U"
      },
      "execution_count": 21,
      "outputs": [
        {
          "output_type": "stream",
          "name": "stdout",
          "text": [
            "Variance Inflating Factor\n",
            "fixed acidity 2.016\n",
            "volatile acidity 1.277\n",
            "residual sugar 1.072\n",
            "chlorides 1.128\n",
            "free sulfur dioxide 1.894\n",
            "total sulfur dioxide 2.037\n",
            "pH 2.198\n",
            "alcohol 1.472\n",
            "quality 1.512\n"
          ]
        },
        {
          "output_type": "stream",
          "name": "stderr",
          "text": [
            "/usr/local/lib/python3.7/dist-packages/statsmodels/tsa/tsatools.py:117: FutureWarning: In a future version of pandas all arguments of concat except for the argument 'objs' will be keyword-only\n",
            "  x = pd.concat(x[::order], 1)\n"
          ]
        }
      ]
    },
    {
      "cell_type": "markdown",
      "source": [
        "we remove: `quality`"
      ],
      "metadata": {
        "id": "I2XnxJkEcG2x"
      }
    },
    {
      "cell_type": "markdown",
      "source": [
        "## Iteration 4 : Backward Selection"
      ],
      "metadata": {
        "id": "qo4XBPLPb0Hv"
      }
    },
    {
      "cell_type": "code",
      "source": [
        "# prepare the X for the model\n",
        "X = df_wine[['fixed acidity', 'volatile acidity', 'residual sugar',\n",
        "       'chlorides', 'free sulfur dioxide', 'total sulfur dioxide',\n",
        "       'pH', 'alcohol']]\n",
        "Y = df_wine['citric acid']\n",
        "\n",
        "from sklearn.model_selection import train_test_split\n",
        "x_train,x_test,y_train,y_test = train_test_split(X,Y,train_size=0.7,random_state=42)\n",
        "x_train_new = sma.add_constant(x_train)\n",
        "x_test_new = sma.add_constant(x_test)\n",
        "full_model = sma.OLS(y_train, x_train_new)\n",
        "full_results = full_model.fit()\n",
        "print(full_results.summary())"
      ],
      "metadata": {
        "colab": {
          "base_uri": "https://localhost:8080/"
        },
        "outputId": "c7fd5319-dca1-492b-aeb9-0af73d75fb7d",
        "id": "ETx2ssJfb0H7"
      },
      "execution_count": 22,
      "outputs": [
        {
          "output_type": "stream",
          "name": "stdout",
          "text": [
            "                            OLS Regression Results                            \n",
            "==============================================================================\n",
            "Dep. Variable:            citric acid   R-squared:                       0.681\n",
            "Model:                            OLS   Adj. R-squared:                  0.679\n",
            "Method:                 Least Squares   F-statistic:                     296.5\n",
            "Date:                Thu, 17 Feb 2022   Prob (F-statistic):          2.64e-269\n",
            "Time:                        11:27:56   Log-Likelihood:                 878.78\n",
            "No. Observations:                1119   AIC:                            -1740.\n",
            "Df Residuals:                    1110   BIC:                            -1694.\n",
            "Df Model:                           8                                         \n",
            "Covariance Type:            nonrobust                                         \n",
            "========================================================================================\n",
            "                           coef    std err          t      P>|t|      [0.025      0.975]\n",
            "----------------------------------------------------------------------------------------\n",
            "const                   -0.2256      0.124     -1.819      0.069      -0.469       0.018\n",
            "fixed acidity            0.0591      0.003     21.528      0.000       0.054       0.064\n",
            "volatile acidity        -0.4538      0.020    -23.037      0.000      -0.492      -0.415\n",
            "residual sugar           0.0091      0.002      3.804      0.000       0.004       0.014\n",
            "chlorides                0.8241      0.075     11.054      0.000       0.678       0.970\n",
            "free sulfur dioxide     -0.0028      0.000     -6.253      0.000      -0.004      -0.002\n",
            "total sulfur dioxide     0.0014      0.000     10.048      0.000       0.001       0.002\n",
            "pH                      -0.0387      0.032     -1.214      0.225      -0.101       0.024\n",
            "alcohol                  0.0246      0.003      7.164      0.000       0.018       0.031\n",
            "==============================================================================\n",
            "Omnibus:                       44.385   Durbin-Watson:                   2.089\n",
            "Prob(Omnibus):                  0.000   Jarque-Bera (JB):               54.001\n",
            "Skew:                           0.426   Prob(JB):                     1.88e-12\n",
            "Kurtosis:                       3.657   Cond. No.                     2.40e+03\n",
            "==============================================================================\n",
            "\n",
            "Warnings:\n",
            "[1] Standard Errors assume that the covariance matrix of the errors is correctly specified.\n",
            "[2] The condition number is large, 2.4e+03. This might indicate that there are\n",
            "strong multicollinearity or other numerical problems.\n"
          ]
        },
        {
          "output_type": "stream",
          "name": "stderr",
          "text": [
            "/usr/local/lib/python3.7/dist-packages/statsmodels/tsa/tsatools.py:117: FutureWarning: In a future version of pandas all arguments of concat except for the argument 'objs' will be keyword-only\n",
            "  x = pd.concat(x[::order], 1)\n"
          ]
        }
      ]
    },
    {
      "cell_type": "code",
      "source": [
        "print('Variance Inflating Factor')\n",
        "cnames = x_train.columns\n",
        "for i in np.arange(0,len(cnames)):\n",
        "  xvars = list(cnames)\n",
        "  yvar = xvars.pop(i)\n",
        "  mod = sma.OLS(x_train[yvar], sma.add_constant(x_train_new[xvars]))\n",
        "  res= mod.fit()\n",
        "  vif = 1 / (1- res.rsquared)\n",
        "  print(yvar, round(vif,3))"
      ],
      "metadata": {
        "colab": {
          "base_uri": "https://localhost:8080/"
        },
        "outputId": "398681d0-38e1-4297-b4c4-8d07815605f6",
        "id": "WREPRgT6b0H8"
      },
      "execution_count": 23,
      "outputs": [
        {
          "output_type": "stream",
          "name": "stdout",
          "text": [
            "Variance Inflating Factor\n",
            "fixed acidity 2.016\n",
            "volatile acidity 1.171\n",
            "residual sugar 1.072\n",
            "chlorides 1.125\n",
            "free sulfur dioxide 1.886\n",
            "total sulfur dioxide 2.008\n",
            "pH 2.189\n",
            "alcohol 1.207\n"
          ]
        },
        {
          "output_type": "stream",
          "name": "stderr",
          "text": [
            "/usr/local/lib/python3.7/dist-packages/statsmodels/tsa/tsatools.py:117: FutureWarning: In a future version of pandas all arguments of concat except for the argument 'objs' will be keyword-only\n",
            "  x = pd.concat(x[::order], 1)\n"
          ]
        }
      ]
    },
    {
      "cell_type": "markdown",
      "source": [
        "remove : `pH`"
      ],
      "metadata": {
        "id": "K8T5SByBcN6z"
      }
    },
    {
      "cell_type": "markdown",
      "source": [
        "## Iteration 5 : Backward Selection"
      ],
      "metadata": {
        "id": "vkPr-zyJcErV"
      }
    },
    {
      "cell_type": "code",
      "source": [
        "# prepare the X for the model\n",
        "X = df_wine[['fixed acidity', 'volatile acidity', 'residual sugar',\n",
        "       'chlorides', 'free sulfur dioxide', 'total sulfur dioxide', 'alcohol']]\n",
        "Y = df_wine['citric acid']\n",
        "\n",
        "from sklearn.model_selection import train_test_split\n",
        "x_train,x_test,y_train,y_test = train_test_split(X,Y,train_size=0.7,random_state=42)\n",
        "x_train_new = sma.add_constant(x_train)\n",
        "x_test_new = sma.add_constant(x_test)\n",
        "full_model = sma.OLS(y_train, x_train_new)\n",
        "full_results = full_model.fit()\n",
        "print(full_results.summary())"
      ],
      "metadata": {
        "colab": {
          "base_uri": "https://localhost:8080/"
        },
        "outputId": "37025136-857c-4b88-85b1-a4d657b91ebe",
        "id": "xRv-g4TbcErW"
      },
      "execution_count": 24,
      "outputs": [
        {
          "output_type": "stream",
          "name": "stdout",
          "text": [
            "                            OLS Regression Results                            \n",
            "==============================================================================\n",
            "Dep. Variable:            citric acid   R-squared:                       0.681\n",
            "Model:                            OLS   Adj. R-squared:                  0.679\n",
            "Method:                 Least Squares   F-statistic:                     338.5\n",
            "Date:                Thu, 17 Feb 2022   Prob (F-statistic):          2.89e-270\n",
            "Time:                        11:28:22   Log-Likelihood:                 878.03\n",
            "No. Observations:                1119   AIC:                            -1740.\n",
            "Df Residuals:                    1111   BIC:                            -1700.\n",
            "Df Model:                           7                                         \n",
            "Covariance Type:            nonrobust                                         \n",
            "========================================================================================\n",
            "                           coef    std err          t      P>|t|      [0.025      0.975]\n",
            "----------------------------------------------------------------------------------------\n",
            "const                   -0.3649      0.047     -7.744      0.000      -0.457      -0.272\n",
            "fixed acidity            0.0613      0.002     29.626      0.000       0.057       0.065\n",
            "volatile acidity        -0.4577      0.019    -23.549      0.000      -0.496      -0.420\n",
            "residual sugar           0.0091      0.002      3.795      0.000       0.004       0.014\n",
            "chlorides                0.8462      0.072     11.702      0.000       0.704       0.988\n",
            "free sulfur dioxide     -0.0028      0.000     -6.405      0.000      -0.004      -0.002\n",
            "total sulfur dioxide     0.0015      0.000     10.448      0.000       0.001       0.002\n",
            "alcohol                  0.0239      0.003      7.059      0.000       0.017       0.031\n",
            "==============================================================================\n",
            "Omnibus:                       45.536   Durbin-Watson:                   2.087\n",
            "Prob(Omnibus):                  0.000   Jarque-Bera (JB):               56.006\n",
            "Skew:                           0.429   Prob(JB):                     6.89e-13\n",
            "Kurtosis:                       3.681   Cond. No.                     1.35e+03\n",
            "==============================================================================\n",
            "\n",
            "Warnings:\n",
            "[1] Standard Errors assume that the covariance matrix of the errors is correctly specified.\n",
            "[2] The condition number is large, 1.35e+03. This might indicate that there are\n",
            "strong multicollinearity or other numerical problems.\n"
          ]
        },
        {
          "output_type": "stream",
          "name": "stderr",
          "text": [
            "/usr/local/lib/python3.7/dist-packages/statsmodels/tsa/tsatools.py:117: FutureWarning: In a future version of pandas all arguments of concat except for the argument 'objs' will be keyword-only\n",
            "  x = pd.concat(x[::order], 1)\n"
          ]
        }
      ]
    },
    {
      "cell_type": "code",
      "source": [
        "print('Variance Inflating Factor')\n",
        "cnames = x_train.columns\n",
        "for i in np.arange(0,len(cnames)):\n",
        "  xvars = list(cnames)\n",
        "  yvar = xvars.pop(i)\n",
        "  mod = sma.OLS(x_train[yvar], sma.add_constant(x_train_new[xvars]))\n",
        "  res= mod.fit()\n",
        "  vif = 1 / (1- res.rsquared)\n",
        "  print('--',yvar,'=',round(vif,3))"
      ],
      "metadata": {
        "colab": {
          "base_uri": "https://localhost:8080/"
        },
        "outputId": "ae6970b7-57a2-4984-df21-4f18e9915147",
        "id": "gg0UGBNIcErY"
      },
      "execution_count": 25,
      "outputs": [
        {
          "output_type": "stream",
          "name": "stdout",
          "text": [
            "Variance Inflating Factor\n",
            "-- fixed acidity = 1.145\n",
            "-- volatile acidity = 1.14\n",
            "-- residual sugar = 1.071\n",
            "-- chlorides = 1.058\n",
            "-- free sulfur dioxide = 1.867\n",
            "-- total sulfur dioxide = 1.94\n",
            "-- alcohol = 1.172\n"
          ]
        },
        {
          "output_type": "stream",
          "name": "stderr",
          "text": [
            "/usr/local/lib/python3.7/dist-packages/statsmodels/tsa/tsatools.py:117: FutureWarning: In a future version of pandas all arguments of concat except for the argument 'objs' will be keyword-only\n",
            "  x = pd.concat(x[::order], 1)\n"
          ]
        }
      ]
    },
    {
      "cell_type": "markdown",
      "source": [
        "###**Key Metrics**\n",
        "\n",
        "> **AIC:**\n",
        "- Reduced from -1736 from iteration -1740 to in iteration 5\n",
        "\n",
        "> **Adjusted R-squared:**\n",
        "- 0.679 --> 0.679\n",
        "\n",
        "> **Individual variable's P-value (P>|t|):**\n",
        "- It is =<0.05\n",
        "\n",
        "> **Individual variable's VIF:**\n",
        "- It is <5\n",
        "\n"
      ],
      "metadata": {
        "id": "AZZ2j8fgcTdy"
      }
    },
    {
      "cell_type": "markdown",
      "source": [
        "# Testing"
      ],
      "metadata": {
        "id": "NIpIX1LWdi06"
      }
    },
    {
      "cell_type": "code",
      "source": [
        "# Prediction of Data\n",
        "y_pred = full_results.predict(x_test_new)\n",
        "y_pred_df = pd.DataFrame(y_pred)\n",
        "y_pred_df.columns = ['y_pred']\n",
        "\n",
        "pred_data = pd.DataFrame(y_pred_df['y_pred'])\n",
        "y_test_new = pd.DataFrame(y_test)\n",
        "y_test_new.reset_index(inplace=True)\n",
        "pred_data['y_test'] = pd.DataFrame(y_test_new['citric acid'])\n",
        "\n",
        "# R-Squared Calculation\n",
        "rsqd = r2_score(y_test_new['citric acid'].tolist(),\n",
        "y_pred_df['y_pred'].to_list())\n",
        "\n",
        "print(\"Training R-square value = \", round(full_results.rsquared_adj,4))\n",
        "print(\"Test R-square value = \", round(rsqd,4))\n",
        "\n",
        "\n"
      ],
      "metadata": {
        "id": "jdtHdhCPdlmI",
        "colab": {
          "base_uri": "https://localhost:8080/"
        },
        "outputId": "43cd19c3-0d2b-49a6-9ae2-fed6e01e1014"
      },
      "execution_count": 26,
      "outputs": [
        {
          "output_type": "stream",
          "name": "stdout",
          "text": [
            "Training R-square value =  0.6788\n",
            "Test R-square value =  0.6731\n"
          ]
        }
      ]
    },
    {
      "cell_type": "markdown",
      "source": [
        "- The training and testing R-sqr are very similar to each other. \n",
        "\n",
        "- then, the relationship between the dependent and the independent variables could be represented by a linear Regression.\n",
        "\n",
        "- We can say that these Independent variables explains 67% of the variablity in citric acid values.\n"
      ],
      "metadata": {
        "id": "RWFl6VVm-cTg"
      }
    },
    {
      "cell_type": "markdown",
      "metadata": {
        "id": "t3SBfJmIBUak"
      },
      "source": [
        "# Linear Regression Assumptions ☁️"
      ]
    },
    {
      "cell_type": "markdown",
      "metadata": {
        "id": "ql5AfK0xBUal"
      },
      "source": [
        "In order to have a robust model, linear regression requires certain assumptions. Some assumptions are related to the relationship between the x & y and others are concerned with the Residuals/error terms. I will start defining the assumption and the reason behind it. "
      ]
    },
    {
      "cell_type": "markdown",
      "metadata": {
        "id": "t_xxtVyIBUam"
      },
      "source": [
        "## Assumption 1: Linear Relationship between y and x 📈\n",
        "\n",
        "Since Linear regression describes a linear relationship between the dependent and independent variable/s; thus a linear relationship should exist between them.\n",
        "It can be:\n",
        "y = ax + b \n",
        "y = a log(x)\n",
        "\n",
        "However, it can't be:\n",
        "y = ax2x3 + b\n",
        "\n",
        "\n",
        "we use a scatter_matrix; equivalent to pairplot; to check the relation of independent variables with the citric acid.\n",
        "\n",
        "---------------------------"
      ]
    },
    {
      "cell_type": "code",
      "execution_count": 27,
      "metadata": {
        "colab": {
          "base_uri": "https://localhost:8080/",
          "height": 1000
        },
        "outputId": "eac9da2d-6c12-44f7-8750-5351f65c6588",
        "id": "x5LqOvA6BUam"
      },
      "outputs": [
        {
          "output_type": "display_data",
          "data": {
            "text/html": [
              "<html>\n",
              "<head><meta charset=\"utf-8\" /></head>\n",
              "<body>\n",
              "    <div>            <script src=\"https://cdnjs.cloudflare.com/ajax/libs/mathjax/2.7.5/MathJax.js?config=TeX-AMS-MML_SVG\"></script><script type=\"text/javascript\">if (window.MathJax) {MathJax.Hub.Config({SVG: {font: \"STIX-Web\"}});}</script>                <script type=\"text/javascript\">window.PlotlyConfig = {MathJaxConfig: 'local'};</script>\n",
              "        <script src=\"https://cdn.plot.ly/plotly-2.8.3.min.js\"></script>                <div id=\"5ef8504f-74e1-4ac3-99b6-e7564729af00\" class=\"plotly-graph-div\" style=\"height:1100px; width:1200px;\"></div>            <script type=\"text/javascript\">                                    window.PLOTLYENV=window.PLOTLYENV || {};                                    if (document.getElementById(\"5ef8504f-74e1-4ac3-99b6-e7564729af00\")) {                    Plotly.newPlot(                        \"5ef8504f-74e1-4ac3-99b6-e7564729af00\",                        [{\"diagonal\":{\"visible\":false},\"dimensions\":[{\"label\":\"fixed acidity\",\"values\":[7.4,7.8,7.8,11.2,7.4,7.4,7.9,7.3,7.8,7.5,6.7,7.5,5.6,7.8,8.9,8.9,8.5,8.1,7.4,7.9,8.9,7.6,7.9,8.5,6.9,6.3,7.6,7.9,7.1,7.8,6.7,6.9,8.3,6.9,5.2,7.8,7.8,8.1,5.7,7.3,7.3,8.8,7.5,8.1,6.8,4.6,7.7,8.7,6.4,5.6,8.8,6.6,6.6,8.6,7.6,7.7,10.2,7.5,7.8,7.3,8.8,7.7,7.5,7.0,7.2,7.2,7.5,6.6,9.3,8.0,7.7,7.7,7.7,8.3,9.7,8.8,8.8,6.8,6.7,8.3,6.2,7.8,7.4,7.3,6.3,6.9,8.6,7.7,9.3,7.0,7.9,8.6,8.6,7.7,5.0,4.7,6.8,7.0,7.6,8.1,8.3,7.8,8.1,8.1,7.2,8.1,7.8,6.2,8.0,8.1,7.8,8.4,8.4,10.1,7.8,9.4,8.3,7.8,8.8,7.0,7.3,8.8,7.3,8.0,7.8,9.0,8.2,8.1,8.0,6.1,8.0,5.6,5.6,6.6,7.9,8.4,8.3,7.2,7.8,7.8,8.4,8.3,5.2,6.3,5.2,8.1,5.8,7.6,6.9,8.2,7.3,9.2,7.5,7.5,7.1,7.1,7.1,7.1,7.1,6.8,7.6,7.6,7.8,7.4,7.3,7.8,6.8,7.3,6.8,7.5,7.9,8.0,8.0,7.4,7.3,6.9,7.3,7.5,7.0,8.8,8.8,8.9,7.2,6.8,6.7,8.9,7.4,7.7,7.9,7.9,8.2,6.4,6.8,7.6,7.6,7.8,7.3,11.5,5.4,6.9,9.6,8.8,6.8,7.0,7.0,12.8,12.8,7.8,7.8,11.0,9.7,8.0,11.6,8.2,7.8,7.0,8.7,8.1,7.5,7.8,7.8,7.4,6.8,8.6,8.4,7.7,8.9,9.0,7.7,6.9,5.2,8.0,8.5,6.9,8.2,7.2,7.2,7.2,7.2,8.2,8.9,12.0,7.7,15.0,15.0,7.3,7.1,8.2,7.7,7.3,10.8,7.1,11.1,7.7,7.1,8.0,9.4,6.6,7.7,10.0,7.9,7.0,8.0,7.9,12.5,11.8,8.1,7.9,6.9,11.5,7.9,11.5,10.9,8.4,7.5,7.9,6.9,11.5,10.3,8.9,11.4,7.7,7.6,8.9,9.9,9.9,12.0,7.5,8.7,11.6,8.7,11.0,10.4,6.9,13.3,10.8,10.6,7.1,7.2,6.9,7.5,11.1,8.3,7.4,8.4,10.3,7.6,10.3,10.3,7.4,10.3,7.9,9.0,8.6,7.4,7.1,9.6,9.6,9.8,9.6,9.8,9.3,7.8,10.3,10.0,10.0,11.6,10.3,13.4,10.7,10.2,10.2,8.0,8.4,7.9,11.9,8.9,7.8,12.4,12.5,12.2,10.6,10.9,10.9,11.9,7.0,6.6,13.8,9.6,9.1,10.7,9.1,7.7,13.5,6.1,6.7,11.5,10.5,11.9,12.6,8.2,8.6,11.9,12.5,12.8,10.0,12.8,10.4,10.3,9.4,6.9,7.9,9.1,7.4,14.0,11.5,11.5,9.4,11.4,8.3,8.3,13.7,8.3,8.3,7.7,7.4,7.8,8.3,7.8,9.6,5.6,13.7,9.5,8.4,12.7,12.0,6.6,11.5,11.5,8.7,6.6,7.7,12.2,11.4,7.7,8.7,9.8,12.0,10.4,12.5,9.0,9.1,7.1,9.9,8.8,8.6,10.6,7.0,11.9,6.8,9.5,6.6,7.7,10.5,7.7,6.6,6.4,9.5,9.1,12.8,10.5,7.8,11.9,12.3,10.4,12.3,8.0,11.1,10.4,7.0,12.6,11.9,15.6,10.0,5.3,9.5,12.5,9.3,8.6,11.9,11.9,8.4,6.8,10.4,7.0,11.3,8.9,9.2,10.4,11.6,9.2,8.3,11.0,8.1,11.5,10.0,10.3,8.8,11.4,8.7,13.0,9.6,12.5,9.9,10.5,9.6,9.3,10.4,9.6,9.4,10.6,9.4,10.6,10.6,10.6,10.2,10.2,10.2,11.6,9.3,9.3,9.2,8.9,8.7,6.5,10.7,7.8,7.2,10.7,8.7,7.8,10.4,10.4,10.5,10.5,10.2,10.4,11.2,10.0,13.3,12.4,10.0,10.7,10.5,10.5,8.5,12.5,10.4,10.9,7.3,9.8,7.6,8.2,9.3,9.2,10.4,7.3,7.0,8.2,9.9,9.1,11.9,11.9,10.3,10.0,9.1,9.9,8.1,12.9,11.2,9.2,9.5,9.3,11.2,14.3,9.1,7.5,10.6,12.4,9.0,6.8,9.4,9.5,5.0,15.5,15.5,10.9,15.6,10.9,13.0,12.7,9.0,9.0,7.6,13.0,12.7,8.7,8.7,9.8,6.2,11.5,6.2,10.2,10.5,10.6,12.3,9.9,8.8,8.8,10.6,12.3,12.3,11.7,12.0,11.8,7.6,11.1,7.3,5.0,10.2,9.0,6.6,9.0,9.9,7.9,8.9,12.4,11.9,8.5,12.7,8.2,13.2,7.7,13.2,8.3,8.3,9.4,8.8,10.1,6.3,8.8,13.2,7.5,8.2,9.2,9.6,9.6,11.5,11.4,11.3,8.3,8.2,10.0,7.9,6.8,6.8,8.8,8.8,8.7,7.6,8.7,10.4,7.6,10.1,7.9,8.7,9.6,9.5,7.7,8.9,9.9,9.5,9.9,9.5,9.9,7.8,7.3,8.3,8.7,6.7,10.7,9.8,15.9,9.4,8.6,9.7,10.7,12.0,7.2,7.1,7.2,7.5,7.2,10.1,12.1,9.4,8.3,11.3,10.0,11.3,6.9,8.2,9.8,8.2,10.8,9.3,10.8,8.6,8.3,10.8,13.3,8.0,8.5,8.1,9.8,8.1,7.1,9.1,7.7,8.1,7.4,9.2,8.6,9.0,9.0,5.1,7.0,7.0,9.4,11.8,10.6,7.0,7.0,7.5,9.1,8.4,7.0,7.4,7.8,9.7,10.6,8.9,8.7,8.0,9.9,7.2,8.0,7.6,8.4,7.1,8.4,8.9,7.6,7.1,7.5,9.0,8.1,6.4,6.4,6.4,9.5,8.9,7.3,7.0,7.7,7.7,7.7,8.2,9.0,9.0,8.3,9.2,6.5,11.6,11.1,7.3,8.2,8.6,7.2,7.3,8.3,8.3,7.6,8.3,7.8,7.8,6.3,8.1,8.1,8.8,9.0,9.3,8.8,9.3,9.1,9.2,8.8,7.5,7.1,7.9,7.1,9.4,9.5,7.9,7.9,7.2,6.9,6.9,8.3,7.1,7.0,6.5,9.0,6.5,7.1,9.9,9.9,10.0,10.0,8.6,7.4,8.8,7.1,7.7,10.1,10.8,8.7,9.3,9.4,9.4,7.2,8.6,5.1,7.7,8.4,8.2,8.4,8.2,7.4,7.6,7.3,12.9,10.8,6.9,12.6,10.8,9.8,10.8,7.1,9.1,7.0,4.9,6.7,6.7,7.1,7.1,7.5,7.1,7.8,5.9,7.5,5.9,10.4,11.6,8.8,7.6,6.7,6.7,10.1,6.0,11.1,6.6,10.6,7.1,9.9,6.4,6.4,7.4,6.4,6.4,9.3,9.3,8.0,9.3,9.3,7.6,9.3,8.2,11.7,6.8,7.2,5.8,7.5,7.2,7.2,7.2,6.8,6.9,6.8,7.6,7.7,6.9,7.3,9.1,10.4,8.8,7.1,7.7,8.8,7.2,9.2,7.6,8.4,7.2,8.8,8.9,9.0,10.7,6.8,10.7,7.2,7.2,10.1,7.2,7.2,7.1,8.3,7.1,8.3,8.3,8.9,7.4,7.4,6.8,6.8,9.2,7.2,6.1,7.4,7.3,9.3,9.1,10.0,9.4,7.3,8.6,5.3,6.8,8.4,8.4,9.6,8.4,8.4,6.8,8.6,8.6,9.4,8.4,8.6,8.7,6.6,7.4,7.6,7.4,6.6,8.8,8.8,12.0,7.2,6.2,9.6,9.9,10.1,9.8,8.3,10.2,10.2,8.3,8.9,8.9,8.9,8.3,8.2,10.2,7.6,8.5,9.0,9.5,6.4,8.0,8.5,7.1,6.6,8.8,8.5,8.3,9.0,8.5,9.0,6.7,10.4,10.4,10.1,8.5,8.8,7.2,7.2,8.4,7.0,12.2,9.1,9.5,7.3,9.1,12.2,7.4,9.8,7.1,7.7,9.7,7.7,7.1,6.5,7.1,10.0,7.7,5.6,5.6,8.9,6.4,7.5,9.9,9.1,6.8,8.2,6.8,9.1,9.1,8.9,9.6,8.9,8.9,7.7,7.5,8.0,10.5,8.9,8.0,8.0,7.0,11.3,11.3,7.0,8.2,7.7,8.6,7.9,6.4,7.2,7.7,7.1,7.3,8.1,7.5,8.9,10.1,7.6,7.3,8.7,8.9,7.4,6.9,8.9,9.5,6.4,6.9,7.6,7.1,9.3,9.3,7.1,8.5,5.6,8.3,8.2,8.2,8.9,7.6,9.9,8.9,11.6,9.1,8.0,10.2,8.2,7.7,6.6,11.1,11.1,8.0,9.3,7.5,7.2,8.0,7.5,9.1,9.9,8.6,8.6,7.9,10.3,7.9,7.2,8.7,7.2,6.8,8.5,7.9,11.6,11.6,10.0,7.9,7.0,9.2,6.6,9.4,6.6,8.6,8.0,8.6,8.4,7.4,6.1,7.4,8.0,6.3,8.2,9.1,8.1,10.8,8.3,5.4,7.9,8.9,5.0,7.0,7.0,7.0,7.1,5.6,7.9,6.6,6.3,10.7,6.5,8.8,5.8,6.3,10.0,10.5,9.1,5.9,7.4,7.2,8.5,8.0,10.4,10.4,7.5,8.2,7.3,8.2,6.9,7.0,7.3,8.2,7.8,10.0,7.8,10.0,8.2,6.1,8.3,9.6,6.6,8.3,8.5,5.1,6.7,10.2,10.6,8.8,8.5,9.0,9.0,8.5,9.9,8.2,6.5,7.6,9.2,7.1,9.7,7.6,7.6,6.5,6.5,7.1,5.6,8.2,8.2,9.8,10.2,6.8,6.7,7.0,6.6,7.0,6.7,8.8,9.1,6.5,7.2,6.4,7.0,6.2,7.9,7.7,7.7,7.9,7.7,7.9,8.6,9.9,7.2,7.2,7.2,9.9,7.2,6.2,6.8,6.6,6.8,9.6,10.2,8.8,7.9,8.2,8.2,9.0,10.9,10.9,8.1,10.5,12.6,9.2,7.5,9.0,5.1,7.6,7.7,7.8,7.6,10.2,7.1,6.0,7.8,7.1,8.1,6.5,7.5,9.8,9.0,8.3,5.9,7.4,7.4,7.4,6.9,7.1,7.1,7.5,7.1,7.9,7.8,6.1,7.5,7.0,6.8,6.8,8.6,6.3,9.8,8.2,8.5,7.2,7.2,10.4,6.9,5.5,5.0,7.3,5.9,7.5,7.8,8.0,8.5,7.0,8.0,9.8,7.1,7.1,7.9,8.7,7.0,11.3,7.1,8.0,7.0,7.0,7.6,8.2,5.9,7.5,8.2,6.6,6.6,7.2,5.7,7.6,5.2,6.7,9.1,8.0,7.6,7.5,9.7,6.8,9.7,7.0,7.5,6.5,8.0,7.0,7.0,7.5,5.4,9.9,7.5,9.1,9.7,5.0,9.1,9.1,6.7,6.7,6.7,6.7,6.5,7.4,7.4,7.8,8.4,9.1,7.2,6.6,6.0,6.0,6.0,7.5,7.5,7.5,7.6,7.5,11.5,8.2,6.1,7.2,7.2,6.9,9.0,7.2,7.6,7.6,7.2,6.1,6.1,7.3,7.4,11.6,9.2,8.3,11.6,8.0,7.2,7.8,7.3,6.9,8.0,6.6,8.7,7.5,8.7,7.7,6.8,7.2,8.2,5.2,7.2,7.5,7.5,6.8,8.0,8.0,7.1,8.0,7.4,7.4,6.6,6.7,6.0,8.0,7.1,8.0,6.4,8.6,8.7,7.3,7.0,7.2,7.9,7.9,7.6,7.2,8.0,7.7,8.2,6.0,8.1,6.0,6.6,6.4,8.2,9.9,10.0,6.2,10.0,7.3,7.8,7.7,7.8,7.5,7.0,6.4,8.3,8.3,7.7,7.6,7.8,7.9,7.4,7.6,5.9,6.1,10.2,10.2,10.0,6.8,7.0,7.3,7.2,7.4,6.9,6.9,7.3,7.4,6.9,6.8,6.9,7.2,7.2,7.8,6.6,7.6,11.7,6.5,6.0,7.6,8.4,7.9,6.4,6.2,6.8,6.9,6.8,6.8,7.3,6.7,7.3,7.3,10.0,6.7,7.6,6.1,9.9,5.3,9.9,5.3,7.1,8.2,5.6,8.2,7.2,8.1,6.8,7.0,6.8,6.0,5.6,6.2,7.1,5.6,6.2,7.7,6.4,7.0,7.7,6.9,6.6,6.9,7.5,7.8,7.3,6.2,7.5,6.7,6.8,7.5,7.1,7.9,6.4,7.1,6.4,6.4,6.9,6.9,6.1,6.5,7.4,6.6,6.5,6.9,6.1,6.8,6.0,6.7,6.8,7.1,7.9,7.1,6.6,6.1,7.2,8.0,6.6,7.0,6.1,5.4,6.2,7.2,6.2,7.4,6.7,11.1,8.4,6.5,7.0,6.3,11.2,7.4,7.1,7.1,6.3,7.3,6.6,7.0,6.6,6.6,6.9,7.8,7.8,7.8,7.2,7.2,7.2,6.7,6.7,7.2,7.0,6.2,6.4,6.4,7.3,6.0,5.6,7.5,8.0,6.2,6.8,6.2,7.4,6.2,6.1,6.2,6.7,7.2,7.5,5.8,7.2,6.6,6.3,5.4,6.3,6.8,6.2,5.9,6.3,5.9,6.0]},{\"label\":\"volatile acidity\",\"values\":[0.7,0.88,0.76,0.28,0.7,0.66,0.6,0.65,0.58,0.5,0.58,0.5,0.615,0.61,0.62,0.62,0.28,0.56,0.59,0.32,0.22,0.39,0.43,0.49,0.4,0.39,0.41,0.43,0.71,0.645,0.675,0.685,0.655,0.605,0.32,0.645,0.6,0.38,1.13,0.45,0.45,0.61,0.49,0.66,0.67,0.52,0.935,0.29,0.4,0.31,0.66,0.52,0.5,0.38,0.51,0.62,0.42,0.63,0.59,0.39,0.4,0.69,0.52,0.735,0.725,0.725,0.52,0.705,0.32,0.705,0.63,0.67,0.69,0.675,0.32,0.41,0.41,0.785,0.75,0.625,0.45,0.43,0.5,0.67,0.3,0.55,0.49,0.49,0.39,0.62,0.52,0.49,0.49,0.49,1.02,0.6,0.775,0.5,0.9,0.545,0.61,0.5,0.545,0.575,0.49,0.575,0.41,0.63,0.33,0.785,0.56,0.62,0.6,0.31,0.56,0.4,0.54,0.56,0.55,0.69,1.07,0.55,0.695,0.71,0.5,0.62,1.33,1.33,0.59,0.38,0.745,0.5,0.5,0.5,1.04,0.745,0.715,0.415,0.56,0.56,0.745,0.715,0.34,0.39,0.34,0.67,0.68,0.49,0.49,0.4,0.33,0.52,0.6,0.6,0.43,0.43,0.43,0.43,0.68,0.6,0.95,0.68,0.53,0.6,0.59,0.63,0.64,0.55,0.63,0.705,0.885,0.42,0.42,0.62,0.38,0.5,0.38,0.52,0.805,0.61,0.61,0.61,0.73,0.61,0.62,0.31,0.39,0.705,0.5,0.49,0.5,0.37,0.63,0.55,0.55,0.59,0.58,0.3,0.835,1.09,0.32,0.37,0.5,0.42,0.43,0.3,0.3,0.57,0.44,0.3,0.53,0.725,0.44,0.57,0.735,0.49,0.625,0.725,0.49,0.53,0.34,0.53,0.61,0.645,0.635,0.43,0.59,0.82,0.43,0.52,0.48,0.38,0.37,0.52,1.0,0.63,0.63,0.645,0.63,1.0,0.635,0.38,0.58,0.21,0.21,0.66,0.68,0.6,0.53,0.66,0.32,0.6,0.35,0.775,0.6,0.57,0.34,0.695,0.41,0.31,0.33,0.975,0.52,0.37,0.56,0.26,0.87,0.35,0.54,0.18,0.545,0.18,0.37,0.715,0.65,0.545,0.54,0.18,0.32,0.4,0.26,0.27,0.52,0.4,0.59,0.59,0.45,0.4,0.52,0.42,0.52,0.2,0.55,0.36,0.34,0.5,0.83,0.63,0.65,0.67,0.53,0.18,0.705,0.67,0.65,0.53,0.62,0.41,0.43,0.29,0.53,0.53,0.46,0.47,0.36,0.35,0.56,0.77,0.66,0.77,0.66,0.61,0.62,0.59,0.49,0.49,0.53,0.44,0.27,0.46,0.36,0.36,0.58,0.56,0.65,0.695,0.43,0.43,0.49,0.28,0.34,0.42,0.39,0.39,0.57,0.685,0.815,0.49,0.56,0.785,0.67,0.795,0.665,0.53,0.21,0.75,0.41,0.42,0.43,0.38,0.7,0.45,0.58,0.46,0.615,0.42,0.615,0.575,0.34,0.27,0.765,0.24,0.28,0.55,0.41,0.54,0.45,0.27,0.625,0.42,0.26,0.415,0.26,0.26,0.51,0.63,0.54,0.66,0.46,0.38,0.85,0.415,0.37,0.665,0.6,0.37,0.735,0.59,0.59,0.765,0.735,0.26,0.48,0.6,0.69,0.31,0.44,0.39,0.34,0.46,0.43,0.45,0.735,0.4,0.52,0.725,0.48,0.58,0.38,0.77,0.56,0.84,0.96,0.24,0.96,0.84,0.67,0.78,0.52,0.84,0.24,0.55,0.37,0.39,0.41,0.39,0.67,0.45,0.41,0.62,0.31,0.4,0.685,0.44,0.57,0.735,0.38,0.48,0.53,0.39,0.39,0.37,0.56,0.33,0.23,0.62,0.59,0.63,0.33,0.58,0.43,0.615,0.26,0.66,0.315,0.29,0.5,0.46,0.36,0.82,0.32,0.54,0.37,0.35,0.28,0.68,0.27,0.24,0.68,0.685,0.28,0.3,0.36,0.36,0.44,0.67,0.67,0.645,0.32,0.39,0.775,0.41,0.4,0.69,0.39,0.35,0.52,0.34,0.35,0.69,0.52,0.44,0.44,0.26,0.24,0.49,0.24,0.67,0.59,0.29,0.42,0.59,0.4,0.51,0.51,0.655,0.6,0.61,0.21,0.365,0.25,0.41,0.39,0.4,0.43,0.64,0.365,0.38,0.42,0.63,0.22,0.38,0.38,0.27,0.48,0.22,0.63,0.825,0.35,0.5,0.59,0.46,0.715,0.66,0.31,0.47,0.55,0.31,0.35,0.53,0.51,0.43,0.46,1.04,0.645,0.645,0.53,0.645,0.53,0.47,0.6,0.44,0.54,0.29,0.47,0.6,0.7,0.7,0.5,0.36,0.35,0.36,0.24,0.59,0.34,0.27,0.5,0.44,0.47,0.31,0.5,0.5,0.49,0.28,0.33,0.51,0.31,0.73,0.42,0.29,0.45,0.39,0.45,0.49,0.72,0.595,0.4,0.58,0.585,0.59,0.915,0.46,0.835,0.46,0.58,0.6,0.41,0.48,0.65,0.36,0.24,0.38,0.64,0.39,0.755,0.6,0.6,0.31,0.46,0.37,0.54,0.56,0.58,0.51,0.69,0.69,0.6,0.6,0.54,0.685,0.54,0.28,0.41,0.935,0.35,0.84,0.88,0.885,0.915,0.29,0.54,0.59,0.54,0.59,0.54,0.64,0.67,0.845,0.48,0.42,0.43,0.88,0.36,0.33,0.47,0.55,0.43,0.5,0.52,0.84,0.52,0.42,0.57,0.28,0.4,0.59,0.49,0.34,0.73,0.34,0.4,0.73,1.24,0.73,0.4,0.41,0.4,0.8,0.78,0.26,0.43,0.45,0.46,0.78,0.98,0.78,0.65,0.64,0.66,0.38,1.185,0.92,0.49,0.48,0.47,0.47,0.65,0.65,0.615,0.38,1.02,0.65,0.64,0.38,0.765,1.035,0.78,0.49,0.545,0.31,1.025,0.565,0.69,0.43,0.74,0.49,0.43,0.46,0.56,0.66,0.56,0.48,0.42,0.31,1.115,0.66,0.72,0.57,0.57,0.865,0.55,0.875,0.835,0.45,0.56,0.965,0.965,0.59,0.46,0.69,0.76,0.53,0.615,0.41,0.39,0.51,0.34,0.33,0.5,0.51,0.65,0.65,0.54,0.65,0.48,0.91,0.98,0.87,0.87,0.42,0.58,0.655,0.7,0.655,0.68,0.67,0.59,0.6,0.59,0.72,0.59,0.685,0.57,0.4,0.4,1.0,0.765,0.635,0.43,0.52,0.57,0.46,0.82,0.46,0.59,0.35,0.35,0.56,0.56,0.63,0.37,0.64,0.61,0.6,0.27,0.89,0.46,0.37,0.5,0.5,0.61,0.55,0.585,0.56,0.52,0.28,0.25,0.28,0.53,0.48,0.49,0.5,0.45,0.39,0.41,0.45,0.51,0.29,0.715,0.66,0.685,0.42,0.54,0.54,0.48,0.46,0.27,0.46,0.57,0.61,0.685,0.61,0.44,0.47,0.685,0.665,0.28,0.28,0.31,0.5,0.42,0.66,0.5,0.685,0.25,0.64,0.64,0.68,0.64,0.63,0.43,0.43,0.42,0.36,0.36,0.735,0.36,0.26,0.28,0.56,0.62,1.01,0.42,0.62,0.62,0.635,0.49,0.51,0.56,0.63,0.715,0.56,0.35,0.21,0.38,0.31,0.47,0.715,0.61,0.6,0.56,0.715,0.31,0.6,0.61,0.75,0.8,0.52,0.57,0.9,0.34,0.66,0.45,0.66,0.63,0.59,0.31,0.59,0.31,1.02,0.31,0.635,0.635,0.59,0.59,0.58,0.54,0.56,0.52,0.305,0.38,0.28,0.46,0.395,0.305,0.315,0.715,0.41,0.36,0.62,0.41,0.36,0.62,0.41,0.47,0.22,0.24,0.67,0.47,0.33,0.61,0.61,0.4,0.61,0.61,0.3,0.3,0.63,0.38,0.46,0.33,0.27,0.43,0.5,0.3,0.44,0.44,0.28,0.12,0.12,0.12,0.28,0.31,0.34,0.43,0.21,0.36,0.37,0.57,0.59,0.47,0.56,0.57,0.27,0.47,0.34,0.38,0.66,0.4,0.56,0.26,0.26,0.38,0.34,0.33,0.41,0.41,0.59,0.4,0.45,0.5,0.86,0.52,0.5,0.45,0.58,0.34,0.36,0.39,0.295,0.39,0.34,0.4,0.34,0.35,0.6,0.66,0.66,0.84,0.69,0.43,0.35,0.29,0.36,0.43,0.36,0.29,0.3,0.35,0.5,0.28,0.32,1.005,0.71,0.58,0.39,0.38,0.18,0.18,0.5,0.36,0.36,0.51,0.32,0.58,0.83,0.31,0.795,0.34,0.58,0.59,0.55,0.82,0.57,0.745,0.37,0.31,0.91,0.41,0.5,0.965,0.49,0.5,0.39,0.39,0.44,0.78,0.43,0.49,0.5,0.43,0.46,0.605,0.33,0.64,0.64,0.48,0.42,0.53,0.48,0.23,0.4,0.38,0.29,0.74,0.61,0.52,0.31,0.31,0.62,0.33,0.77,0.35,0.62,0.77,0.25,0.32,0.37,0.37,0.3,0.27,0.3,0.38,0.42,0.38,0.48,0.34,0.19,0.41,0.41,0.26,0.34,0.54,0.31,0.725,0.4,0.725,0.52,0.31,0.52,0.34,0.49,0.48,0.49,0.48,0.57,0.23,0.3,0.78,0.47,0.53,0.42,0.33,0.24,0.4,0.69,0.69,0.69,0.39,0.66,0.54,0.5,0.47,0.4,0.58,0.24,0.29,0.76,0.43,0.43,0.6,0.19,0.36,0.48,0.28,0.25,0.52,0.52,0.41,0.51,0.4,0.38,0.45,0.22,0.32,0.2,0.5,0.41,0.39,0.35,0.33,0.58,0.6,0.42,0.58,0.6,0.18,0.51,0.41,0.41,0.36,0.45,0.32,0.785,0.785,0.44,0.54,0.33,0.34,0.5,0.36,0.59,0.42,0.36,0.36,0.61,0.88,0.66,0.915,0.35,0.35,0.39,0.4,0.66,0.64,0.43,0.8,0.43,0.64,0.955,0.4,0.885,0.25,0.885,0.745,0.43,0.58,0.57,0.26,0.58,0.57,0.34,0.42,0.74,0.36,0.36,0.36,0.72,0.36,0.39,0.65,0.44,0.65,0.38,0.33,0.27,0.57,0.34,0.4,0.39,0.32,0.32,0.53,0.36,0.39,0.46,0.58,0.58,0.42,0.43,0.18,0.815,0.43,0.23,0.75,0.33,0.55,0.75,0.73,0.67,0.61,0.37,0.4,0.56,0.29,0.55,0.74,0.55,0.41,0.6,0.6,0.58,0.72,0.66,0.7,0.64,0.59,0.58,0.64,0.64,0.635,1.02,0.45,0.78,0.37,0.57,0.57,0.43,0.41,0.49,0.38,0.44,0.46,0.58,0.58,0.715,0.4,0.69,0.715,0.3,0.46,0.46,0.765,0.63,0.42,0.37,0.16,0.6,0.6,0.6,0.74,0.635,0.395,0.755,0.635,0.63,0.63,0.53,0.6,1.58,0.645,0.86,0.37,0.28,0.79,0.61,0.69,0.68,0.69,0.62,0.61,0.51,1.18,0.36,0.36,0.63,0.74,0.44,0.63,0.76,0.66,0.74,0.34,0.36,0.46,0.46,0.46,0.46,0.52,0.6,0.6,0.87,0.39,0.775,0.835,0.58,0.5,0.5,0.5,0.51,0.51,0.51,0.54,0.51,0.42,0.44,0.59,0.655,0.655,0.57,0.6,0.62,0.645,0.645,0.58,0.32,0.34,0.43,0.64,0.475,0.54,0.85,0.475,0.83,0.605,0.5,0.74,0.54,0.77,0.61,0.78,0.58,0.78,0.75,0.815,0.56,0.885,0.49,0.45,0.57,0.57,0.83,0.6,0.6,0.755,0.81,0.64,0.64,0.64,0.48,0.49,0.64,0.62,0.52,0.57,0.685,0.675,0.59,0.6,0.67,0.69,0.69,0.3,0.33,0.5,0.28,0.24,0.51,0.29,0.51,0.96,0.47,0.24,0.57,0.32,0.58,0.32,0.34,0.53,0.64,0.53,0.4,0.54,0.53,0.26,0.26,0.23,0.41,0.64,0.18,0.41,0.43,0.44,0.4,0.54,0.54,0.38,0.915,0.59,0.67,0.37,0.785,0.63,0.58,0.67,0.785,0.63,0.67,0.58,0.38,0.37,0.32,0.58,0.49,0.45,0.9,0.54,0.49,0.29,0.2,0.42,0.785,0.64,0.63,0.59,0.59,0.48,1.04,0.48,0.98,0.69,0.7,0.35,0.6,0.5,0.47,0.5,0.47,0.875,0.28,0.62,0.28,0.58,0.33,0.91,0.655,0.68,0.64,0.54,0.57,0.22,0.54,0.65,0.54,0.31,0.43,0.54,0.74,0.895,0.74,0.725,0.82,0.585,0.44,0.38,0.76,0.81,0.38,0.27,0.18,0.36,0.69,0.79,0.56,0.84,0.84,0.32,0.53,0.47,0.7,0.53,0.48,0.32,0.48,0.42,0.48,0.47,0.53,0.29,0.69,0.44,0.705,0.53,0.39,0.56,0.55,0.53,0.58,0.64,0.39,0.52,0.25,0.855,0.44,0.37,0.63,0.57,0.6,0.4,0.36,0.68,0.67,0.68,0.735,0.855,0.56,0.88,0.855,0.63,0.6,0.6,0.6,0.695,0.695,0.695,0.67,0.16,0.695,0.56,0.51,0.36,0.38,0.69,0.58,0.31,0.52,0.3,0.7,0.67,0.56,0.35,0.56,0.715,0.46,0.32,0.39,0.31,0.61,0.66,0.725,0.55,0.74,0.51,0.62,0.6,0.55,0.51,0.645,0.31]},{\"label\":\"free sulfur dioxide\",\"values\":[11.0,25.0,15.0,17.0,11.0,13.0,15.0,15.0,9.0,17.0,15.0,17.0,16.0,9.0,52.0,51.0,35.0,16.0,6.0,17.0,29.0,23.0,10.0,9.0,21.0,11.0,4.0,10.0,14.0,8.0,17.0,22.0,15.0,40.0,13.0,5.0,3.0,13.0,7.0,12.0,12.0,17.0,8.0,9.0,5.0,8.0,22.0,12.0,5.0,12.0,4.0,8.0,6.0,30.0,33.0,25.0,4.0,50.0,17.0,9.0,19.0,20.0,12.0,13.0,4.0,4.0,11.0,6.0,27.0,8.0,15.0,17.0,18.0,11.0,28.0,9.0,9.0,14.0,12.0,27.0,3.0,22.0,21.0,16.0,18.0,19.0,20.0,9.0,34.0,8.0,42.0,20.0,19.0,9.0,41.0,17.0,8.0,3.0,5.0,13.0,11.0,8.0,13.0,12.0,5.0,12.0,18.0,15.0,18.0,37.0,12.0,11.0,14.0,22.0,12.0,13.0,11.0,7.0,14.0,22.0,10.0,14.0,3.0,11.0,21.0,27.0,3.0,3.0,3.0,6.0,30.0,17.0,17.0,17.0,13.0,16.0,10.0,13.0,15.0,17.0,16.0,10.0,27.0,3.0,27.0,32.0,21.0,10.0,12.0,11.0,5.0,32.0,25.0,25.0,29.0,28.0,29.0,28.0,12.0,18.0,7.0,9.0,17.0,36.0,35.0,14.0,18.0,17.0,11.0,15.0,4.0,6.0,6.0,24.0,7.0,19.0,7.0,8.0,7.0,10.0,10.0,23.0,16.0,11.0,8.0,26.0,14.0,9.0,15.0,17.0,21.0,21.0,16.0,7.0,7.0,24.0,15.0,12.0,13.0,12.0,9.0,39.0,16.0,16.0,14.0,9.0,9.0,26.0,18.0,7.0,5.0,10.0,5.0,28.0,10.0,26.0,13.0,11.0,10.0,24.0,24.0,16.0,5.0,8.0,15.0,29.0,27.0,9.0,29.0,10.0,19.0,12.0,18.0,10.0,7.0,14.0,14.0,15.0,14.0,7.0,5.0,6.0,28.0,10.0,10.0,6.0,16.0,11.0,9.0,6.0,16.0,16.0,5.0,8.0,16.0,17.0,5.0,12.0,8.0,14.0,18.0,12.0,10.0,23.0,5.0,6.0,26.0,15.0,7.0,4.0,27.0,4.0,17.0,10.0,27.0,27.0,7.0,4.0,5.0,10.0,6.0,5.0,12.0,10.0,32.0,32.0,25.0,29.0,20.0,33.0,20.0,6.0,18.0,5.0,17.0,5.0,26.0,8.0,5.0,8.0,20.0,7.0,12.0,5.0,12.0,6.0,7.0,6.0,5.0,9.0,6.0,15.0,19.0,30.0,26.0,20.0,37.0,30.0,21.0,30.0,21.0,25.0,6.0,35.0,13.0,13.0,6.0,5.0,6.0,7.0,10.0,10.0,21.0,16.0,17.0,7.0,6.0,29.0,28.0,12.0,10.0,5.0,6.0,6.0,6.0,40.0,17.0,6.0,15.0,11.0,17.0,11.0,8.0,23.0,40.5,17.0,29.0,12.0,10.0,10.0,14.0,21.0,6.0,6.0,7.0,7.0,7.0,11.0,15.0,6.0,35.0,11.0,26.0,12.0,6.0,6.0,19.0,6.0,6.0,24.0,11.0,17.0,11.0,11.0,23.0,11.0,23.0,17.0,23.0,16.0,12.0,17.0,6.0,13.0,6.0,7.0,68.0,13.0,13.0,9.0,68.0,20.0,19.0,10.0,15.0,11.0,9.0,12.0,6.0,26.0,26.0,23.0,15.0,6.0,24.0,31.0,6.0,34.0,7.0,34.0,35.0,32.0,15.0,6.0,15.0,32.0,19.0,6.0,9.0,13.0,6.0,21.0,12.0,6.0,22.0,6.0,38.0,6.0,22.0,7.0,6.0,7.0,6.0,11.0,5.0,6.0,31.0,6.0,7.0,17.0,17.0,9.0,18.0,5.0,21.0,6.0,5.0,29.0,5.0,10.0,14.0,6.0,10.0,25.0,5.0,10.0,21.0,7.0,6.0,36.0,15.0,25.0,25.0,5.0,10.0,5.0,6.0,6.0,5.0,6.0,6.0,6.0,6.0,7.0,6.0,6.0,6.0,5.0,35.0,10.0,24.0,12.0,13.0,23.0,28.0,5.0,14.0,43.0,5.0,23.0,14.0,38.0,38.0,6.0,6.0,10.0,6.0,6.0,26.0,23.0,19.0,26.0,15.0,6.0,6.0,34.0,5.0,5.0,11.0,39.0,15.0,16.0,47.0,38.0,23.0,29.0,39.0,33.0,32.0,6.0,1.0,12.0,12.0,15.0,13.0,1.0,6.0,5.0,5.0,5.0,20.0,5.0,5.0,16.0,6.0,38.0,10.0,6.0,27.0,6.0,9.0,14.0,14.0,32.0,10.0,10.0,10.0,10.0,10.0,6.0,5.0,26.0,41.0,25.0,6.0,5.0,5.0,5.0,5.0,19.0,10.0,19.0,10.0,14.0,20.0,28.0,6.0,18.0,17.0,18.0,5.0,5.0,5.0,10.0,54.0,8.0,16.0,18.0,19.0,5.0,21.0,23.0,21.0,9.0,20.0,30.0,6.0,5.0,5.0,11.0,7.0,12.0,6.0,12.0,14.0,6.0,10.0,26.0,11.0,15.0,25.0,5.0,18.0,10.0,10.0,28.0,28.0,14.0,4.0,6.0,16.0,14.0,9.0,21.0,21.0,21.0,5.0,5.0,7.0,20.0,7.0,5.0,21.0,11.0,46.0,24.0,30.0,31.0,7.0,25.0,16.0,21.0,16.0,21.0,16.0,5.0,6.0,5.0,10.0,24.0,8.0,35.0,22.0,9.0,7.0,20.0,8.0,23.0,5.0,5.0,5.0,15.0,9.0,5.0,15.0,25.0,6.0,6.0,15.0,6.0,30.0,5.0,32.0,5.0,7.0,12.0,7.0,12.0,45.0,20.0,15.0,16.0,32.0,5.0,35.0,5.0,13.0,13.0,4.0,5.0,5.0,12.0,16.0,21.0,24.0,18.0,8.0,8.0,18.0,5.0,26.0,8.0,9.0,22.0,4.0,11.0,10.0,16.0,11.0,13.0,21.0,16.0,13.0,10.0,21.0,13.0,10.0,12.0,10.0,17.0,10.0,35.0,15.0,36.0,5.0,5.0,18.0,4.0,4.0,27.0,12.0,4.0,10.0,16.0,9.0,11.0,11.0,19.0,28.0,19.0,12.0,28.0,9.0,25.0,21.0,12.0,12.0,16.0,12.0,12.0,17.0,17.0,24.0,17.0,14.0,22.0,15.0,10.0,10.0,33.0,9.0,5.0,8.0,5.0,11.0,12.0,12.0,13.0,24.0,7.0,24.0,23.0,23.0,1.0,2.0,7.0,5.5,6.0,7.0,21.0,12.0,9.0,26.0,9.0,20.0,11.0,11.0,19.0,19.0,21.0,18.0,25.0,17.0,7.0,7.0,7.0,24.0,21.0,5.0,5.0,26.0,8.0,14.0,14.0,4.0,4.0,4.0,4.0,4.0,4.0,4.0,7.0,20.0,4.0,19.0,20.0,8.0,19.0,21.0,9.0,9.0,16.0,15.0,15.0,6.0,15.0,4.0,15.0,34.0,16.0,5.0,16.0,34.0,36.0,16.0,27.0,36.0,36.0,9.0,13.0,9.0,21.0,34.0,9.0,26.0,14.0,14.0,12.0,14.0,12.0,9.0,9.0,26.0,41.0,41.0,10.0,41.0,16.0,17.0,15.0,15.0,15.0,7.0,17.0,15.0,16.0,13.0,13.0,15.0,27.0,31.0,36.0,28.0,6.0,6.0,7.0,7.0,31.0,30.0,18.0,10.0,30.0,14.0,18.0,30.0,9.0,8.0,29.0,32.0,23.0,30.0,16.0,10.0,16.0,17.0,27.0,17.0,27.0,17.0,6.0,10.0,16.0,16.0,11.0,11.0,15.0,12.0,6.0,34.0,7.0,3.0,3.0,4.0,3.0,7.0,3.0,7.0,26.0,32.0,38.0,10.0,32.0,38.0,26.0,14.0,53.0,52.0,11.0,14.0,10.0,8.0,13.0,29.0,13.0,8.0,19.0,19.0,6.0,23.0,7.0,13.0,9.0,13.0,10.0,11.0,7.0,11.0,6.0,10.0,10.0,10.0,6.0,6.0,5.0,6.0,9.0,5.0,12.0,25.0,12.0,18.0,7.0,6.0,20.0,18.0,24.0,6.0,23.0,29.0,7.0,6.0,6.0,6.0,6.0,7.0,35.0,35.0,31.0,9.0,3.0,8.0,13.0,51.0,8.0,3.0,7.0,3.0,35.0,19.0,14.0,19.0,31.0,30.0,31.0,20.0,19.0,3.0,3.0,4.0,7.0,6.0,31.0,13.0,4.0,27.0,4.0,13.0,12.0,12.0,26.0,7.0,12.0,11.0,22.0,3.0,14.0,12.0,36.0,36.0,10.0,3.0,3.0,4.0,3.0,12.0,17.0,14.0,28.0,41.0,12.0,9.0,9.0,5.0,14.0,15.0,5.0,26.0,20.0,25.0,21.0,16.0,13.0,21.0,18.0,12.0,32.0,33.0,27.0,3.0,6.0,27.0,16.0,19.0,9.0,5.0,5.0,3.0,28.0,30.0,3.0,3.0,7.0,6.0,6.0,5.0,6.0,13.0,3.0,3.0,28.0,19.0,30.0,33.0,16.0,30.0,45.0,3.0,3.0,3.0,37.5,3.0,37.5,31.0,32.0,31.0,40.0,3.0,18.0,22.0,22.0,42.0,8.0,10.0,11.0,9.0,6.0,9.0,5.0,5.0,5.0,23.0,14.0,18.0,14.0,16.0,13.0,9.0,10.0,4.0,27.0,6.0,23.0,6.0,3.0,29.0,15.0,15.0,15.0,14.0,7.0,8.0,21.0,27.0,17.0,3.0,13.0,3.0,26.0,28.0,24.0,5.0,57.0,18.0,10.0,6.0,22.0,6.0,6.0,29.0,16.0,33.0,24.0,6.0,16.0,35.0,31.0,6.0,6.0,9.0,6.0,4.0,16.0,9.0,17.0,50.0,9.0,45.0,16.0,22.0,11.0,6.0,12.0,12.0,10.0,10.0,15.0,7.0,29.0,8.0,5.0,5.0,26.0,5.0,26.0,26.0,48.0,23.0,6.0,17.0,11.0,11.0,5.0,41.0,16.0,11.0,6.0,6.0,6.0,11.0,5.0,6.0,6.0,11.0,6.0,15.0,21.0,23.0,4.0,19.0,23.0,4.0,5.0,6.0,33.0,24.0,24.0,24.0,24.0,24.0,14.0,8.0,22.0,8.0,5.0,6.0,20.0,10.0,43.0,8.0,25.0,17.0,17.0,33.0,9.0,8.0,18.0,27.0,8.0,18.0,19.0,15.0,48.0,19.0,14.0,11.0,6.0,7.0,11.0,12.0,11.0,36.0,28.0,15.0,10.0,72.0,15.0,15.0,15.0,22.0,24.0,24.0,27.0,6.0,6.0,20.0,26.0,43.0,12.0,15.0,15.0,19.0,17.0,34.0,13.0,26.0,16.0,16.0,13.0,21.0,28.0,26.0,24.0,25.0,34.0,17.0,13.0,3.0,3.0,13.0,3.0,28.0,28.0,9.0,17.0,18.0,20.0,17.0,3.0,20.0,20.0,6.0,25.0,14.0,6.0,25.0,51.0,51.0,15.0,11.0,5.0,15.0,20.0,4.0,28.0,21.0,24.0,22.0,15.0,22.0,27.0,24.0,12.0,14.0,20.0,24.0,17.0,16.0,10.0,17.0,18.0,12.0,16.0,9.0,21.0,18.0,18.0,18.0,18.0,13.0,17.0,17.0,31.0,6.0,12.0,4.0,19.0,15.0,15.0,15.0,13.0,13.0,13.0,17.0,13.0,8.0,10.0,5.0,7.0,7.0,21.0,32.0,8.0,14.0,14.0,7.0,5.0,4.0,27.0,52.0,6.0,11.0,13.0,6.0,11.0,10.0,10.0,10.0,9.0,16.0,4.0,12.0,5.0,12.0,34.0,16.0,13.0,7.0,23.0,10.0,11.0,11.0,4.0,25.0,25.0,20.0,34.0,8.0,8.0,7.0,36.0,15.0,5.0,5.0,19.0,27.0,3.0,4.0,17.0,13.0,10.0,33.0,33.0,6.0,3.0,12.0,18.0,8.0,40.0,35.0,40.0,5.0,8.0,8.0,12.0,3.0,8.0,3.0,21.0,3.0,32.0,3.0,24.0,39.0,14.0,8.0,8.0,23.0,6.0,27.0,38.0,18.0,13.0,3.0,11.0,55.0,55.0,27.0,15.0,3.0,31.0,15.0,19.0,18.0,8.0,31.0,19.0,18.0,22.0,40.0,15.0,15.0,8.0,37.0,27.0,7.0,9.0,38.0,27.0,8.0,7.0,34.0,6.0,14.0,14.0,34.0,34.0,31.0,19.0,31.0,20.0,8.0,8.0,23.0,14.0,48.0,16.0,48.0,16.0,3.0,10.0,6.0,10.0,3.0,6.0,4.0,8.0,9.0,9.0,5.0,4.0,8.0,5.0,6.0,23.0,15.0,15.0,23.0,7.0,7.0,7.0,8.0,21.0,15.0,6.0,5.0,6.0,6.0,5.0,17.0,7.0,26.0,19.0,11.0,17.0,16.0,16.0,23.0,29.0,7.0,14.0,29.0,9.0,23.0,29.0,22.0,18.0,18.0,15.0,21.0,42.0,9.0,13.0,18.0,32.0,13.0,15.0,24.0,20.0,15.0,34.0,11.0,19.0,29.0,14.0,12.0,16.0,17.0,12.0,19.0,17.0,17.0,18.0,32.0,18.0,15.0,15.0,12.0,15.0,66.0,31.0,31.0,31.0,12.0,12.0,12.0,26.0,24.0,12.0,25.0,15.0,19.0,15.0,35.0,15.0,23.0,12.0,16.0,13.0,13.0,24.0,9.0,24.0,13.0,32.0,24.0,22.0,34.0,18.0,34.0,29.0,26.0,16.0,29.0,28.0,32.0,39.0,29.0,32.0,18.0]},{\"label\":\"total sulfur dioxide\",\"values\":[34.0,67.0,54.0,60.0,34.0,40.0,59.0,21.0,18.0,102.0,65.0,102.0,59.0,29.0,145.0,148.0,103.0,56.0,29.0,56.0,60.0,71.0,37.0,67.0,40.0,23.0,11.0,37.0,35.0,16.0,82.0,37.0,113.0,83.0,50.0,18.0,15.0,30.0,19.0,87.0,87.0,46.0,14.0,23.0,11.0,65.0,114.0,37.0,12.0,96.0,23.0,15.0,14.0,119.0,73.0,45.0,10.0,110.0,54.0,46.0,52.0,112.0,35.0,54.0,11.0,11.0,39.0,15.0,65.0,19.0,27.0,96.0,94.0,43.0,83.0,42.0,42.0,30.0,80.0,119.0,15.0,67.0,73.0,51.0,61.0,40.0,136.0,31.0,125.0,24.0,140.0,136.0,133.0,31.0,85.0,106.0,23.0,22.0,10.0,35.0,50.0,22.0,35.0,65.0,36.0,65.0,69.0,64.0,80.0,153.0,47.0,108.0,111.0,46.0,47.0,62.0,40.0,28.0,56.0,89.0,89.0,56.0,13.0,34.0,102.0,90.0,12.0,12.0,16.0,19.0,134.0,99.0,99.0,26.0,29.0,63.0,52.0,45.0,105.0,108.0,63.0,52.0,63.0,20.0,63.0,141.0,94.0,88.0,30.0,43.0,11.0,69.0,99.0,99.0,129.0,128.0,129.0,128.0,22.0,86.0,20.0,20.0,31.0,121.0,121.0,96.0,101.0,42.0,44.0,63.0,8.0,18.0,18.0,42.0,35.0,49.0,35.0,38.0,20.0,42.0,42.0,110.0,42.0,65.0,62.0,85.0,67.0,26.0,143.0,144.0,127.0,49.0,126.0,28.0,28.0,120.0,55.0,27.0,93.0,31.0,24.0,145.0,49.0,39.0,37.0,28.0,28.0,120.0,95.0,19.0,19.0,62.0,15.0,65.0,41.0,121.0,49.0,41.0,44.0,144.0,58.0,72.0,10.0,28.0,55.0,63.0,81.0,23.0,63.0,37.0,106.0,49.0,58.0,37.0,37.0,38.0,38.0,39.0,38.0,37.0,62.0,24.0,109.0,24.0,24.0,23.0,51.0,73.0,39.0,23.0,37.0,34.0,21.0,86.0,34.0,119.0,13.0,56.0,45.0,33.0,45.0,67.0,35.0,49.0,27.0,10.0,61.0,37.0,27.0,23.0,61.0,23.0,65.0,38.0,94.0,61.0,27.0,23.0,13.0,47.0,19.0,10.0,53.0,47.0,71.0,71.0,49.0,53.0,49.0,98.0,49.0,18.0,48.0,16.0,53.0,27.0,70.0,29.0,31.0,33.0,44.0,15.0,28.0,21.0,90.0,25.0,54.0,14.0,12.0,30.0,25.0,105.0,98.0,135.0,72.0,53.0,92.0,74.0,59.0,74.0,59.0,87.0,18.0,73.0,50.0,50.0,14.0,13.0,21.0,15.0,41.0,41.0,114.0,44.0,38.0,21.0,16.0,58.0,99.0,29.0,21.0,18.0,14.0,14.0,32.0,63.0,34.0,15.0,46.0,28.0,34.0,26.0,19.0,77.0,165.0,32.0,55.0,29.0,23.0,41.0,81.0,50.0,37.0,15.0,42.0,21.0,42.0,24.0,75.0,18.0,63.0,25.0,46.0,72.0,47.0,15.0,47.0,18.0,24.0,60.0,27.0,43.0,27.0,27.0,54.0,37.0,48.0,42.0,53.0,49.0,88.0,43.0,26.0,95.0,25.0,38.0,124.0,49.0,49.0,42.0,124.0,38.0,64.0,41.0,27.0,25.0,28.0,30.0,16.0,49.0,86.0,78.0,77.0,19.0,122.0,134.0,20.0,124.0,20.0,52.0,67.0,48.0,60.0,24.0,60.0,48.0,48.0,32.0,30.0,35.0,24.0,66.0,24.0,18.0,54.0,18.0,62.0,22.0,54.0,50.0,29.0,27.0,43.0,19.0,27.0,31.0,72.0,16.0,27.0,35.0,35.0,26.0,35.0,22.0,67.0,19.0,22.0,65.0,22.0,47.0,23.0,19.0,25.0,129.0,15.0,26.0,51.0,18.0,21.0,48.0,47.0,52.0,68.0,14.0,24.0,28.0,16.0,20.0,28.0,31.0,23.0,17.0,18.0,18.0,24.0,17.0,17.0,14.0,67.0,26.0,56.0,25.0,27.0,81.0,91.0,16.0,38.0,113.0,16.0,81.0,38.0,76.0,76.0,24.0,22.0,26.0,21.0,13.0,62.0,43.0,43.0,62.0,49.0,15.0,15.0,151.0,14.0,16.0,32.0,106.0,33.0,43.0,133.0,142.0,116.0,53.0,106.0,85.0,55.0,33.0,28.0,42.0,42.0,33.0,32.0,28.0,33.0,13.0,35.0,17.0,47.0,17.0,20.0,53.0,15.0,106.0,28.0,21.0,69.0,25.0,25.0,45.0,44.0,96.0,23.0,23.0,17.0,23.0,17.0,47.0,19.0,121.0,110.0,60.0,47.0,19.0,15.0,15.0,20.0,42.0,37.0,42.0,28.0,47.0,78.0,46.0,14.0,111.0,110.0,40.0,14.0,14.0,15.0,21.0,80.0,38.0,47.0,102.0,50.0,13.0,75.0,149.0,75.0,43.0,38.0,109.0,24.0,18.0,30.0,22.0,23.0,35.0,14.0,35.0,63.0,24.0,20.0,52.0,65.0,39.0,57.0,16.0,29.0,29.0,103.0,71.0,71.0,28.0,17.0,16.0,112.0,104.0,32.0,45.0,58.0,58.0,15.0,15.0,31.0,84.0,31.0,19.0,43.0,86.0,102.0,33.0,147.0,145.0,23.0,57.0,40.0,68.0,40.0,68.0,40.0,11.0,20.0,14.0,28.0,148.0,32.0,155.0,71.0,30.0,29.0,53.0,32.0,42.0,20.0,13.0,20.0,42.0,27.0,13.0,54.0,48.0,16.0,15.0,31.0,15.0,45.0,13.0,151.0,13.0,17.0,31.0,17.0,31.0,87.0,49.0,40.0,29.0,58.0,15.0,152.0,15.0,40.0,38.0,9.0,17.0,14.0,93.0,62.0,122.0,125.0,44.0,25.0,25.0,72.0,19.0,88.0,25.0,23.0,84.0,14.0,54.0,19.0,37.0,35.0,33.0,84.0,112.0,33.0,48.0,77.0,34.0,48.0,49.0,22.0,45.0,22.0,106.0,48.0,127.0,12.0,13.0,49.0,11.0,11.0,58.0,37.0,14.0,19.0,72.0,39.0,22.0,22.0,58.0,104.0,38.0,16.0,139.0,18.0,101.0,101.0,28.0,57.0,68.0,31.0,28.0,40.0,40.0,66.0,40.0,32.0,47.0,33.0,31.0,31.0,88.0,104.0,35.0,19.0,35.0,44.0,48.0,74.0,98.0,94.0,32.0,94.0,143.0,144.0,44.0,45.0,16.0,48.0,18.0,34.0,92.0,45.0,37.0,96.0,37.0,85.0,61.0,61.0,58.0,58.0,119.0,82.0,130.0,87.0,13.0,26.0,60.0,64.0,42.0,14.0,14.0,108.0,17.0,86.0,46.0,18.0,10.0,10.0,10.0,12.0,15.0,14.0,24.0,38.0,7.0,41.0,38.0,30.0,27.0,47.0,59.0,22.0,42.0,36.0,36.0,16.0,37.0,8.0,37.0,45.0,24.0,9.0,24.0,48.0,51.0,23.0,55.0,100.0,100.0,28.0,26.0,34.0,31.0,68.0,92.0,42.0,31.0,31.0,39.0,31.0,32.0,22.0,22.0,122.0,55.0,55.0,14.0,55.0,47.0,32.0,24.0,85.0,88.0,25.0,84.0,85.0,86.0,24.0,22.0,24.0,43.0,43.0,46.0,48.0,10.0,10.0,16.0,14.0,43.0,69.0,88.0,21.0,35.0,26.0,88.0,69.0,30.0,28.0,56.0,64.0,99.0,52.0,86.0,18.0,86.0,88.0,43.0,43.0,43.0,43.0,11.0,39.0,33.0,33.0,18.0,18.0,115.0,78.0,9.0,61.0,11.0,11.0,9.0,8.0,10.0,11.0,6.0,62.0,45.0,79.0,46.0,23.0,79.0,46.0,45.0,28.0,77.0,73.0,75.0,28.0,19.0,25.0,38.0,66.0,38.0,25.0,72.0,72.0,26.0,42.0,11.0,25.0,17.0,52.0,45.0,24.0,20.0,24.0,12.0,21.0,21.0,21.0,12.0,10.0,9.0,11.0,23.0,10.0,51.0,36.0,32.0,38.0,18.0,16.0,27.0,38.0,48.0,10.0,113.0,46.0,22.0,10.0,10.0,13.0,12.0,13.0,72.0,72.0,119.0,29.0,6.0,17.0,28.0,70.0,17.0,6.0,11.0,7.0,70.0,27.0,21.0,27.0,68.0,47.0,68.0,88.0,41.0,11.0,11.0,10.0,12.0,12.0,47.0,27.0,8.0,45.0,8.0,27.0,25.0,24.0,55.0,12.0,19.0,32.0,31.0,7.0,27.0,28.0,109.0,109.0,23.0,8.0,8.0,9.0,9.0,18.0,43.0,36.0,52.0,68.0,18.0,14.0,15.0,14.0,27.0,48.0,17.0,35.0,56.0,42.0,39.0,32.0,26.0,39.0,39.0,53.0,38.0,45.0,51.0,14.0,17.0,51.0,45.0,25.0,20.0,77.0,77.0,10.0,90.0,52.0,10.0,8.0,16.0,15.0,17.0,10.0,20.0,26.0,10.0,10.0,52.0,37.0,92.0,75.0,37.0,92.0,67.0,8.0,8.0,8.0,278.0,8.0,289.0,70.0,59.0,70.0,64.0,9.0,30.0,41.0,41.0,74.0,19.0,16.0,31.0,17.0,20.0,17.0,18.0,16.0,18.0,36.0,25.0,30.0,25.0,25.0,49.0,17.0,24.0,13.0,66.0,14.0,55.0,35.0,10.0,80.0,21.0,21.0,21.0,24.0,15.0,17.0,28.0,33.0,29.0,13.0,27.0,11.0,52.0,89.0,70.0,10.0,135.0,38.0,18.0,15.0,50.0,13.0,13.0,94.0,86.0,79.0,71.0,12.0,20.0,70.0,51.0,21.0,14.0,21.0,11.0,12.0,70.0,38.0,38.0,63.0,38.0,88.0,101.0,54.0,37.0,20.0,21.0,19.0,21.0,21.0,38.0,60.0,48.0,44.0,14.0,12.0,44.0,16.0,65.0,65.0,59.0,47.0,11.0,78.0,47.0,47.0,11.0,54.0,61.0,119.0,39.0,12.0,39.0,119.0,19.0,20.0,12.0,41.0,12.0,64.0,56.0,94.0,9.0,77.0,94.0,9.0,10.0,12.0,76.0,44.0,44.0,44.0,52.0,44.0,24.0,15.0,53.0,15.0,13.0,9.0,29.0,79.0,74.0,24.0,50.0,44.0,44.0,89.0,23.0,20.0,77.0,46.0,21.0,88.0,66.0,58.0,90.0,66.0,36.0,18.0,113.0,17.0,18.0,24.0,20.0,60.0,65.0,40.0,86.0,160.0,34.0,48.0,34.0,36.0,37.0,37.0,60.0,14.0,13.0,35.0,46.0,60.0,69.0,33.0,33.0,56.0,24.0,66.0,26.0,51.0,36.0,36.0,19.0,51.0,87.0,60.0,64.0,44.0,44.0,36.0,81.0,10.0,10.0,81.0,9.0,54.0,54.0,22.0,69.0,36.0,47.0,31.0,7.0,110.0,110.0,12.0,60.0,28.0,12.0,60.0,77.5,77.5,29.0,18.0,9.0,28.0,57.0,15.0,68.0,68.0,88.0,91.0,29.0,91.0,63.0,88.0,27.0,41.0,65.0,69.0,91.0,46.0,41.0,91.0,64.0,88.0,46.0,18.0,55.0,34.0,34.0,34.0,34.0,38.0,91.0,91.0,67.0,25.0,48.0,11.0,40.0,26.0,26.0,26.0,31.0,31.0,31.0,31.0,31.0,20.0,28.0,13.0,12.0,12.0,41.0,73.0,46.0,57.0,57.0,28.0,32.0,28.0,67.0,98.0,28.0,38.0,54.0,28.0,63.0,31.0,42.0,45.0,105.0,74.0,8.0,66.0,14.0,66.0,89.0,29.0,100.0,31.0,74.0,28.0,35.0,35.0,25.0,105.0,105.0,84.0,85.0,23.0,23.0,49.0,111.0,33.0,33.0,12.0,59.0,73.0,12.0,11.0,104.0,28.0,24.0,141.0,141.0,24.0,13.0,46.0,34.0,22.0,54.0,53.0,54.0,16.0,19.0,22.0,89.0,15.0,18.0,15.0,37.0,19.0,133.0,19.0,58.0,55.0,31.0,23.0,23.0,60.0,23.0,55.0,67.0,47.0,74.0,11.0,25.0,95.0,95.0,90.0,39.0,8.0,92.0,28.0,98.0,30.0,22.0,92.0,98.0,30.0,39.0,54.0,29.0,28.0,17.0,53.0,85.0,23.0,17.0,89.0,85.0,20.0,15.0,64.0,13.0,31.0,39.0,53.0,53.0,54.0,32.0,54.0,49.0,24.0,16.0,44.0,45.0,82.0,89.0,82.0,89.0,14.0,22.0,13.0,22.0,9.0,12.0,11.0,25.0,23.0,17.0,13.0,11.0,18.0,13.0,18.0,147.0,28.0,28.0,147.0,16.0,13.0,16.0,15.0,64.0,60.0,14.0,12.0,12.0,14.0,12.0,25.0,20.0,48.0,27.0,17.0,65.0,65.0,65.0,58.0,44.0,20.0,27.0,44.0,23.0,58.0,61.0,47.0,34.0,38.0,24.0,59.0,52.0,18.0,28.0,22.0,84.0,29.0,35.0,45.0,31.0,26.0,60.0,32.0,49.0,38.0,19.0,19.0,28.0,26.0,26.0,50.0,24.0,26.0,27.0,54.0,28.0,23.0,24.0,20.0,23.0,115.0,131.0,131.0,131.0,20.0,20.0,20.0,42.0,52.0,20.0,42.0,34.0,35.0,25.0,104.0,50.0,92.0,20.0,29.0,27.0,20.0,32.0,26.0,32.0,27.0,98.0,34.0,48.0,60.0,28.0,102.0,79.0,35.0,26.0,40.0,38.0,44.0,51.0,40.0,44.0,42.0]},{\"label\":\"chlorides\",\"values\":[0.076,0.098,0.092,0.075,0.076,0.075,0.069,0.065,0.073,0.071,0.0969999999999999,0.071,0.089,0.114,0.176,0.17,0.092,0.368,0.086,0.341,0.077,0.0819999999999999,0.106,0.084,0.085,0.08,0.08,0.106,0.08,0.0819999999999999,0.089,0.105,0.083,0.073,0.103,0.086,0.086,0.066,0.172,0.074,0.074,0.088,0.332,0.069,0.05,0.054,0.114,0.113,0.066,0.074,0.074,0.069,0.068,0.081,0.11,0.084,0.07,0.111,0.076,0.074,0.079,0.115,0.085,0.081,0.086,0.086,0.079,0.076,0.074,0.074,0.076,0.088,0.084,0.084,0.094,0.093,0.093,0.104,0.086,0.08,0.069,0.4639999999999999,0.086,0.401,0.069,0.076,0.11,0.062,0.107,0.076,0.079,0.11,0.11,0.062,0.045,0.0579999999999999,0.102,0.07,0.079,0.08,0.084,0.075,0.08,0.077,0.07,0.077,0.467,0.088,0.091,0.122,0.104,0.084,0.085,0.08,0.104,0.09,0.077,0.0819999999999999,0.119,0.0969999999999999,0.178,0.119,0.075,0.08,0.0819999999999999,0.146,0.081,0.0819999999999999,0.065,0.072,0.118,0.049,0.049,0.06,0.084,0.09,0.089,0.081,0.081,0.081,0.09,0.089,0.05,0.066,0.05,0.1169999999999999,0.087,0.236,0.074,0.089,0.077,0.61,0.095,0.095,0.07,0.071,0.07,0.071,0.073,0.079,0.09,0.072,0.076,0.07,0.07,0.1,0.085,0.072,0.089,0.36,0.0579999999999999,0.073,0.073,0.068,0.08,0.085,0.08,0.087,0.068,0.067,0.067,0.27,0.076,0.077,0.079,0.111,0.0819999999999999,0.084,0.084,0.0819999999999999,0.077,0.074,0.099,0.071,0.071,0.074,0.074,0.067,0.046,0.061,0.0559999999999999,0.0969999999999999,0.075,0.088,0.089,0.095,0.095,0.069,0.1,0.054,0.039,0.083,0.059,0.06,0.092,0.06,0.1009999999999999,0.072,0.076,0.08,0.0819999999999999,0.1009999999999999,0.057,0.083,0.089,0.073,0.337,0.089,0.073,0.081,0.054,0.078,0.09,0.081,0.065,0.0969999999999999,0.0969999999999999,0.0969999999999999,0.0969999999999999,0.065,0.263,0.093,0.102,0.075,0.075,0.084,0.075,0.072,0.074,0.084,0.063,0.074,0.09,0.092,0.074,0.073,0.075,0.075,0.611,0.085,0.077,0.087,0.07,0.077,0.064,0.071,0.096,0.078,0.077,0.104,0.087,0.104,0.071,0.076,0.088,0.087,0.077,0.104,0.073,0.087,0.071,0.358,0.067,0.087,0.102,0.102,0.073,0.092,0.091,0.105,0.091,0.3429999999999999,0.091,0.098,0.094,0.073,0.086,0.083,0.094,0.08,0.086,0.068,0.092,0.186,0.1119999999999999,0.063,0.0819999999999999,0.213,0.214,0.062,0.063,0.072,0.093,0.076,0.087,0.096,0.102,0.0819999999999999,0.083,0.0819999999999999,0.083,0.09,0.079,0.09,0.071,0.071,0.121,0.107,0.0819999999999999,0.061,0.122,0.122,0.066,0.105,0.078,0.128,0.052,0.08,0.103,0.0819999999999999,0.066,0.065,0.118,0.118,0.0819999999999999,0.067,0.072,0.093,0.089,0.093,0.107,0.096,0.09,0.12,0.066,0.078,0.08,0.1159999999999999,0.109,0.088,0.099,0.086,0.072,0.071,0.083,0.107,0.083,0.076,0.159,0.074,0.063,0.0559999999999999,0.067,0.106,0.089,0.124,0.078,0.074,0.088,0.094,0.08,0.085,0.08,0.08,0.087,0.09,0.088,0.079,0.088,0.096,0.045,0.085,0.0819999999999999,0.1119999999999999,0.063,0.066,0.122,0.087,0.087,0.064,0.122,0.059,0.085,0.085,0.075,0.059,0.063,0.093,0.174,0.07,0.08,0.08,0.1,0.0969999999999999,0.087,0.1169999999999999,0.111,0.091,0.121,0.066,0.089,0.059,0.047,0.066,0.047,0.059,0.045,0.077,0.07,0.088,0.066,0.074,0.078,0.091,0.076,0.091,0.06,0.066,0.076,0.062,0.072,0.068,0.1,0.077,0.054,0.079,0.081,0.127,0.1,0.095,0.095,0.413,0.084,0.084,0.063,0.086,0.095,0.0969999999999999,0.084,0.074,0.083,0.087,0.085,0.098,0.084,0.098,0.069,0.065,0.09,0.07,0.093,0.081,0.083,0.062,0.08,0.087,0.091,0.075,0.087,0.077,0.069,0.08,0.152,0.152,0.114,0.054,0.054,0.053,0.081,0.073,0.078,0.055,0.052,0.086,0.051,0.07,0.081,0.09,0.07,0.086,0.081,0.074,0.074,0.078,0.077,0.072,0.075,0.084,0.09,0.084,0.073,0.09,0.125,0.107,0.107,0.122,0.1,0.2,0.088,0.088,0.088,0.088,0.099,0.085,0.086,0.105,0.088,0.0969999999999999,0.084,0.077,0.078,0.098,0.098,0.072,0.102,0.078,0.077,0.084,0.066,0.1,0.1009999999999999,0.064,0.07,0.085,0.075,0.094,0.078,0.067,0.079,0.171,0.074,0.092,0.092,0.05,0.095,0.095,0.118,0.095,0.118,0.085,0.075,0.078,0.094,0.092,0.085,0.075,0.226,0.226,0.25,0.095,0.07,0.095,0.075,0.07,0.078,0.079,0.103,0.083,0.085,0.063,0.089,0.089,0.083,0.074,0.093,0.091,0.094,0.108,0.06,0.059,0.084,0.07,0.084,0.094,0.096,0.086,0.059,0.071,0.078,0.0819999999999999,0.088,0.071,0.081,0.071,0.096,0.085,0.072,0.092,0.11,0.075,0.083,0.081,0.077,0.0579999999999999,0.148,0.079,0.079,0.079,0.122,0.088,0.076,0.078,0.08,0.077,0.124,0.124,0.098,0.098,0.0969999999999999,0.111,0.0969999999999999,0.105,0.087,0.105,0.073,0.065,0.086,0.084,0.143,0.067,0.071,0.071,0.071,0.071,0.071,0.115,0.107,0.07,0.066,0.068,0.106,0.104,0.096,0.079,0.074,0.087,0.106,0.073,0.074,0.096,0.074,0.08,0.076,0.05,0.092,0.084,0.222,0.0819999999999999,0.059,0.0819999999999999,0.083,0.074,0.079,0.074,0.084,0.064,0.084,0.084,0.081,0.06,0.07,0.094,0.078,0.059,0.078,0.059,0.07,0.095,0.039,0.157,0.0969999999999999,0.087,0.422,0.084,0.084,0.034,0.066,0.066,0.087,0.071,0.076,0.066,0.067,0.073,0.078,0.073,0.093,0.077,0.068,0.062,0.08,0.093,0.084,0.075,0.078,0.069,0.075,0.079,0.0819999999999999,0.086,0.0819999999999999,0.094,0.084,0.053,0.086,0.077,0.084,0.067,0.067,0.071,0.387,0.088,0.092,0.0819999999999999,0.075,0.1119999999999999,0.1119999999999999,0.093,0.092,0.088,0.075,0.078,0.065,0.096,0.095,0.07,0.08,0.083,0.071,0.07,0.089,0.089,0.0969999999999999,0.089,0.415,0.0579999999999999,0.057,0.084,0.084,0.092,0.075,0.096,0.069,0.096,0.093,0.091,0.089,0.103,0.0819999999999999,0.076,0.0819999999999999,0.0819999999999999,0.0819999999999999,0.157,0.157,0.102,0.243,0.241,0.079,0.076,0.19,0.114,0.081,0.114,0.077,0.083,0.083,0.079,0.079,0.099,0.0819999999999999,0.084,0.081,0.055,0.065,0.132,0.126,0.038,0.0819999999999999,0.0819999999999999,0.0819999999999999,0.068,0.044,0.114,0.084,0.052,0.0409999999999999,0.052,0.165,0.07,0.068,0.072,0.099,0.102,0.103,0.099,0.081,0.084,0.071,0.0969999999999999,0.099,0.048,0.076,0.076,0.068,0.076,0.05,0.076,0.065,0.071,0.0579999999999999,0.071,0.145,0.147,0.088,0.066,0.012,0.012,0.075,0.092,0.085,0.115,0.119,0.088,0.062,0.081,0.081,0.078,0.081,0.08,0.085,0.085,0.08,0.08,0.08,0.071,0.08,0.073,0.054,0.074,0.077,0.039,0.067,0.078,0.077,0.077,0.071,0.072,0.074,0.08,0.064,0.086,0.067,0.067,0.104,0.109,0.067,0.064,0.094,0.076,0.078,0.068,0.1939999999999999,0.076,0.094,0.086,0.083,0.066,0.072,0.1119999999999999,0.071,0.078,0.0819999999999999,0.078,0.08,0.08,0.078,0.08,0.078,0.084,0.0559999999999999,0.08,0.08,0.06,0.06,0.081,0.084,0.079,0.078,0.059,0.132,0.114,0.065,0.094,0.059,0.079,0.161,0.084,0.081,0.072,0.091,0.081,0.072,0.084,0.055,0.064,0.061,0.093,0.055,0.063,0.08,0.074,0.078,0.074,0.08,0.06,0.06,0.071,0.068,0.073,0.074,0.0819999999999999,0.092,0.094,0.09,0.071,0.092,0.093,0.075,0.075,0.075,0.093,0.0579999999999999,0.052,0.0819999999999999,0.09,0.111,0.088,0.12,0.089,0.0579999999999999,0.078,0.115,0.1,0.0579999999999999,0.065,0.103,0.0969999999999999,0.068,0.079,0.066,0.066,0.104,0.079,0.073,0.083,0.083,0.109,0.061,0.075,0.065,0.079,0.07,0.065,0.075,0.064,0.066,0.08,0.0969999999999999,0.073,0.0969999999999999,0.0819999999999999,0.076,0.0819999999999999,0.092,0.079,0.087,0.087,0.05,0.055,0.062,0.0579999999999999,0.063,0.067,0.081,0.067,0.063,0.064,0.11,0.1159999999999999,0.067,0.088,0.102,0.092,0.12,0.075,0.068,0.049,0.049,0.078,0.123,0.123,0.062,0.098,0.088,0.095,0.066,0.065,0.075,0.088,0.091,0.093,0.095,0.089,0.077,0.085,0.0819999999999999,0.074,0.078,0.088,0.088,0.079,0.088,0.069,0.046,0.07,0.076,0.0819999999999999,0.081,0.084,0.0819999999999999,0.414,0.073,0.07,0.095,0.095,0.1009999999999999,0.104,0.093,0.1009999999999999,0.074,0.071,0.098,0.075,0.067,0.083,0.07,0.06,0.06,0.086,0.057,0.098,0.083,0.088,0.098,0.071,0.073,0.08,0.08,0.05,0.047,0.05,0.073,0.072,0.073,0.074,0.055,0.057,0.095,0.095,0.083,0.086,0.081,0.079,0.1169999999999999,0.087,0.1169999999999999,0.096,0.216,0.096,0.072,0.071,0.078,0.071,0.073,0.048,0.069,0.068,0.09,0.171,0.07,0.092,0.0559999999999999,0.074,0.046,0.091,0.091,0.091,0.065,0.066,0.076,0.062,0.055,0.081,0.096,0.055,0.063,0.072,0.095,0.092,0.0579999999999999,0.045,0.075,0.089,0.061,0.067,0.08,0.08,0.104,0.079,0.08,0.08,0.043,0.065,0.066,0.076,0.178,0.071,0.086,0.061,0.067,0.044,0.118,0.083,0.1,0.118,0.071,0.042,0.076,0.11,0.087,0.076,0.075,0.078,0.078,0.369,0.111,0.074,0.067,0.086,0.062,0.078,0.074,0.079,0.079,0.095,0.079,0.052,0.0409999999999999,0.076,0.076,0.068,0.068,0.07,0.08,0.085,0.079,0.085,0.08,0.075,0.08,0.166,0.063,0.166,0.114,0.078,0.076,0.069,0.052,0.076,0.069,0.065,0.068,0.111,0.074,0.074,0.074,0.136,0.074,0.071,0.078,0.076,0.078,0.071,0.081,0.095,0.079,0.057,0.0819999999999999,0.044,0.132,0.132,0.078,0.074,0.08,0.091,0.08,0.104,0.044,0.075,0.066,0.074,0.075,0.057,0.059,0.054,0.07,0.059,0.081,0.057,0.076,0.079,0.0579999999999999,0.0819999999999999,0.067,0.0819999999999999,0.086,0.0819999999999999,0.081,0.079,0.079,0.077,0.123,0.096,0.079,0.069,0.0819999999999999,0.085,0.123,0.123,0.4029999999999999,0.083,0.081,0.089,0.066,0.081,0.081,0.068,0.079,0.044,0.048,0.049,0.077,0.073,0.102,0.075,0.05,0.114,0.075,0.062,0.077,0.077,0.084,0.096,0.071,0.09,0.068,0.0559999999999999,0.068,0.068,0.1,0.073,0.0559999999999999,0.084,0.073,0.093,0.093,0.064,0.063,0.1369999999999999,0.08,0.1,0.064,0.081,0.087,0.073,0.088,0.068,0.088,0.071,0.073,0.064,0.083,0.086,0.086,0.083,0.0409999999999999,0.091,0.083,0.414,0.094,0.0409999999999999,0.0579999999999999,0.06,0.077,0.077,0.077,0.077,0.073,0.083,0.083,0.107,0.075,0.079,0.166,0.069,0.057,0.057,0.057,0.084,0.084,0.084,0.085,0.084,0.077,0.063,0.0559999999999999,0.078,0.078,0.081,0.069,0.065,0.086,0.086,0.077,0.086,0.084,0.078,0.168,0.091,0.1119999999999999,0.093,0.091,0.08,0.096,0.115,0.094,0.088,0.079,0.069,0.415,0.153,0.415,0.11,0.267,0.083,0.086,0.09,0.078,0.077,0.077,0.074,0.08,0.08,0.107,0.076,0.1,0.1,0.083,0.08,0.068,0.094,0.07,0.078,0.07,0.092,0.09,0.08,0.083,0.068,0.08,0.08,0.052,0.061,0.0819999999999999,0.062,0.062,0.064,0.048,0.064,0.0819999999999999,0.071,0.062,0.104,0.077,0.065,0.077,0.064,0.077,0.077,0.077,0.079,0.079,0.123,0.076,0.076,0.046,0.078,0.072,0.049,0.066,0.069,0.042,0.069,0.214,0.214,0.1689999999999999,0.07,0.052,0.072,0.062,0.094,0.078,0.0579999999999999,0.072,0.094,0.078,0.08,0.08,0.0559999999999999,0.062,0.104,0.062,0.074,0.073,0.052,0.05,0.074,0.067,0.054,0.054,0.06,0.075,0.076,0.063,0.063,0.062,0.067,0.062,0.061,0.084,0.067,0.073,0.071,0.205,0.048,0.205,0.048,0.0819999999999999,0.104,0.08,0.104,0.114,0.042,0.06,0.074,0.07,0.066,0.049,0.048,0.039,0.049,0.05,0.089,0.066,0.08,0.089,0.054,0.068,0.054,0.076,0.083,0.078,0.077,0.106,0.078,0.07,0.106,0.074,0.062,0.047,0.068,0.061,0.078,0.074,0.074,0.071,0.063,0.114,0.106,0.063,0.0819999999999999,0.071,0.076,0.075,0.064,0.064,0.071,0.096,0.063,0.063,0.081,0.0579999999999999,0.074,0.064,0.075,0.077,0.059,0.081,0.065,0.071,0.054,0.064,0.064,0.063,0.059,0.072,0.048,0.099,0.074,0.087,0.083,0.103,0.08,0.062,0.065,0.066,0.062,0.235,0.08,0.08,0.08,0.076,0.076,0.076,0.061,0.059,0.076,0.077,0.0559999999999999,0.23,0.038,0.069,0.075,0.074,0.06,0.081,0.076,0.118,0.053,0.068,0.053,0.053,0.074,0.061,0.066,0.065,0.066,0.068,0.073,0.077,0.089,0.076,0.068,0.09,0.062,0.076,0.075,0.067]},{\"label\":\"alcohol\",\"values\":[9.4,9.8,9.8,9.8,9.4,9.4,9.4,10.0,9.5,10.5,9.2,10.5,9.9,9.1,9.2,9.2,10.5,9.3,9.0,9.2,9.4,9.7,9.5,9.4,9.7,9.3,9.5,9.5,9.4,9.8,10.1,10.6,9.8,9.4,9.2,9.6,10.8,9.7,9.8,10.5,10.5,9.3,10.5,10.3,9.5,13.1,9.2,9.5,9.2,9.2,9.2,9.4,9.4,9.4,10.2,9.5,9.6,9.4,10.0,9.4,9.2,9.3,9.5,9.8,10.9,10.9,9.6,10.7,10.7,10.5,9.5,9.5,9.5,9.2,9.6,10.5,10.5,10.7,10.1,9.1,9.2,9.4,9.1,9.4,10.3,10.1,9.9,9.6,9.5,9.0,9.5,9.9,9.8,9.6,10.5,12.9,10.7,9.2,9.8,9.0,10.2,10.4,9.0,9.2,9.4,9.2,9.3,9.3,9.6,9.3,9.5,9.8,9.8,9.7,9.5,10.5,10.0,9.4,10.9,9.2,9.0,10.9,9.2,9.5,9.5,9.4,10.9,10.9,10.5,9.4,9.4,13.0,13.0,9.8,9.9,9.6,9.5,9.2,9.5,9.5,9.6,9.5,14.0,9.4,14.0,9.4,10.0,9.3,10.2,10.5,10.3,9.4,10.1,10.1,10.5,10.5,10.5,10.5,9.3,9.3,9.6,9.2,10.0,9.4,9.4,9.5,10.2,9.0,10.4,9.5,9.1,9.2,9.2,11.5,9.5,9.5,9.5,10.5,9.6,9.5,9.5,9.3,9.3,9.3,9.3,9.7,9.2,9.7,9.5,9.5,9.4,9.8,9.5,9.7,9.7,9.4,10.2,10.1,13.0,11.4,10.3,9.3,9.5,9.2,9.2,10.8,10.8,9.3,9.4,10.5,12.4,10.0,10.2,10.1,9.8,10.5,11.0,9.1,9.7,9.5,9.4,9.4,9.5,10.0,10.4,10.5,9.5,9.8,10.5,11.0,12.2,9.9,9.6,11.0,9.0,9.0,9.0,9.2,9.0,9.0,9.3,10.9,9.8,9.2,9.2,9.9,9.5,9.3,9.8,9.9,10.0,9.9,10.5,9.5,9.9,9.3,9.2,9.2,9.4,10.5,9.3,9.4,10.0,9.3,10.9,10.2,9.8,12.8,9.4,10.1,10.7,10.1,10.1,9.4,9.4,10.7,9.4,10.1,12.6,10.5,9.3,9.9,9.1,10.5,9.8,9.8,10.3,10.3,10.6,9.2,10.6,10.5,10.3,10.1,9.5,9.5,9.9,9.6,9.7,9.6,10.7,10.1,10.0,9.5,9.2,9.3,9.4,9.5,9.5,9.5,9.3,9.4,9.5,9.4,11.0,11.0,10.1,10.4,11.5,10.4,11.5,9.7,9.3,9.5,9.2,9.2,11.5,11.5,9.7,9.5,12.5,12.5,9.4,11.0,11.7,12.2,12.5,10.3,11.5,9.8,9.2,11.3,9.8,9.8,10.7,9.9,12.3,12.0,10.0,9.4,9.9,9.4,9.3,13.0,11.9,12.8,11.0,11.7,10.4,9.8,9.4,9.9,10.0,10.2,10.0,11.8,10.0,9.0,9.4,12.0,9.9,8.7,10.6,9.2,10.8,11.8,11.0,12.0,13.3,10.8,9.4,10.0,9.4,9.4,9.2,9.7,9.2,9.6,9.2,10.0,12.9,10.0,9.5,9.1,9.9,13.0,9.9,11.0,11.0,9.4,9.9,10.8,10.5,10.5,9.1,10.1,10.8,10.8,11.3,9.6,9.5,9.5,9.3,11.7,9.5,9.3,11.7,10.5,10.4,9.9,11.8,12.3,10.9,11.0,10.9,12.3,11.4,10.6,9.3,10.4,11.0,9.2,12.8,9.5,9.9,9.5,10.2,11.2,9.9,9.3,9.8,11.3,11.2,11.6,12.5,10.1,10.5,11.2,10.2,10.8,10.8,9.1,10.0,11.2,11.1,13.4,10.3,9.6,11.2,9.0,11.3,9.3,11.8,9.0,9.2,9.7,11.5,14.0,9.2,9.8,10.6,11.4,10.4,10.6,9.4,10.2,9.7,11.0,10.2,10.1,9.2,11.7,9.4,9.4,13.4,10.0,10.0,10.0,10.8,10.2,10.6,13.3,13.4,11.6,12.1,11.0,9.0,11.1,11.0,11.6,9.0,12.0,12.0,10.9,10.8,12.5,10.8,9.5,10.2,11.4,9.5,10.2,9.7,11.8,11.8,9.3,11.9,8.4,11.7,11.0,10.0,9.1,9.8,9.4,9.5,9.9,11.0,11.4,8.7,9.4,10.3,10.3,10.3,12.8,10.0,10.3,9.4,10.7,12.0,11.2,9.6,11.0,9.9,11.0,8.4,9.1,9.5,10.7,10.4,9.4,9.5,10.0,10.0,11.5,11.1,11.1,11.7,11.1,11.7,12.7,11.4,9.2,9.2,10.1,12.7,11.4,9.0,9.0,10.7,11.7,11.0,11.7,10.4,9.6,10.0,10.2,10.0,9.5,9.8,9.8,9.6,9.6,9.2,9.9,10.7,9.6,10.6,9.3,14.0,10.5,9.7,11.5,9.7,9.0,9.5,9.3,9.3,10.0,9.8,9.3,10.0,9.0,9.3,9.0,9.1,9.2,12.2,10.5,10.4,12.7,9.2,9.4,10.0,9.8,10.2,9.7,9.7,9.8,10.2,9.3,9.4,9.4,9.5,12.1,10.2,10.2,9.1,9.1,9.3,9.3,9.3,9.5,10.5,11.3,9.5,9.7,9.4,9.4,10.2,10.3,9.4,9.5,9.4,9.5,9.4,10.1,10.1,11.0,11.2,11.3,9.6,11.2,14.9,12.0,9.5,9.4,9.6,10.5,9.6,11.0,9.6,9.0,9.6,10.2,10.2,9.7,9.5,9.2,11.0,9.2,10.0,9.5,9.5,9.5,9.3,10.2,9.3,9.9,10.0,9.6,9.0,10.2,9.8,11.3,9.4,11.3,9.1,9.7,9.4,9.4,10.7,9.8,9.0,9.4,9.4,12.8,9.5,9.5,9.7,10.8,10.1,9.5,9.4,9.6,9.7,9.9,10.0,10.5,11.6,10.0,10.1,9.5,9.4,9.4,9.8,9.2,9.4,10.0,9.6,9.5,9.6,9.2,10.0,9.5,11.2,10.4,11.1,9.5,9.5,12.7,9.6,11.5,9.6,9.5,9.3,9.5,9.5,9.3,9.2,9.3,11.5,9.5,9.2,10.0,9.5,9.5,9.0,9.4,9.6,9.5,9.5,9.5,9.4,9.5,9.1,10.7,11.2,9.8,9.8,9.2,9.7,9.6,10.0,9.6,9.5,9.5,9.4,9.5,9.7,9.6,9.7,9.4,9.4,9.5,9.5,10.0,10.3,10.3,10.5,9.8,9.4,9.8,10.0,9.8,9.8,9.5,9.5,10.1,10.1,9.3,9.7,9.6,9.7,10.8,12.5,10.2,9.6,10.8,10.7,10.7,9.4,10.0,12.9,9.6,9.9,12.8,12.5,12.8,9.2,10.3,10.5,10.9,10.8,11.4,11.3,10.8,10.5,11.9,9.4,9.6,9.7,14.0,9.8,9.8,10.3,10.7,11.0,10.7,12.7,11.1,10.9,11.1,9.9,9.9,9.4,9.3,11.7,11.7,11.2,10.0,12.1,10.3,10.9,9.4,10.6,9.8,9.8,9.9,9.8,9.8,9.5,9.5,9.7,10.9,10.9,11.7,10.9,11.3,10.6,11.2,9.5,11.5,10.4,9.7,9.5,9.7,11.3,11.2,11.2,10.9,11.8,10.6,10.0,11.1,11.8,11.8,10.9,11.8,10.0,9.5,9.9,11.4,12.0,9.5,10.0,10.5,10.4,12.1,11.2,9.3,10.1,9.7,9.3,9.7,9.8,10.7,12.5,10.7,12.5,11.0,11.8,10.8,10.8,10.8,10.8,9.5,11.0,11.5,10.8,11.5,13.2,10.9,12.2,12.2,11.5,11.9,11.0,10.1,11.0,11.8,10.5,11.0,11.8,10.1,11.2,11.0,10.2,9.2,11.2,12.0,10.5,9.8,9.5,9.8,10.5,11.8,11.8,10.4,12.9,11.4,12.4,12.5,10.0,9.7,12.1,11.1,12.0,12.4,11.9,11.9,11.9,12.4,11.2,12.1,12.2,10.4,11.3,11.1,11.3,10.0,11.1,9.3,9.5,11.2,11.1,11.0,11.9,9.2,12.2,10.2,10.9,10.9,11.6,10.7,12.1,9.4,9.4,9.1,11.3,10.4,10.5,10.0,12.9,10.5,10.4,11.3,11.4,9.4,9.4,10.9,9.4,9.4,9.4,9.4,9.4,10.1,12.8,12.8,9.1,12.9,11.5,10.6,11.7,12.8,10.3,12.8,11.7,11.7,12.0,10.9,12.3,10.4,10.0,10.0,11.2,11.4,12.6,12.7,12.7,10.4,11.9,11.9,10.5,12.3,10.5,10.4,12.6,11.6,10.1,10.5,11.5,11.0,9.6,10.4,9.7,10.6,12.5,9.2,12.6,11.1,10.2,9.8,11.1,10.9,12.2,11.4,10.7,10.4,10.9,10.8,10.4,9.2,12.9,12.7,9.1,9.1,12.1,9.1,11.6,12.1,9.9,12.5,11.4,11.8,11.8,10.2,12.5,10.9,10.9,10.8,11.1,9.2,9.5,10.7,9.2,10.2,11.4,11.0,11.0,12.3,11.8,12.3,9.5,12.0,9.5,9.6,11.6,11.2,9.9,9.9,11.8,11.4,11.5,12.0,10.8,10.5,10.8,9.4,12.5,9.4,12.4,12.0,11.2,12.0,12.4,12.8,12.3,11.7,9.5,10.8,10.0,12.3,11.0,9.5,13.6,11.3,11.3,11.3,13.3,12.9,13.1,12.3,12.3,11.2,11.5,11.3,13.5,11.5,10.0,10.5,10.4,9.5,13.6,11.2,11.8,11.9,11.4,11.4,9.1,9.5,9.5,11.0,11.4,10.0,10.1,10.4,9.8,11.8,11.6,12.0,12.8,12.5,9.8,11.1,11.4,9.8,11.8,12.9,10.6,10.8,11.1,10.2,11.8,10.0,10.0,9.4,10.2,12.4,12.0,11.5,10.5,10.8,12.3,9.5,9.5,11.5,11.2,12.7,11.4,11.0,11.0,11.4,10.5,9.3,10.9,11.9,12.2,11.9,10.9,9.6,12.5,10.8,12.4,10.8,9.5,9.5,9.5,9.8,10.9,9.5,9.8,11.2,11.7,9.4,11.0,11.0,11.0,10.0,11.0,11.2,10.4,9.3,10.4,10.5,10.4,11.3,9.5,12.0,10.6,10.9,11.5,11.5,9.6,12.0,10.3,9.4,9.2,9.6,13.6,9.5,11.8,10.8,9.5,9.3,12.8,11.5,9.4,12.8,9.6,11.8,9.3,9.8,12.2,9.5,10.3,10.5,10.0,10.5,11.1,10.9,10.9,9.8,9.8,9.5,10.9,11.0,9.2,11.0,11.3,11.3,9.3,11.2,9.8,9.6,11.8,10.3,10.3,11.4,9.5,14.0,14.0,11.7,11.2,9.3,11.2,9.5,12.0,9.7,9.5,11.5,10.4,10.4,10.9,10.2,10.9,10.5,12.4,13.0,10.2,10.2,11.0,10.9,12.4,9.7,10.9,9.5,9.5,12.1,12.2,10.9,12.5,11.7,11.2,11.2,9.2,9.8,10.1,11.1,10.1,9.2,9.8,12.8,10.5,10.1,10.1,9.8,12.5,11.9,9.8,9.1,10.1,12.5,11.4,11.0,10.6,10.6,10.6,10.6,9.3,9.8,9.8,9.2,9.7,9.6,10.0,12.6,9.5,9.5,9.5,10.5,10.5,10.5,10.4,10.5,11.0,10.2,11.4,9.5,9.5,10.8,10.0,11.8,10.3,10.3,10.0,10.1,10.1,11.1,9.5,10.0333333333333,10.9,10.1,10.0333333333333,9.8,11.8,9.5,9.8,10.5,9.8,10.4,9.2,11.6,9.2,9.3,9.8,9.9,10.0,12.2,9.9,10.8,10.8,9.6,9.9,9.9,9.5,9.2,9.6,9.6,10.3,9.7,12.5,11.0,9.8,10.2,9.2,9.55,9.55,9.9,10.2,11.1,9.9,9.9,11.9,10.0,10.7,11.3,10.9,10.7,12.4,10.7,11.9,10.6,10.9,10.1,9.6,9.4,9.6,12.1,9.8,9.9,9.8,9.4,11.4,11.0,9.6,9.6,12.1,11.2,11.0,11.3,10.4,9.9,11.7,10.1,9.0,9.0,8.5,11.1,10.3,11.066666666666698,11.3,9.56666666666667,9.8,11.7,11.1,9.6,9.8,9.7,9.7,11.3,11.3,11.0,11.6,9.0,10.9,10.9,10.55,9.0,10.5,11.9,10.4,10.0,10.4,10.8,9.7,9.7,10.0,11.0,10.0,9.7,9.7,12.6,11.1,11.0,8.8,13.566666666666698,8.8,13.6,10.2,10.6,10.1,10.6,10.3,10.7,10.9,9.7,10.3,10.6,11.4,10.8,12.4,11.4,11.95,9.7,10.0,10.6,9.7,11.5,10.8,11.5,9.6,9.4,9.8,11.0,11.4,9.95,10.8,11.4,10.6,11.1,9.7,9.8,10.4,10.5,9.23333333333333,9.25,10.6,10.3,10.5,10.2,10.3,9.05,10.6,10.4,10.0,9.7,9.6,10.8,10.1,10.2,11.3,10.2,9.9,9.0,11.7,9.7,10.3,10.2,12.0,9.9,11.6,10.9,10.75,10.4,11.2,10.1,10.2,12.1,10.4,11.4,9.5,9.4,11.3,9.4,11.0,10.55,9.9,11.0,9.5,9.9,9.9,9.9,10.1,10.1,10.1,10.9,11.2,10.1,9.2,11.5,12.4,11.1,9.5,12.5,10.5,11.8,10.8,11.9,11.3,11.3,11.9,11.3,11.9,9.8,11.6,11.5,11.4,10.9,12.8,9.2,11.6,11.6,11.0,9.5,10.5,11.2,11.0,10.2,11.0]},{\"label\":\"residual sugar\",\"values\":[1.9,2.6,2.3,1.9,1.9,1.8,1.6,1.2,2.0,6.1,1.8,6.1,1.6,1.6,3.8,3.9,1.8,1.7,4.4,1.8,1.8,2.3,1.6,2.3,2.4,1.4,1.8,1.6,1.9,2.0,2.4,2.5,2.3,10.7,1.8,5.5,2.4,2.1,1.5,5.9,5.9,2.8,2.6,2.2,1.8,2.1,2.2,1.6,1.6,1.4,1.7,2.2,2.1,3.0,2.8,3.8,3.4,5.1,2.3,2.4,2.2,1.8,1.9,2.0,4.65,4.65,1.5,1.6,2.0,1.9,1.9,2.1,1.9,2.1,2.5,2.2,2.2,2.4,2.0,1.5,1.6,1.9,2.0,1.8,1.8,2.2,1.9,1.9,2.1,1.8,1.9,1.9,2.0,1.9,1.4,2.3,3.0,2.0,2.5,1.9,2.1,1.9,1.9,2.1,2.2,2.1,1.7,1.7,2.5,2.0,1.8,2.2,2.2,2.3,1.8,2.2,1.9,2.0,2.2,1.8,1.7,2.2,2.5,2.6,1.6,1.9,1.7,1.8,1.8,1.8,2.0,2.3,2.3,1.5,2.2,1.9,1.8,2.0,2.1,2.0,1.9,1.8,1.8,1.7,1.8,1.8,1.8,1.6,2.3,2.8,2.1,3.4,1.8,1.8,5.5,5.5,5.5,5.5,2.2,1.9,2.0,1.3,1.7,7.3,7.2,1.7,2.1,1.6,2.1,1.8,1.8,2.0,2.0,1.9,2.0,1.5,2.0,2.3,2.5,2.4,2.4,2.0,2.5,1.8,1.9,2.0,2.0,2.6,2.0,1.9,2.9,1.9,3.8,2.2,2.2,2.0,2.4,2.0,1.2,2.1,1.4,2.1,1.5,1.6,1.6,2.6,2.6,1.8,2.7,2.1,2.0,2.8,2.1,2.2,2.4,5.6,2.0,2.2,1.9,2.4,2.0,2.0,1.5,2.0,2.0,2.6,2.0,2.6,2.6,2.6,1.6,1.8,2.8,2.6,2.3,1.9,1.9,1.9,1.9,2.3,1.7,2.1,1.8,2.2,2.2,2.0,1.9,2.3,1.7,2.0,1.6,1.8,3.1,1.9,1.8,3.2,2.2,2.1,1.8,2.6,1.7,2.0,1.7,1.8,2.4,1.8,3.3,3.6,3.0,4.0,4.0,4.0,4.0,2.4,7.0,4.0,3.0,4.0,6.4,5.6,3.6,3.5,3.0,5.6,3.4,3.4,2.0,3.0,2.5,3.3,2.5,2.0,2.7,2.4,3.2,2.5,2.6,2.0,2.3,2.1,2.6,1.5,2.6,1.6,2.1,2.5,2.2,2.4,2.4,1.7,2.5,2.0,2.8,3.0,2.6,2.5,3.4,2.9,3.2,2.9,3.2,3.4,2.3,2.8,11.0,11.0,3.65,4.5,2.6,2.0,2.9,2.9,3.2,2.1,2.5,3.4,1.9,2.8,3.0,2.3,2.4,2.7,1.8,1.8,2.6,1.9,2.7,3.0,2.8,2.6,2.7,2.6,2.4,4.8,1.4,2.4,3.0,2.95,3.1,2.6,2.0,2.6,2.5,2.0,5.8,3.4,5.8,2.6,2.8,2.4,2.3,1.6,1.8,2.2,3.8,4.4,3.0,2.4,6.2,2.5,2.0,2.9,2.0,2.0,2.1,2.4,2.0,1.9,1.9,2.5,1.4,2.9,2.0,2.0,2.3,4.2,7.9,2.6,2.6,2.3,7.9,1.7,2.6,2.7,2.7,1.4,2.5,3.0,3.7,4.5,2.5,2.4,1.9,6.7,2.7,6.6,2.2,1.9,2.0,1.8,2.4,2.3,2.0,2.1,2.0,2.3,2.1,1.9,1.3,2.4,2.1,2.2,2.3,2.3,3.2,2.3,2.0,3.2,3.2,1.5,2.2,2.15,3.7,2.7,1.7,2.1,2.6,2.1,2.0,2.8,2.8,1.8,1.7,2.8,1.6,5.2,2.3,2.7,2.8,2.2,2.3,2.6,2.55,2.2,2.1,2.9,2.0,2.6,2.1,1.2,2.6,2.4,2.6,2.1,1.7,2.2,2.0,1.8,2.2,2.7,15.5,2.8,2.2,2.2,4.1,1.9,1.9,1.8,2.8,2.6,2.8,2.5,2.6,3.0,8.3,2.6,1.9,2.5,2.6,3.0,1.9,6.55,6.55,1.9,1.8,2.9,1.8,2.3,2.2,2.8,4.6,2.2,2.1,2.4,2.4,6.1,4.3,2.1,2.8,2.5,2.7,2.0,2.3,2.5,2.4,2.8,2.5,2.5,2.6,2.4,2.1,2.7,2.7,2.1,2.7,2.1,2.4,2.1,5.8,5.15,3.3,6.3,2.1,2.5,1.8,2.6,2.0,2.5,2.6,1.9,2.1,2.8,2.7,1.6,4.2,4.2,4.6,4.2,4.6,4.3,2.8,2.4,2.9,2.7,4.3,2.8,2.5,2.5,2.6,2.2,3.3,2.2,2.4,2.1,3.2,3.1,2.3,2.8,2.9,2.2,2.2,2.2,2.2,1.9,3.4,2.4,2.7,1.9,2.0,2.6,2.6,1.7,2.6,3.5,2.6,7.9,2.0,1.9,2.1,2.3,2.1,2.2,2.6,2.2,2.9,2.6,4.6,3.3,5.1,3.2,2.5,2.7,2.4,1.5,2.2,2.3,2.3,2.2,2.7,2.3,3.4,3.4,1.9,2.9,5.6,5.6,2.2,2.2,2.5,2.3,2.5,2.7,3.0,3.4,1.9,1.4,2.4,2.3,2.2,1.9,2.3,2.3,2.3,2.3,2.3,6.0,3.6,2.2,2.8,8.6,2.2,2.5,7.5,2.8,2.4,2.9,2.2,1.4,1.4,4.4,1.4,1.6,1.6,1.8,2.0,2.0,1.8,2.0,2.3,2.0,2.5,1.7,2.0,1.7,2.2,2.2,2.2,2.3,2.6,3.3,1.9,2.2,2.25,2.6,2.3,2.6,1.8,3.1,1.6,1.8,4.25,2.6,2.0,2.8,2.7,1.3,2.1,2.1,3.2,2.1,2.9,2.1,2.1,2.6,1.6,6.0,2.0,3.0,2.5,1.6,2.8,3.0,3.2,2.3,2.6,2.7,2.3,2.6,2.0,3.9,2.0,2.85,2.7,2.2,3.1,3.0,2.8,1.8,1.8,3.2,2.3,3.45,2.1,2.7,2.0,2.1,2.1,2.5,2.8,2.4,4.2,2.6,1.9,2.8,2.7,2.1,2.5,2.6,2.1,2.1,2.9,2.9,2.5,2.9,1.7,1.9,2.0,2.2,2.2,2.5,2.8,2.0,1.7,2.0,2.8,3.0,2.9,2.7,2.3,1.9,2.3,2.4,2.3,1.8,1.8,3.0,2.4,2.4,3.4,2.6,2.0,2.4,2.4,2.4,2.5,2.3,2.3,2.2,2.2,2.9,2.6,2.9,2.5,2.6,2.3,2.6,2.5,1.6,3.6,3.6,4.0,3.3,1.7,2.5,2.7,2.4,2.0,2.4,1.9,2.8,2.6,2.8,2.5,2.1,2.8,2.5,3.2,1.6,2.35,3.2,1.9,2.1,2.0,2.0,2.8,2.8,2.3,2.8,2.3,2.1,2.5,2.1,1.5,1.6,1.6,1.5,2.4,2.4,1.6,2.2,2.65,3.0,2.6,2.0,1.7,1.8,1.8,1.8,1.8,1.6,1.9,1.9,2.5,1.5,1.5,2.5,1.5,2.5,1.7,1.8,2.7,2.0,2.7,2.5,2.7,2.6,2.3,2.0,1.8,2.0,2.1,1.5,2.0,1.6,2.1,2.8,2.2,2.1,4.0,2.5,1.6,2.1,3.1,2.5,4.0,2.5,2.4,2.6,2.5,6.6,2.0,2.3,1.9,2.3,2.2,2.3,2.4,2.3,2.4,3.4,2.6,2.4,2.4,6.0,6.0,3.0,2.6,2.2,2.4,1.2,3.8,9.0,2.9,4.6,1.2,2.2,1.5,8.8,2.2,1.8,2.3,2.2,1.8,8.8,2.3,1.9,2.3,2.2,2.3,3.3,1.9,2.0,1.9,2.0,1.9,2.3,2.3,1.4,2.8,1.6,2.2,5.0,2.6,2.3,3.8,2.0,4.1,2.1,1.8,1.8,1.8,2.1,2.2,2.1,2.7,1.9,2.1,2.0,2.3,2.0,1.9,1.6,2.1,2.0,1.9,2.4,2.4,2.1,2.4,2.9,1.9,1.9,2.4,1.7,5.9,2.1,2.1,2.6,3.6,1.4,1.9,1.9,2.1,1.9,1.4,2.0,1.4,1.6,1.7,1.5,1.7,2.0,2.0,2.0,2.5,2.0,2.2,2.2,1.4,1.65,2.2,1.5,2.05,1.8,1.6,1.8,2.05,2.0,3.6,2.8,1.7,2.0,2.1,1.6,2.0,2.2,2.2,0.9,0.9,1.8,2.4,2.4,2.1,2.3,1.8,2.8,1.9,2.2,2.5,1.8,2.1,1.8,4.1,2.6,2.5,2.4,2.5,1.8,6.2,2.2,2.2,1.7,2.2,8.9,3.3,1.4,1.7,1.8,1.7,1.8,1.8,1.4,2.4,2.3,2.0,2.0,4.0,3.9,2.4,4.0,1.8,1.8,1.9,2.4,2.0,2.4,2.4,2.2,2.2,2.8,1.5,8.1,1.8,2.7,8.1,2.0,2.0,6.4,6.4,8.3,1.4,8.3,1.8,2.4,1.8,1.8,4.7,1.6,1.5,1.5,1.9,2.0,2.0,2.2,5.5,2.5,5.5,1.5,2.1,1.5,2.1,2.1,1.7,2.1,2.2,2.1,1.9,2.0,3.3,2.1,1.4,2.0,1.5,1.6,4.3,2.5,2.5,2.5,2.1,2.5,2.5,1.8,1.4,1.9,2.2,1.7,1.7,2.9,2.7,3.3,1.9,1.7,1.8,5.5,1.7,1.7,2.0,2.0,3.7,2.0,1.7,2.5,2.4,1.8,2.3,2.5,1.8,6.2,2.0,2.0,2.8,2.5,2.2,2.1,2.2,2.2,1.75,2.1,2.8,2.2,2.3,1.4,2.3,1.7,1.7,1.9,2.0,2.5,2.8,2.3,1.6,2.2,2.1,1.7,1.7,2.2,5.6,2.4,2.1,2.4,2.4,1.65,2.5,1.6,2.1,2.0,7.8,2.0,2.1,1.8,4.6,2.3,2.5,2.3,1.8,1.8,2.3,1.5,2.0,2.3,1.5,1.9,1.8,5.8,2.1,2.1,2.1,1.7,2.1,2.0,2.1,2.1,2.1,1.9,1.9,2.1,2.0,1.9,1.9,1.3,1.8,1.8,2.2,2.2,2.5,2.6,4.1,2.0,1.8,2.1,2.7,2.6,2.1,2.2,2.2,12.9,1.7,2.2,2.5,4.3,1.7,2.5,2.0,2.4,13.4,1.8,1.7,1.8,2.2,2.3,2.3,2.2,1.8,1.4,1.9,2.4,1.8,4.8,2.7,2.7,1.8,2.0,2.5,2.2,1.8,2.3,2.3,2.3,2.0,1.8,1.6,1.6,1.9,2.0,2.1,2.3,6.3,1.9,2.3,1.7,1.9,1.9,2.0,2.7,2.3,1.8,2.5,2.6,4.5,4.5,1.9,2.1,2.4,1.9,2.1,4.3,4.3,2.1,1.4,2.1,2.15,2.0,2.1,1.8,2.3,1.9,2.5,3.9,2.5,1.4,1.9,3.0,1.9,2.3,2.4,2.0,1.2,2.2,2.0,1.7,2.6,1.2,1.8,1.8,1.7,1.7,1.7,1.7,1.8,2.1,2.1,3.8,1.7,2.2,2.0,2.4,1.4,1.4,1.4,1.7,1.7,1.7,1.7,1.7,2.6,2.3,2.1,1.8,1.8,2.8,2.0,2.3,1.9,1.9,2.3,1.8,1.8,2.5,5.4,1.4,2.3,2.5,1.4,2.0,1.9,2.2,1.7,2.2,2.1,1.6,1.7,3.1,1.7,3.8,1.2,2.0,1.4,2.3,2.0,2.6,2.6,1.8,2.1,2.1,1.8,3.4,1.8,1.8,6.1,2.2,2.3,2.4,1.3,2.0,3.9,1.6,1.6,2.0,2.2,2.2,2.1,2.1,2.0,1.7,2.6,2.0,5.1,2.1,2.2,2.1,1.8,2.4,5.1,2.0,2.2,1.6,2.2,2.5,1.6,2.2,1.6,1.6,2.1,3.9,1.4,1.4,1.8,2.5,1.9,2.2,1.8,2.1,1.6,1.8,15.4,15.4,1.6,4.8,1.7,2.2,2.0,5.2,1.9,1.75,2.2,5.2,1.9,1.9,1.9,2.0,2.0,2.7,2.0,1.9,2.2,1.6,1.8,1.9,1.7,1.7,2.3,2.1,2.3,2.4,1.7,1.7,2.1,2.3,2.1,2.1,1.4,3.75,2.6,1.8,13.8,2.2,13.8,2.2,5.7,3.0,1.5,3.0,2.1,1.5,2.0,2.1,2.1,1.9,1.7,2.1,1.8,1.7,1.6,1.9,1.4,1.9,1.9,2.3,2.3,2.3,1.5,4.3,2.4,2.5,2.3,1.8,2.0,2.3,2.1,1.8,2.2,2.1,2.2,1.8,4.1,4.1,2.3,2.0,2.2,2.6,2.0,1.9,2.3,2.0,2.0,2.1,2.2,1.7,2.2,2.1,2.2,2.8,2.0,1.9,2.4,2.2,1.9,1.9,2.5,1.8,4.4,2.2,1.9,2.2,2.3,1.8,2.0,1.6,2.0,1.8,2.3,2.3,3.7,2.2,2.4,1.7,2.2,2.4,6.7,2.0,2.0,2.0,2.0,2.0,2.0,1.9,2.1,2.0,1.6,1.9,2.2,2.2,2.2,2.4,13.9,2.2,1.6,5.1,1.8,1.7,2.4,1.7,2.6,2.1,2.4,2.6,2.4,1.8,2.5,7.8,1.8,1.7,2.3,1.9,2.0,2.2,2.3,2.0,3.6]},{\"label\":\"citric acid\",\"values\":[0.0,0.0,0.04,0.56,0.0,0.0,0.06,0.0,0.02,0.36,0.08,0.36,0.0,0.29,0.18,0.19,0.56,0.28,0.08,0.51,0.48,0.31,0.21,0.11,0.14,0.16,0.24,0.21,0.0,0.0,0.07,0.0,0.12,0.12,0.25,0.0,0.14,0.28,0.09,0.36,0.36,0.3,0.2,0.22,0.02,0.15,0.43,0.52,0.23,0.37,0.26,0.04,0.04,0.36,0.15,0.04,0.57,0.12,0.18,0.31,0.4,0.49,0.16,0.05,0.05,0.05,0.11,0.07,0.57,0.05,0.08,0.23,0.22,0.26,0.54,0.64,0.64,0.0,0.12,0.2,0.2,0.7,0.47,0.26,0.48,0.15,0.28,0.26,0.44,0.08,0.26,0.28,0.29,0.26,0.04,0.17,0.0,0.25,0.06,0.18,0.3,0.3,0.18,0.22,0.24,0.22,0.68,0.31,0.53,0.52,0.19,0.09,0.1,0.44,0.19,0.31,0.28,0.12,0.04,0.08,0.09,0.04,0.0,0.0,0.17,0.04,0.0,0.0,0.16,0.15,0.56,0.09,0.09,0.01,0.05,0.11,0.15,0.36,0.19,0.19,0.11,0.15,0.0,0.08,0.0,0.55,0.02,0.26,0.1,0.44,0.47,1.0,0.03,0.03,0.42,0.42,0.42,0.42,0.0,0.18,0.03,0.02,0.04,0.26,0.26,0.48,0.1,0.03,0.07,0.24,0.03,0.17,0.17,0.05,0.21,0.04,0.21,0.42,0.0,0.14,0.14,0.49,0.02,0.2,0.21,0.57,0.48,0.1,0.33,0.32,0.35,0.25,0.12,0.21,0.21,0.33,0.3,0.6,0.08,0.06,0.47,0.48,0.11,0.35,0.36,0.74,0.74,0.31,0.28,0.58,0.6,0.24,0.64,0.26,0.08,0.49,0.16,0.22,0.19,0.33,0.37,0.26,0.04,0.25,0.36,0.25,0.5,0.14,0.25,0.25,0.04,0.06,0.2,0.25,0.09,0.0,0.0,0.0,0.0,0.09,0.37,0.56,0.1,0.44,0.44,0.0,0.07,0.17,0.06,0.0,0.44,0.0,0.48,0.42,0.0,0.23,0.37,0.0,0.76,0.47,0.23,0.04,0.03,0.23,0.49,0.52,0.0,0.46,0.04,0.51,0.06,0.51,0.58,0.2,0.18,0.06,0.04,0.51,0.45,0.32,0.44,0.68,0.12,0.32,0.07,0.07,0.55,0.12,0.09,0.53,0.09,0.48,0.23,0.25,0.52,0.46,0.37,0.06,0.02,0.06,0.06,0.48,0.12,0.12,0.6,0.48,0.32,0.42,0.44,0.38,0.48,0.24,0.31,0.3,0.29,0.29,0.23,0.12,0.39,0.12,0.39,0.26,0.05,0.42,0.2,0.2,0.66,0.5,0.62,0.39,0.64,0.64,0.28,0.08,0.01,0.53,0.45,0.32,0.58,0.54,0.5,0.48,0.47,0.47,0.5,0.0,0.02,0.67,0.31,0.0,0.22,0.0,0.0,0.79,0.4,0.01,0.52,0.66,0.66,0.66,0.23,0.31,0.66,0.63,0.66,0.5,0.66,0.61,0.52,0.53,0.02,0.4,0.48,0.22,0.63,0.71,0.5,0.53,0.66,0.38,0.42,0.68,0.42,0.42,0.28,0.07,0.26,0.15,0.26,0.31,0.05,0.68,0.52,0.61,0.65,0.76,0.02,0.59,0.59,0.22,0.02,0.3,0.54,0.49,0.05,0.46,0.47,0.66,0.58,0.49,0.34,0.35,0.16,0.53,0.34,0.24,0.64,0.12,0.51,0.0,0.33,0.03,0.2,0.47,0.2,0.03,0.08,0.22,0.33,0.63,0.47,0.35,0.69,0.63,0.55,0.63,0.3,0.73,0.55,0.18,0.72,0.65,0.76,0.49,0.01,0.1,0.6,0.29,0.22,0.69,0.69,0.53,0.03,0.63,0.4,0.67,0.39,0.21,0.63,0.66,0.52,0.22,0.68,0.7,0.54,0.4,0.42,0.45,0.69,0.02,0.65,0.42,0.55,0.55,0.51,0.24,0.41,0.49,0.24,0.11,0.39,0.56,0.59,0.6,0.68,0.39,0.39,0.36,0.55,0.4,0.27,0.5,0.51,0.31,0.23,0.53,0.25,0.32,0.53,0.31,0.25,0.73,0.73,0.47,0.42,0.63,0.46,0.55,0.31,0.75,0.49,0.31,0.48,0.64,0.64,0.49,0.49,0.49,0.49,0.49,0.49,0.49,0.49,0.49,0.49,0.24,0.49,0.49,0.49,0.24,0.24,0.49,0.49,0.24,0.24,0.24,0.24,0.24,0.49,0.74,0.24,0.49,0.24,0.24,0.74,0.49,0.24,0.49,0.49,0.49,0.01,0.24,0.24,0.24,0.49,0.49,0.49,0.49,0.49,0.49,0.49,0.49,0.49,0.49,0.49,0.49,0.24,0.24,0.49,0.24,0.49,0.24,0.49,0.49,0.49,0.49,0.24,0.49,0.49,0.49,0.49,0.49,0.49,0.49,0.49,0.24,0.49,0.24,0.24,0.49,0.49,0.49,0.49,0.58,0.17,0.41,0.51,0.58,0.18,0.45,0.27,0.52,0.0,0.52,0.13,0.13,0.48,0.41,0.37,0.19,0.54,0.55,0.0,0.38,0.18,0.5,0.5,0.51,0.5,0.41,0.24,0.23,0.22,0.25,0.0,0.0,0.29,0.29,0.26,0.23,0.26,0.54,0.14,0.22,0.21,0.0,0.28,0.27,0.12,0.35,0.45,0.44,0.45,0.44,0.45,0.1,0.05,0.01,0.3,0.27,0.39,0.25,0.65,0.59,0.47,0.17,0.39,0.59,0.07,0.02,0.07,0.31,0.06,0.46,0.52,0.14,0.36,0.45,0.43,0.45,0.24,0.21,0.34,0.21,0.41,0.39,0.41,0.11,0.1,0.45,0.58,0.23,0.31,0.23,0.32,0.23,0.18,0.23,0.04,0.48,0.0,0.24,0.51,0.32,0.31,0.02,0.02,0.02,0.28,0.55,0.43,0.02,0.02,0.48,0.04,0.15,0.08,0.19,0.12,0.47,0.43,0.34,0.0,0.36,0.28,0.18,0.36,0.11,0.04,0.0,0.04,0.24,0.08,0.3,0.1,0.17,0.09,0.02,0.02,0.03,0.66,0.13,0.03,0.34,0.2,0.1,0.1,0.0,0.23,0.0,0.29,0.24,0.0,0.58,0.54,0.18,0.38,0.4,0.18,0.18,0.1,0.1,0.13,0.1,0.68,0.07,0.01,0.0,0.0,0.21,0.25,0.26,0.0,0.26,0.11,0.1,0.18,0.32,0.02,0.01,0.02,0.26,0.27,0.29,0.3,0.0,0.18,0.17,0.3,0.03,0.0,0.14,0.05,0.14,0.01,0.41,0.41,0.24,0.24,0.17,0.43,0.17,0.02,0.0,0.54,0.3,0.31,0.44,0.34,0.34,0.08,0.09,0.0,0.08,0.22,0.4,0.39,0.4,0.12,0.31,0.1,0.55,0.33,0.24,0.54,0.33,0.19,0.42,0.0,0.15,0.0,0.0,0.13,0.13,0.28,0.14,0.34,0.14,0.09,0.08,0.07,0.08,0.42,0.44,0.26,0.1,0.28,0.28,0.35,0.04,0.47,0.0,0.45,0.35,0.46,0.21,0.21,0.16,0.21,0.21,0.44,0.44,0.32,0.39,0.39,0.02,0.39,0.34,0.47,0.22,0.06,0.66,0.32,0.06,0.06,0.07,0.22,0.23,0.22,0.03,0.01,0.03,0.24,0.37,0.46,0.4,0.0,0.01,0.19,0.04,0.18,0.0,0.29,0.04,0.19,0.14,0.12,0.38,0.0,0.34,0.24,0.03,0.23,0.03,0.03,0.01,0.39,0.01,0.39,0.02,0.36,0.1,0.1,0.06,0.06,0.2,0.27,0.0,0.13,0.39,0.48,0.46,0.44,0.46,0.39,0.4,0.19,0.31,0.32,0.12,0.37,0.32,0.12,0.31,0.27,0.36,0.33,0.19,0.27,0.38,0.01,0.01,0.29,0.01,0.01,0.38,0.38,0.5,0.38,0.17,0.52,0.49,0.4,0.34,0.49,0.42,0.58,0.48,0.45,0.45,0.45,0.48,0.4,0.48,0.4,0.52,0.52,0.52,0.12,0.05,0.27,0.14,0.02,0.39,0.27,0.4,0.41,0.2,0.43,0.09,0.48,0.48,0.5,0.44,0.41,0.3,0.3,0.29,0.32,0.49,0.3,0.26,0.32,0.3,0.49,0.0,0.39,0.3,0.12,0.4,0.12,0.28,0.1,0.28,0.45,0.06,0.0,0.0,0.34,0.0,0.3,0.38,0.33,0.32,0.29,0.32,0.33,0.34,0.4,0.36,0.45,0.31,0.15,0.0,0.16,0.46,0.4,0.37,0.37,0.14,0.66,0.66,0.09,0.42,0.01,0.0,0.32,0.0,0.21,0.01,0.0,0.01,0.0,0.08,0.18,0.34,0.34,0.1,0.41,0.21,0.0,0.19,0.21,0.41,0.33,0.0,0.0,0.17,0.36,0.36,0.17,0.59,0.05,0.42,0.27,0.27,0.53,0.25,0.57,0.53,0.57,0.5,0.44,0.65,0.09,0.18,0.08,0.53,0.53,0.35,0.45,0.2,0.26,0.33,0.2,0.34,0.56,0.65,0.65,0.68,0.56,0.68,0.3,0.45,0.3,0.08,0.4,0.42,0.54,0.54,0.54,0.42,0.09,0.36,0.09,0.47,0.09,0.38,0.45,0.38,0.42,0.27,0.09,0.27,0.34,0.28,0.42,0.41,0.1,0.43,0.0,0.27,0.41,0.39,0.5,0.07,0.07,0.07,0.12,0.0,0.34,0.0,0.0,0.37,0.0,0.35,0.26,0.0,0.33,0.35,0.0,0.21,0.34,0.07,0.35,0.43,0.45,0.45,0.15,0.24,0.3,0.32,0.11,0.3,0.23,0.43,0.12,0.45,0.42,0.47,0.32,0.23,0.25,0.35,0.0,0.25,0.51,0.18,0.43,0.43,0.57,0.43,0.42,0.24,0.24,0.5,0.26,0.39,0.27,0.29,0.34,0.0,0.46,0.31,0.31,0.0,0.03,0.0,0.0,0.33,0.33,0.43,0.4,0.07,0.23,0.3,0.03,0.3,0.23,0.05,0.57,0.0,0.37,0.0,0.12,0.22,0.23,0.21,0.26,0.23,0.21,0.36,0.39,0.19,0.46,0.46,0.46,0.55,0.46,0.43,0.02,0.15,0.02,0.42,0.46,0.46,0.31,0.37,0.31,0.4,0.52,0.52,0.22,0.47,0.49,0.23,0.03,0.25,0.0,0.29,0.34,0.01,0.29,0.37,0.01,0.32,0.0,0.01,0.0,0.0,0.2,0.39,0.41,0.22,0.25,0.19,0.07,0.19,0.33,0.01,0.01,0.14,0.0,0.0,0.06,0.02,0.22,0.28,0.0,0.0,0.68,0.0,0.38,0.0,0.32,0.05,0.05,0.5,0.31,0.03,0.01,0.2,0.0,0.2,0.13,0.22,0.4,0.0,0.22,0.39,0.2,0.2,0.0,0.28,0.19,0.5,0.44,0.08,0.3,0.3,0.0,0.1,0.13,0.0,0.1,0.0,0.0,0.14,0.0,0.0,0.0,0.07,0.32,0.44,0.21,0.26,0.32,0.09,0.32,0.1,0.26,0.15,0.21,0.21,0.21,0.27,0.0,0.46,0.27,0.68,0.34,0.0,0.42,0.39,0.24,0.24,0.24,0.24,0.11,0.26,0.26,0.26,0.1,0.22,0.0,0.02,0.0,0.0,0.0,0.02,0.02,0.02,0.02,0.02,0.48,0.24,0.01,0.03,0.03,0.0,0.29,0.01,0.03,0.03,0.03,0.25,0.25,0.24,0.17,0.4,0.31,0.14,0.4,0.27,0.02,0.09,0.08,0.3,0.32,0.0,0.51,0.56,0.51,0.27,0.0,0.26,0.2,0.26,0.15,0.02,0.02,0.09,0.22,0.22,0.15,0.25,0.07,0.07,0.31,0.02,0.0,0.22,0.06,0.25,0.14,0.1,0.1,0.26,0.12,0.0,0.21,0.21,0.42,0.33,0.39,0.3,0.34,0.0,0.36,0.0,0.0,0.4,0.34,0.25,0.59,0.0,0.59,0.33,0.01,0.21,0.01,0.18,0.0,0.09,0.37,0.37,0.37,0.33,0.0,0.4,0.24,0.31,0.0,0.16,0.37,0.37,0.38,0.29,0.0,0.02,0.32,0.19,0.02,0.2,0.02,0.19,0.02,0.0,0.01,0.31,0.32,0.44,0.02,0.33,0.63,0.0,0.06,0.33,0.4,0.35,0.09,0.0,0.03,0.01,0.1,0.1,0.32,0.08,0.32,0.05,0.11,0.08,0.6,0.08,0.5,0.11,0.5,0.11,0.05,0.6,0.03,0.6,0.54,0.44,0.06,0.16,0.21,0.05,0.04,0.1,0.49,0.04,0.06,0.26,0.09,0.02,0.26,0.03,0.04,0.03,0.04,0.29,0.18,0.39,0.57,0.02,0.05,0.57,0.6,0.4,0.21,0.04,0.04,0.15,0.21,0.21,0.25,0.06,0.46,0.08,0.06,0.2,0.25,0.25,0.19,0.08,0.08,0.07,0.49,0.08,0.09,0.1,0.13,0.3,0.14,0.13,0.08,0.08,0.09,0.32,0.08,0.29,0.02,0.42,0.43,0.33,0.02,0.1,0.5,0.3,0.0,0.0,0.01,0.0,0.02,0.17,0.04,0.02,0.33,0.26,0.26,0.26,0.13,0.13,0.13,0.02,0.64,0.13,0.13,0.14,0.53,0.14,0.32,0.2,0.78,0.4,0.63,0.15,0.15,0.09,0.33,0.09,0.1,0.29,0.44,0.44,0.41,0.11,0.33,0.2,0.15,0.09,0.13,0.08,0.08,0.1,0.13,0.12,0.47]}],\"marker\":{\"color\":\"#B1D182\",\"line\":{\"color\":\"white\",\"width\":0},\"showscale\":false,\"size\":4},\"type\":\"splom\"}],                        {\"template\":{\"data\":{\"barpolar\":[{\"marker\":{\"line\":{\"color\":\"white\",\"width\":0.5},\"pattern\":{\"fillmode\":\"overlay\",\"size\":10,\"solidity\":0.2}},\"type\":\"barpolar\"}],\"bar\":[{\"error_x\":{\"color\":\"#2a3f5f\"},\"error_y\":{\"color\":\"#2a3f5f\"},\"marker\":{\"line\":{\"color\":\"white\",\"width\":0.5},\"pattern\":{\"fillmode\":\"overlay\",\"size\":10,\"solidity\":0.2}},\"type\":\"bar\"}],\"carpet\":[{\"aaxis\":{\"endlinecolor\":\"#2a3f5f\",\"gridcolor\":\"#C8D4E3\",\"linecolor\":\"#C8D4E3\",\"minorgridcolor\":\"#C8D4E3\",\"startlinecolor\":\"#2a3f5f\"},\"baxis\":{\"endlinecolor\":\"#2a3f5f\",\"gridcolor\":\"#C8D4E3\",\"linecolor\":\"#C8D4E3\",\"minorgridcolor\":\"#C8D4E3\",\"startlinecolor\":\"#2a3f5f\"},\"type\":\"carpet\"}],\"choropleth\":[{\"colorbar\":{\"outlinewidth\":0,\"ticks\":\"\"},\"type\":\"choropleth\"}],\"contourcarpet\":[{\"colorbar\":{\"outlinewidth\":0,\"ticks\":\"\"},\"type\":\"contourcarpet\"}],\"contour\":[{\"colorbar\":{\"outlinewidth\":0,\"ticks\":\"\"},\"colorscale\":[[0.0,\"#0d0887\"],[0.1111111111111111,\"#46039f\"],[0.2222222222222222,\"#7201a8\"],[0.3333333333333333,\"#9c179e\"],[0.4444444444444444,\"#bd3786\"],[0.5555555555555556,\"#d8576b\"],[0.6666666666666666,\"#ed7953\"],[0.7777777777777778,\"#fb9f3a\"],[0.8888888888888888,\"#fdca26\"],[1.0,\"#f0f921\"]],\"type\":\"contour\"}],\"heatmapgl\":[{\"colorbar\":{\"outlinewidth\":0,\"ticks\":\"\"},\"colorscale\":[[0.0,\"#0d0887\"],[0.1111111111111111,\"#46039f\"],[0.2222222222222222,\"#7201a8\"],[0.3333333333333333,\"#9c179e\"],[0.4444444444444444,\"#bd3786\"],[0.5555555555555556,\"#d8576b\"],[0.6666666666666666,\"#ed7953\"],[0.7777777777777778,\"#fb9f3a\"],[0.8888888888888888,\"#fdca26\"],[1.0,\"#f0f921\"]],\"type\":\"heatmapgl\"}],\"heatmap\":[{\"colorbar\":{\"outlinewidth\":0,\"ticks\":\"\"},\"colorscale\":[[0.0,\"#0d0887\"],[0.1111111111111111,\"#46039f\"],[0.2222222222222222,\"#7201a8\"],[0.3333333333333333,\"#9c179e\"],[0.4444444444444444,\"#bd3786\"],[0.5555555555555556,\"#d8576b\"],[0.6666666666666666,\"#ed7953\"],[0.7777777777777778,\"#fb9f3a\"],[0.8888888888888888,\"#fdca26\"],[1.0,\"#f0f921\"]],\"type\":\"heatmap\"}],\"histogram2dcontour\":[{\"colorbar\":{\"outlinewidth\":0,\"ticks\":\"\"},\"colorscale\":[[0.0,\"#0d0887\"],[0.1111111111111111,\"#46039f\"],[0.2222222222222222,\"#7201a8\"],[0.3333333333333333,\"#9c179e\"],[0.4444444444444444,\"#bd3786\"],[0.5555555555555556,\"#d8576b\"],[0.6666666666666666,\"#ed7953\"],[0.7777777777777778,\"#fb9f3a\"],[0.8888888888888888,\"#fdca26\"],[1.0,\"#f0f921\"]],\"type\":\"histogram2dcontour\"}],\"histogram2d\":[{\"colorbar\":{\"outlinewidth\":0,\"ticks\":\"\"},\"colorscale\":[[0.0,\"#0d0887\"],[0.1111111111111111,\"#46039f\"],[0.2222222222222222,\"#7201a8\"],[0.3333333333333333,\"#9c179e\"],[0.4444444444444444,\"#bd3786\"],[0.5555555555555556,\"#d8576b\"],[0.6666666666666666,\"#ed7953\"],[0.7777777777777778,\"#fb9f3a\"],[0.8888888888888888,\"#fdca26\"],[1.0,\"#f0f921\"]],\"type\":\"histogram2d\"}],\"histogram\":[{\"marker\":{\"pattern\":{\"fillmode\":\"overlay\",\"size\":10,\"solidity\":0.2}},\"type\":\"histogram\"}],\"mesh3d\":[{\"colorbar\":{\"outlinewidth\":0,\"ticks\":\"\"},\"type\":\"mesh3d\"}],\"parcoords\":[{\"line\":{\"colorbar\":{\"outlinewidth\":0,\"ticks\":\"\"}},\"type\":\"parcoords\"}],\"pie\":[{\"automargin\":true,\"type\":\"pie\"}],\"scatter3d\":[{\"line\":{\"colorbar\":{\"outlinewidth\":0,\"ticks\":\"\"}},\"marker\":{\"colorbar\":{\"outlinewidth\":0,\"ticks\":\"\"}},\"type\":\"scatter3d\"}],\"scattercarpet\":[{\"marker\":{\"colorbar\":{\"outlinewidth\":0,\"ticks\":\"\"}},\"type\":\"scattercarpet\"}],\"scattergeo\":[{\"marker\":{\"colorbar\":{\"outlinewidth\":0,\"ticks\":\"\"}},\"type\":\"scattergeo\"}],\"scattergl\":[{\"marker\":{\"colorbar\":{\"outlinewidth\":0,\"ticks\":\"\"}},\"type\":\"scattergl\"}],\"scattermapbox\":[{\"marker\":{\"colorbar\":{\"outlinewidth\":0,\"ticks\":\"\"}},\"type\":\"scattermapbox\"}],\"scatterpolargl\":[{\"marker\":{\"colorbar\":{\"outlinewidth\":0,\"ticks\":\"\"}},\"type\":\"scatterpolargl\"}],\"scatterpolar\":[{\"marker\":{\"colorbar\":{\"outlinewidth\":0,\"ticks\":\"\"}},\"type\":\"scatterpolar\"}],\"scatter\":[{\"marker\":{\"colorbar\":{\"outlinewidth\":0,\"ticks\":\"\"}},\"type\":\"scatter\"}],\"scatterternary\":[{\"marker\":{\"colorbar\":{\"outlinewidth\":0,\"ticks\":\"\"}},\"type\":\"scatterternary\"}],\"surface\":[{\"colorbar\":{\"outlinewidth\":0,\"ticks\":\"\"},\"colorscale\":[[0.0,\"#0d0887\"],[0.1111111111111111,\"#46039f\"],[0.2222222222222222,\"#7201a8\"],[0.3333333333333333,\"#9c179e\"],[0.4444444444444444,\"#bd3786\"],[0.5555555555555556,\"#d8576b\"],[0.6666666666666666,\"#ed7953\"],[0.7777777777777778,\"#fb9f3a\"],[0.8888888888888888,\"#fdca26\"],[1.0,\"#f0f921\"]],\"type\":\"surface\"}],\"table\":[{\"cells\":{\"fill\":{\"color\":\"#EBF0F8\"},\"line\":{\"color\":\"white\"}},\"header\":{\"fill\":{\"color\":\"#C8D4E3\"},\"line\":{\"color\":\"white\"}},\"type\":\"table\"}]},\"layout\":{\"annotationdefaults\":{\"arrowcolor\":\"#2a3f5f\",\"arrowhead\":0,\"arrowwidth\":1},\"autotypenumbers\":\"strict\",\"coloraxis\":{\"colorbar\":{\"outlinewidth\":0,\"ticks\":\"\"}},\"colorscale\":{\"diverging\":[[0,\"#8e0152\"],[0.1,\"#c51b7d\"],[0.2,\"#de77ae\"],[0.3,\"#f1b6da\"],[0.4,\"#fde0ef\"],[0.5,\"#f7f7f7\"],[0.6,\"#e6f5d0\"],[0.7,\"#b8e186\"],[0.8,\"#7fbc41\"],[0.9,\"#4d9221\"],[1,\"#276419\"]],\"sequential\":[[0.0,\"#0d0887\"],[0.1111111111111111,\"#46039f\"],[0.2222222222222222,\"#7201a8\"],[0.3333333333333333,\"#9c179e\"],[0.4444444444444444,\"#bd3786\"],[0.5555555555555556,\"#d8576b\"],[0.6666666666666666,\"#ed7953\"],[0.7777777777777778,\"#fb9f3a\"],[0.8888888888888888,\"#fdca26\"],[1.0,\"#f0f921\"]],\"sequentialminus\":[[0.0,\"#0d0887\"],[0.1111111111111111,\"#46039f\"],[0.2222222222222222,\"#7201a8\"],[0.3333333333333333,\"#9c179e\"],[0.4444444444444444,\"#bd3786\"],[0.5555555555555556,\"#d8576b\"],[0.6666666666666666,\"#ed7953\"],[0.7777777777777778,\"#fb9f3a\"],[0.8888888888888888,\"#fdca26\"],[1.0,\"#f0f921\"]]},\"colorway\":[\"#636efa\",\"#EF553B\",\"#00cc96\",\"#ab63fa\",\"#FFA15A\",\"#19d3f3\",\"#FF6692\",\"#B6E880\",\"#FF97FF\",\"#FECB52\"],\"font\":{\"color\":\"#2a3f5f\"},\"geo\":{\"bgcolor\":\"white\",\"lakecolor\":\"white\",\"landcolor\":\"white\",\"showlakes\":true,\"showland\":true,\"subunitcolor\":\"#C8D4E3\"},\"hoverlabel\":{\"align\":\"left\"},\"hovermode\":\"closest\",\"mapbox\":{\"style\":\"light\"},\"paper_bgcolor\":\"white\",\"plot_bgcolor\":\"white\",\"polar\":{\"angularaxis\":{\"gridcolor\":\"#EBF0F8\",\"linecolor\":\"#EBF0F8\",\"ticks\":\"\"},\"bgcolor\":\"white\",\"radialaxis\":{\"gridcolor\":\"#EBF0F8\",\"linecolor\":\"#EBF0F8\",\"ticks\":\"\"}},\"scene\":{\"xaxis\":{\"backgroundcolor\":\"white\",\"gridcolor\":\"#DFE8F3\",\"gridwidth\":2,\"linecolor\":\"#EBF0F8\",\"showbackground\":true,\"ticks\":\"\",\"zerolinecolor\":\"#EBF0F8\"},\"yaxis\":{\"backgroundcolor\":\"white\",\"gridcolor\":\"#DFE8F3\",\"gridwidth\":2,\"linecolor\":\"#EBF0F8\",\"showbackground\":true,\"ticks\":\"\",\"zerolinecolor\":\"#EBF0F8\"},\"zaxis\":{\"backgroundcolor\":\"white\",\"gridcolor\":\"#DFE8F3\",\"gridwidth\":2,\"linecolor\":\"#EBF0F8\",\"showbackground\":true,\"ticks\":\"\",\"zerolinecolor\":\"#EBF0F8\"}},\"shapedefaults\":{\"line\":{\"color\":\"#2a3f5f\"}},\"ternary\":{\"aaxis\":{\"gridcolor\":\"#DFE8F3\",\"linecolor\":\"#A2B1C6\",\"ticks\":\"\"},\"baxis\":{\"gridcolor\":\"#DFE8F3\",\"linecolor\":\"#A2B1C6\",\"ticks\":\"\"},\"bgcolor\":\"white\",\"caxis\":{\"gridcolor\":\"#DFE8F3\",\"linecolor\":\"#A2B1C6\",\"ticks\":\"\"}},\"title\":{\"x\":0.05},\"xaxis\":{\"automargin\":true,\"gridcolor\":\"#EBF0F8\",\"linecolor\":\"#EBF0F8\",\"ticks\":\"\",\"title\":{\"standoff\":15},\"zerolinecolor\":\"#EBF0F8\",\"zerolinewidth\":2},\"yaxis\":{\"automargin\":true,\"gridcolor\":\"#EBF0F8\",\"linecolor\":\"#EBF0F8\",\"ticks\":\"\",\"title\":{\"standoff\":15},\"zerolinecolor\":\"#EBF0F8\",\"zerolinewidth\":2}}},\"title\":{\"text\":\"Scatter Matrix\",\"x\":0.5},\"font\":{\"size\":13},\"width\":1200,\"height\":1100},                        {\"responsive\": true}                    ).then(function(){\n",
              "                            \n",
              "var gd = document.getElementById('5ef8504f-74e1-4ac3-99b6-e7564729af00');\n",
              "var x = new MutationObserver(function (mutations, observer) {{\n",
              "        var display = window.getComputedStyle(gd).display;\n",
              "        if (!display || display === 'none') {{\n",
              "            console.log([gd, 'removed!']);\n",
              "            Plotly.purge(gd);\n",
              "            observer.disconnect();\n",
              "        }}\n",
              "}});\n",
              "\n",
              "// Listen for the removal of the full notebook cells\n",
              "var notebookContainer = gd.closest('#notebook-container');\n",
              "if (notebookContainer) {{\n",
              "    x.observe(notebookContainer, {childList: true});\n",
              "}}\n",
              "\n",
              "// Listen for the clearing of the current output cell\n",
              "var outputEl = gd.closest('.output');\n",
              "if (outputEl) {{\n",
              "    x.observe(outputEl, {childList: true});\n",
              "}}\n",
              "\n",
              "                        })                };                            </script>        </div>\n",
              "</body>\n",
              "</html>"
            ]
          },
          "metadata": {}
        }
      ],
      "source": [
        "fig = go.Figure(data=go.Splom(\n",
        "                dimensions=[dict(label='fixed acidity',\n",
        "                                 values=df_wine['fixed acidity']),\n",
        "                            dict(label='volatile acidity',\n",
        "                                 values=df_wine['volatile acidity']),\n",
        "                            dict(label='free sulfur dioxide',\n",
        "                                 values=df_wine['free sulfur dioxide']),\n",
        "                            dict(label='total sulfur dioxide',\n",
        "                                 values=df_wine['total sulfur dioxide']),\n",
        "                            dict(label='chlorides',\n",
        "                                 values=df_wine['chlorides']),\n",
        "                            dict(label='alcohol',\n",
        "                                 values=df_wine['alcohol']),\n",
        "                            dict(label='residual sugar',\n",
        "                                 values=df_wine['residual sugar']),\n",
        "                            dict(label='citric acid',\n",
        "                                 values=df_wine['citric acid'])],\n",
        "                diagonal_visible=False, # remove plots on diagonal\n",
        "                marker=dict(color=colors[2],\n",
        "                            showscale=False, \n",
        "                            size=4,# colors encode categorical variables\n",
        "                            line_color='white', line_width=0)\n",
        "                ))\n",
        "\n",
        "fig.update_layout(\n",
        "    template=\"plotly_white\",\n",
        "    title='Scatter Matrix',\n",
        "    title_x=0.5,\n",
        "    width=1200,\n",
        "    height=1100,\n",
        "    font=dict(size=13)\n",
        ")\n",
        "fig.show()"
      ]
    },
    {
      "cell_type": "markdown",
      "source": [
        "We noticed that some variables are not in a linear relationship with the dependent variable. Then visualize them to make sure"
      ],
      "metadata": {
        "id": "J-jKxM2jfrVD"
      }
    },
    {
      "cell_type": "code",
      "source": [
        "fig = go.Figure(data=go.Splom(\n",
        "                dimensions=[dict(label='free sulfur dioxide',\n",
        "                                 values=df_wine['free sulfur dioxide']),\n",
        "                            dict(label='total sulfur dioxide',\n",
        "                                 values=df_wine['total sulfur dioxide']),\n",
        "                            dict(label='alcohol',\n",
        "                                 values=df_wine['alcohol']),\n",
        "                            dict(label='citric acid',\n",
        "                                 values=df_wine['citric acid'])],\n",
        "                diagonal_visible=False, # remove plots on diagonal\n",
        "                marker=dict(color=colors[1],\n",
        "                            showscale=False, \n",
        "                            size=4,# colors encode categorical variables\n",
        "                            line_color='white', line_width=0)\n",
        "                ))\n",
        "\n",
        "fig.update_layout(\n",
        "    template=\"plotly_white\",\n",
        "    title='Scatter Matrix',\n",
        "    title_x=0.5,\n",
        "    width=1200,\n",
        "    height=1100,\n",
        "    font=dict(size=13)\n",
        ")\n",
        "fig.show()"
      ],
      "metadata": {
        "colab": {
          "base_uri": "https://localhost:8080/",
          "height": 1000
        },
        "id": "DWzm5WyWBuhD",
        "outputId": "c5203075-b0a1-490b-cdea-b83932c416c5"
      },
      "execution_count": 28,
      "outputs": [
        {
          "output_type": "display_data",
          "data": {
            "text/html": [
              "<html>\n",
              "<head><meta charset=\"utf-8\" /></head>\n",
              "<body>\n",
              "    <div>            <script src=\"https://cdnjs.cloudflare.com/ajax/libs/mathjax/2.7.5/MathJax.js?config=TeX-AMS-MML_SVG\"></script><script type=\"text/javascript\">if (window.MathJax) {MathJax.Hub.Config({SVG: {font: \"STIX-Web\"}});}</script>                <script type=\"text/javascript\">window.PlotlyConfig = {MathJaxConfig: 'local'};</script>\n",
              "        <script src=\"https://cdn.plot.ly/plotly-2.8.3.min.js\"></script>                <div id=\"0ef97dcb-08e2-43d5-ae55-28b10ae5ef94\" class=\"plotly-graph-div\" style=\"height:1100px; width:1200px;\"></div>            <script type=\"text/javascript\">                                    window.PLOTLYENV=window.PLOTLYENV || {};                                    if (document.getElementById(\"0ef97dcb-08e2-43d5-ae55-28b10ae5ef94\")) {                    Plotly.newPlot(                        \"0ef97dcb-08e2-43d5-ae55-28b10ae5ef94\",                        [{\"diagonal\":{\"visible\":false},\"dimensions\":[{\"label\":\"free sulfur dioxide\",\"values\":[11.0,25.0,15.0,17.0,11.0,13.0,15.0,15.0,9.0,17.0,15.0,17.0,16.0,9.0,52.0,51.0,35.0,16.0,6.0,17.0,29.0,23.0,10.0,9.0,21.0,11.0,4.0,10.0,14.0,8.0,17.0,22.0,15.0,40.0,13.0,5.0,3.0,13.0,7.0,12.0,12.0,17.0,8.0,9.0,5.0,8.0,22.0,12.0,5.0,12.0,4.0,8.0,6.0,30.0,33.0,25.0,4.0,50.0,17.0,9.0,19.0,20.0,12.0,13.0,4.0,4.0,11.0,6.0,27.0,8.0,15.0,17.0,18.0,11.0,28.0,9.0,9.0,14.0,12.0,27.0,3.0,22.0,21.0,16.0,18.0,19.0,20.0,9.0,34.0,8.0,42.0,20.0,19.0,9.0,41.0,17.0,8.0,3.0,5.0,13.0,11.0,8.0,13.0,12.0,5.0,12.0,18.0,15.0,18.0,37.0,12.0,11.0,14.0,22.0,12.0,13.0,11.0,7.0,14.0,22.0,10.0,14.0,3.0,11.0,21.0,27.0,3.0,3.0,3.0,6.0,30.0,17.0,17.0,17.0,13.0,16.0,10.0,13.0,15.0,17.0,16.0,10.0,27.0,3.0,27.0,32.0,21.0,10.0,12.0,11.0,5.0,32.0,25.0,25.0,29.0,28.0,29.0,28.0,12.0,18.0,7.0,9.0,17.0,36.0,35.0,14.0,18.0,17.0,11.0,15.0,4.0,6.0,6.0,24.0,7.0,19.0,7.0,8.0,7.0,10.0,10.0,23.0,16.0,11.0,8.0,26.0,14.0,9.0,15.0,17.0,21.0,21.0,16.0,7.0,7.0,24.0,15.0,12.0,13.0,12.0,9.0,39.0,16.0,16.0,14.0,9.0,9.0,26.0,18.0,7.0,5.0,10.0,5.0,28.0,10.0,26.0,13.0,11.0,10.0,24.0,24.0,16.0,5.0,8.0,15.0,29.0,27.0,9.0,29.0,10.0,19.0,12.0,18.0,10.0,7.0,14.0,14.0,15.0,14.0,7.0,5.0,6.0,28.0,10.0,10.0,6.0,16.0,11.0,9.0,6.0,16.0,16.0,5.0,8.0,16.0,17.0,5.0,12.0,8.0,14.0,18.0,12.0,10.0,23.0,5.0,6.0,26.0,15.0,7.0,4.0,27.0,4.0,17.0,10.0,27.0,27.0,7.0,4.0,5.0,10.0,6.0,5.0,12.0,10.0,32.0,32.0,25.0,29.0,20.0,33.0,20.0,6.0,18.0,5.0,17.0,5.0,26.0,8.0,5.0,8.0,20.0,7.0,12.0,5.0,12.0,6.0,7.0,6.0,5.0,9.0,6.0,15.0,19.0,30.0,26.0,20.0,37.0,30.0,21.0,30.0,21.0,25.0,6.0,35.0,13.0,13.0,6.0,5.0,6.0,7.0,10.0,10.0,21.0,16.0,17.0,7.0,6.0,29.0,28.0,12.0,10.0,5.0,6.0,6.0,6.0,40.0,17.0,6.0,15.0,11.0,17.0,11.0,8.0,23.0,40.5,17.0,29.0,12.0,10.0,10.0,14.0,21.0,6.0,6.0,7.0,7.0,7.0,11.0,15.0,6.0,35.0,11.0,26.0,12.0,6.0,6.0,19.0,6.0,6.0,24.0,11.0,17.0,11.0,11.0,23.0,11.0,23.0,17.0,23.0,16.0,12.0,17.0,6.0,13.0,6.0,7.0,68.0,13.0,13.0,9.0,68.0,20.0,19.0,10.0,15.0,11.0,9.0,12.0,6.0,26.0,26.0,23.0,15.0,6.0,24.0,31.0,6.0,34.0,7.0,34.0,35.0,32.0,15.0,6.0,15.0,32.0,19.0,6.0,9.0,13.0,6.0,21.0,12.0,6.0,22.0,6.0,38.0,6.0,22.0,7.0,6.0,7.0,6.0,11.0,5.0,6.0,31.0,6.0,7.0,17.0,17.0,9.0,18.0,5.0,21.0,6.0,5.0,29.0,5.0,10.0,14.0,6.0,10.0,25.0,5.0,10.0,21.0,7.0,6.0,36.0,15.0,25.0,25.0,5.0,10.0,5.0,6.0,6.0,5.0,6.0,6.0,6.0,6.0,7.0,6.0,6.0,6.0,5.0,35.0,10.0,24.0,12.0,13.0,23.0,28.0,5.0,14.0,43.0,5.0,23.0,14.0,38.0,38.0,6.0,6.0,10.0,6.0,6.0,26.0,23.0,19.0,26.0,15.0,6.0,6.0,34.0,5.0,5.0,11.0,39.0,15.0,16.0,47.0,38.0,23.0,29.0,39.0,33.0,32.0,6.0,1.0,12.0,12.0,15.0,13.0,1.0,6.0,5.0,5.0,5.0,20.0,5.0,5.0,16.0,6.0,38.0,10.0,6.0,27.0,6.0,9.0,14.0,14.0,32.0,10.0,10.0,10.0,10.0,10.0,6.0,5.0,26.0,41.0,25.0,6.0,5.0,5.0,5.0,5.0,19.0,10.0,19.0,10.0,14.0,20.0,28.0,6.0,18.0,17.0,18.0,5.0,5.0,5.0,10.0,54.0,8.0,16.0,18.0,19.0,5.0,21.0,23.0,21.0,9.0,20.0,30.0,6.0,5.0,5.0,11.0,7.0,12.0,6.0,12.0,14.0,6.0,10.0,26.0,11.0,15.0,25.0,5.0,18.0,10.0,10.0,28.0,28.0,14.0,4.0,6.0,16.0,14.0,9.0,21.0,21.0,21.0,5.0,5.0,7.0,20.0,7.0,5.0,21.0,11.0,46.0,24.0,30.0,31.0,7.0,25.0,16.0,21.0,16.0,21.0,16.0,5.0,6.0,5.0,10.0,24.0,8.0,35.0,22.0,9.0,7.0,20.0,8.0,23.0,5.0,5.0,5.0,15.0,9.0,5.0,15.0,25.0,6.0,6.0,15.0,6.0,30.0,5.0,32.0,5.0,7.0,12.0,7.0,12.0,45.0,20.0,15.0,16.0,32.0,5.0,35.0,5.0,13.0,13.0,4.0,5.0,5.0,12.0,16.0,21.0,24.0,18.0,8.0,8.0,18.0,5.0,26.0,8.0,9.0,22.0,4.0,11.0,10.0,16.0,11.0,13.0,21.0,16.0,13.0,10.0,21.0,13.0,10.0,12.0,10.0,17.0,10.0,35.0,15.0,36.0,5.0,5.0,18.0,4.0,4.0,27.0,12.0,4.0,10.0,16.0,9.0,11.0,11.0,19.0,28.0,19.0,12.0,28.0,9.0,25.0,21.0,12.0,12.0,16.0,12.0,12.0,17.0,17.0,24.0,17.0,14.0,22.0,15.0,10.0,10.0,33.0,9.0,5.0,8.0,5.0,11.0,12.0,12.0,13.0,24.0,7.0,24.0,23.0,23.0,1.0,2.0,7.0,5.5,6.0,7.0,21.0,12.0,9.0,26.0,9.0,20.0,11.0,11.0,19.0,19.0,21.0,18.0,25.0,17.0,7.0,7.0,7.0,24.0,21.0,5.0,5.0,26.0,8.0,14.0,14.0,4.0,4.0,4.0,4.0,4.0,4.0,4.0,7.0,20.0,4.0,19.0,20.0,8.0,19.0,21.0,9.0,9.0,16.0,15.0,15.0,6.0,15.0,4.0,15.0,34.0,16.0,5.0,16.0,34.0,36.0,16.0,27.0,36.0,36.0,9.0,13.0,9.0,21.0,34.0,9.0,26.0,14.0,14.0,12.0,14.0,12.0,9.0,9.0,26.0,41.0,41.0,10.0,41.0,16.0,17.0,15.0,15.0,15.0,7.0,17.0,15.0,16.0,13.0,13.0,15.0,27.0,31.0,36.0,28.0,6.0,6.0,7.0,7.0,31.0,30.0,18.0,10.0,30.0,14.0,18.0,30.0,9.0,8.0,29.0,32.0,23.0,30.0,16.0,10.0,16.0,17.0,27.0,17.0,27.0,17.0,6.0,10.0,16.0,16.0,11.0,11.0,15.0,12.0,6.0,34.0,7.0,3.0,3.0,4.0,3.0,7.0,3.0,7.0,26.0,32.0,38.0,10.0,32.0,38.0,26.0,14.0,53.0,52.0,11.0,14.0,10.0,8.0,13.0,29.0,13.0,8.0,19.0,19.0,6.0,23.0,7.0,13.0,9.0,13.0,10.0,11.0,7.0,11.0,6.0,10.0,10.0,10.0,6.0,6.0,5.0,6.0,9.0,5.0,12.0,25.0,12.0,18.0,7.0,6.0,20.0,18.0,24.0,6.0,23.0,29.0,7.0,6.0,6.0,6.0,6.0,7.0,35.0,35.0,31.0,9.0,3.0,8.0,13.0,51.0,8.0,3.0,7.0,3.0,35.0,19.0,14.0,19.0,31.0,30.0,31.0,20.0,19.0,3.0,3.0,4.0,7.0,6.0,31.0,13.0,4.0,27.0,4.0,13.0,12.0,12.0,26.0,7.0,12.0,11.0,22.0,3.0,14.0,12.0,36.0,36.0,10.0,3.0,3.0,4.0,3.0,12.0,17.0,14.0,28.0,41.0,12.0,9.0,9.0,5.0,14.0,15.0,5.0,26.0,20.0,25.0,21.0,16.0,13.0,21.0,18.0,12.0,32.0,33.0,27.0,3.0,6.0,27.0,16.0,19.0,9.0,5.0,5.0,3.0,28.0,30.0,3.0,3.0,7.0,6.0,6.0,5.0,6.0,13.0,3.0,3.0,28.0,19.0,30.0,33.0,16.0,30.0,45.0,3.0,3.0,3.0,37.5,3.0,37.5,31.0,32.0,31.0,40.0,3.0,18.0,22.0,22.0,42.0,8.0,10.0,11.0,9.0,6.0,9.0,5.0,5.0,5.0,23.0,14.0,18.0,14.0,16.0,13.0,9.0,10.0,4.0,27.0,6.0,23.0,6.0,3.0,29.0,15.0,15.0,15.0,14.0,7.0,8.0,21.0,27.0,17.0,3.0,13.0,3.0,26.0,28.0,24.0,5.0,57.0,18.0,10.0,6.0,22.0,6.0,6.0,29.0,16.0,33.0,24.0,6.0,16.0,35.0,31.0,6.0,6.0,9.0,6.0,4.0,16.0,9.0,17.0,50.0,9.0,45.0,16.0,22.0,11.0,6.0,12.0,12.0,10.0,10.0,15.0,7.0,29.0,8.0,5.0,5.0,26.0,5.0,26.0,26.0,48.0,23.0,6.0,17.0,11.0,11.0,5.0,41.0,16.0,11.0,6.0,6.0,6.0,11.0,5.0,6.0,6.0,11.0,6.0,15.0,21.0,23.0,4.0,19.0,23.0,4.0,5.0,6.0,33.0,24.0,24.0,24.0,24.0,24.0,14.0,8.0,22.0,8.0,5.0,6.0,20.0,10.0,43.0,8.0,25.0,17.0,17.0,33.0,9.0,8.0,18.0,27.0,8.0,18.0,19.0,15.0,48.0,19.0,14.0,11.0,6.0,7.0,11.0,12.0,11.0,36.0,28.0,15.0,10.0,72.0,15.0,15.0,15.0,22.0,24.0,24.0,27.0,6.0,6.0,20.0,26.0,43.0,12.0,15.0,15.0,19.0,17.0,34.0,13.0,26.0,16.0,16.0,13.0,21.0,28.0,26.0,24.0,25.0,34.0,17.0,13.0,3.0,3.0,13.0,3.0,28.0,28.0,9.0,17.0,18.0,20.0,17.0,3.0,20.0,20.0,6.0,25.0,14.0,6.0,25.0,51.0,51.0,15.0,11.0,5.0,15.0,20.0,4.0,28.0,21.0,24.0,22.0,15.0,22.0,27.0,24.0,12.0,14.0,20.0,24.0,17.0,16.0,10.0,17.0,18.0,12.0,16.0,9.0,21.0,18.0,18.0,18.0,18.0,13.0,17.0,17.0,31.0,6.0,12.0,4.0,19.0,15.0,15.0,15.0,13.0,13.0,13.0,17.0,13.0,8.0,10.0,5.0,7.0,7.0,21.0,32.0,8.0,14.0,14.0,7.0,5.0,4.0,27.0,52.0,6.0,11.0,13.0,6.0,11.0,10.0,10.0,10.0,9.0,16.0,4.0,12.0,5.0,12.0,34.0,16.0,13.0,7.0,23.0,10.0,11.0,11.0,4.0,25.0,25.0,20.0,34.0,8.0,8.0,7.0,36.0,15.0,5.0,5.0,19.0,27.0,3.0,4.0,17.0,13.0,10.0,33.0,33.0,6.0,3.0,12.0,18.0,8.0,40.0,35.0,40.0,5.0,8.0,8.0,12.0,3.0,8.0,3.0,21.0,3.0,32.0,3.0,24.0,39.0,14.0,8.0,8.0,23.0,6.0,27.0,38.0,18.0,13.0,3.0,11.0,55.0,55.0,27.0,15.0,3.0,31.0,15.0,19.0,18.0,8.0,31.0,19.0,18.0,22.0,40.0,15.0,15.0,8.0,37.0,27.0,7.0,9.0,38.0,27.0,8.0,7.0,34.0,6.0,14.0,14.0,34.0,34.0,31.0,19.0,31.0,20.0,8.0,8.0,23.0,14.0,48.0,16.0,48.0,16.0,3.0,10.0,6.0,10.0,3.0,6.0,4.0,8.0,9.0,9.0,5.0,4.0,8.0,5.0,6.0,23.0,15.0,15.0,23.0,7.0,7.0,7.0,8.0,21.0,15.0,6.0,5.0,6.0,6.0,5.0,17.0,7.0,26.0,19.0,11.0,17.0,16.0,16.0,23.0,29.0,7.0,14.0,29.0,9.0,23.0,29.0,22.0,18.0,18.0,15.0,21.0,42.0,9.0,13.0,18.0,32.0,13.0,15.0,24.0,20.0,15.0,34.0,11.0,19.0,29.0,14.0,12.0,16.0,17.0,12.0,19.0,17.0,17.0,18.0,32.0,18.0,15.0,15.0,12.0,15.0,66.0,31.0,31.0,31.0,12.0,12.0,12.0,26.0,24.0,12.0,25.0,15.0,19.0,15.0,35.0,15.0,23.0,12.0,16.0,13.0,13.0,24.0,9.0,24.0,13.0,32.0,24.0,22.0,34.0,18.0,34.0,29.0,26.0,16.0,29.0,28.0,32.0,39.0,29.0,32.0,18.0]},{\"label\":\"total sulfur dioxide\",\"values\":[34.0,67.0,54.0,60.0,34.0,40.0,59.0,21.0,18.0,102.0,65.0,102.0,59.0,29.0,145.0,148.0,103.0,56.0,29.0,56.0,60.0,71.0,37.0,67.0,40.0,23.0,11.0,37.0,35.0,16.0,82.0,37.0,113.0,83.0,50.0,18.0,15.0,30.0,19.0,87.0,87.0,46.0,14.0,23.0,11.0,65.0,114.0,37.0,12.0,96.0,23.0,15.0,14.0,119.0,73.0,45.0,10.0,110.0,54.0,46.0,52.0,112.0,35.0,54.0,11.0,11.0,39.0,15.0,65.0,19.0,27.0,96.0,94.0,43.0,83.0,42.0,42.0,30.0,80.0,119.0,15.0,67.0,73.0,51.0,61.0,40.0,136.0,31.0,125.0,24.0,140.0,136.0,133.0,31.0,85.0,106.0,23.0,22.0,10.0,35.0,50.0,22.0,35.0,65.0,36.0,65.0,69.0,64.0,80.0,153.0,47.0,108.0,111.0,46.0,47.0,62.0,40.0,28.0,56.0,89.0,89.0,56.0,13.0,34.0,102.0,90.0,12.0,12.0,16.0,19.0,134.0,99.0,99.0,26.0,29.0,63.0,52.0,45.0,105.0,108.0,63.0,52.0,63.0,20.0,63.0,141.0,94.0,88.0,30.0,43.0,11.0,69.0,99.0,99.0,129.0,128.0,129.0,128.0,22.0,86.0,20.0,20.0,31.0,121.0,121.0,96.0,101.0,42.0,44.0,63.0,8.0,18.0,18.0,42.0,35.0,49.0,35.0,38.0,20.0,42.0,42.0,110.0,42.0,65.0,62.0,85.0,67.0,26.0,143.0,144.0,127.0,49.0,126.0,28.0,28.0,120.0,55.0,27.0,93.0,31.0,24.0,145.0,49.0,39.0,37.0,28.0,28.0,120.0,95.0,19.0,19.0,62.0,15.0,65.0,41.0,121.0,49.0,41.0,44.0,144.0,58.0,72.0,10.0,28.0,55.0,63.0,81.0,23.0,63.0,37.0,106.0,49.0,58.0,37.0,37.0,38.0,38.0,39.0,38.0,37.0,62.0,24.0,109.0,24.0,24.0,23.0,51.0,73.0,39.0,23.0,37.0,34.0,21.0,86.0,34.0,119.0,13.0,56.0,45.0,33.0,45.0,67.0,35.0,49.0,27.0,10.0,61.0,37.0,27.0,23.0,61.0,23.0,65.0,38.0,94.0,61.0,27.0,23.0,13.0,47.0,19.0,10.0,53.0,47.0,71.0,71.0,49.0,53.0,49.0,98.0,49.0,18.0,48.0,16.0,53.0,27.0,70.0,29.0,31.0,33.0,44.0,15.0,28.0,21.0,90.0,25.0,54.0,14.0,12.0,30.0,25.0,105.0,98.0,135.0,72.0,53.0,92.0,74.0,59.0,74.0,59.0,87.0,18.0,73.0,50.0,50.0,14.0,13.0,21.0,15.0,41.0,41.0,114.0,44.0,38.0,21.0,16.0,58.0,99.0,29.0,21.0,18.0,14.0,14.0,32.0,63.0,34.0,15.0,46.0,28.0,34.0,26.0,19.0,77.0,165.0,32.0,55.0,29.0,23.0,41.0,81.0,50.0,37.0,15.0,42.0,21.0,42.0,24.0,75.0,18.0,63.0,25.0,46.0,72.0,47.0,15.0,47.0,18.0,24.0,60.0,27.0,43.0,27.0,27.0,54.0,37.0,48.0,42.0,53.0,49.0,88.0,43.0,26.0,95.0,25.0,38.0,124.0,49.0,49.0,42.0,124.0,38.0,64.0,41.0,27.0,25.0,28.0,30.0,16.0,49.0,86.0,78.0,77.0,19.0,122.0,134.0,20.0,124.0,20.0,52.0,67.0,48.0,60.0,24.0,60.0,48.0,48.0,32.0,30.0,35.0,24.0,66.0,24.0,18.0,54.0,18.0,62.0,22.0,54.0,50.0,29.0,27.0,43.0,19.0,27.0,31.0,72.0,16.0,27.0,35.0,35.0,26.0,35.0,22.0,67.0,19.0,22.0,65.0,22.0,47.0,23.0,19.0,25.0,129.0,15.0,26.0,51.0,18.0,21.0,48.0,47.0,52.0,68.0,14.0,24.0,28.0,16.0,20.0,28.0,31.0,23.0,17.0,18.0,18.0,24.0,17.0,17.0,14.0,67.0,26.0,56.0,25.0,27.0,81.0,91.0,16.0,38.0,113.0,16.0,81.0,38.0,76.0,76.0,24.0,22.0,26.0,21.0,13.0,62.0,43.0,43.0,62.0,49.0,15.0,15.0,151.0,14.0,16.0,32.0,106.0,33.0,43.0,133.0,142.0,116.0,53.0,106.0,85.0,55.0,33.0,28.0,42.0,42.0,33.0,32.0,28.0,33.0,13.0,35.0,17.0,47.0,17.0,20.0,53.0,15.0,106.0,28.0,21.0,69.0,25.0,25.0,45.0,44.0,96.0,23.0,23.0,17.0,23.0,17.0,47.0,19.0,121.0,110.0,60.0,47.0,19.0,15.0,15.0,20.0,42.0,37.0,42.0,28.0,47.0,78.0,46.0,14.0,111.0,110.0,40.0,14.0,14.0,15.0,21.0,80.0,38.0,47.0,102.0,50.0,13.0,75.0,149.0,75.0,43.0,38.0,109.0,24.0,18.0,30.0,22.0,23.0,35.0,14.0,35.0,63.0,24.0,20.0,52.0,65.0,39.0,57.0,16.0,29.0,29.0,103.0,71.0,71.0,28.0,17.0,16.0,112.0,104.0,32.0,45.0,58.0,58.0,15.0,15.0,31.0,84.0,31.0,19.0,43.0,86.0,102.0,33.0,147.0,145.0,23.0,57.0,40.0,68.0,40.0,68.0,40.0,11.0,20.0,14.0,28.0,148.0,32.0,155.0,71.0,30.0,29.0,53.0,32.0,42.0,20.0,13.0,20.0,42.0,27.0,13.0,54.0,48.0,16.0,15.0,31.0,15.0,45.0,13.0,151.0,13.0,17.0,31.0,17.0,31.0,87.0,49.0,40.0,29.0,58.0,15.0,152.0,15.0,40.0,38.0,9.0,17.0,14.0,93.0,62.0,122.0,125.0,44.0,25.0,25.0,72.0,19.0,88.0,25.0,23.0,84.0,14.0,54.0,19.0,37.0,35.0,33.0,84.0,112.0,33.0,48.0,77.0,34.0,48.0,49.0,22.0,45.0,22.0,106.0,48.0,127.0,12.0,13.0,49.0,11.0,11.0,58.0,37.0,14.0,19.0,72.0,39.0,22.0,22.0,58.0,104.0,38.0,16.0,139.0,18.0,101.0,101.0,28.0,57.0,68.0,31.0,28.0,40.0,40.0,66.0,40.0,32.0,47.0,33.0,31.0,31.0,88.0,104.0,35.0,19.0,35.0,44.0,48.0,74.0,98.0,94.0,32.0,94.0,143.0,144.0,44.0,45.0,16.0,48.0,18.0,34.0,92.0,45.0,37.0,96.0,37.0,85.0,61.0,61.0,58.0,58.0,119.0,82.0,130.0,87.0,13.0,26.0,60.0,64.0,42.0,14.0,14.0,108.0,17.0,86.0,46.0,18.0,10.0,10.0,10.0,12.0,15.0,14.0,24.0,38.0,7.0,41.0,38.0,30.0,27.0,47.0,59.0,22.0,42.0,36.0,36.0,16.0,37.0,8.0,37.0,45.0,24.0,9.0,24.0,48.0,51.0,23.0,55.0,100.0,100.0,28.0,26.0,34.0,31.0,68.0,92.0,42.0,31.0,31.0,39.0,31.0,32.0,22.0,22.0,122.0,55.0,55.0,14.0,55.0,47.0,32.0,24.0,85.0,88.0,25.0,84.0,85.0,86.0,24.0,22.0,24.0,43.0,43.0,46.0,48.0,10.0,10.0,16.0,14.0,43.0,69.0,88.0,21.0,35.0,26.0,88.0,69.0,30.0,28.0,56.0,64.0,99.0,52.0,86.0,18.0,86.0,88.0,43.0,43.0,43.0,43.0,11.0,39.0,33.0,33.0,18.0,18.0,115.0,78.0,9.0,61.0,11.0,11.0,9.0,8.0,10.0,11.0,6.0,62.0,45.0,79.0,46.0,23.0,79.0,46.0,45.0,28.0,77.0,73.0,75.0,28.0,19.0,25.0,38.0,66.0,38.0,25.0,72.0,72.0,26.0,42.0,11.0,25.0,17.0,52.0,45.0,24.0,20.0,24.0,12.0,21.0,21.0,21.0,12.0,10.0,9.0,11.0,23.0,10.0,51.0,36.0,32.0,38.0,18.0,16.0,27.0,38.0,48.0,10.0,113.0,46.0,22.0,10.0,10.0,13.0,12.0,13.0,72.0,72.0,119.0,29.0,6.0,17.0,28.0,70.0,17.0,6.0,11.0,7.0,70.0,27.0,21.0,27.0,68.0,47.0,68.0,88.0,41.0,11.0,11.0,10.0,12.0,12.0,47.0,27.0,8.0,45.0,8.0,27.0,25.0,24.0,55.0,12.0,19.0,32.0,31.0,7.0,27.0,28.0,109.0,109.0,23.0,8.0,8.0,9.0,9.0,18.0,43.0,36.0,52.0,68.0,18.0,14.0,15.0,14.0,27.0,48.0,17.0,35.0,56.0,42.0,39.0,32.0,26.0,39.0,39.0,53.0,38.0,45.0,51.0,14.0,17.0,51.0,45.0,25.0,20.0,77.0,77.0,10.0,90.0,52.0,10.0,8.0,16.0,15.0,17.0,10.0,20.0,26.0,10.0,10.0,52.0,37.0,92.0,75.0,37.0,92.0,67.0,8.0,8.0,8.0,278.0,8.0,289.0,70.0,59.0,70.0,64.0,9.0,30.0,41.0,41.0,74.0,19.0,16.0,31.0,17.0,20.0,17.0,18.0,16.0,18.0,36.0,25.0,30.0,25.0,25.0,49.0,17.0,24.0,13.0,66.0,14.0,55.0,35.0,10.0,80.0,21.0,21.0,21.0,24.0,15.0,17.0,28.0,33.0,29.0,13.0,27.0,11.0,52.0,89.0,70.0,10.0,135.0,38.0,18.0,15.0,50.0,13.0,13.0,94.0,86.0,79.0,71.0,12.0,20.0,70.0,51.0,21.0,14.0,21.0,11.0,12.0,70.0,38.0,38.0,63.0,38.0,88.0,101.0,54.0,37.0,20.0,21.0,19.0,21.0,21.0,38.0,60.0,48.0,44.0,14.0,12.0,44.0,16.0,65.0,65.0,59.0,47.0,11.0,78.0,47.0,47.0,11.0,54.0,61.0,119.0,39.0,12.0,39.0,119.0,19.0,20.0,12.0,41.0,12.0,64.0,56.0,94.0,9.0,77.0,94.0,9.0,10.0,12.0,76.0,44.0,44.0,44.0,52.0,44.0,24.0,15.0,53.0,15.0,13.0,9.0,29.0,79.0,74.0,24.0,50.0,44.0,44.0,89.0,23.0,20.0,77.0,46.0,21.0,88.0,66.0,58.0,90.0,66.0,36.0,18.0,113.0,17.0,18.0,24.0,20.0,60.0,65.0,40.0,86.0,160.0,34.0,48.0,34.0,36.0,37.0,37.0,60.0,14.0,13.0,35.0,46.0,60.0,69.0,33.0,33.0,56.0,24.0,66.0,26.0,51.0,36.0,36.0,19.0,51.0,87.0,60.0,64.0,44.0,44.0,36.0,81.0,10.0,10.0,81.0,9.0,54.0,54.0,22.0,69.0,36.0,47.0,31.0,7.0,110.0,110.0,12.0,60.0,28.0,12.0,60.0,77.5,77.5,29.0,18.0,9.0,28.0,57.0,15.0,68.0,68.0,88.0,91.0,29.0,91.0,63.0,88.0,27.0,41.0,65.0,69.0,91.0,46.0,41.0,91.0,64.0,88.0,46.0,18.0,55.0,34.0,34.0,34.0,34.0,38.0,91.0,91.0,67.0,25.0,48.0,11.0,40.0,26.0,26.0,26.0,31.0,31.0,31.0,31.0,31.0,20.0,28.0,13.0,12.0,12.0,41.0,73.0,46.0,57.0,57.0,28.0,32.0,28.0,67.0,98.0,28.0,38.0,54.0,28.0,63.0,31.0,42.0,45.0,105.0,74.0,8.0,66.0,14.0,66.0,89.0,29.0,100.0,31.0,74.0,28.0,35.0,35.0,25.0,105.0,105.0,84.0,85.0,23.0,23.0,49.0,111.0,33.0,33.0,12.0,59.0,73.0,12.0,11.0,104.0,28.0,24.0,141.0,141.0,24.0,13.0,46.0,34.0,22.0,54.0,53.0,54.0,16.0,19.0,22.0,89.0,15.0,18.0,15.0,37.0,19.0,133.0,19.0,58.0,55.0,31.0,23.0,23.0,60.0,23.0,55.0,67.0,47.0,74.0,11.0,25.0,95.0,95.0,90.0,39.0,8.0,92.0,28.0,98.0,30.0,22.0,92.0,98.0,30.0,39.0,54.0,29.0,28.0,17.0,53.0,85.0,23.0,17.0,89.0,85.0,20.0,15.0,64.0,13.0,31.0,39.0,53.0,53.0,54.0,32.0,54.0,49.0,24.0,16.0,44.0,45.0,82.0,89.0,82.0,89.0,14.0,22.0,13.0,22.0,9.0,12.0,11.0,25.0,23.0,17.0,13.0,11.0,18.0,13.0,18.0,147.0,28.0,28.0,147.0,16.0,13.0,16.0,15.0,64.0,60.0,14.0,12.0,12.0,14.0,12.0,25.0,20.0,48.0,27.0,17.0,65.0,65.0,65.0,58.0,44.0,20.0,27.0,44.0,23.0,58.0,61.0,47.0,34.0,38.0,24.0,59.0,52.0,18.0,28.0,22.0,84.0,29.0,35.0,45.0,31.0,26.0,60.0,32.0,49.0,38.0,19.0,19.0,28.0,26.0,26.0,50.0,24.0,26.0,27.0,54.0,28.0,23.0,24.0,20.0,23.0,115.0,131.0,131.0,131.0,20.0,20.0,20.0,42.0,52.0,20.0,42.0,34.0,35.0,25.0,104.0,50.0,92.0,20.0,29.0,27.0,20.0,32.0,26.0,32.0,27.0,98.0,34.0,48.0,60.0,28.0,102.0,79.0,35.0,26.0,40.0,38.0,44.0,51.0,40.0,44.0,42.0]},{\"label\":\"alcohol\",\"values\":[9.4,9.8,9.8,9.8,9.4,9.4,9.4,10.0,9.5,10.5,9.2,10.5,9.9,9.1,9.2,9.2,10.5,9.3,9.0,9.2,9.4,9.7,9.5,9.4,9.7,9.3,9.5,9.5,9.4,9.8,10.1,10.6,9.8,9.4,9.2,9.6,10.8,9.7,9.8,10.5,10.5,9.3,10.5,10.3,9.5,13.1,9.2,9.5,9.2,9.2,9.2,9.4,9.4,9.4,10.2,9.5,9.6,9.4,10.0,9.4,9.2,9.3,9.5,9.8,10.9,10.9,9.6,10.7,10.7,10.5,9.5,9.5,9.5,9.2,9.6,10.5,10.5,10.7,10.1,9.1,9.2,9.4,9.1,9.4,10.3,10.1,9.9,9.6,9.5,9.0,9.5,9.9,9.8,9.6,10.5,12.9,10.7,9.2,9.8,9.0,10.2,10.4,9.0,9.2,9.4,9.2,9.3,9.3,9.6,9.3,9.5,9.8,9.8,9.7,9.5,10.5,10.0,9.4,10.9,9.2,9.0,10.9,9.2,9.5,9.5,9.4,10.9,10.9,10.5,9.4,9.4,13.0,13.0,9.8,9.9,9.6,9.5,9.2,9.5,9.5,9.6,9.5,14.0,9.4,14.0,9.4,10.0,9.3,10.2,10.5,10.3,9.4,10.1,10.1,10.5,10.5,10.5,10.5,9.3,9.3,9.6,9.2,10.0,9.4,9.4,9.5,10.2,9.0,10.4,9.5,9.1,9.2,9.2,11.5,9.5,9.5,9.5,10.5,9.6,9.5,9.5,9.3,9.3,9.3,9.3,9.7,9.2,9.7,9.5,9.5,9.4,9.8,9.5,9.7,9.7,9.4,10.2,10.1,13.0,11.4,10.3,9.3,9.5,9.2,9.2,10.8,10.8,9.3,9.4,10.5,12.4,10.0,10.2,10.1,9.8,10.5,11.0,9.1,9.7,9.5,9.4,9.4,9.5,10.0,10.4,10.5,9.5,9.8,10.5,11.0,12.2,9.9,9.6,11.0,9.0,9.0,9.0,9.2,9.0,9.0,9.3,10.9,9.8,9.2,9.2,9.9,9.5,9.3,9.8,9.9,10.0,9.9,10.5,9.5,9.9,9.3,9.2,9.2,9.4,10.5,9.3,9.4,10.0,9.3,10.9,10.2,9.8,12.8,9.4,10.1,10.7,10.1,10.1,9.4,9.4,10.7,9.4,10.1,12.6,10.5,9.3,9.9,9.1,10.5,9.8,9.8,10.3,10.3,10.6,9.2,10.6,10.5,10.3,10.1,9.5,9.5,9.9,9.6,9.7,9.6,10.7,10.1,10.0,9.5,9.2,9.3,9.4,9.5,9.5,9.5,9.3,9.4,9.5,9.4,11.0,11.0,10.1,10.4,11.5,10.4,11.5,9.7,9.3,9.5,9.2,9.2,11.5,11.5,9.7,9.5,12.5,12.5,9.4,11.0,11.7,12.2,12.5,10.3,11.5,9.8,9.2,11.3,9.8,9.8,10.7,9.9,12.3,12.0,10.0,9.4,9.9,9.4,9.3,13.0,11.9,12.8,11.0,11.7,10.4,9.8,9.4,9.9,10.0,10.2,10.0,11.8,10.0,9.0,9.4,12.0,9.9,8.7,10.6,9.2,10.8,11.8,11.0,12.0,13.3,10.8,9.4,10.0,9.4,9.4,9.2,9.7,9.2,9.6,9.2,10.0,12.9,10.0,9.5,9.1,9.9,13.0,9.9,11.0,11.0,9.4,9.9,10.8,10.5,10.5,9.1,10.1,10.8,10.8,11.3,9.6,9.5,9.5,9.3,11.7,9.5,9.3,11.7,10.5,10.4,9.9,11.8,12.3,10.9,11.0,10.9,12.3,11.4,10.6,9.3,10.4,11.0,9.2,12.8,9.5,9.9,9.5,10.2,11.2,9.9,9.3,9.8,11.3,11.2,11.6,12.5,10.1,10.5,11.2,10.2,10.8,10.8,9.1,10.0,11.2,11.1,13.4,10.3,9.6,11.2,9.0,11.3,9.3,11.8,9.0,9.2,9.7,11.5,14.0,9.2,9.8,10.6,11.4,10.4,10.6,9.4,10.2,9.7,11.0,10.2,10.1,9.2,11.7,9.4,9.4,13.4,10.0,10.0,10.0,10.8,10.2,10.6,13.3,13.4,11.6,12.1,11.0,9.0,11.1,11.0,11.6,9.0,12.0,12.0,10.9,10.8,12.5,10.8,9.5,10.2,11.4,9.5,10.2,9.7,11.8,11.8,9.3,11.9,8.4,11.7,11.0,10.0,9.1,9.8,9.4,9.5,9.9,11.0,11.4,8.7,9.4,10.3,10.3,10.3,12.8,10.0,10.3,9.4,10.7,12.0,11.2,9.6,11.0,9.9,11.0,8.4,9.1,9.5,10.7,10.4,9.4,9.5,10.0,10.0,11.5,11.1,11.1,11.7,11.1,11.7,12.7,11.4,9.2,9.2,10.1,12.7,11.4,9.0,9.0,10.7,11.7,11.0,11.7,10.4,9.6,10.0,10.2,10.0,9.5,9.8,9.8,9.6,9.6,9.2,9.9,10.7,9.6,10.6,9.3,14.0,10.5,9.7,11.5,9.7,9.0,9.5,9.3,9.3,10.0,9.8,9.3,10.0,9.0,9.3,9.0,9.1,9.2,12.2,10.5,10.4,12.7,9.2,9.4,10.0,9.8,10.2,9.7,9.7,9.8,10.2,9.3,9.4,9.4,9.5,12.1,10.2,10.2,9.1,9.1,9.3,9.3,9.3,9.5,10.5,11.3,9.5,9.7,9.4,9.4,10.2,10.3,9.4,9.5,9.4,9.5,9.4,10.1,10.1,11.0,11.2,11.3,9.6,11.2,14.9,12.0,9.5,9.4,9.6,10.5,9.6,11.0,9.6,9.0,9.6,10.2,10.2,9.7,9.5,9.2,11.0,9.2,10.0,9.5,9.5,9.5,9.3,10.2,9.3,9.9,10.0,9.6,9.0,10.2,9.8,11.3,9.4,11.3,9.1,9.7,9.4,9.4,10.7,9.8,9.0,9.4,9.4,12.8,9.5,9.5,9.7,10.8,10.1,9.5,9.4,9.6,9.7,9.9,10.0,10.5,11.6,10.0,10.1,9.5,9.4,9.4,9.8,9.2,9.4,10.0,9.6,9.5,9.6,9.2,10.0,9.5,11.2,10.4,11.1,9.5,9.5,12.7,9.6,11.5,9.6,9.5,9.3,9.5,9.5,9.3,9.2,9.3,11.5,9.5,9.2,10.0,9.5,9.5,9.0,9.4,9.6,9.5,9.5,9.5,9.4,9.5,9.1,10.7,11.2,9.8,9.8,9.2,9.7,9.6,10.0,9.6,9.5,9.5,9.4,9.5,9.7,9.6,9.7,9.4,9.4,9.5,9.5,10.0,10.3,10.3,10.5,9.8,9.4,9.8,10.0,9.8,9.8,9.5,9.5,10.1,10.1,9.3,9.7,9.6,9.7,10.8,12.5,10.2,9.6,10.8,10.7,10.7,9.4,10.0,12.9,9.6,9.9,12.8,12.5,12.8,9.2,10.3,10.5,10.9,10.8,11.4,11.3,10.8,10.5,11.9,9.4,9.6,9.7,14.0,9.8,9.8,10.3,10.7,11.0,10.7,12.7,11.1,10.9,11.1,9.9,9.9,9.4,9.3,11.7,11.7,11.2,10.0,12.1,10.3,10.9,9.4,10.6,9.8,9.8,9.9,9.8,9.8,9.5,9.5,9.7,10.9,10.9,11.7,10.9,11.3,10.6,11.2,9.5,11.5,10.4,9.7,9.5,9.7,11.3,11.2,11.2,10.9,11.8,10.6,10.0,11.1,11.8,11.8,10.9,11.8,10.0,9.5,9.9,11.4,12.0,9.5,10.0,10.5,10.4,12.1,11.2,9.3,10.1,9.7,9.3,9.7,9.8,10.7,12.5,10.7,12.5,11.0,11.8,10.8,10.8,10.8,10.8,9.5,11.0,11.5,10.8,11.5,13.2,10.9,12.2,12.2,11.5,11.9,11.0,10.1,11.0,11.8,10.5,11.0,11.8,10.1,11.2,11.0,10.2,9.2,11.2,12.0,10.5,9.8,9.5,9.8,10.5,11.8,11.8,10.4,12.9,11.4,12.4,12.5,10.0,9.7,12.1,11.1,12.0,12.4,11.9,11.9,11.9,12.4,11.2,12.1,12.2,10.4,11.3,11.1,11.3,10.0,11.1,9.3,9.5,11.2,11.1,11.0,11.9,9.2,12.2,10.2,10.9,10.9,11.6,10.7,12.1,9.4,9.4,9.1,11.3,10.4,10.5,10.0,12.9,10.5,10.4,11.3,11.4,9.4,9.4,10.9,9.4,9.4,9.4,9.4,9.4,10.1,12.8,12.8,9.1,12.9,11.5,10.6,11.7,12.8,10.3,12.8,11.7,11.7,12.0,10.9,12.3,10.4,10.0,10.0,11.2,11.4,12.6,12.7,12.7,10.4,11.9,11.9,10.5,12.3,10.5,10.4,12.6,11.6,10.1,10.5,11.5,11.0,9.6,10.4,9.7,10.6,12.5,9.2,12.6,11.1,10.2,9.8,11.1,10.9,12.2,11.4,10.7,10.4,10.9,10.8,10.4,9.2,12.9,12.7,9.1,9.1,12.1,9.1,11.6,12.1,9.9,12.5,11.4,11.8,11.8,10.2,12.5,10.9,10.9,10.8,11.1,9.2,9.5,10.7,9.2,10.2,11.4,11.0,11.0,12.3,11.8,12.3,9.5,12.0,9.5,9.6,11.6,11.2,9.9,9.9,11.8,11.4,11.5,12.0,10.8,10.5,10.8,9.4,12.5,9.4,12.4,12.0,11.2,12.0,12.4,12.8,12.3,11.7,9.5,10.8,10.0,12.3,11.0,9.5,13.6,11.3,11.3,11.3,13.3,12.9,13.1,12.3,12.3,11.2,11.5,11.3,13.5,11.5,10.0,10.5,10.4,9.5,13.6,11.2,11.8,11.9,11.4,11.4,9.1,9.5,9.5,11.0,11.4,10.0,10.1,10.4,9.8,11.8,11.6,12.0,12.8,12.5,9.8,11.1,11.4,9.8,11.8,12.9,10.6,10.8,11.1,10.2,11.8,10.0,10.0,9.4,10.2,12.4,12.0,11.5,10.5,10.8,12.3,9.5,9.5,11.5,11.2,12.7,11.4,11.0,11.0,11.4,10.5,9.3,10.9,11.9,12.2,11.9,10.9,9.6,12.5,10.8,12.4,10.8,9.5,9.5,9.5,9.8,10.9,9.5,9.8,11.2,11.7,9.4,11.0,11.0,11.0,10.0,11.0,11.2,10.4,9.3,10.4,10.5,10.4,11.3,9.5,12.0,10.6,10.9,11.5,11.5,9.6,12.0,10.3,9.4,9.2,9.6,13.6,9.5,11.8,10.8,9.5,9.3,12.8,11.5,9.4,12.8,9.6,11.8,9.3,9.8,12.2,9.5,10.3,10.5,10.0,10.5,11.1,10.9,10.9,9.8,9.8,9.5,10.9,11.0,9.2,11.0,11.3,11.3,9.3,11.2,9.8,9.6,11.8,10.3,10.3,11.4,9.5,14.0,14.0,11.7,11.2,9.3,11.2,9.5,12.0,9.7,9.5,11.5,10.4,10.4,10.9,10.2,10.9,10.5,12.4,13.0,10.2,10.2,11.0,10.9,12.4,9.7,10.9,9.5,9.5,12.1,12.2,10.9,12.5,11.7,11.2,11.2,9.2,9.8,10.1,11.1,10.1,9.2,9.8,12.8,10.5,10.1,10.1,9.8,12.5,11.9,9.8,9.1,10.1,12.5,11.4,11.0,10.6,10.6,10.6,10.6,9.3,9.8,9.8,9.2,9.7,9.6,10.0,12.6,9.5,9.5,9.5,10.5,10.5,10.5,10.4,10.5,11.0,10.2,11.4,9.5,9.5,10.8,10.0,11.8,10.3,10.3,10.0,10.1,10.1,11.1,9.5,10.0333333333333,10.9,10.1,10.0333333333333,9.8,11.8,9.5,9.8,10.5,9.8,10.4,9.2,11.6,9.2,9.3,9.8,9.9,10.0,12.2,9.9,10.8,10.8,9.6,9.9,9.9,9.5,9.2,9.6,9.6,10.3,9.7,12.5,11.0,9.8,10.2,9.2,9.55,9.55,9.9,10.2,11.1,9.9,9.9,11.9,10.0,10.7,11.3,10.9,10.7,12.4,10.7,11.9,10.6,10.9,10.1,9.6,9.4,9.6,12.1,9.8,9.9,9.8,9.4,11.4,11.0,9.6,9.6,12.1,11.2,11.0,11.3,10.4,9.9,11.7,10.1,9.0,9.0,8.5,11.1,10.3,11.066666666666698,11.3,9.56666666666667,9.8,11.7,11.1,9.6,9.8,9.7,9.7,11.3,11.3,11.0,11.6,9.0,10.9,10.9,10.55,9.0,10.5,11.9,10.4,10.0,10.4,10.8,9.7,9.7,10.0,11.0,10.0,9.7,9.7,12.6,11.1,11.0,8.8,13.566666666666698,8.8,13.6,10.2,10.6,10.1,10.6,10.3,10.7,10.9,9.7,10.3,10.6,11.4,10.8,12.4,11.4,11.95,9.7,10.0,10.6,9.7,11.5,10.8,11.5,9.6,9.4,9.8,11.0,11.4,9.95,10.8,11.4,10.6,11.1,9.7,9.8,10.4,10.5,9.23333333333333,9.25,10.6,10.3,10.5,10.2,10.3,9.05,10.6,10.4,10.0,9.7,9.6,10.8,10.1,10.2,11.3,10.2,9.9,9.0,11.7,9.7,10.3,10.2,12.0,9.9,11.6,10.9,10.75,10.4,11.2,10.1,10.2,12.1,10.4,11.4,9.5,9.4,11.3,9.4,11.0,10.55,9.9,11.0,9.5,9.9,9.9,9.9,10.1,10.1,10.1,10.9,11.2,10.1,9.2,11.5,12.4,11.1,9.5,12.5,10.5,11.8,10.8,11.9,11.3,11.3,11.9,11.3,11.9,9.8,11.6,11.5,11.4,10.9,12.8,9.2,11.6,11.6,11.0,9.5,10.5,11.2,11.0,10.2,11.0]},{\"label\":\"citric acid\",\"values\":[0.0,0.0,0.04,0.56,0.0,0.0,0.06,0.0,0.02,0.36,0.08,0.36,0.0,0.29,0.18,0.19,0.56,0.28,0.08,0.51,0.48,0.31,0.21,0.11,0.14,0.16,0.24,0.21,0.0,0.0,0.07,0.0,0.12,0.12,0.25,0.0,0.14,0.28,0.09,0.36,0.36,0.3,0.2,0.22,0.02,0.15,0.43,0.52,0.23,0.37,0.26,0.04,0.04,0.36,0.15,0.04,0.57,0.12,0.18,0.31,0.4,0.49,0.16,0.05,0.05,0.05,0.11,0.07,0.57,0.05,0.08,0.23,0.22,0.26,0.54,0.64,0.64,0.0,0.12,0.2,0.2,0.7,0.47,0.26,0.48,0.15,0.28,0.26,0.44,0.08,0.26,0.28,0.29,0.26,0.04,0.17,0.0,0.25,0.06,0.18,0.3,0.3,0.18,0.22,0.24,0.22,0.68,0.31,0.53,0.52,0.19,0.09,0.1,0.44,0.19,0.31,0.28,0.12,0.04,0.08,0.09,0.04,0.0,0.0,0.17,0.04,0.0,0.0,0.16,0.15,0.56,0.09,0.09,0.01,0.05,0.11,0.15,0.36,0.19,0.19,0.11,0.15,0.0,0.08,0.0,0.55,0.02,0.26,0.1,0.44,0.47,1.0,0.03,0.03,0.42,0.42,0.42,0.42,0.0,0.18,0.03,0.02,0.04,0.26,0.26,0.48,0.1,0.03,0.07,0.24,0.03,0.17,0.17,0.05,0.21,0.04,0.21,0.42,0.0,0.14,0.14,0.49,0.02,0.2,0.21,0.57,0.48,0.1,0.33,0.32,0.35,0.25,0.12,0.21,0.21,0.33,0.3,0.6,0.08,0.06,0.47,0.48,0.11,0.35,0.36,0.74,0.74,0.31,0.28,0.58,0.6,0.24,0.64,0.26,0.08,0.49,0.16,0.22,0.19,0.33,0.37,0.26,0.04,0.25,0.36,0.25,0.5,0.14,0.25,0.25,0.04,0.06,0.2,0.25,0.09,0.0,0.0,0.0,0.0,0.09,0.37,0.56,0.1,0.44,0.44,0.0,0.07,0.17,0.06,0.0,0.44,0.0,0.48,0.42,0.0,0.23,0.37,0.0,0.76,0.47,0.23,0.04,0.03,0.23,0.49,0.52,0.0,0.46,0.04,0.51,0.06,0.51,0.58,0.2,0.18,0.06,0.04,0.51,0.45,0.32,0.44,0.68,0.12,0.32,0.07,0.07,0.55,0.12,0.09,0.53,0.09,0.48,0.23,0.25,0.52,0.46,0.37,0.06,0.02,0.06,0.06,0.48,0.12,0.12,0.6,0.48,0.32,0.42,0.44,0.38,0.48,0.24,0.31,0.3,0.29,0.29,0.23,0.12,0.39,0.12,0.39,0.26,0.05,0.42,0.2,0.2,0.66,0.5,0.62,0.39,0.64,0.64,0.28,0.08,0.01,0.53,0.45,0.32,0.58,0.54,0.5,0.48,0.47,0.47,0.5,0.0,0.02,0.67,0.31,0.0,0.22,0.0,0.0,0.79,0.4,0.01,0.52,0.66,0.66,0.66,0.23,0.31,0.66,0.63,0.66,0.5,0.66,0.61,0.52,0.53,0.02,0.4,0.48,0.22,0.63,0.71,0.5,0.53,0.66,0.38,0.42,0.68,0.42,0.42,0.28,0.07,0.26,0.15,0.26,0.31,0.05,0.68,0.52,0.61,0.65,0.76,0.02,0.59,0.59,0.22,0.02,0.3,0.54,0.49,0.05,0.46,0.47,0.66,0.58,0.49,0.34,0.35,0.16,0.53,0.34,0.24,0.64,0.12,0.51,0.0,0.33,0.03,0.2,0.47,0.2,0.03,0.08,0.22,0.33,0.63,0.47,0.35,0.69,0.63,0.55,0.63,0.3,0.73,0.55,0.18,0.72,0.65,0.76,0.49,0.01,0.1,0.6,0.29,0.22,0.69,0.69,0.53,0.03,0.63,0.4,0.67,0.39,0.21,0.63,0.66,0.52,0.22,0.68,0.7,0.54,0.4,0.42,0.45,0.69,0.02,0.65,0.42,0.55,0.55,0.51,0.24,0.41,0.49,0.24,0.11,0.39,0.56,0.59,0.6,0.68,0.39,0.39,0.36,0.55,0.4,0.27,0.5,0.51,0.31,0.23,0.53,0.25,0.32,0.53,0.31,0.25,0.73,0.73,0.47,0.42,0.63,0.46,0.55,0.31,0.75,0.49,0.31,0.48,0.64,0.64,0.49,0.49,0.49,0.49,0.49,0.49,0.49,0.49,0.49,0.49,0.24,0.49,0.49,0.49,0.24,0.24,0.49,0.49,0.24,0.24,0.24,0.24,0.24,0.49,0.74,0.24,0.49,0.24,0.24,0.74,0.49,0.24,0.49,0.49,0.49,0.01,0.24,0.24,0.24,0.49,0.49,0.49,0.49,0.49,0.49,0.49,0.49,0.49,0.49,0.49,0.49,0.24,0.24,0.49,0.24,0.49,0.24,0.49,0.49,0.49,0.49,0.24,0.49,0.49,0.49,0.49,0.49,0.49,0.49,0.49,0.24,0.49,0.24,0.24,0.49,0.49,0.49,0.49,0.58,0.17,0.41,0.51,0.58,0.18,0.45,0.27,0.52,0.0,0.52,0.13,0.13,0.48,0.41,0.37,0.19,0.54,0.55,0.0,0.38,0.18,0.5,0.5,0.51,0.5,0.41,0.24,0.23,0.22,0.25,0.0,0.0,0.29,0.29,0.26,0.23,0.26,0.54,0.14,0.22,0.21,0.0,0.28,0.27,0.12,0.35,0.45,0.44,0.45,0.44,0.45,0.1,0.05,0.01,0.3,0.27,0.39,0.25,0.65,0.59,0.47,0.17,0.39,0.59,0.07,0.02,0.07,0.31,0.06,0.46,0.52,0.14,0.36,0.45,0.43,0.45,0.24,0.21,0.34,0.21,0.41,0.39,0.41,0.11,0.1,0.45,0.58,0.23,0.31,0.23,0.32,0.23,0.18,0.23,0.04,0.48,0.0,0.24,0.51,0.32,0.31,0.02,0.02,0.02,0.28,0.55,0.43,0.02,0.02,0.48,0.04,0.15,0.08,0.19,0.12,0.47,0.43,0.34,0.0,0.36,0.28,0.18,0.36,0.11,0.04,0.0,0.04,0.24,0.08,0.3,0.1,0.17,0.09,0.02,0.02,0.03,0.66,0.13,0.03,0.34,0.2,0.1,0.1,0.0,0.23,0.0,0.29,0.24,0.0,0.58,0.54,0.18,0.38,0.4,0.18,0.18,0.1,0.1,0.13,0.1,0.68,0.07,0.01,0.0,0.0,0.21,0.25,0.26,0.0,0.26,0.11,0.1,0.18,0.32,0.02,0.01,0.02,0.26,0.27,0.29,0.3,0.0,0.18,0.17,0.3,0.03,0.0,0.14,0.05,0.14,0.01,0.41,0.41,0.24,0.24,0.17,0.43,0.17,0.02,0.0,0.54,0.3,0.31,0.44,0.34,0.34,0.08,0.09,0.0,0.08,0.22,0.4,0.39,0.4,0.12,0.31,0.1,0.55,0.33,0.24,0.54,0.33,0.19,0.42,0.0,0.15,0.0,0.0,0.13,0.13,0.28,0.14,0.34,0.14,0.09,0.08,0.07,0.08,0.42,0.44,0.26,0.1,0.28,0.28,0.35,0.04,0.47,0.0,0.45,0.35,0.46,0.21,0.21,0.16,0.21,0.21,0.44,0.44,0.32,0.39,0.39,0.02,0.39,0.34,0.47,0.22,0.06,0.66,0.32,0.06,0.06,0.07,0.22,0.23,0.22,0.03,0.01,0.03,0.24,0.37,0.46,0.4,0.0,0.01,0.19,0.04,0.18,0.0,0.29,0.04,0.19,0.14,0.12,0.38,0.0,0.34,0.24,0.03,0.23,0.03,0.03,0.01,0.39,0.01,0.39,0.02,0.36,0.1,0.1,0.06,0.06,0.2,0.27,0.0,0.13,0.39,0.48,0.46,0.44,0.46,0.39,0.4,0.19,0.31,0.32,0.12,0.37,0.32,0.12,0.31,0.27,0.36,0.33,0.19,0.27,0.38,0.01,0.01,0.29,0.01,0.01,0.38,0.38,0.5,0.38,0.17,0.52,0.49,0.4,0.34,0.49,0.42,0.58,0.48,0.45,0.45,0.45,0.48,0.4,0.48,0.4,0.52,0.52,0.52,0.12,0.05,0.27,0.14,0.02,0.39,0.27,0.4,0.41,0.2,0.43,0.09,0.48,0.48,0.5,0.44,0.41,0.3,0.3,0.29,0.32,0.49,0.3,0.26,0.32,0.3,0.49,0.0,0.39,0.3,0.12,0.4,0.12,0.28,0.1,0.28,0.45,0.06,0.0,0.0,0.34,0.0,0.3,0.38,0.33,0.32,0.29,0.32,0.33,0.34,0.4,0.36,0.45,0.31,0.15,0.0,0.16,0.46,0.4,0.37,0.37,0.14,0.66,0.66,0.09,0.42,0.01,0.0,0.32,0.0,0.21,0.01,0.0,0.01,0.0,0.08,0.18,0.34,0.34,0.1,0.41,0.21,0.0,0.19,0.21,0.41,0.33,0.0,0.0,0.17,0.36,0.36,0.17,0.59,0.05,0.42,0.27,0.27,0.53,0.25,0.57,0.53,0.57,0.5,0.44,0.65,0.09,0.18,0.08,0.53,0.53,0.35,0.45,0.2,0.26,0.33,0.2,0.34,0.56,0.65,0.65,0.68,0.56,0.68,0.3,0.45,0.3,0.08,0.4,0.42,0.54,0.54,0.54,0.42,0.09,0.36,0.09,0.47,0.09,0.38,0.45,0.38,0.42,0.27,0.09,0.27,0.34,0.28,0.42,0.41,0.1,0.43,0.0,0.27,0.41,0.39,0.5,0.07,0.07,0.07,0.12,0.0,0.34,0.0,0.0,0.37,0.0,0.35,0.26,0.0,0.33,0.35,0.0,0.21,0.34,0.07,0.35,0.43,0.45,0.45,0.15,0.24,0.3,0.32,0.11,0.3,0.23,0.43,0.12,0.45,0.42,0.47,0.32,0.23,0.25,0.35,0.0,0.25,0.51,0.18,0.43,0.43,0.57,0.43,0.42,0.24,0.24,0.5,0.26,0.39,0.27,0.29,0.34,0.0,0.46,0.31,0.31,0.0,0.03,0.0,0.0,0.33,0.33,0.43,0.4,0.07,0.23,0.3,0.03,0.3,0.23,0.05,0.57,0.0,0.37,0.0,0.12,0.22,0.23,0.21,0.26,0.23,0.21,0.36,0.39,0.19,0.46,0.46,0.46,0.55,0.46,0.43,0.02,0.15,0.02,0.42,0.46,0.46,0.31,0.37,0.31,0.4,0.52,0.52,0.22,0.47,0.49,0.23,0.03,0.25,0.0,0.29,0.34,0.01,0.29,0.37,0.01,0.32,0.0,0.01,0.0,0.0,0.2,0.39,0.41,0.22,0.25,0.19,0.07,0.19,0.33,0.01,0.01,0.14,0.0,0.0,0.06,0.02,0.22,0.28,0.0,0.0,0.68,0.0,0.38,0.0,0.32,0.05,0.05,0.5,0.31,0.03,0.01,0.2,0.0,0.2,0.13,0.22,0.4,0.0,0.22,0.39,0.2,0.2,0.0,0.28,0.19,0.5,0.44,0.08,0.3,0.3,0.0,0.1,0.13,0.0,0.1,0.0,0.0,0.14,0.0,0.0,0.0,0.07,0.32,0.44,0.21,0.26,0.32,0.09,0.32,0.1,0.26,0.15,0.21,0.21,0.21,0.27,0.0,0.46,0.27,0.68,0.34,0.0,0.42,0.39,0.24,0.24,0.24,0.24,0.11,0.26,0.26,0.26,0.1,0.22,0.0,0.02,0.0,0.0,0.0,0.02,0.02,0.02,0.02,0.02,0.48,0.24,0.01,0.03,0.03,0.0,0.29,0.01,0.03,0.03,0.03,0.25,0.25,0.24,0.17,0.4,0.31,0.14,0.4,0.27,0.02,0.09,0.08,0.3,0.32,0.0,0.51,0.56,0.51,0.27,0.0,0.26,0.2,0.26,0.15,0.02,0.02,0.09,0.22,0.22,0.15,0.25,0.07,0.07,0.31,0.02,0.0,0.22,0.06,0.25,0.14,0.1,0.1,0.26,0.12,0.0,0.21,0.21,0.42,0.33,0.39,0.3,0.34,0.0,0.36,0.0,0.0,0.4,0.34,0.25,0.59,0.0,0.59,0.33,0.01,0.21,0.01,0.18,0.0,0.09,0.37,0.37,0.37,0.33,0.0,0.4,0.24,0.31,0.0,0.16,0.37,0.37,0.38,0.29,0.0,0.02,0.32,0.19,0.02,0.2,0.02,0.19,0.02,0.0,0.01,0.31,0.32,0.44,0.02,0.33,0.63,0.0,0.06,0.33,0.4,0.35,0.09,0.0,0.03,0.01,0.1,0.1,0.32,0.08,0.32,0.05,0.11,0.08,0.6,0.08,0.5,0.11,0.5,0.11,0.05,0.6,0.03,0.6,0.54,0.44,0.06,0.16,0.21,0.05,0.04,0.1,0.49,0.04,0.06,0.26,0.09,0.02,0.26,0.03,0.04,0.03,0.04,0.29,0.18,0.39,0.57,0.02,0.05,0.57,0.6,0.4,0.21,0.04,0.04,0.15,0.21,0.21,0.25,0.06,0.46,0.08,0.06,0.2,0.25,0.25,0.19,0.08,0.08,0.07,0.49,0.08,0.09,0.1,0.13,0.3,0.14,0.13,0.08,0.08,0.09,0.32,0.08,0.29,0.02,0.42,0.43,0.33,0.02,0.1,0.5,0.3,0.0,0.0,0.01,0.0,0.02,0.17,0.04,0.02,0.33,0.26,0.26,0.26,0.13,0.13,0.13,0.02,0.64,0.13,0.13,0.14,0.53,0.14,0.32,0.2,0.78,0.4,0.63,0.15,0.15,0.09,0.33,0.09,0.1,0.29,0.44,0.44,0.41,0.11,0.33,0.2,0.15,0.09,0.13,0.08,0.08,0.1,0.13,0.12,0.47]}],\"marker\":{\"color\":\"#688F4E\",\"line\":{\"color\":\"white\",\"width\":0},\"showscale\":false,\"size\":4},\"type\":\"splom\"}],                        {\"template\":{\"data\":{\"barpolar\":[{\"marker\":{\"line\":{\"color\":\"white\",\"width\":0.5},\"pattern\":{\"fillmode\":\"overlay\",\"size\":10,\"solidity\":0.2}},\"type\":\"barpolar\"}],\"bar\":[{\"error_x\":{\"color\":\"#2a3f5f\"},\"error_y\":{\"color\":\"#2a3f5f\"},\"marker\":{\"line\":{\"color\":\"white\",\"width\":0.5},\"pattern\":{\"fillmode\":\"overlay\",\"size\":10,\"solidity\":0.2}},\"type\":\"bar\"}],\"carpet\":[{\"aaxis\":{\"endlinecolor\":\"#2a3f5f\",\"gridcolor\":\"#C8D4E3\",\"linecolor\":\"#C8D4E3\",\"minorgridcolor\":\"#C8D4E3\",\"startlinecolor\":\"#2a3f5f\"},\"baxis\":{\"endlinecolor\":\"#2a3f5f\",\"gridcolor\":\"#C8D4E3\",\"linecolor\":\"#C8D4E3\",\"minorgridcolor\":\"#C8D4E3\",\"startlinecolor\":\"#2a3f5f\"},\"type\":\"carpet\"}],\"choropleth\":[{\"colorbar\":{\"outlinewidth\":0,\"ticks\":\"\"},\"type\":\"choropleth\"}],\"contourcarpet\":[{\"colorbar\":{\"outlinewidth\":0,\"ticks\":\"\"},\"type\":\"contourcarpet\"}],\"contour\":[{\"colorbar\":{\"outlinewidth\":0,\"ticks\":\"\"},\"colorscale\":[[0.0,\"#0d0887\"],[0.1111111111111111,\"#46039f\"],[0.2222222222222222,\"#7201a8\"],[0.3333333333333333,\"#9c179e\"],[0.4444444444444444,\"#bd3786\"],[0.5555555555555556,\"#d8576b\"],[0.6666666666666666,\"#ed7953\"],[0.7777777777777778,\"#fb9f3a\"],[0.8888888888888888,\"#fdca26\"],[1.0,\"#f0f921\"]],\"type\":\"contour\"}],\"heatmapgl\":[{\"colorbar\":{\"outlinewidth\":0,\"ticks\":\"\"},\"colorscale\":[[0.0,\"#0d0887\"],[0.1111111111111111,\"#46039f\"],[0.2222222222222222,\"#7201a8\"],[0.3333333333333333,\"#9c179e\"],[0.4444444444444444,\"#bd3786\"],[0.5555555555555556,\"#d8576b\"],[0.6666666666666666,\"#ed7953\"],[0.7777777777777778,\"#fb9f3a\"],[0.8888888888888888,\"#fdca26\"],[1.0,\"#f0f921\"]],\"type\":\"heatmapgl\"}],\"heatmap\":[{\"colorbar\":{\"outlinewidth\":0,\"ticks\":\"\"},\"colorscale\":[[0.0,\"#0d0887\"],[0.1111111111111111,\"#46039f\"],[0.2222222222222222,\"#7201a8\"],[0.3333333333333333,\"#9c179e\"],[0.4444444444444444,\"#bd3786\"],[0.5555555555555556,\"#d8576b\"],[0.6666666666666666,\"#ed7953\"],[0.7777777777777778,\"#fb9f3a\"],[0.8888888888888888,\"#fdca26\"],[1.0,\"#f0f921\"]],\"type\":\"heatmap\"}],\"histogram2dcontour\":[{\"colorbar\":{\"outlinewidth\":0,\"ticks\":\"\"},\"colorscale\":[[0.0,\"#0d0887\"],[0.1111111111111111,\"#46039f\"],[0.2222222222222222,\"#7201a8\"],[0.3333333333333333,\"#9c179e\"],[0.4444444444444444,\"#bd3786\"],[0.5555555555555556,\"#d8576b\"],[0.6666666666666666,\"#ed7953\"],[0.7777777777777778,\"#fb9f3a\"],[0.8888888888888888,\"#fdca26\"],[1.0,\"#f0f921\"]],\"type\":\"histogram2dcontour\"}],\"histogram2d\":[{\"colorbar\":{\"outlinewidth\":0,\"ticks\":\"\"},\"colorscale\":[[0.0,\"#0d0887\"],[0.1111111111111111,\"#46039f\"],[0.2222222222222222,\"#7201a8\"],[0.3333333333333333,\"#9c179e\"],[0.4444444444444444,\"#bd3786\"],[0.5555555555555556,\"#d8576b\"],[0.6666666666666666,\"#ed7953\"],[0.7777777777777778,\"#fb9f3a\"],[0.8888888888888888,\"#fdca26\"],[1.0,\"#f0f921\"]],\"type\":\"histogram2d\"}],\"histogram\":[{\"marker\":{\"pattern\":{\"fillmode\":\"overlay\",\"size\":10,\"solidity\":0.2}},\"type\":\"histogram\"}],\"mesh3d\":[{\"colorbar\":{\"outlinewidth\":0,\"ticks\":\"\"},\"type\":\"mesh3d\"}],\"parcoords\":[{\"line\":{\"colorbar\":{\"outlinewidth\":0,\"ticks\":\"\"}},\"type\":\"parcoords\"}],\"pie\":[{\"automargin\":true,\"type\":\"pie\"}],\"scatter3d\":[{\"line\":{\"colorbar\":{\"outlinewidth\":0,\"ticks\":\"\"}},\"marker\":{\"colorbar\":{\"outlinewidth\":0,\"ticks\":\"\"}},\"type\":\"scatter3d\"}],\"scattercarpet\":[{\"marker\":{\"colorbar\":{\"outlinewidth\":0,\"ticks\":\"\"}},\"type\":\"scattercarpet\"}],\"scattergeo\":[{\"marker\":{\"colorbar\":{\"outlinewidth\":0,\"ticks\":\"\"}},\"type\":\"scattergeo\"}],\"scattergl\":[{\"marker\":{\"colorbar\":{\"outlinewidth\":0,\"ticks\":\"\"}},\"type\":\"scattergl\"}],\"scattermapbox\":[{\"marker\":{\"colorbar\":{\"outlinewidth\":0,\"ticks\":\"\"}},\"type\":\"scattermapbox\"}],\"scatterpolargl\":[{\"marker\":{\"colorbar\":{\"outlinewidth\":0,\"ticks\":\"\"}},\"type\":\"scatterpolargl\"}],\"scatterpolar\":[{\"marker\":{\"colorbar\":{\"outlinewidth\":0,\"ticks\":\"\"}},\"type\":\"scatterpolar\"}],\"scatter\":[{\"marker\":{\"colorbar\":{\"outlinewidth\":0,\"ticks\":\"\"}},\"type\":\"scatter\"}],\"scatterternary\":[{\"marker\":{\"colorbar\":{\"outlinewidth\":0,\"ticks\":\"\"}},\"type\":\"scatterternary\"}],\"surface\":[{\"colorbar\":{\"outlinewidth\":0,\"ticks\":\"\"},\"colorscale\":[[0.0,\"#0d0887\"],[0.1111111111111111,\"#46039f\"],[0.2222222222222222,\"#7201a8\"],[0.3333333333333333,\"#9c179e\"],[0.4444444444444444,\"#bd3786\"],[0.5555555555555556,\"#d8576b\"],[0.6666666666666666,\"#ed7953\"],[0.7777777777777778,\"#fb9f3a\"],[0.8888888888888888,\"#fdca26\"],[1.0,\"#f0f921\"]],\"type\":\"surface\"}],\"table\":[{\"cells\":{\"fill\":{\"color\":\"#EBF0F8\"},\"line\":{\"color\":\"white\"}},\"header\":{\"fill\":{\"color\":\"#C8D4E3\"},\"line\":{\"color\":\"white\"}},\"type\":\"table\"}]},\"layout\":{\"annotationdefaults\":{\"arrowcolor\":\"#2a3f5f\",\"arrowhead\":0,\"arrowwidth\":1},\"autotypenumbers\":\"strict\",\"coloraxis\":{\"colorbar\":{\"outlinewidth\":0,\"ticks\":\"\"}},\"colorscale\":{\"diverging\":[[0,\"#8e0152\"],[0.1,\"#c51b7d\"],[0.2,\"#de77ae\"],[0.3,\"#f1b6da\"],[0.4,\"#fde0ef\"],[0.5,\"#f7f7f7\"],[0.6,\"#e6f5d0\"],[0.7,\"#b8e186\"],[0.8,\"#7fbc41\"],[0.9,\"#4d9221\"],[1,\"#276419\"]],\"sequential\":[[0.0,\"#0d0887\"],[0.1111111111111111,\"#46039f\"],[0.2222222222222222,\"#7201a8\"],[0.3333333333333333,\"#9c179e\"],[0.4444444444444444,\"#bd3786\"],[0.5555555555555556,\"#d8576b\"],[0.6666666666666666,\"#ed7953\"],[0.7777777777777778,\"#fb9f3a\"],[0.8888888888888888,\"#fdca26\"],[1.0,\"#f0f921\"]],\"sequentialminus\":[[0.0,\"#0d0887\"],[0.1111111111111111,\"#46039f\"],[0.2222222222222222,\"#7201a8\"],[0.3333333333333333,\"#9c179e\"],[0.4444444444444444,\"#bd3786\"],[0.5555555555555556,\"#d8576b\"],[0.6666666666666666,\"#ed7953\"],[0.7777777777777778,\"#fb9f3a\"],[0.8888888888888888,\"#fdca26\"],[1.0,\"#f0f921\"]]},\"colorway\":[\"#636efa\",\"#EF553B\",\"#00cc96\",\"#ab63fa\",\"#FFA15A\",\"#19d3f3\",\"#FF6692\",\"#B6E880\",\"#FF97FF\",\"#FECB52\"],\"font\":{\"color\":\"#2a3f5f\"},\"geo\":{\"bgcolor\":\"white\",\"lakecolor\":\"white\",\"landcolor\":\"white\",\"showlakes\":true,\"showland\":true,\"subunitcolor\":\"#C8D4E3\"},\"hoverlabel\":{\"align\":\"left\"},\"hovermode\":\"closest\",\"mapbox\":{\"style\":\"light\"},\"paper_bgcolor\":\"white\",\"plot_bgcolor\":\"white\",\"polar\":{\"angularaxis\":{\"gridcolor\":\"#EBF0F8\",\"linecolor\":\"#EBF0F8\",\"ticks\":\"\"},\"bgcolor\":\"white\",\"radialaxis\":{\"gridcolor\":\"#EBF0F8\",\"linecolor\":\"#EBF0F8\",\"ticks\":\"\"}},\"scene\":{\"xaxis\":{\"backgroundcolor\":\"white\",\"gridcolor\":\"#DFE8F3\",\"gridwidth\":2,\"linecolor\":\"#EBF0F8\",\"showbackground\":true,\"ticks\":\"\",\"zerolinecolor\":\"#EBF0F8\"},\"yaxis\":{\"backgroundcolor\":\"white\",\"gridcolor\":\"#DFE8F3\",\"gridwidth\":2,\"linecolor\":\"#EBF0F8\",\"showbackground\":true,\"ticks\":\"\",\"zerolinecolor\":\"#EBF0F8\"},\"zaxis\":{\"backgroundcolor\":\"white\",\"gridcolor\":\"#DFE8F3\",\"gridwidth\":2,\"linecolor\":\"#EBF0F8\",\"showbackground\":true,\"ticks\":\"\",\"zerolinecolor\":\"#EBF0F8\"}},\"shapedefaults\":{\"line\":{\"color\":\"#2a3f5f\"}},\"ternary\":{\"aaxis\":{\"gridcolor\":\"#DFE8F3\",\"linecolor\":\"#A2B1C6\",\"ticks\":\"\"},\"baxis\":{\"gridcolor\":\"#DFE8F3\",\"linecolor\":\"#A2B1C6\",\"ticks\":\"\"},\"bgcolor\":\"white\",\"caxis\":{\"gridcolor\":\"#DFE8F3\",\"linecolor\":\"#A2B1C6\",\"ticks\":\"\"}},\"title\":{\"x\":0.05},\"xaxis\":{\"automargin\":true,\"gridcolor\":\"#EBF0F8\",\"linecolor\":\"#EBF0F8\",\"ticks\":\"\",\"title\":{\"standoff\":15},\"zerolinecolor\":\"#EBF0F8\",\"zerolinewidth\":2},\"yaxis\":{\"automargin\":true,\"gridcolor\":\"#EBF0F8\",\"linecolor\":\"#EBF0F8\",\"ticks\":\"\",\"title\":{\"standoff\":15},\"zerolinecolor\":\"#EBF0F8\",\"zerolinewidth\":2}}},\"title\":{\"text\":\"Scatter Matrix\",\"x\":0.5},\"font\":{\"size\":13},\"width\":1200,\"height\":1100},                        {\"responsive\": true}                    ).then(function(){\n",
              "                            \n",
              "var gd = document.getElementById('0ef97dcb-08e2-43d5-ae55-28b10ae5ef94');\n",
              "var x = new MutationObserver(function (mutations, observer) {{\n",
              "        var display = window.getComputedStyle(gd).display;\n",
              "        if (!display || display === 'none') {{\n",
              "            console.log([gd, 'removed!']);\n",
              "            Plotly.purge(gd);\n",
              "            observer.disconnect();\n",
              "        }}\n",
              "}});\n",
              "\n",
              "// Listen for the removal of the full notebook cells\n",
              "var notebookContainer = gd.closest('#notebook-container');\n",
              "if (notebookContainer) {{\n",
              "    x.observe(notebookContainer, {childList: true});\n",
              "}}\n",
              "\n",
              "// Listen for the clearing of the current output cell\n",
              "var outputEl = gd.closest('.output');\n",
              "if (outputEl) {{\n",
              "    x.observe(outputEl, {childList: true});\n",
              "}}\n",
              "\n",
              "                        })                };                            </script>        </div>\n",
              "</body>\n",
              "</html>"
            ]
          },
          "metadata": {}
        }
      ]
    },
    {
      "cell_type": "markdown",
      "metadata": {
        "id": "NG1zlfX5BUao"
      },
      "source": [
        "By looking at the plots we can see that `total sulfur dioxide` form somehow a linear shape with the `citric acid`, although some outliers exist. However, `free sulfur dioxide` and `alcohol` don't show any linearity with `citric acid`.Then we should eliminate these two variables from the model."
      ]
    },
    {
      "cell_type": "markdown",
      "source": [
        "## Tune the model"
      ],
      "metadata": {
        "id": "y4vwvX1VgVts"
      }
    },
    {
      "cell_type": "code",
      "source": [
        "# prepare the X for the model\n",
        "X = df_wine[['fixed acidity', 'volatile acidity', 'residual sugar',\n",
        "       'chlorides', 'total sulfur dioxide']]\n",
        "Y = df_wine['citric acid']\n",
        "\n",
        "from sklearn.model_selection import train_test_split\n",
        "x_train,x_test,y_train,y_test = train_test_split(X,Y,train_size=0.7,random_state=42)\n",
        "x_train_new = sma.add_constant(x_train)\n",
        "x_test_new = sma.add_constant(x_test)\n",
        "full_model = sma.OLS(y_train, x_train_new)\n",
        "res = full_model.fit()\n",
        "print(res.summary())"
      ],
      "metadata": {
        "colab": {
          "base_uri": "https://localhost:8080/"
        },
        "id": "HHXfm5a2CK78",
        "outputId": "5f6e08cc-d303-42e7-ecfb-f88551bd3563"
      },
      "execution_count": 29,
      "outputs": [
        {
          "output_type": "stream",
          "name": "stdout",
          "text": [
            "                            OLS Regression Results                            \n",
            "==============================================================================\n",
            "Dep. Variable:            citric acid   R-squared:                       0.656\n",
            "Model:                            OLS   Adj. R-squared:                  0.654\n",
            "Method:                 Least Squares   F-statistic:                     424.1\n",
            "Date:                Thu, 17 Feb 2022   Prob (F-statistic):          9.24e-255\n",
            "Time:                        11:46:48   Log-Likelihood:                 835.89\n",
            "No. Observations:                1119   AIC:                            -1660.\n",
            "Df Residuals:                    1113   BIC:                            -1630.\n",
            "Df Model:                           5                                         \n",
            "Covariance Type:            nonrobust                                         \n",
            "========================================================================================\n",
            "                           coef    std err          t      P>|t|      [0.025      0.975]\n",
            "----------------------------------------------------------------------------------------\n",
            "const                   -0.1127      0.024     -4.783      0.000      -0.159      -0.066\n",
            "fixed acidity            0.0613      0.002     29.016      0.000       0.057       0.065\n",
            "volatile acidity        -0.4726      0.020    -24.112      0.000      -0.511      -0.434\n",
            "residual sugar           0.0101      0.002      4.081      0.000       0.005       0.015\n",
            "chlorides                0.7623      0.074     10.332      0.000       0.618       0.907\n",
            "total sulfur dioxide     0.0007      0.000      6.567      0.000       0.000       0.001\n",
            "==============================================================================\n",
            "Omnibus:                       44.679   Durbin-Watson:                   2.094\n",
            "Prob(Omnibus):                  0.000   Jarque-Bera (JB):               51.252\n",
            "Skew:                           0.456   Prob(JB):                     7.43e-12\n",
            "Kurtosis:                       3.517   Cond. No.                     1.24e+03\n",
            "==============================================================================\n",
            "\n",
            "Warnings:\n",
            "[1] Standard Errors assume that the covariance matrix of the errors is correctly specified.\n",
            "[2] The condition number is large, 1.24e+03. This might indicate that there are\n",
            "strong multicollinearity or other numerical problems.\n"
          ]
        },
        {
          "output_type": "stream",
          "name": "stderr",
          "text": [
            "/usr/local/lib/python3.7/dist-packages/statsmodels/tsa/tsatools.py:117: FutureWarning:\n",
            "\n",
            "In a future version of pandas all arguments of concat except for the argument 'objs' will be keyword-only\n",
            "\n"
          ]
        }
      ]
    },
    {
      "cell_type": "code",
      "source": [
        "print('Variance Inflating Factor')\n",
        "cnames = x_train.columns\n",
        "for i in np.arange(0,len(cnames)):\n",
        "  xvars = list(cnames)\n",
        "  yvar = xvars.pop(i)\n",
        "  mod = sma.OLS(x_train[yvar], sma.add_constant(x_train_new[xvars]))\n",
        "  res_1 = mod.fit()\n",
        "  vif = 1 / (1- res_1.rsquared)\n",
        "  print('--',yvar,'=',round(vif,3))"
      ],
      "metadata": {
        "colab": {
          "base_uri": "https://localhost:8080/"
        },
        "id": "hw1IR_HsFT7u",
        "outputId": "8e6471c0-b3cd-472f-9f63-1b8f61700ca9"
      },
      "execution_count": 30,
      "outputs": [
        {
          "output_type": "stream",
          "name": "stdout",
          "text": [
            "Variance Inflating Factor\n",
            "-- fixed acidity = 1.11\n",
            "-- volatile acidity = 1.077\n",
            "-- residual sugar = 1.051\n",
            "-- chlorides = 1.024\n",
            "-- total sulfur dioxide = 1.048\n"
          ]
        },
        {
          "output_type": "stream",
          "name": "stderr",
          "text": [
            "/usr/local/lib/python3.7/dist-packages/statsmodels/tsa/tsatools.py:117: FutureWarning:\n",
            "\n",
            "In a future version of pandas all arguments of concat except for the argument 'objs' will be keyword-only\n",
            "\n"
          ]
        }
      ]
    },
    {
      "cell_type": "markdown",
      "metadata": {
        "id": "BHI-TqrTtSwE"
      },
      "source": [
        "## Assumption 2: Check for Homoscedasticity 📊\n",
        "Homoscedasticity means that the residuals have equal or almost equal variance across the regression line. By plotting the residuals against the predicted terms we can check the presence of any pattern.\n",
        "\n",
        "------------"
      ]
    },
    {
      "cell_type": "markdown",
      "metadata": {
        "id": "-V7OR2C-tSwF"
      },
      "source": [
        "\n",
        "\n",
        "### **Graphical Method**\n",
        "\n",
        "\n",
        "We plot the residuals against the predicted values or the X. If there is a definite pattern (like linear or quadratic or funnel shaped) obtained from the scatter plot then heteroscedasticity is present."
      ]
    },
    {
      "cell_type": "code",
      "execution_count": 31,
      "metadata": {
        "colab": {
          "base_uri": "https://localhost:8080/",
          "height": 817
        },
        "id": "z_AkxLVptSwG",
        "outputId": "cad26e29-31d0-4dd8-d354-58b3f320e271"
      },
      "outputs": [
        {
          "output_type": "display_data",
          "data": {
            "text/html": [
              "<html>\n",
              "<head><meta charset=\"utf-8\" /></head>\n",
              "<body>\n",
              "    <div>            <script src=\"https://cdnjs.cloudflare.com/ajax/libs/mathjax/2.7.5/MathJax.js?config=TeX-AMS-MML_SVG\"></script><script type=\"text/javascript\">if (window.MathJax) {MathJax.Hub.Config({SVG: {font: \"STIX-Web\"}});}</script>                <script type=\"text/javascript\">window.PlotlyConfig = {MathJaxConfig: 'local'};</script>\n",
              "        <script src=\"https://cdn.plot.ly/plotly-2.8.3.min.js\"></script>                <div id=\"e9325a7d-e880-44b2-98cc-e8b125faefac\" class=\"plotly-graph-div\" style=\"height:800px; width:1000px;\"></div>            <script type=\"text/javascript\">                                    window.PLOTLYENV=window.PLOTLYENV || {};                                    if (document.getElementById(\"e9325a7d-e880-44b2-98cc-e8b125faefac\")) {                    Plotly.newPlot(                        \"e9325a7d-e880-44b2-98cc-e8b125faefac\",                        [{\"marker\":{\"color\":\"#B1D182\",\"size\":5},\"mode\":\"markers\",\"name\":\"lines\",\"showlegend\":false,\"x\":[0.43245400649793386,0.5211135426863932,0.2183780569045845,0.05212907333665773,0.19590710906556136,0.215559996744645,0.012695702762525435,0.09624576372653021,0.09239863600092693,0.3158384841363642,0.4699550086994201,0.23575837222566473,0.21751080108368565,0.25675561942655056,0.3250273350180758,0.20078950718137817,0.803911657946024,0.1054532975910456,0.06254830989844803,0.3957166875040978,0.1811378106688033,0.30599873226582164,0.3894204714942229,0.5623020868968418,-0.013069233748711884,0.24341023253305835,0.5113473800737109,0.20899849611921,0.5059547036494034,0.35022700141233276,0.44039150831540114,0.5059547036494034,0.06411945016699334,-0.26152553279410107,0.4476656688604482,0.33968960580381646,0.34944545815801487,0.23077720701433188,0.21426529914763684,0.2857128133862763,0.28241763591729657,0.21138361934606645,0.4550437967560744,0.22988437307683815,0.42925492582355973,0.3634466036397562,-0.1512059289142763,0.2808217253397653,0.6168953669715096,0.049698982798138835,0.16269412822793394,0.49560824687796123,0.18209456591466128,0.2977888394360858,0.17259394205153802,0.5539506924125706,0.12966319064630466,0.3868507638467102,0.6172177209254996,0.4093957230064135,0.39949983719076787,0.16157126130010413,0.5418539253821295,0.22593459283389178,0.7614766201254838,0.5067546998780481,0.13798296798292592,0.16806319061437086,0.38790947697066525,0.2679415637630826,0.38052549769305366,0.5131967200643205,0.29789488236505124,0.08068327814531666,-0.09477139292907455,0.22798219704796668,0.09448390762701694,0.16753613119285343,0.49952898506215665,0.318312573153575,0.24725264639173566,0.4636051463997272,0.45856241651639396,0.38226999133951106,0.06205922748247404,0.4981528239256794,0.3335508980953401,0.31846292838945434,0.04517807372446385,0.14885617835193932,0.5008631044955429,0.1855444762071726,0.2980325373061888,0.1743527903731552,0.35985643751369495,0.15309219452798142,0.027087493054468684,-0.06105831236893283,0.3757364913167261,0.4317891972172191,0.23575080132745252,0.3295677149197603,0.6000643110059376,0.27409176080551534,0.3807002663895353,0.39682698293386715,0.4439504587171003,0.3391735522318348,0.1403613153310716,0.02530047120880237,0.683089124219842,0.14707959028108958,0.019586651959416695,0.46340821148350303,0.2660716488217718,0.12416991189038454,0.4384872105270935,0.5155965302718041,0.38383627634520373,0.1668325316086435,0.2047020962450114,0.2666382500860707,0.30383891582734646,0.20117150125175742,0.24529373913588987,0.33951533193698324,0.22130283898039388,0.24020179917985346,0.15320382014145678,0.07012637534482324,0.12953539271546483,0.0420739877227259,0.08818166003542594,0.47666357223166267,0.48657565630365907,0.26968456911786554,0.09504747273382874,0.12190421932485965,0.1594291305130206,0.027944219253149105,0.49193973735399354,0.022857328489917866,0.2526277289322661,0.6847209950021669,0.38989910123650595,0.31306839983258383,0.20754204284620956,0.30599873226582164,0.17537203837796933,0.06527340219441699,0.26773172898434444,0.3230532273702885,0.2692911339714375,0.2032004074386435,0.14919321349799888,0.25727998637027105,0.3556562904954438,0.3357359970791659,0.14262720890475647,0.2716714046261617,0.4533541930713034,0.25837143635476406,0.10448926631832792,0.29220293484136717,0.22872996995515524,0.4771393817389727,0.5693281657325744,0.46881833835274633,0.4567485291948111,0.09897245653785883,0.3957935717722385,0.10580548388421285,0.03173606363696982,0.382666647260791,0.18925365610655076,0.28670598557684474,0.3596815014064933,0.5036353513201622,0.22044647013824983,0.30094475101036217,0.34592207675068476,0.5600032629356303,0.15051712899076675,0.2978244133348935,0.33298436647109,0.13241862136105753,0.08152682378731832,0.48169657816343614,0.0788345934522858,0.2989669816206964,0.20813790889663664,0.25748140902753885,0.18067548413284093,0.24554736769756486,-0.10824781549553117,0.1454304374469939,0.4202238142863371,0.3714070276053553,0.27280338498126105,0.0814829846152693,0.11851872307434352,0.5049837348981909,0.15634342669666093,0.25517314051389833,0.04792964319915071,0.382666647260791,0.5023272445399402,0.31380020130176906,0.6636731549340267,0.25552822518494844,0.027102783525919445,0.33079589445459534,0.16041262319558766,0.2944950167751921,0.0036915356409593925,-0.17621886466589542,0.1573884364332307,0.6107137210884522,0.3781326710630174,0.3881647845554783,0.26224577796471704,0.12939266611518982,0.1617404762959076,0.369460390699348,0.3714070276053553,0.09696134436161123,0.3519644432883564,0.20404292014191783,0.26007171542650187,0.48891822085198494,0.23831004974611594,0.17005334721978205,0.2745962583903745,0.3125319705926812,0.30255262289463175,0.2690904619033381,0.5768518125161476,0.15854193468562308,0.15968674874783514,0.5206812999614452,0.1907225291329216,0.16810198895157596,0.11223827389742033,0.16266293340734966,0.2863667168493962,0.4089799150526396,0.2791380587610003,0.3834409166878662,0.17314643977702454,0.4640822518467281,0.4488044988256869,0.32886428757110364,0.13747521308117006,0.19813662125380688,0.26972119532927996,0.37082176026553315,0.553877546855172,0.3026016176291388,0.5325777301010252,0.18331776988664444,0.2717616858535008,0.2698424656253755,0.2912946820320602,0.41438294015611565,0.27859517203493844,0.10382361702868968,0.2545582357301945,0.07427067250818781,0.1245536850800436,0.23575080132745252,0.1741934853954485,0.25862613785868516,0.1696868655613762,0.3692524471306231,0.3914209179178342,0.18046688523382629,0.29977174184445465,0.5002429607363985,0.4118475891382952,0.5932145357832528,0.1909609306964878,0.2002272221303548,0.05559745786831785,0.23409123330182482,0.044311911653472064,0.2850864767624539,0.20892684703787903,0.18228451836296844,0.2498757755288185,0.11287550844387466,0.19116434947564315,0.03141237038315614,0.49282228540110207,0.4578351619593709,0.42810240439307784,0.15966511158136054,0.4981528239256794,0.020151100265168906,0.4903845869725501,0.18717183373771581,0.5800412012568146,0.48552163073862264,0.29467094791656756,0.4771393817389727,0.1899116629876508,0.14166601554827749,0.3566122652725179,0.389926674861236,0.38010427434702343,0.36321597944891043,0.10344815387353087,0.18925365610655076,0.5671108456986496,0.04769985188893508,0.6022500732663337,0.3288491179806933,0.15590271964590766,0.15978814968506921,0.09628741923376877,0.5210117482054983,0.269754337989821,0.23121060995146445,0.3782091323099978,0.40468290417162484,0.35546433843978065,0.339540799632696,0.22315302021825623,0.10132289929888531,0.13848119137580928,0.1796481038053767,0.39517022655912976,0.428346896020359,0.415449381145796,0.25675561942655056,0.39511326780437883,0.4962980170342731,0.13827752790609688,0.2460336773732045,0.3693723218232868,0.12416991189038454,0.13401084711533856,0.20709365262551496,0.23754895365876483,0.18802001697401338,0.37656063419700336,0.47627161858152833,0.6297788299049704,0.2283542463991052,0.20978286117031592,0.521436644605485,0.6124719448448039,0.4654329717930078,0.17574186076086995,0.15616324532640663,0.1691209537528565,0.5530453170119753,0.3342101651406319,0.2479209215921442,0.0952398271814521,0.3100194758799073,-0.003264840927939716,0.23100941348884346,0.4591751659722192,0.4857504990385574,0.24092270399205934,0.014942550107660824,0.24092270399205934,0.1789570192615627,0.07318977453687522,0.20899849611921,0.1170177466071523,0.18704221808268426,0.17907830068376535,0.2439355131463248,0.27148015821038246,0.15071389942226604,0.18034116570100256,0.3279091973886562,0.35907689725483616,0.15418551960047305,0.20316077435135163,0.20709365262551496,0.1277255801577215,0.12326909715749736,0.3508546338403728,0.16307083800998018,0.19820052207999578,-0.18028961808515848,0.27630843335934296,0.24598734376709933,0.3359442527201193,0.5539555564090247,0.2794121818861929,0.2255055864934778,0.3266767378802782,0.2885427435810624,0.5117734696799021,0.32803381814961596,0.11108597184221011,-0.06874660074714421,0.10880704700062516,0.05771017012050286,0.24523377168379365,0.466306398343123,0.24152639891964994,0.3002917557831503,0.1983911935187262,0.45856241651639396,0.12018157157443068,0.27925779335277184,0.1704531413142466,0.19526336308380254,0.16678542390288723,0.3444039517294124,0.24445146187314115,0.119566896390087,0.1831394666160865,0.23267605352147347,0.06414336023252962,0.1366064375578771,0.14903495518847332,-0.0033853576724475754,0.09028713023672164,0.19792010599275178,0.22016390037308162,0.09122076092644893,0.09966402732229068,0.08192964554132712,0.2864594359802944,0.23796175720126064,0.3051674295967378,0.20984841713813907,0.5470104113612042,0.3508706393417206,0.31127371246886076,0.13886247541220129,0.15071389942226604,0.21280161764472744,0.27329570844798506,0.06352725754492868,0.2344577878608583,0.07162073111544445,0.31901218705911666,0.16406170376119145,0.06485352598768687,0.48831054050994316,0.2541315534623592,0.5249312145970108,0.23778537537115418,0.29782197987681397,0.5577580321711086,0.04792964319915071,0.2962276596405977,0.20951264175330708,0.2795960387083491,0.4531670543268051,0.39975772521525255,0.4289984907182699,0.06783275826248703,0.10346352572903998,0.669810473426101,0.22160966315796954,0.2771862931716358,0.4317891972172191,0.14067985606806782,0.350725849117802,0.32756884777806566,0.1949775057079752,0.300525795863646,0.1457995565978492,0.4926171652848882,0.21454747838084187,0.1594291305130206,0.23089777696543368,0.11118782534681487,0.13093505070834197,0.13112016556472977,0.47774606567399946,0.21750221956028254,0.32050832914321015,0.09828610251141905,0.004750762287596952,0.22300735825243007,0.08283502748508975,0.1502080798639288,-0.02814729161842021,0.10405128473400702,0.28956144529073113,0.5126368368738656,0.4948293295318496,0.47106327535453985,0.27073258473882483,0.20543656465058663,0.02530047120880237,0.40312620883131706,0.09967137961183213,0.47856074872547505,0.31696467684698143,0.5539555564090247,0.2255331627608843,0.6810747796708518,0.42112755177227856,0.14836946920533384,0.41434378266372396,0.2632190680497438,0.36001135030288994,0.1457995565978492,0.36785187403441844,0.26699897146819895,0.3710255338699164,0.025717985558482676,0.10969154976503179,0.6107096021977967,0.5686612669057971,0.1769367199133653,0.48790403555320444,0.1058526938057384,0.2821416254891882,0.12837406208510743,0.18717183373771581,0.46724335529938593,0.19029519768699082,0.26020448577969685,0.1793849995306686,0.6015217326741784,0.01210521501188197,0.3614839972666773,0.1277255801577215,0.11477669620042155,0.663679139827035,0.26239745072859505,0.1347332534069614,0.08224597699135106,0.15590271964590766,0.1811738025104376,0.1461916793757509,0.5454172588991539,0.5600631795169329,0.3536909588481108,0.12113137911770527,0.5099184287817516,0.23088831642102317,0.6134891678296541,0.3907114941090023,0.23118029308833282,0.1831394666160865,0.1757599737931455,0.20039185203850926,0.2799612294143102,0.2626378829226055,0.1392134346072354,0.8904942198587696,0.26773172898434444,-0.1377116862693955,0.2885427435810624,0.30326430991143405,0.07082175206714908,0.40287485527423017,0.20395341085650703,0.19673063842843422,0.09239863600092693,0.24710981906623358,0.5940454711707497,0.0917148288270509,0.33635761929891206,0.1223774013621483,0.3930434546559858,0.3506394562717911,0.367426404133824,0.3422471998047869,0.4191317427748346,0.11994856928982264,0.16274792809790056,0.2140823313075943,0.48592265720744554,0.016096026770458294,0.04486926303990077,0.3723349455275447,0.19524730483225594,0.10132289929888531,0.3724057055406226,0.48266411689585526,0.27875400747923595,0.36434785859506374,0.3146335133285266,0.44827950895511814,0.2988283301975575,0.2729380308821792,0.35365203679624496,0.1993893972021716,0.2566106063746031,0.31884496338480117,0.48094194804029045,0.35556216532623736,0.02008370227996959,0.5674384938822081,0.26094753069210286,0.31324762053232114,0.25296819058098213,0.09967137961183213,0.45086218295345876,0.3732306580805903,0.21750322501605268,0.2743112234209176,0.37756029680437403,0.036189660200063166,0.49684709469674065,0.18224009847335676,0.1523428272957231,0.11223827389742033,0.07349503321998048,0.31606786124928554,0.3928561132053291,0.2147054039251755,0.21454747838084187,0.2651620002409043,0.35641489221288386,0.3231828183859317,0.11351369169109654,0.08725163800568467,0.12453196859114563,0.4283410462783244,0.2172860650704255,0.3254413320189893,0.23121060995146445,0.21767888572539212,0.18128201271798222,0.13829896734365538,0.26859385167640654,0.16021292430861572,0.11636556602225792,0.0788345934522858,0.34377971904501303,0.1796723715923178,0.2140823313075943,0.4687195904944149,0.29782197987681397,0.20398299854322247,0.3771780365358295,0.14197214583454293,-0.09243876843539162,0.3119067586118234,0.21723296057895297,0.35408883483397585,0.35365203679624496,0.16022877849226083,0.15805591301391672,0.16266293340734966,0.08104368653376717,0.43501781131239414,-0.04688577959367256,0.31324762053232114,0.35904264112881346,0.4450301802014206,0.19526336308380254,0.10292903784600288,0.2658027814032228,0.35305076397573965,0.24136250842194873,0.27685908538857473,0.2912946820320602,0.5283537549777737,0.17305795370607235,0.5638496366673518,0.2303904946087848,0.40713324694833847,0.1470608837278107,0.49682860653057503,0.22087482347422593,0.38230975025114283,0.13532918441711994,0.21595718657469487,0.4045215747363859,0.3860328654730667,0.15440409598124266,0.09828610251141905,0.2756195604383016,0.014942550107660824,0.22343351454906207,0.269754337989821,-0.06987170404729759,0.14166601554827749,0.3048252662170971,0.5049837348981909,0.30820255087058374,0.20899849611921,0.2762226192554542,0.6032792915305636,0.3463550674167401,0.004754820776189314,0.25166661714663696,0.5050683927516557,0.23917093723435182,0.3396847088394468,0.2602801942123091,0.3218179492661756,0.312259024846551,0.24684646228887108,0.14772825824019137,0.5538637456300226,0.09913818057489014,0.14476966145639397,0.46551893457192295,0.24198309469126977,0.11050438962795023,0.42925492582355973,0.16299509080017477,0.3547533103841026,0.4043900889192247,0.1461916793757509,0.16676869259174104,0.10638002734432289,0.1893932532378085,0.29220293484136717,0.18356147263790187,0.3512647808519739,0.22543105434163357,0.11108597184221011,0.20892684703787903,0.12430612610529251,0.30795486930807736,0.14584507074513658,0.19035315021026028,0.39170788373718635,0.3957935717722385,0.37082176026553315,0.2690904619033381,0.3930302104391739,0.2646701449938924,0.14903495518847332,0.37511192618811207,0.327195854770495,0.2816567857381116,0.3787070963808514,0.5228373514396017,0.20459316009763528,0.1855444762071726,0.17021447019461358,0.5403004033692033,0.09967137961183213,0.38586790477065186,0.6631418645154307,0.47856074872547505,0.4171358711961187,0.1605528766933373,0.3557739654253321,0.31306839983258383,0.5377390752760993,0.21402114489915616,0.19430512957285087,0.14919321349799888,0.2172860650704255,0.6422803817853997,0.5608814624231935,0.39080211933777453,0.08834943023972208,0.08068327814531666,0.3025880721626588,0.2444661707162966,0.12326909715749736,0.03490445002656607,0.18716981126972504,0.37325999806048693,0.31846292838945434,0.14616533386669095,0.4019820373439981,0.1696868655613762,0.09699573232998458,0.22130283898039388,0.08706041448325126,0.45614992284930017,-0.15556739228149896,0.16876599648406226,0.2312461479700237,0.28956144529073113,0.09239863600092693,0.33056567903402534,0.2896102127517298,0.20779120694121186,0.2547967943519773,0.2055794985466338,0.3851294980609625,0.2432338587266581,0.5602820028814006,0.22729207361572926,0.1550019148107471,0.12264826933811566,0.19652488597174841,0.4215116376479186,0.2149681525500623,0.43065377747532047,0.3185255988602606,0.27842801295548575,0.18102535038722817,0.4364948626228519,0.2972530274698916,0.3450015165542383,0.18644357820849744,0.16753613119285343,0.3729643473750569,0.17390420479744043,0.0946507157663444,0.2093800127960387,0.13434212015832325,0.39960021898543746,0.35714984461065047,0.2821416254891882,0.2463561495175145,0.4531774289971567,-0.024551070215929963,0.17846317006033485,0.29683476392672925,0.1879943302099052,0.19649581288657703,0.13224818862652077,0.3313409408579271,0.3315828115943396,0.27304888360289825,-0.026302160096412036,0.4060588033073554,0.11813480206239849,0.2994981022070142,0.22828567350815912,0.2055794985466338,0.0035605825418990045,0.4859260501317111,0.21886583274515364,0.007080155878811195,0.3817807709803679,0.061113067494463616,0.07640150053141292,0.17305795370607235,0.12155480990524545,0.4019934020799399,0.22343351454906207,0.12765365321040645,0.6880697029010052,0.36286863434417044,0.14836946920533384,0.11205989988852158,0.23754895365876483,0.5531425326481191,0.13434212015832325,0.2942267056216088,0.4102642182898265,0.7532074473032178,0.42341961045245297,0.10896275539784514,0.2508781797726803,0.36602625442403214,0.13059609665313926,0.22639706309163246,0.1798508812566293,0.22024690829242832,0.16052189394490157,0.5700069618236548,0.14524712925578329,0.14261372372307785,0.18034116570100256,0.3634466036397562,0.1942908076514889,0.2770223267562244,0.2799612294143102,0.2500732221703623,0.10707905636098797,0.03011428852671999,0.22705501687632748,-0.0803090434553704,0.2665068522375053,0.6159240971967505,0.3444039517294124,0.19620604421120527,0.12940477007479353,0.15828800653418296,0.2771862931716358,0.5841635226192003,0.09502402290777882,0.15622337231126698,0.07179477766072534,0.5442686133543115,0.2474963786875853,0.29407033627367,0.05226824317773482,0.25917171955652457,0.15964621303967932,0.28626659178668795,0.4330777893243478,0.5757248252370366,0.380112709193711,0.17071784919799887,0.2140823313075943,0.16231482099628416,0.5407650048331514,0.1899116629876508,0.39960021898543746,0.2503330241987861,-0.07183161937636122,0.20398299854322247,0.09790768626139934,0.3112358628895676,0.17452315024972362,0.1429295488247146,0.11327617212252383,0.05659408673937574,0.2547967943519773,0.3884571816935935,0.24367054737432453,0.3907114941090023,0.4019820373439981,0.3010055093052608,0.3158384841363642,0.09745379877405203,0.28341828640397626,0.32195562201199307,0.16691993347249512,0.36434785859506374,0.4405851827655708,0.2087758257485692,0.15968674874783514,0.5203026152925966,0.369460390699348,0.1909624880197882,0.2099753768574184,0.4396085988315509,0.12204825663375818,0.20384203669620354,0.2032004074386435,0.25552822518494844,0.29201483908995274,0.42203102455059716,0.2498757755288185,0.10973300534297184,0.4395584369366854,0.25068635470097356,0.2861721257279316,0.3119067586118234,0.22639706309163246,0.3427477715066734,0.2257208574394225,0.33975763900199907,0.13859796739642302,0.23072777386020757,0.1561314476287775,0.12059259056816173,0.6107137210884522,0.2976893522526754,0.2189159015914715,0.005769221368343624,0.4533541930713034,0.2792736726355297,0.3880823594633732,0.5250783475182177,0.16950421503169188,0.10449679174544108,0.41908899174759684,0.3304556820806632,0.31569693263734366,0.114244010411997,0.18945045311027447,0.11118782534681487,0.2486086693285095,0.4743060376246453,0.033485179887178085,0.5335727257463504,0.3555690751056021,0.33775653379616116,0.07649586689575985,0.1791854064903005,0.15966511158136054,0.378297331105522,0.6485625494066065,0.3957907100415886,0.4699030270187278,0.12155480990524545,0.44039150831540114,0.29688433983852347,-0.09675216871546237,0.44422223375941117,0.29803562471338435,0.3444039517294124,0.14787583048841887,0.27630843335934296,0.22524418687401798,0.09699573232998458,0.020366237574676593,0.26043412380127806,0.3730544431165443,0.4926171652848882,0.20395341085650703,0.3304556820806632,0.3593606093107007,0.22539560672356096,0.39828752064854744,-0.013323030738262492,0.5522850350330683,0.2989669816206964,0.415449381145796,0.11075339037835821,0.43726081341067946,0.30383891582734646,0.5637495888981426,0.6552882039903756,0.36917830092651543,0.35089670003538787,0.3433820407532981,0.0821943639320497,0.2513685808862179,0.21789412421985133,0.4874227420063667,0.10624633339942194,0.4139040964187701,0.3396847088394468,0.11858673818911696,0.32869919876654113,0.3365582297838462,0.13467102953689108,0.2658027814032228,0.25680012730342283,0.3086230903245054,0.4244918058337627,0.2988283301975575,0.29212605190597246,0.14706687854259518,0.4129346280441162,0.34701831098552444,0.1769367199133653,0.10202169762738013,0.41839419671032696,0.0942522247945273,0.4640822518467281,0.6430370545438868,0.1849335085712962,0.4485737357101328,0.11391108192050196,-0.0021303936618368158,0.3252538847697727,0.10237524682894178,0.0880782291436426,0.4802536898268833,0.481118581892662,0.3866433762261262,0.5335727257463504,0.15307132643663718,0.14920485590441698,0.24628762298973755,0.6485625494066065,0.18655986157208215,-0.02465114154566596,0.3557739654253321,0.33271584357625505,0.03885175314313674,0.09743088955067775,0.1217279870050892,0.3811957243315165,0.11078128136482243,0.15805591301391672,0.6032792915305636,0.07802036392734175,0.19185197423989864,0.5523417881661062,0.20059425910366357,0.29269220933644696,0.0619914932834779,0.1930568175788264,0.16853638903789087,0.1584082419980448,0.48469465703403125,0.44785653634542916,0.15009822762506703,0.2901092781257557,0.16035775084845788,0.3712750584719001,0.05285798015365056,0.4100682089532316,0.3617772006978648,-0.024551070215929963,0.11493909231101435,0.41785626839428447,0.3225283672278274,0.26981983443611407,0.5198094848279077,0.036189660200063166,0.5811979386938301,0.2719529773667939,0.49369266991903277,0.4019820373439981,0.39570663196557243,0.5170275818396409,0.3043505207043137,0.0946507157663444,0.43590917623272796,0.16105916771791995,0.16299509080017477,0.41308769320422045,0.41314959010637303,0.1619782604569667,0.32858416290245457,0.0008289373149489021,0.05659408673937574,0.48921006863521305,0.13089104239857707,0.3098351631249968,0.2295981232274974,0.1585843408201254,0.4555174214583879,0.19416646202769727,0.21595718657469487,0.16902910425418705,0.4934922702733315,0.14268716230642156,0.39098284026993846,0.31901218705911666,0.2008119822483846,0.3801323441341477,0.2320661150547422,0.2087758257485692,0.1811378106688033,0.3459694690937565,0.17873858338464935],\"y\":[-0.07245400649793388,0.1088864573136068,0.05162194309541551,0.027870926663342274,-0.055907109065561345,-0.08555999674464498,0.007304297237474566,0.18375423627346982,0.03760136399907307,0.12416151586363583,-0.009955008699420065,-0.06575837222566472,0.042489198916314364,0.07324438057344945,0.3149726649819242,0.22921049281862182,-0.36391165794602404,-0.0254532975910456,-0.06254830989844803,-0.08571668750409778,-0.1211378106688033,0.00400126773417836,-0.07942047149422288,0.0676979131031582,0.053069233748711885,-0.11341023253305835,-0.07134738007371094,-0.18899849611921002,-0.03595470364940345,-0.09022700141233275,0.14960849168459883,-0.03595470364940345,-0.04411945016699334,0.26152553279410107,0.04233433113955182,0.16031039419618354,-0.02944545815801486,-0.06077720701433187,0.10573470085236317,0.0842871866137237,0.20758236408270342,0.008616380653933553,-0.04504379675607445,0.010115626923161841,0.1007450741764403,0.026553396360243786,0.1512059289142763,-0.1308217253397653,-0.1268953669715096,-0.039698982798138834,-0.16269412822793394,0.08439175312203873,-0.07209456591466128,-0.1777888394360858,0.007406057948461969,0.10604930758742948,-0.12966319064630466,-0.11685076384671017,-0.0672177209254996,0.06060427699358645,0.09050016280923212,-0.08157126130010413,0.008146074617870536,-0.10593459283389178,-0.2814766201254838,-0.09675469987804813,-0.017982967982925924,-0.018063190614370866,0.03209052302933474,-0.16794156376308259,-0.14052549769305367,0.026803279935679547,-0.05789488236505125,-0.08068327814531666,0.09477139292907455,0.022017802952033316,-0.09448390762701694,-0.09753613119285343,-0.009528985062156659,-0.018312573153574985,0.08274735360826435,0.21639485360027283,-0.04856241651639398,-0.04226999133951104,-0.06205922748247404,-0.008152823925679398,0.10644910190465989,0.10153707161054565,-0.04517807372446385,-0.018856178351939312,-0.010863104495542952,0.004455523792827404,0.11196746269381119,0.015647209626844794,-0.06985643751369497,-0.15309219452798142,-0.027087493054468684,0.11105831236893283,0.1142635086832739,0.07821080278278092,-0.1957508013274525,0.010432285080239745,-0.02006431100593764,0.05590823919448468,-0.1407002663895353,-0.006826982933867132,0.016049541282899704,0.000826447768165206,-0.1203613153310716,0.07469952879119764,-0.163089124219842,0.17292040971891043,-0.019586651959416695,-0.023408211483503027,0.03392835117822818,-0.03416991189038454,-0.038487210527093474,-0.015596530271804077,-0.14383627634520374,-0.0768325316086435,-0.1547020962450114,-0.006638250086070718,-0.21383891582734646,0.00882849874824257,0.18470626086411013,-0.029515331936983247,0.018697161019606112,0.02979820082014656,0.23679617985854323,0.019873624655176753,0.04046460728453519,0.007926012277274103,0.2518183399645741,0.15333642776833734,0.2234243436963409,-0.18968456911786552,-0.07504747273382874,-0.12190421932485965,0.08057086948697939,0.0420557807468509,-0.041939737353993534,0.0071426715100821325,0.027372271067733933,-0.06472099500216688,-0.06989910123650594,0.07693160016741618,-0.17754204284620956,0.00400126773417836,-0.14537203837796933,-0.06527340219441699,-0.09773172898434443,-0.09305322737028851,-0.15929113397143752,-0.1932004074386435,-0.04919321349799888,-0.06727998637027105,0.1343437095045562,-0.1857359970791659,-0.12262720890475647,0.008328595373838343,0.03664580692869657,-0.06837143635476406,-0.04448926631832792,-0.012202934841367141,0.13127003004484475,-0.07713938173897267,-0.0793281657325744,-0.2688183383527463,0.05325147080518888,-0.03897245653785883,-0.06579357177223849,-0.09580548388421285,0.03826393636303019,0.21733335273920895,0.02074634389344923,0.07329401442315525,0.1303184985935067,-0.033635351320162266,-0.09044647013824983,0.12905524898963783,0.024077923249315236,-3.262935630243824e-06,0.19948287100923323,0.1521755866651065,-0.07298436647108997,-0.13241862136105753,-0.04152682378731832,0.008303421836563851,0.1311654065477142,0.06103301837930358,0.031862091103363355,-0.15748140902753885,-0.030675484132840936,0.08445263230243516,0.10824781549553117,-0.03543043744699391,-0.0502238142863371,-0.051407027605355315,0.06719661501873897,0.1285170153847307,-0.058518723074343526,-0.014983734898190937,0.16365657330333908,0.054826859486101664,-0.03792964319915071,0.21733335273920895,-0.0023272445399401542,-0.023800201301769075,0.09632684506597333,-0.13552822518494845,0.03289721647408055,0.08920410554540464,-0.030412623195587657,0.09550498322480794,0.19630846435904062,0.4162188646658954,0.012611563566769318,-0.11071372108845223,0.11186732893698259,-0.1581647845554783,0.03775422203528295,-0.08939266611518981,-0.021740476295907585,0.08053960930065202,-0.051407027605355315,-0.09696134436161123,-0.05196444328835642,-0.09404292014191783,0.3499282845734981,0.0010817791480150496,-0.09831004974611593,0.06994665278021794,0.015403741609625488,0.05746802940731882,-0.06255262289463176,0.010909538096661953,0.0031481874838523716,-0.008541934685623087,-0.13968674874783515,0.05931870003855477,-0.11072252913292159,-0.04810198895157597,-0.09223827389742033,0.02733706659265034,-0.026366716849396177,-0.0489799150526396,0.2108619412389997,0.24655908331213383,0.02685356022297547,-0.13408225184672806,0.21119550117431313,-0.10886428757110364,-0.09747521308117005,-0.13813662125380688,-0.02972119532927997,0.27917823973446687,-0.013877546855171952,-0.16260161762913877,0.12742226989897487,0.21668223011335558,0.2182383141464992,0.06015753437462451,-0.08129468203206022,0.01561705984388434,0.021404827965061546,-0.07382361702868968,0.18544176426980552,0.04572932749181219,0.03544631491995641,-0.1957508013274525,0.0658065146045515,0.12137386214131485,-0.1696868655613762,0.04074755286937687,-0.02142091791783418,-0.020466885233826282,0.15022825815554536,-0.010242960736398521,0.1081524108617048,0.08678546421674727,-0.1909609306964878,-0.16022722213035479,0.13440254213168215,0.025908766698175184,0.04568808834652793,-0.16508647676245392,0.11107315296212097,0.03771548163703156,-0.02987577552881851,-0.11287550844387466,-0.09116434947564314,0.11858762961684385,-0.012822285401102085,0.032164838040629085,-0.028102404393077818,-0.12966511158136054,-0.008152823925679398,-0.00015110026516890543,-0.2503845869725501,-0.16717183373771582,-0.06004120125681456,-0.08552163073862262,0.015329052083432437,-0.07713938173897267,-0.1499116629876508,-0.01166601554827748,0.04338773472748214,-0.049926674861235976,-0.09010427434702345,-0.0032159794489104443,-0.023448153873530872,0.02074634389344923,-0.12711084569864955,-0.02769985188893508,0.0577499267336663,0.16115088201930672,-0.14590271964590765,0.0702118503149308,-0.07628741923376876,0.018988251794501698,0.11024566201017899,-0.041210609951464444,-0.038209132309997784,-0.20468290417162482,0.024535661560219357,-0.29954079963269603,0.13684697978174376,-0.09132289929888532,-0.09848119137580927,0.020351896194623298,0.09482977344087024,0.14165310397964093,-0.045449381145796,0.07324438057344945,0.014886732195621144,0.03370198296572691,0.061722472093903136,0.11396632262679549,-0.05937232182328678,-0.03416991189038454,0.06598915288466145,0.09290634737448503,-0.017548953658764826,-0.18802001697401338,0.11343936580299663,-0.05627161858152835,-0.23977882990497035,0.2516457536008948,-0.14978286117031592,-0.10143664460548502,-0.012471944844803962,-0.015432971793007788,-0.16574186076086994,-0.15616324532640663,0.08087904624714351,-0.08304531701197537,0.2957898348593681,-0.2479209215921442,0.24476017281854792,0.10998052412009268,0.033264840927939715,-0.05100941348884347,0.09082483402778085,0.054249500961442654,0.07907729600794067,-0.014942550107660824,0.07907729600794067,-0.058957019261562715,0.1268102254631248,-0.18899849611921002,0.09298225339284769,0.09295778191731577,-0.17907830068376535,0.09606448685367522,-0.011480158210382452,-0.15071389942226604,0.05965883429899743,0.13209080261134382,0.12092310274516382,-0.14418551960047304,-0.08316077435135164,0.09290634737448503,0.08227441984227848,-0.12326909715749736,-0.03085463384037279,-0.05307083800998018,0.03179947792000423,0.22028961808515848,-0.0063084333593429465,-0.12598734376709933,0.004055747279880728,-0.0339555564090247,-0.05941218188619288,-0.1255055864934778,-0.06667673788027817,0.07145725641893758,0.02822653032009792,0.07196618185038406,-0.11108597184221011,0.2787466007471442,-0.028807047000625155,-0.05771017012050286,0.23476622831620633,-0.016306398343122974,0.22847360108035003,-0.09029175578315032,-0.0183911935187262,-0.04856241651639398,-0.04018157157443068,0.020742206647228145,0.12954685868575339,-0.17526336308380255,-0.13678542390288723,0.1055960482705876,0.07554853812685886,-0.119566896390087,-0.17313946661608648,0.07732394647852653,-0.014143360232529614,-0.0866064375578771,-0.07903495518847331,0.0033853576724475754,-0.09028713023672164,0.04207989400724821,-0.030163900373081615,-0.09122076092644893,-0.05966402732229068,-0.08192964554132712,0.05354056401970564,0.07203824279873935,-0.09516742959673782,-0.04984841713813906,0.13298958863879584,-0.030870639341720574,-0.011273712468860775,0.061137524587798725,-0.15071389942226604,0.03719838235527256,0.276704291552015,0.03647274245507133,-0.014457787860858301,-0.07162073111544445,-0.2790121870591167,0.045938296238808546,0.08514647401231312,-0.048310540509943156,0.06586844653764079,-0.024931214597010753,-0.16778537537115418,0.06217802012318602,0.1322419678288913,-0.03792964319915071,-0.006227659640597738,-0.08951264175330709,-0.04959603870834908,-0.16316705432680512,0.1802422747847474,-0.1189984907182699,-0.04783275826248702,-0.10346352572903998,-0.17981047342610101,-0.09160966315796953,-0.007186293171635771,0.07821080278278092,-0.14067985606806782,0.169274150882198,-0.027568847778065675,0.0250224942920248,0.299474204136354,-0.1457995565978492,0.2373828347151118,-0.09454747838084188,0.08057086948697939,-0.23089777696543368,-0.001187825346814872,0.08906494929165804,-0.0011201655647297692,0.2622539343260005,0.20249778043971745,-0.030508329143210167,-0.07828610251141904,0.04524923771240305,-0.22300735825243007,0.09716497251491024,-0.060208079863928815,0.1181472916184202,-0.10405128473400702,0.010438554709268855,-0.06263683687386562,-0.12482932953184961,0.18893672464546019,-0.07073258473882482,-0.06543656465058661,0.07469952879119764,-0.013126208831317043,-0.029671379611832124,0.001439251274524933,0.08303532315301859,-0.0339555564090247,0.07446683723911568,0.07892522032914817,-0.04112755177227856,-0.13836946920533383,0.06565621733627602,-0.02321906804974383,-0.02001135030288992,-0.1457995565978492,-0.12785187403441844,0.19300102853180107,-0.17102553386991637,-0.025717985558482676,0.04030845023496821,0.10929039780220329,-0.07866126690579711,0.04306328008663471,0.01209596444679556,-0.015852693805738408,-0.0321416254891882,0.011625937914892581,-0.16717183373771582,0.17275664470061408,-0.05029519768699081,-0.06020448577969684,-0.0793849995306686,-0.061521732674178375,-0.01210521501188197,0.008516002733322703,0.08227441984227848,-0.11477669620042155,-0.17367913982703498,-0.14239745072859505,-0.12473325340696141,-0.08224597699135106,-0.14590271964590765,-0.1811738025104376,-0.01619167937575089,0.034582741100846026,-0.040063179516932834,0.19630904115188924,0.13886862088229474,-0.08991842878175166,-0.02088831642102318,0.056510832170345915,-0.050711494109002275,0.028819706911667187,-0.17313946661608648,-0.1457599737931455,-0.11039185203850926,0.2900387705856898,-0.02263788292260549,0.3607865653927646,-0.24049421985876962,-0.09773172898434443,0.2277116862693955,0.07145725641893758,-0.04326430991143404,0.25917824793285094,-0.002874855274230148,-0.0039534108565070225,-0.11673063842843422,0.03760136399907307,0.06289018093376642,-0.014045471170749724,-0.0917148288270509,-0.08635761929891206,-0.10237740136214829,0.026956545344014204,-0.11063945627179111,0.07257359586617601,0.1577528001952131,0.06086825722516537,-0.11994856928982264,0.07725207190209943,-0.11408233130759429,0.10407734279255443,0.0739039732295417,-0.01486926303990077,0.08766505447245532,0.06475269516774407,-0.09132289929888532,0.15759429445937745,0.007335883104144736,-0.03875400747923596,0.11565214140493624,0.04536648667147336,-0.10827950895511812,-0.1088283301975575,-0.032938030882179226,0.08634796320375504,0.0006106027978284023,-0.1466106063746031,0.08115503661519885,0.009058051959709545,0.28443783467376266,-0.01008370227996959,0.19256150611779188,-0.050947530692102866,-0.10324762053232114,-0.002968190580982133,-0.029671379611832124,-0.020862182953458763,0.03676934191940967,0.2724967749839473,-0.034311223420917636,0.19243970319562592,-0.006189660200063167,-0.04684709469674064,-0.042240098473356746,-0.0923428272957231,-0.09223827389742033,0.1365049667800195,-0.026067861249285562,-0.16285611320532908,0.03529459607482449,-0.09454747838084188,0.12483799975909571,0.03358510778711615,-0.07318281838593171,0.08648630830890347,-0.06725163800568466,0.03546803140885438,0.02165895372167559,-0.07728606507042549,0.17455866798101072,-0.041210609951464444,-0.09767888572539213,0.01871798728201779,-0.04829896734365538,-0.13859385167640653,-0.09021292430861572,-0.03636556602225792,0.1311654065477142,0.026220280954986963,-0.0996723715923178,-0.11408233130759429,0.06128040950558511,0.06217802012318602,-0.18398299854322248,-0.3071780365358295,-0.06197214583454293,0.09243876843539162,0.00809324138817663,-0.12723296057895297,0.12591116516602413,0.08634796320375504,0.019771221507739162,-0.1480559130139167,0.02733706659265034,-0.08104368653376717,0.09498218868760588,0.08688577959367255,-0.10324762053232114,0.13095735887118654,0.01496981979857942,-0.17526336308380255,-0.10292903784600288,-0.005802781403222768,-0.013050763975739621,0.19863749157805127,0.21314091461142526,-0.08129468203206022,-0.008353754977773686,-0.14305795370607235,-0.06384963666735177,0.11960950539121518,0.14286675305166158,0.0729391162721893,-0.036828606530575014,-0.020874823474225923,-0.07230975025114283,0.03467081558288007,0.04404281342530514,-0.004521574736385869,0.06396713452693331,-0.06440409598124266,-0.07828610251141904,0.034380439561698395,-0.014942550107660824,-0.19343351454906207,0.11024566201017899,0.06987170404729759,-0.01166601554827748,-0.1348252662170971,-0.014983734898190937,0.17179744912941625,-0.18899849611921002,0.08377738074454577,-0.1132792915305636,-0.026355067416740097,-0.004754820776189314,-0.16166661714663697,-0.025068392751655733,-0.019170937234351815,-0.009684708839446776,0.06971980578769094,-0.001817949266175567,0.117740975153449,0.033153537711128944,0.1422717417598086,0.12613625436997744,-0.029138180574890135,-0.06476966145639397,-0.07551893457192294,0.21801690530873025,-0.11050438962795023,0.1007450741764403,-0.12299509080017476,-0.18475331038410261,-0.024390088919224673,-0.01619167937575089,0.05323130740825896,0.3236199726556771,0.08060674676219151,-0.012202934841367141,-0.18356147263790187,-0.0612647808519739,0.2445689456583664,-0.11108597184221011,0.11107315296212097,0.02569387389470748,-0.07795486930807735,-0.14584507074513658,-0.10035315021026028,0.09829211626281364,-0.06579357177223849,0.27917823973446687,0.010909538096661953,0.006969789560826112,0.33532985500610757,-0.07903495518847331,-0.07511192618811208,0.11280414522950499,0.1383432142618884,0.04129290361914856,-0.03283735143960176,0.055406839902364724,0.004455523792827404,-0.08021447019461359,-0.10030040336920326,-0.029671379611832124,-0.12586790477065185,-0.013141864515430646,0.001439251274524933,0.17286412880388125,0.059447123306662714,-0.045773965425332075,0.07693160016741618,-0.027739075276099312,0.10597885510084384,-0.19430512957285087,-0.04919321349799888,-0.07728606507042549,-0.2722803817853997,0.09911853757680655,-0.02080211933777454,0.1516505697602779,-0.08068327814531666,0.13741192783734119,-0.014466170716296578,-0.12326909715749736,-0.03490445002656607,-0.17716981126972503,0.02674000193951309,0.10153707161054565,-0.006165333866690936,-0.011982037343998109,-0.1696868655613762,0.13300426767001544,0.018697161019606112,-0.007060414483251259,-0.17614992284930014,0.15556739228149896,-0.02876599648406225,-0.04124614797002371,0.010438554709268855,0.03760136399907307,0.01943432096597464,-0.04961021275172983,-0.10779120694121186,0.005203205648022735,0.054420501453366216,0.09487050193903745,-0.10323385872665808,-0.08028200288140064,0.022707926384270744,-0.1550019148107471,-0.10264826933811566,0.0734751140282516,0.06848836235208139,0.13503184744993768,-0.02065377747532049,0.10147440113973938,-0.05842801295548575,0.03897464961277183,0.12350513737714813,-0.037253027469891564,0.43499848344576175,0.05355642179150255,-0.09753613119285343,0.0670356526249431,-0.03390420479744041,-0.0946507157663444,-0.1593800127960387,-0.07434212015832325,-0.07960021898543745,0.08285015538934953,-0.0321416254891882,-0.006356149517514509,0.2768225710028433,0.044551070215929967,0.07153682993966515,-0.016834763926729224,-0.007994330209905198,-0.19649581288657703,-0.11224818862652076,-0.021340940857927093,0.19841718840566042,-0.04304888360289824,0.07630216009641204,-0.05605880330735541,0.14186519793760152,0.01050189779298577,0.20171432649184087,0.054420501453366216,-0.0035605825418990045,0.14407394986828892,-0.13886583274515363,0.022919844121188804,0.13821922901963213,-0.031113067494463617,-0.07640150053141292,-0.14305795370607235,-0.11155480990524545,0.05800659792006013,-0.19343351454906207,-0.027653653210406443,0.06193029709899478,0.06713136565582956,-0.13836946920533383,0.027940100111478433,-0.017548953658764826,-0.06314253264811909,-0.07434212015832325,0.005773294378391192,-0.05026421828982652,0.24679255269678224,0.06658038954754703,-0.10896275539784514,0.05912182022731971,0.033973745575967884,-0.13059609665313926,-0.01639706309163247,-0.1598508812566293,-0.06024690829242832,-0.0005218939449015692,-6.9618236548940615e-06,-0.11524712925578329,0.27738627627692214,0.05965883429899743,0.026553396360243786,0.0257091923485111,-0.09702232675622441,0.2900387705856898,-7.322217036231926e-05,-0.10707905636098797,0.04988571147328001,-0.19705501687632748,0.0803090434553704,0.20349314776249466,-0.06592409719675041,0.1055960482705876,0.09379395578879471,0.16059522992520645,-0.14828800653418295,-0.007186293171635771,-0.034163522619200304,-0.09502402290777882,-0.15622337231126698,-0.051794777660725336,-0.004268613354311501,0.1525036213124147,-0.03407033627367001,-0.032268243177734815,0.4408282804434754,-0.15964621303967932,0.19373340821331203,0.016922210675652194,-0.08572482523703662,-0.01011270919371099,-0.09071784919799887,-0.11408233130759429,0.09768517900371584,0.0592349951668486,-0.1499116629876508,-0.07960021898543745,-0.0003330241987861138,0.07183161937636122,-0.18398299854322248,-0.09790768626139934,0.23876413711043243,-0.06452315024972362,-0.042929548824714586,-0.043276172122523826,0.15340591326062425,0.005203205648022735,-0.03845718169359352,0.036329452625675496,-0.050711494109002275,-0.011982037343998109,0.028994490694739194,0.12416151586363583,-0.09745379877405203,-0.18341828640397626,-0.04195562201199304,0.023080066527504883,0.11565214140493624,0.14941481723442918,-0.1087758257485692,-0.13968674874783515,0.12969738470740344,0.08053960930065202,0.02903751198021179,0.050024623142581603,0.02039140116844912,-0.11204825663375818,0.07615796330379648,-0.1932004074386435,-0.13552822518494845,0.007985160910047251,0.04796897544940282,-0.02987577552881851,-0.10973300534297184,0.06044156306331461,0.03931364529902642,-0.1461721257279316,0.00809324138817663,-0.01639706309163247,0.017252228493326582,0.10427914256057752,-0.009757639001999052,-0.07859796739642302,0.32927222613979246,-0.1261314476287775,0.019407409431838288,-0.11071372108845223,0.00231064774732459,-0.1189159015914715,0.14423077863165637,0.03664580692869657,-0.0492736726355297,0.10191764053662677,-0.0950783475182177,-0.11950421503169188,-0.03449679174544107,0.07091100825240315,0.1995443179193368,-0.07569693263734367,0.0057559895880029965,-0.009450453110274482,-0.001187825346814872,-0.00860866932850951,0.20569396237535476,0.13651482011282193,0.12642727425364964,0.1344309248943979,-0.017756533796161156,-0.07649586689575985,-0.11918540649030049,-0.12966511158136054,0.03170266889447798,0.09143745059339348,0.1242092899584114,0.07009697298127221,-0.11155480990524545,0.14960849168459883,-0.11688433983852348,0.17675216871546237,-0.054222233759411154,-0.08803562471338436,0.1055960482705876,-0.14787583048841887,-0.0063084333593429465,-0.05524418687401797,0.13300426767001544,0.039633762425323404,-0.04043412380127806,0.09694555688345569,0.2373828347151118,-0.0039534108565070225,0.1995443179193368,0.02063939068929932,-0.19539560672356096,0.07171247935145253,0.0633230307382625,0.03771496496693172,0.06103301837930358,-0.045449381145796,-0.0707533903783582,0.22273918658932057,-0.21383891582734646,-0.05374958889814263,0.024711796009624476,0.12082169907348456,0.06910329996461212,0.05661795924670193,-0.0721943639320497,-0.001368580886217885,0.08210587578014866,0.0025772579936332862,-0.056246333399421936,-0.23390409641877008,-0.009684708839446776,-0.02858673818911696,0.18130080123345887,0.04344177021615381,-0.03467102953689108,-0.005802781403222768,-0.09680012730342283,-0.1386230903245054,0.13550819416623733,-0.1088283301975575,0.027873948094027545,-0.14706687854259518,0.04706537195588384,0.052981689014475586,0.04306328008663471,0.057978302372619875,0.2516058032896731,0.005747775205472705,-0.13408225184672806,-0.1330370545438868,-0.1249335085712962,0.03142626428986717,-0.09391108192050196,0.032130393661836815,-0.025253884769772694,-0.08237524682894178,-0.048078229143642605,-0.13025368982688335,0.008881418107338002,-0.1366433762261262,0.12642727425364964,-0.15307132643663718,0.250795144095583,0.09371237701026247,0.09143745059339348,0.06344013842791785,0.02465114154566596,-0.045773965425332075,0.10728415642374495,0.011148246856863261,0.10256911044932226,-0.1217279870050892,-0.10119572433151647,0.1592187186351776,-0.1480559130139167,-0.1132792915305636,-0.07802036392734175,-0.011851974239898644,0.007658211833893813,0.0894057408963364,-0.0026922093364469823,0.2080085067165221,-0.0430568175788264,-0.028536389037890852,-0.058408241998044785,-0.014694657034031278,0.032143463654570825,-0.10009822762506702,0.30989072187424427,-0.16035775084845788,0.11872494152809987,0.02714201984634944,0.0899317910467684,0.1282227993021352,0.044551070215929967,0.06506090768898565,0.10214373160571555,-0.0025283672278273994,0.03018016556388592,0.03019051517209237,-0.006189660200063167,-0.09119793869383008,0.028047022633206076,0.01630733008096724,-0.011982037343998109,0.0042933680344275915,-0.037027581839640944,0.005649479295686322,-0.0946507157663444,0.22409082376727207,0.06894083228208006,-0.12299509080017476,0.10691230679577957,0.04685040989362699,-0.09197826045696669,0.07141583709754545,0.2891710626850511,0.15340591326062425,-0.019210068635213073,-0.12089104239857708,-0.2098351631249968,0.33040187677250266,-0.1285843408201254,-0.08551742145838792,-0.09416646202769727,0.04404281342530514,0.370970895745813,0.14650772972666853,-0.14268716230642156,0.029017159730061526,-0.2790121870591167,0.12918801775161542,0.08986765586585227,-0.2320661150547422,-0.1087758257485692,-0.1211378106688033,0.004030530906243501,0.08126141661535066],\"type\":\"scatter\"}],                        {\"autosize\":true,\"font\":{\"size\":18},\"height\":800,\"template\":{\"data\":{\"barpolar\":[{\"marker\":{\"line\":{\"color\":\"white\",\"width\":0.5},\"pattern\":{\"fillmode\":\"overlay\",\"size\":10,\"solidity\":0.2}},\"type\":\"barpolar\"}],\"bar\":[{\"error_x\":{\"color\":\"#2a3f5f\"},\"error_y\":{\"color\":\"#2a3f5f\"},\"marker\":{\"line\":{\"color\":\"white\",\"width\":0.5},\"pattern\":{\"fillmode\":\"overlay\",\"size\":10,\"solidity\":0.2}},\"type\":\"bar\"}],\"carpet\":[{\"aaxis\":{\"endlinecolor\":\"#2a3f5f\",\"gridcolor\":\"#C8D4E3\",\"linecolor\":\"#C8D4E3\",\"minorgridcolor\":\"#C8D4E3\",\"startlinecolor\":\"#2a3f5f\"},\"baxis\":{\"endlinecolor\":\"#2a3f5f\",\"gridcolor\":\"#C8D4E3\",\"linecolor\":\"#C8D4E3\",\"minorgridcolor\":\"#C8D4E3\",\"startlinecolor\":\"#2a3f5f\"},\"type\":\"carpet\"}],\"choropleth\":[{\"colorbar\":{\"outlinewidth\":0,\"ticks\":\"\"},\"type\":\"choropleth\"}],\"contourcarpet\":[{\"colorbar\":{\"outlinewidth\":0,\"ticks\":\"\"},\"type\":\"contourcarpet\"}],\"contour\":[{\"colorbar\":{\"outlinewidth\":0,\"ticks\":\"\"},\"colorscale\":[[0.0,\"#0d0887\"],[0.1111111111111111,\"#46039f\"],[0.2222222222222222,\"#7201a8\"],[0.3333333333333333,\"#9c179e\"],[0.4444444444444444,\"#bd3786\"],[0.5555555555555556,\"#d8576b\"],[0.6666666666666666,\"#ed7953\"],[0.7777777777777778,\"#fb9f3a\"],[0.8888888888888888,\"#fdca26\"],[1.0,\"#f0f921\"]],\"type\":\"contour\"}],\"heatmapgl\":[{\"colorbar\":{\"outlinewidth\":0,\"ticks\":\"\"},\"colorscale\":[[0.0,\"#0d0887\"],[0.1111111111111111,\"#46039f\"],[0.2222222222222222,\"#7201a8\"],[0.3333333333333333,\"#9c179e\"],[0.4444444444444444,\"#bd3786\"],[0.5555555555555556,\"#d8576b\"],[0.6666666666666666,\"#ed7953\"],[0.7777777777777778,\"#fb9f3a\"],[0.8888888888888888,\"#fdca26\"],[1.0,\"#f0f921\"]],\"type\":\"heatmapgl\"}],\"heatmap\":[{\"colorbar\":{\"outlinewidth\":0,\"ticks\":\"\"},\"colorscale\":[[0.0,\"#0d0887\"],[0.1111111111111111,\"#46039f\"],[0.2222222222222222,\"#7201a8\"],[0.3333333333333333,\"#9c179e\"],[0.4444444444444444,\"#bd3786\"],[0.5555555555555556,\"#d8576b\"],[0.6666666666666666,\"#ed7953\"],[0.7777777777777778,\"#fb9f3a\"],[0.8888888888888888,\"#fdca26\"],[1.0,\"#f0f921\"]],\"type\":\"heatmap\"}],\"histogram2dcontour\":[{\"colorbar\":{\"outlinewidth\":0,\"ticks\":\"\"},\"colorscale\":[[0.0,\"#0d0887\"],[0.1111111111111111,\"#46039f\"],[0.2222222222222222,\"#7201a8\"],[0.3333333333333333,\"#9c179e\"],[0.4444444444444444,\"#bd3786\"],[0.5555555555555556,\"#d8576b\"],[0.6666666666666666,\"#ed7953\"],[0.7777777777777778,\"#fb9f3a\"],[0.8888888888888888,\"#fdca26\"],[1.0,\"#f0f921\"]],\"type\":\"histogram2dcontour\"}],\"histogram2d\":[{\"colorbar\":{\"outlinewidth\":0,\"ticks\":\"\"},\"colorscale\":[[0.0,\"#0d0887\"],[0.1111111111111111,\"#46039f\"],[0.2222222222222222,\"#7201a8\"],[0.3333333333333333,\"#9c179e\"],[0.4444444444444444,\"#bd3786\"],[0.5555555555555556,\"#d8576b\"],[0.6666666666666666,\"#ed7953\"],[0.7777777777777778,\"#fb9f3a\"],[0.8888888888888888,\"#fdca26\"],[1.0,\"#f0f921\"]],\"type\":\"histogram2d\"}],\"histogram\":[{\"marker\":{\"pattern\":{\"fillmode\":\"overlay\",\"size\":10,\"solidity\":0.2}},\"type\":\"histogram\"}],\"mesh3d\":[{\"colorbar\":{\"outlinewidth\":0,\"ticks\":\"\"},\"type\":\"mesh3d\"}],\"parcoords\":[{\"line\":{\"colorbar\":{\"outlinewidth\":0,\"ticks\":\"\"}},\"type\":\"parcoords\"}],\"pie\":[{\"automargin\":true,\"type\":\"pie\"}],\"scatter3d\":[{\"line\":{\"colorbar\":{\"outlinewidth\":0,\"ticks\":\"\"}},\"marker\":{\"colorbar\":{\"outlinewidth\":0,\"ticks\":\"\"}},\"type\":\"scatter3d\"}],\"scattercarpet\":[{\"marker\":{\"colorbar\":{\"outlinewidth\":0,\"ticks\":\"\"}},\"type\":\"scattercarpet\"}],\"scattergeo\":[{\"marker\":{\"colorbar\":{\"outlinewidth\":0,\"ticks\":\"\"}},\"type\":\"scattergeo\"}],\"scattergl\":[{\"marker\":{\"colorbar\":{\"outlinewidth\":0,\"ticks\":\"\"}},\"type\":\"scattergl\"}],\"scattermapbox\":[{\"marker\":{\"colorbar\":{\"outlinewidth\":0,\"ticks\":\"\"}},\"type\":\"scattermapbox\"}],\"scatterpolargl\":[{\"marker\":{\"colorbar\":{\"outlinewidth\":0,\"ticks\":\"\"}},\"type\":\"scatterpolargl\"}],\"scatterpolar\":[{\"marker\":{\"colorbar\":{\"outlinewidth\":0,\"ticks\":\"\"}},\"type\":\"scatterpolar\"}],\"scatter\":[{\"marker\":{\"colorbar\":{\"outlinewidth\":0,\"ticks\":\"\"}},\"type\":\"scatter\"}],\"scatterternary\":[{\"marker\":{\"colorbar\":{\"outlinewidth\":0,\"ticks\":\"\"}},\"type\":\"scatterternary\"}],\"surface\":[{\"colorbar\":{\"outlinewidth\":0,\"ticks\":\"\"},\"colorscale\":[[0.0,\"#0d0887\"],[0.1111111111111111,\"#46039f\"],[0.2222222222222222,\"#7201a8\"],[0.3333333333333333,\"#9c179e\"],[0.4444444444444444,\"#bd3786\"],[0.5555555555555556,\"#d8576b\"],[0.6666666666666666,\"#ed7953\"],[0.7777777777777778,\"#fb9f3a\"],[0.8888888888888888,\"#fdca26\"],[1.0,\"#f0f921\"]],\"type\":\"surface\"}],\"table\":[{\"cells\":{\"fill\":{\"color\":\"#EBF0F8\"},\"line\":{\"color\":\"white\"}},\"header\":{\"fill\":{\"color\":\"#C8D4E3\"},\"line\":{\"color\":\"white\"}},\"type\":\"table\"}]},\"layout\":{\"annotationdefaults\":{\"arrowcolor\":\"#2a3f5f\",\"arrowhead\":0,\"arrowwidth\":1},\"autotypenumbers\":\"strict\",\"coloraxis\":{\"colorbar\":{\"outlinewidth\":0,\"ticks\":\"\"}},\"colorscale\":{\"diverging\":[[0,\"#8e0152\"],[0.1,\"#c51b7d\"],[0.2,\"#de77ae\"],[0.3,\"#f1b6da\"],[0.4,\"#fde0ef\"],[0.5,\"#f7f7f7\"],[0.6,\"#e6f5d0\"],[0.7,\"#b8e186\"],[0.8,\"#7fbc41\"],[0.9,\"#4d9221\"],[1,\"#276419\"]],\"sequential\":[[0.0,\"#0d0887\"],[0.1111111111111111,\"#46039f\"],[0.2222222222222222,\"#7201a8\"],[0.3333333333333333,\"#9c179e\"],[0.4444444444444444,\"#bd3786\"],[0.5555555555555556,\"#d8576b\"],[0.6666666666666666,\"#ed7953\"],[0.7777777777777778,\"#fb9f3a\"],[0.8888888888888888,\"#fdca26\"],[1.0,\"#f0f921\"]],\"sequentialminus\":[[0.0,\"#0d0887\"],[0.1111111111111111,\"#46039f\"],[0.2222222222222222,\"#7201a8\"],[0.3333333333333333,\"#9c179e\"],[0.4444444444444444,\"#bd3786\"],[0.5555555555555556,\"#d8576b\"],[0.6666666666666666,\"#ed7953\"],[0.7777777777777778,\"#fb9f3a\"],[0.8888888888888888,\"#fdca26\"],[1.0,\"#f0f921\"]]},\"colorway\":[\"#636efa\",\"#EF553B\",\"#00cc96\",\"#ab63fa\",\"#FFA15A\",\"#19d3f3\",\"#FF6692\",\"#B6E880\",\"#FF97FF\",\"#FECB52\"],\"font\":{\"color\":\"#2a3f5f\"},\"geo\":{\"bgcolor\":\"white\",\"lakecolor\":\"white\",\"landcolor\":\"white\",\"showlakes\":true,\"showland\":true,\"subunitcolor\":\"#C8D4E3\"},\"hoverlabel\":{\"align\":\"left\"},\"hovermode\":\"closest\",\"mapbox\":{\"style\":\"light\"},\"paper_bgcolor\":\"white\",\"plot_bgcolor\":\"white\",\"polar\":{\"angularaxis\":{\"gridcolor\":\"#EBF0F8\",\"linecolor\":\"#EBF0F8\",\"ticks\":\"\"},\"bgcolor\":\"white\",\"radialaxis\":{\"gridcolor\":\"#EBF0F8\",\"linecolor\":\"#EBF0F8\",\"ticks\":\"\"}},\"scene\":{\"xaxis\":{\"backgroundcolor\":\"white\",\"gridcolor\":\"#DFE8F3\",\"gridwidth\":2,\"linecolor\":\"#EBF0F8\",\"showbackground\":true,\"ticks\":\"\",\"zerolinecolor\":\"#EBF0F8\"},\"yaxis\":{\"backgroundcolor\":\"white\",\"gridcolor\":\"#DFE8F3\",\"gridwidth\":2,\"linecolor\":\"#EBF0F8\",\"showbackground\":true,\"ticks\":\"\",\"zerolinecolor\":\"#EBF0F8\"},\"zaxis\":{\"backgroundcolor\":\"white\",\"gridcolor\":\"#DFE8F3\",\"gridwidth\":2,\"linecolor\":\"#EBF0F8\",\"showbackground\":true,\"ticks\":\"\",\"zerolinecolor\":\"#EBF0F8\"}},\"shapedefaults\":{\"line\":{\"color\":\"#2a3f5f\"}},\"ternary\":{\"aaxis\":{\"gridcolor\":\"#DFE8F3\",\"linecolor\":\"#A2B1C6\",\"ticks\":\"\"},\"baxis\":{\"gridcolor\":\"#DFE8F3\",\"linecolor\":\"#A2B1C6\",\"ticks\":\"\"},\"bgcolor\":\"white\",\"caxis\":{\"gridcolor\":\"#DFE8F3\",\"linecolor\":\"#A2B1C6\",\"ticks\":\"\"}},\"title\":{\"x\":0.05},\"xaxis\":{\"automargin\":true,\"gridcolor\":\"#EBF0F8\",\"linecolor\":\"#EBF0F8\",\"ticks\":\"\",\"title\":{\"standoff\":15},\"zerolinecolor\":\"#EBF0F8\",\"zerolinewidth\":2},\"yaxis\":{\"automargin\":true,\"gridcolor\":\"#EBF0F8\",\"linecolor\":\"#EBF0F8\",\"ticks\":\"\",\"title\":{\"standoff\":15},\"zerolinecolor\":\"#EBF0F8\",\"zerolinewidth\":2}}},\"title\":{\"text\":\"Residuals vs fitted values plot for homoscedasticity check\",\"x\":0.5},\"width\":1000,\"xaxis\":{\"title\":{\"text\":\"Predicted Values\"}},\"yaxis\":{\"title\":{\"text\":\"Residuals\"}},\"shapes\":[{\"line\":{\"color\":\"#688F4E\",\"width\":4},\"type\":\"line\",\"x0\":-0.25,\"x1\":0.9,\"y0\":0,\"y1\":0}]},                        {\"responsive\": true}                    ).then(function(){\n",
              "                            \n",
              "var gd = document.getElementById('e9325a7d-e880-44b2-98cc-e8b125faefac');\n",
              "var x = new MutationObserver(function (mutations, observer) {{\n",
              "        var display = window.getComputedStyle(gd).display;\n",
              "        if (!display || display === 'none') {{\n",
              "            console.log([gd, 'removed!']);\n",
              "            Plotly.purge(gd);\n",
              "            observer.disconnect();\n",
              "        }}\n",
              "}});\n",
              "\n",
              "// Listen for the removal of the full notebook cells\n",
              "var notebookContainer = gd.closest('#notebook-container');\n",
              "if (notebookContainer) {{\n",
              "    x.observe(notebookContainer, {childList: true});\n",
              "}}\n",
              "\n",
              "// Listen for the clearing of the current output cell\n",
              "var outputEl = gd.closest('.output');\n",
              "if (outputEl) {{\n",
              "    x.observe(outputEl, {childList: true});\n",
              "}}\n",
              "\n",
              "                        })                };                            </script>        </div>\n",
              "</body>\n",
              "</html>"
            ]
          },
          "metadata": {}
        }
      ],
      "source": [
        "fig = go.Figure(\n",
        "    layout=go.Layout(\n",
        "        title=\"Residuals vs fitted values plot for homoscedasticity check\",\n",
        "        title_x=0.5,\n",
        "        width=1000,\n",
        "        height=800,\n",
        "        font=dict(size=18),\n",
        "        template=\"plotly_white\",\n",
        "        autosize=True,\n",
        "        yaxis_title=\"Residuals\",\n",
        "        xaxis_title=\"Predicted Values\")\n",
        "    )\n",
        "\n",
        "\n",
        "fig.add_trace(go.Scatter(x=res.fittedvalues,\n",
        "                         y=res.resid,\n",
        "                         showlegend=False,\n",
        "                         mode='markers',\n",
        "                         name='lines',\n",
        "                         marker=dict(color=colors[2],size = 5)))\n",
        "fig.add_shape(type=\"line\",\n",
        "    x0=-0.25, y0=0, x1=0.9, y1=0,\n",
        "    line=dict(\n",
        "        color=colors[1],\n",
        "        width=4\n",
        "    ))\n",
        "\n",
        "\n",
        "fig.show()"
      ]
    },
    {
      "cell_type": "markdown",
      "metadata": {
        "id": "iLAEeE315NLo"
      },
      "source": [
        "we can see from the graph that there is no pattern/ shape presenting the residuals. Although, there are some values that are very far from the zero line. So, the assumption here is not violated \n",
        "\n"
      ]
    },
    {
      "cell_type": "markdown",
      "metadata": {
        "id": "4VukUvTMtSwI"
      },
      "source": [
        "\n",
        "\n",
        "\n",
        "### **Statistical Tests**\n",
        "\n",
        "\n",
        "  \n",
        "\n"
      ]
    },
    {
      "cell_type": "markdown",
      "metadata": {
        "id": "8B_nywyU5bkg"
      },
      "source": [
        "\n",
        "**Goldfeld Quandt Test:**\n",
        "\n",
        "$$\\mathcal{H}_{0}:  Residuals\\ are\\ homoscedastic\\ $$ \n",
        "\n",
        "$$\\mathcal{H}_{1}:  Residuals\\ are\\ not\\ homoscedastic\\ $$"
      ]
    },
    {
      "cell_type": "code",
      "execution_count": 32,
      "metadata": {
        "colab": {
          "base_uri": "https://localhost:8080/"
        },
        "id": "b-iqHjwBtSwK",
        "outputId": "df1aabb6-7e2d-4259-ac7b-8d120f78c4f9"
      },
      "outputs": [
        {
          "output_type": "execute_result",
          "data": {
            "text/plain": [
              "[('F statistic', 0.9594617635104512), ('p-value', 0.6867050093000607)]"
            ]
          },
          "metadata": {},
          "execution_count": 32
        }
      ],
      "source": [
        "name = ['F statistic', 'p-value']\n",
        "goldfeld = sms.het_goldfeldquandt(res.resid, x_train_new)\n",
        "lzip(name, goldfeld)"
      ]
    },
    {
      "cell_type": "markdown",
      "metadata": {
        "id": "tjCQ2jdJtSwL"
      },
      "source": [
        "\n",
        "\n",
        "**Breusch Pagan Test for Heteroscedasticity**:\n",
        "\n",
        "$$\\mathcal{H}_{0}:  Residuals\\ variances\\ are\\ equal\\ (Homoscedasticity)$$ \n",
        "\n",
        "$$\\mathcal{H}_{1}:  Residuals\\ variances\\ are\\ not\\ equal\\ (Heteroscedasticity)\\ $$ \n"
      ]
    },
    {
      "cell_type": "code",
      "execution_count": 33,
      "metadata": {
        "colab": {
          "base_uri": "https://localhost:8080/"
        },
        "id": "XkB2wf0qtSwM",
        "outputId": "c4f6a1c7-9632-4a30-eaed-494ecad2b58a"
      },
      "outputs": [
        {
          "output_type": "execute_result",
          "data": {
            "text/plain": [
              "[('F statistic', 48.06161324596686), ('p-value', 3.450531269363563e-09)]"
            ]
          },
          "metadata": {},
          "execution_count": 33
        }
      ],
      "source": [
        "import statsmodels.stats.api as sms\n",
        "from statsmodels.compat import lzip\n",
        "name = ['F statistic', 'p-value']\n",
        "test = sms.het_breuschpagan(res.resid, x_train_new)\n",
        "lzip(name, test)"
      ]
    },
    {
      "cell_type": "markdown",
      "metadata": {
        "id": "_siWMPF93zUq"
      },
      "source": [
        "In both test the p-value is more than 0.05 in Goldfeld Quandt Test and Breush Pagan Test, we accept their null hypothesis that error terms are homoscedastic.  ✅"
      ]
    },
    {
      "cell_type": "markdown",
      "metadata": {
        "id": "oEJT4StOqd8k"
      },
      "source": [
        "## Assumption 3: Check for Normality of residuals 🧮\n",
        "This assumptions requires the residual terms to be normally distributed\n",
        "\n",
        "\n",
        "----------------"
      ]
    },
    {
      "cell_type": "markdown",
      "source": [
        "### **Graphically**"
      ],
      "metadata": {
        "id": "_CWuETw3g7fO"
      }
    },
    {
      "cell_type": "code",
      "execution_count": 34,
      "metadata": {
        "colab": {
          "base_uri": "https://localhost:8080/",
          "height": 717
        },
        "id": "Gu5XXZhcqpGd",
        "outputId": "5a5dfb9b-4683-4838-e87d-e917e80ae0f2"
      },
      "outputs": [
        {
          "output_type": "display_data",
          "data": {
            "text/html": [
              "<html>\n",
              "<head><meta charset=\"utf-8\" /></head>\n",
              "<body>\n",
              "    <div>            <script src=\"https://cdnjs.cloudflare.com/ajax/libs/mathjax/2.7.5/MathJax.js?config=TeX-AMS-MML_SVG\"></script><script type=\"text/javascript\">if (window.MathJax) {MathJax.Hub.Config({SVG: {font: \"STIX-Web\"}});}</script>                <script type=\"text/javascript\">window.PlotlyConfig = {MathJaxConfig: 'local'};</script>\n",
              "        <script src=\"https://cdn.plot.ly/plotly-2.8.3.min.js\"></script>                <div id=\"ac5e52bc-ad1e-4680-9e31-af96f0f612a3\" class=\"plotly-graph-div\" style=\"height:700px; width:800px;\"></div>            <script type=\"text/javascript\">                                    window.PLOTLYENV=window.PLOTLYENV || {};                                    if (document.getElementById(\"ac5e52bc-ad1e-4680-9e31-af96f0f612a3\")) {                    Plotly.newPlot(                        \"ac5e52bc-ad1e-4680-9e31-af96f0f612a3\",                        [{\"autobinx\":false,\"histnorm\":\"probability density\",\"legendgroup\":\"distribution of plot\",\"marker\":{\"color\":\"#B1D182\"},\"name\":\"distribution of plot\",\"opacity\":0.7,\"x\":[-0.07245400649793388,0.1088864573136068,0.05162194309541551,0.027870926663342274,-0.055907109065561345,-0.08555999674464498,0.007304297237474566,0.18375423627346982,0.03760136399907307,0.12416151586363583,-0.009955008699420065,-0.06575837222566472,0.042489198916314364,0.07324438057344945,0.3149726649819242,0.22921049281862182,-0.36391165794602404,-0.0254532975910456,-0.06254830989844803,-0.08571668750409778,-0.1211378106688033,0.00400126773417836,-0.07942047149422288,0.0676979131031582,0.053069233748711885,-0.11341023253305835,-0.07134738007371094,-0.18899849611921002,-0.03595470364940345,-0.09022700141233275,0.14960849168459883,-0.03595470364940345,-0.04411945016699334,0.26152553279410107,0.04233433113955182,0.16031039419618354,-0.02944545815801486,-0.06077720701433187,0.10573470085236317,0.0842871866137237,0.20758236408270342,0.008616380653933553,-0.04504379675607445,0.010115626923161841,0.1007450741764403,0.026553396360243786,0.1512059289142763,-0.1308217253397653,-0.1268953669715096,-0.039698982798138834,-0.16269412822793394,0.08439175312203873,-0.07209456591466128,-0.1777888394360858,0.007406057948461969,0.10604930758742948,-0.12966319064630466,-0.11685076384671017,-0.0672177209254996,0.06060427699358645,0.09050016280923212,-0.08157126130010413,0.008146074617870536,-0.10593459283389178,-0.2814766201254838,-0.09675469987804813,-0.017982967982925924,-0.018063190614370866,0.03209052302933474,-0.16794156376308259,-0.14052549769305367,0.026803279935679547,-0.05789488236505125,-0.08068327814531666,0.09477139292907455,0.022017802952033316,-0.09448390762701694,-0.09753613119285343,-0.009528985062156659,-0.018312573153574985,0.08274735360826435,0.21639485360027283,-0.04856241651639398,-0.04226999133951104,-0.06205922748247404,-0.008152823925679398,0.10644910190465989,0.10153707161054565,-0.04517807372446385,-0.018856178351939312,-0.010863104495542952,0.004455523792827404,0.11196746269381119,0.015647209626844794,-0.06985643751369497,-0.15309219452798142,-0.027087493054468684,0.11105831236893283,0.1142635086832739,0.07821080278278092,-0.1957508013274525,0.010432285080239745,-0.02006431100593764,0.05590823919448468,-0.1407002663895353,-0.006826982933867132,0.016049541282899704,0.000826447768165206,-0.1203613153310716,0.07469952879119764,-0.163089124219842,0.17292040971891043,-0.019586651959416695,-0.023408211483503027,0.03392835117822818,-0.03416991189038454,-0.038487210527093474,-0.015596530271804077,-0.14383627634520374,-0.0768325316086435,-0.1547020962450114,-0.006638250086070718,-0.21383891582734646,0.00882849874824257,0.18470626086411013,-0.029515331936983247,0.018697161019606112,0.02979820082014656,0.23679617985854323,0.019873624655176753,0.04046460728453519,0.007926012277274103,0.2518183399645741,0.15333642776833734,0.2234243436963409,-0.18968456911786552,-0.07504747273382874,-0.12190421932485965,0.08057086948697939,0.0420557807468509,-0.041939737353993534,0.0071426715100821325,0.027372271067733933,-0.06472099500216688,-0.06989910123650594,0.07693160016741618,-0.17754204284620956,0.00400126773417836,-0.14537203837796933,-0.06527340219441699,-0.09773172898434443,-0.09305322737028851,-0.15929113397143752,-0.1932004074386435,-0.04919321349799888,-0.06727998637027105,0.1343437095045562,-0.1857359970791659,-0.12262720890475647,0.008328595373838343,0.03664580692869657,-0.06837143635476406,-0.04448926631832792,-0.012202934841367141,0.13127003004484475,-0.07713938173897267,-0.0793281657325744,-0.2688183383527463,0.05325147080518888,-0.03897245653785883,-0.06579357177223849,-0.09580548388421285,0.03826393636303019,0.21733335273920895,0.02074634389344923,0.07329401442315525,0.1303184985935067,-0.033635351320162266,-0.09044647013824983,0.12905524898963783,0.024077923249315236,-3.262935630243824e-06,0.19948287100923323,0.1521755866651065,-0.07298436647108997,-0.13241862136105753,-0.04152682378731832,0.008303421836563851,0.1311654065477142,0.06103301837930358,0.031862091103363355,-0.15748140902753885,-0.030675484132840936,0.08445263230243516,0.10824781549553117,-0.03543043744699391,-0.0502238142863371,-0.051407027605355315,0.06719661501873897,0.1285170153847307,-0.058518723074343526,-0.014983734898190937,0.16365657330333908,0.054826859486101664,-0.03792964319915071,0.21733335273920895,-0.0023272445399401542,-0.023800201301769075,0.09632684506597333,-0.13552822518494845,0.03289721647408055,0.08920410554540464,-0.030412623195587657,0.09550498322480794,0.19630846435904062,0.4162188646658954,0.012611563566769318,-0.11071372108845223,0.11186732893698259,-0.1581647845554783,0.03775422203528295,-0.08939266611518981,-0.021740476295907585,0.08053960930065202,-0.051407027605355315,-0.09696134436161123,-0.05196444328835642,-0.09404292014191783,0.3499282845734981,0.0010817791480150496,-0.09831004974611593,0.06994665278021794,0.015403741609625488,0.05746802940731882,-0.06255262289463176,0.010909538096661953,0.0031481874838523716,-0.008541934685623087,-0.13968674874783515,0.05931870003855477,-0.11072252913292159,-0.04810198895157597,-0.09223827389742033,0.02733706659265034,-0.026366716849396177,-0.0489799150526396,0.2108619412389997,0.24655908331213383,0.02685356022297547,-0.13408225184672806,0.21119550117431313,-0.10886428757110364,-0.09747521308117005,-0.13813662125380688,-0.02972119532927997,0.27917823973446687,-0.013877546855171952,-0.16260161762913877,0.12742226989897487,0.21668223011335558,0.2182383141464992,0.06015753437462451,-0.08129468203206022,0.01561705984388434,0.021404827965061546,-0.07382361702868968,0.18544176426980552,0.04572932749181219,0.03544631491995641,-0.1957508013274525,0.0658065146045515,0.12137386214131485,-0.1696868655613762,0.04074755286937687,-0.02142091791783418,-0.020466885233826282,0.15022825815554536,-0.010242960736398521,0.1081524108617048,0.08678546421674727,-0.1909609306964878,-0.16022722213035479,0.13440254213168215,0.025908766698175184,0.04568808834652793,-0.16508647676245392,0.11107315296212097,0.03771548163703156,-0.02987577552881851,-0.11287550844387466,-0.09116434947564314,0.11858762961684385,-0.012822285401102085,0.032164838040629085,-0.028102404393077818,-0.12966511158136054,-0.008152823925679398,-0.00015110026516890543,-0.2503845869725501,-0.16717183373771582,-0.06004120125681456,-0.08552163073862262,0.015329052083432437,-0.07713938173897267,-0.1499116629876508,-0.01166601554827748,0.04338773472748214,-0.049926674861235976,-0.09010427434702345,-0.0032159794489104443,-0.023448153873530872,0.02074634389344923,-0.12711084569864955,-0.02769985188893508,0.0577499267336663,0.16115088201930672,-0.14590271964590765,0.0702118503149308,-0.07628741923376876,0.018988251794501698,0.11024566201017899,-0.041210609951464444,-0.038209132309997784,-0.20468290417162482,0.024535661560219357,-0.29954079963269603,0.13684697978174376,-0.09132289929888532,-0.09848119137580927,0.020351896194623298,0.09482977344087024,0.14165310397964093,-0.045449381145796,0.07324438057344945,0.014886732195621144,0.03370198296572691,0.061722472093903136,0.11396632262679549,-0.05937232182328678,-0.03416991189038454,0.06598915288466145,0.09290634737448503,-0.017548953658764826,-0.18802001697401338,0.11343936580299663,-0.05627161858152835,-0.23977882990497035,0.2516457536008948,-0.14978286117031592,-0.10143664460548502,-0.012471944844803962,-0.015432971793007788,-0.16574186076086994,-0.15616324532640663,0.08087904624714351,-0.08304531701197537,0.2957898348593681,-0.2479209215921442,0.24476017281854792,0.10998052412009268,0.033264840927939715,-0.05100941348884347,0.09082483402778085,0.054249500961442654,0.07907729600794067,-0.014942550107660824,0.07907729600794067,-0.058957019261562715,0.1268102254631248,-0.18899849611921002,0.09298225339284769,0.09295778191731577,-0.17907830068376535,0.09606448685367522,-0.011480158210382452,-0.15071389942226604,0.05965883429899743,0.13209080261134382,0.12092310274516382,-0.14418551960047304,-0.08316077435135164,0.09290634737448503,0.08227441984227848,-0.12326909715749736,-0.03085463384037279,-0.05307083800998018,0.03179947792000423,0.22028961808515848,-0.0063084333593429465,-0.12598734376709933,0.004055747279880728,-0.0339555564090247,-0.05941218188619288,-0.1255055864934778,-0.06667673788027817,0.07145725641893758,0.02822653032009792,0.07196618185038406,-0.11108597184221011,0.2787466007471442,-0.028807047000625155,-0.05771017012050286,0.23476622831620633,-0.016306398343122974,0.22847360108035003,-0.09029175578315032,-0.0183911935187262,-0.04856241651639398,-0.04018157157443068,0.020742206647228145,0.12954685868575339,-0.17526336308380255,-0.13678542390288723,0.1055960482705876,0.07554853812685886,-0.119566896390087,-0.17313946661608648,0.07732394647852653,-0.014143360232529614,-0.0866064375578771,-0.07903495518847331,0.0033853576724475754,-0.09028713023672164,0.04207989400724821,-0.030163900373081615,-0.09122076092644893,-0.05966402732229068,-0.08192964554132712,0.05354056401970564,0.07203824279873935,-0.09516742959673782,-0.04984841713813906,0.13298958863879584,-0.030870639341720574,-0.011273712468860775,0.061137524587798725,-0.15071389942226604,0.03719838235527256,0.276704291552015,0.03647274245507133,-0.014457787860858301,-0.07162073111544445,-0.2790121870591167,0.045938296238808546,0.08514647401231312,-0.048310540509943156,0.06586844653764079,-0.024931214597010753,-0.16778537537115418,0.06217802012318602,0.1322419678288913,-0.03792964319915071,-0.006227659640597738,-0.08951264175330709,-0.04959603870834908,-0.16316705432680512,0.1802422747847474,-0.1189984907182699,-0.04783275826248702,-0.10346352572903998,-0.17981047342610101,-0.09160966315796953,-0.007186293171635771,0.07821080278278092,-0.14067985606806782,0.169274150882198,-0.027568847778065675,0.0250224942920248,0.299474204136354,-0.1457995565978492,0.2373828347151118,-0.09454747838084188,0.08057086948697939,-0.23089777696543368,-0.001187825346814872,0.08906494929165804,-0.0011201655647297692,0.2622539343260005,0.20249778043971745,-0.030508329143210167,-0.07828610251141904,0.04524923771240305,-0.22300735825243007,0.09716497251491024,-0.060208079863928815,0.1181472916184202,-0.10405128473400702,0.010438554709268855,-0.06263683687386562,-0.12482932953184961,0.18893672464546019,-0.07073258473882482,-0.06543656465058661,0.07469952879119764,-0.013126208831317043,-0.029671379611832124,0.001439251274524933,0.08303532315301859,-0.0339555564090247,0.07446683723911568,0.07892522032914817,-0.04112755177227856,-0.13836946920533383,0.06565621733627602,-0.02321906804974383,-0.02001135030288992,-0.1457995565978492,-0.12785187403441844,0.19300102853180107,-0.17102553386991637,-0.025717985558482676,0.04030845023496821,0.10929039780220329,-0.07866126690579711,0.04306328008663471,0.01209596444679556,-0.015852693805738408,-0.0321416254891882,0.011625937914892581,-0.16717183373771582,0.17275664470061408,-0.05029519768699081,-0.06020448577969684,-0.0793849995306686,-0.061521732674178375,-0.01210521501188197,0.008516002733322703,0.08227441984227848,-0.11477669620042155,-0.17367913982703498,-0.14239745072859505,-0.12473325340696141,-0.08224597699135106,-0.14590271964590765,-0.1811738025104376,-0.01619167937575089,0.034582741100846026,-0.040063179516932834,0.19630904115188924,0.13886862088229474,-0.08991842878175166,-0.02088831642102318,0.056510832170345915,-0.050711494109002275,0.028819706911667187,-0.17313946661608648,-0.1457599737931455,-0.11039185203850926,0.2900387705856898,-0.02263788292260549,0.3607865653927646,-0.24049421985876962,-0.09773172898434443,0.2277116862693955,0.07145725641893758,-0.04326430991143404,0.25917824793285094,-0.002874855274230148,-0.0039534108565070225,-0.11673063842843422,0.03760136399907307,0.06289018093376642,-0.014045471170749724,-0.0917148288270509,-0.08635761929891206,-0.10237740136214829,0.026956545344014204,-0.11063945627179111,0.07257359586617601,0.1577528001952131,0.06086825722516537,-0.11994856928982264,0.07725207190209943,-0.11408233130759429,0.10407734279255443,0.0739039732295417,-0.01486926303990077,0.08766505447245532,0.06475269516774407,-0.09132289929888532,0.15759429445937745,0.007335883104144736,-0.03875400747923596,0.11565214140493624,0.04536648667147336,-0.10827950895511812,-0.1088283301975575,-0.032938030882179226,0.08634796320375504,0.0006106027978284023,-0.1466106063746031,0.08115503661519885,0.009058051959709545,0.28443783467376266,-0.01008370227996959,0.19256150611779188,-0.050947530692102866,-0.10324762053232114,-0.002968190580982133,-0.029671379611832124,-0.020862182953458763,0.03676934191940967,0.2724967749839473,-0.034311223420917636,0.19243970319562592,-0.006189660200063167,-0.04684709469674064,-0.042240098473356746,-0.0923428272957231,-0.09223827389742033,0.1365049667800195,-0.026067861249285562,-0.16285611320532908,0.03529459607482449,-0.09454747838084188,0.12483799975909571,0.03358510778711615,-0.07318281838593171,0.08648630830890347,-0.06725163800568466,0.03546803140885438,0.02165895372167559,-0.07728606507042549,0.17455866798101072,-0.041210609951464444,-0.09767888572539213,0.01871798728201779,-0.04829896734365538,-0.13859385167640653,-0.09021292430861572,-0.03636556602225792,0.1311654065477142,0.026220280954986963,-0.0996723715923178,-0.11408233130759429,0.06128040950558511,0.06217802012318602,-0.18398299854322248,-0.3071780365358295,-0.06197214583454293,0.09243876843539162,0.00809324138817663,-0.12723296057895297,0.12591116516602413,0.08634796320375504,0.019771221507739162,-0.1480559130139167,0.02733706659265034,-0.08104368653376717,0.09498218868760588,0.08688577959367255,-0.10324762053232114,0.13095735887118654,0.01496981979857942,-0.17526336308380255,-0.10292903784600288,-0.005802781403222768,-0.013050763975739621,0.19863749157805127,0.21314091461142526,-0.08129468203206022,-0.008353754977773686,-0.14305795370607235,-0.06384963666735177,0.11960950539121518,0.14286675305166158,0.0729391162721893,-0.036828606530575014,-0.020874823474225923,-0.07230975025114283,0.03467081558288007,0.04404281342530514,-0.004521574736385869,0.06396713452693331,-0.06440409598124266,-0.07828610251141904,0.034380439561698395,-0.014942550107660824,-0.19343351454906207,0.11024566201017899,0.06987170404729759,-0.01166601554827748,-0.1348252662170971,-0.014983734898190937,0.17179744912941625,-0.18899849611921002,0.08377738074454577,-0.1132792915305636,-0.026355067416740097,-0.004754820776189314,-0.16166661714663697,-0.025068392751655733,-0.019170937234351815,-0.009684708839446776,0.06971980578769094,-0.001817949266175567,0.117740975153449,0.033153537711128944,0.1422717417598086,0.12613625436997744,-0.029138180574890135,-0.06476966145639397,-0.07551893457192294,0.21801690530873025,-0.11050438962795023,0.1007450741764403,-0.12299509080017476,-0.18475331038410261,-0.024390088919224673,-0.01619167937575089,0.05323130740825896,0.3236199726556771,0.08060674676219151,-0.012202934841367141,-0.18356147263790187,-0.0612647808519739,0.2445689456583664,-0.11108597184221011,0.11107315296212097,0.02569387389470748,-0.07795486930807735,-0.14584507074513658,-0.10035315021026028,0.09829211626281364,-0.06579357177223849,0.27917823973446687,0.010909538096661953,0.006969789560826112,0.33532985500610757,-0.07903495518847331,-0.07511192618811208,0.11280414522950499,0.1383432142618884,0.04129290361914856,-0.03283735143960176,0.055406839902364724,0.004455523792827404,-0.08021447019461359,-0.10030040336920326,-0.029671379611832124,-0.12586790477065185,-0.013141864515430646,0.001439251274524933,0.17286412880388125,0.059447123306662714,-0.045773965425332075,0.07693160016741618,-0.027739075276099312,0.10597885510084384,-0.19430512957285087,-0.04919321349799888,-0.07728606507042549,-0.2722803817853997,0.09911853757680655,-0.02080211933777454,0.1516505697602779,-0.08068327814531666,0.13741192783734119,-0.014466170716296578,-0.12326909715749736,-0.03490445002656607,-0.17716981126972503,0.02674000193951309,0.10153707161054565,-0.006165333866690936,-0.011982037343998109,-0.1696868655613762,0.13300426767001544,0.018697161019606112,-0.007060414483251259,-0.17614992284930014,0.15556739228149896,-0.02876599648406225,-0.04124614797002371,0.010438554709268855,0.03760136399907307,0.01943432096597464,-0.04961021275172983,-0.10779120694121186,0.005203205648022735,0.054420501453366216,0.09487050193903745,-0.10323385872665808,-0.08028200288140064,0.022707926384270744,-0.1550019148107471,-0.10264826933811566,0.0734751140282516,0.06848836235208139,0.13503184744993768,-0.02065377747532049,0.10147440113973938,-0.05842801295548575,0.03897464961277183,0.12350513737714813,-0.037253027469891564,0.43499848344576175,0.05355642179150255,-0.09753613119285343,0.0670356526249431,-0.03390420479744041,-0.0946507157663444,-0.1593800127960387,-0.07434212015832325,-0.07960021898543745,0.08285015538934953,-0.0321416254891882,-0.006356149517514509,0.2768225710028433,0.044551070215929967,0.07153682993966515,-0.016834763926729224,-0.007994330209905198,-0.19649581288657703,-0.11224818862652076,-0.021340940857927093,0.19841718840566042,-0.04304888360289824,0.07630216009641204,-0.05605880330735541,0.14186519793760152,0.01050189779298577,0.20171432649184087,0.054420501453366216,-0.0035605825418990045,0.14407394986828892,-0.13886583274515363,0.022919844121188804,0.13821922901963213,-0.031113067494463617,-0.07640150053141292,-0.14305795370607235,-0.11155480990524545,0.05800659792006013,-0.19343351454906207,-0.027653653210406443,0.06193029709899478,0.06713136565582956,-0.13836946920533383,0.027940100111478433,-0.017548953658764826,-0.06314253264811909,-0.07434212015832325,0.005773294378391192,-0.05026421828982652,0.24679255269678224,0.06658038954754703,-0.10896275539784514,0.05912182022731971,0.033973745575967884,-0.13059609665313926,-0.01639706309163247,-0.1598508812566293,-0.06024690829242832,-0.0005218939449015692,-6.9618236548940615e-06,-0.11524712925578329,0.27738627627692214,0.05965883429899743,0.026553396360243786,0.0257091923485111,-0.09702232675622441,0.2900387705856898,-7.322217036231926e-05,-0.10707905636098797,0.04988571147328001,-0.19705501687632748,0.0803090434553704,0.20349314776249466,-0.06592409719675041,0.1055960482705876,0.09379395578879471,0.16059522992520645,-0.14828800653418295,-0.007186293171635771,-0.034163522619200304,-0.09502402290777882,-0.15622337231126698,-0.051794777660725336,-0.004268613354311501,0.1525036213124147,-0.03407033627367001,-0.032268243177734815,0.4408282804434754,-0.15964621303967932,0.19373340821331203,0.016922210675652194,-0.08572482523703662,-0.01011270919371099,-0.09071784919799887,-0.11408233130759429,0.09768517900371584,0.0592349951668486,-0.1499116629876508,-0.07960021898543745,-0.0003330241987861138,0.07183161937636122,-0.18398299854322248,-0.09790768626139934,0.23876413711043243,-0.06452315024972362,-0.042929548824714586,-0.043276172122523826,0.15340591326062425,0.005203205648022735,-0.03845718169359352,0.036329452625675496,-0.050711494109002275,-0.011982037343998109,0.028994490694739194,0.12416151586363583,-0.09745379877405203,-0.18341828640397626,-0.04195562201199304,0.023080066527504883,0.11565214140493624,0.14941481723442918,-0.1087758257485692,-0.13968674874783515,0.12969738470740344,0.08053960930065202,0.02903751198021179,0.050024623142581603,0.02039140116844912,-0.11204825663375818,0.07615796330379648,-0.1932004074386435,-0.13552822518494845,0.007985160910047251,0.04796897544940282,-0.02987577552881851,-0.10973300534297184,0.06044156306331461,0.03931364529902642,-0.1461721257279316,0.00809324138817663,-0.01639706309163247,0.017252228493326582,0.10427914256057752,-0.009757639001999052,-0.07859796739642302,0.32927222613979246,-0.1261314476287775,0.019407409431838288,-0.11071372108845223,0.00231064774732459,-0.1189159015914715,0.14423077863165637,0.03664580692869657,-0.0492736726355297,0.10191764053662677,-0.0950783475182177,-0.11950421503169188,-0.03449679174544107,0.07091100825240315,0.1995443179193368,-0.07569693263734367,0.0057559895880029965,-0.009450453110274482,-0.001187825346814872,-0.00860866932850951,0.20569396237535476,0.13651482011282193,0.12642727425364964,0.1344309248943979,-0.017756533796161156,-0.07649586689575985,-0.11918540649030049,-0.12966511158136054,0.03170266889447798,0.09143745059339348,0.1242092899584114,0.07009697298127221,-0.11155480990524545,0.14960849168459883,-0.11688433983852348,0.17675216871546237,-0.054222233759411154,-0.08803562471338436,0.1055960482705876,-0.14787583048841887,-0.0063084333593429465,-0.05524418687401797,0.13300426767001544,0.039633762425323404,-0.04043412380127806,0.09694555688345569,0.2373828347151118,-0.0039534108565070225,0.1995443179193368,0.02063939068929932,-0.19539560672356096,0.07171247935145253,0.0633230307382625,0.03771496496693172,0.06103301837930358,-0.045449381145796,-0.0707533903783582,0.22273918658932057,-0.21383891582734646,-0.05374958889814263,0.024711796009624476,0.12082169907348456,0.06910329996461212,0.05661795924670193,-0.0721943639320497,-0.001368580886217885,0.08210587578014866,0.0025772579936332862,-0.056246333399421936,-0.23390409641877008,-0.009684708839446776,-0.02858673818911696,0.18130080123345887,0.04344177021615381,-0.03467102953689108,-0.005802781403222768,-0.09680012730342283,-0.1386230903245054,0.13550819416623733,-0.1088283301975575,0.027873948094027545,-0.14706687854259518,0.04706537195588384,0.052981689014475586,0.04306328008663471,0.057978302372619875,0.2516058032896731,0.005747775205472705,-0.13408225184672806,-0.1330370545438868,-0.1249335085712962,0.03142626428986717,-0.09391108192050196,0.032130393661836815,-0.025253884769772694,-0.08237524682894178,-0.048078229143642605,-0.13025368982688335,0.008881418107338002,-0.1366433762261262,0.12642727425364964,-0.15307132643663718,0.250795144095583,0.09371237701026247,0.09143745059339348,0.06344013842791785,0.02465114154566596,-0.045773965425332075,0.10728415642374495,0.011148246856863261,0.10256911044932226,-0.1217279870050892,-0.10119572433151647,0.1592187186351776,-0.1480559130139167,-0.1132792915305636,-0.07802036392734175,-0.011851974239898644,0.007658211833893813,0.0894057408963364,-0.0026922093364469823,0.2080085067165221,-0.0430568175788264,-0.028536389037890852,-0.058408241998044785,-0.014694657034031278,0.032143463654570825,-0.10009822762506702,0.30989072187424427,-0.16035775084845788,0.11872494152809987,0.02714201984634944,0.0899317910467684,0.1282227993021352,0.044551070215929967,0.06506090768898565,0.10214373160571555,-0.0025283672278273994,0.03018016556388592,0.03019051517209237,-0.006189660200063167,-0.09119793869383008,0.028047022633206076,0.01630733008096724,-0.011982037343998109,0.0042933680344275915,-0.037027581839640944,0.005649479295686322,-0.0946507157663444,0.22409082376727207,0.06894083228208006,-0.12299509080017476,0.10691230679577957,0.04685040989362699,-0.09197826045696669,0.07141583709754545,0.2891710626850511,0.15340591326062425,-0.019210068635213073,-0.12089104239857708,-0.2098351631249968,0.33040187677250266,-0.1285843408201254,-0.08551742145838792,-0.09416646202769727,0.04404281342530514,0.370970895745813,0.14650772972666853,-0.14268716230642156,0.029017159730061526,-0.2790121870591167,0.12918801775161542,0.08986765586585227,-0.2320661150547422,-0.1087758257485692,-0.1211378106688033,0.004030530906243501,0.08126141661535066],\"xaxis\":\"x\",\"xbins\":{\"end\":0.4408282804434754,\"size\":0.01,\"start\":-0.36391165794602404},\"yaxis\":\"y\",\"type\":\"histogram\"},{\"legendgroup\":\"distribution of plot\",\"marker\":{\"color\":\"#B1D182\"},\"mode\":\"lines\",\"name\":\"distribution of plot\",\"showlegend\":false,\"x\":[-0.36391165794602404,-0.36230217806924503,-0.360692698192466,-0.359083218315687,-0.35747373843890806,-0.35586425856212905,-0.35425477868535005,-0.35264529880857104,-0.35103581893179203,-0.349426339055013,-0.3478168591782341,-0.34620737930145506,-0.34459789942467606,-0.34298841954789705,-0.34137893967111804,-0.33976945979433903,-0.3381599799175601,-0.3365505000407811,-0.33494102016400207,-0.33333154028722306,-0.33172206041044405,-0.33011258053366505,-0.32850310065688604,-0.3268936207801071,-0.3252841409033281,-0.32367466102654907,-0.32206518114977006,-0.32045570127299106,-0.31884622139621205,-0.31723674151943304,-0.3156272616426541,-0.3140177817658751,-0.3124083018890961,-0.31079882201231707,-0.30918934213553806,-0.3075798622587591,-0.3059703823819801,-0.3043609025052011,-0.3027514226284221,-0.3011419427516431,-0.29953246287486407,-0.29792298299808506,-0.2963135031213061,-0.29470402324452705,-0.2930945433677481,-0.2914850634909691,-0.2898755836141901,-0.2882661037374111,-0.28665662386063206,-0.2850471439838531,-0.2834376641070741,-0.2818281842302951,-0.2802187043535161,-0.2786092244767371,-0.2769997445999581,-0.27539026472317907,-0.2737807848464001,-0.2721713049696211,-0.2705618250928421,-0.2689523452160631,-0.2673428653392841,-0.26573338546250513,-0.2641239055857261,-0.2625144257089471,-0.2609049458321681,-0.2592954659553891,-0.2576859860786101,-0.2560765062018311,-0.25446702632505214,-0.25285754644827313,-0.2512480665714941,-0.24963858669471511,-0.2480291068179361,-0.2464196269411571,-0.24481014706437815,-0.24320066718759914,-0.24159118731082013,-0.23998170743404112,-0.23837222755726212,-0.23676274768048314,-0.23515326780370413,-0.23354378792692512,-0.23193430805014614,-0.23032482817336714,-0.22871534829658813,-0.22710586841980912,-0.2254963885430301,-0.22388690866625113,-0.22227742878947215,-0.22066794891269315,-0.21905846903591414,-0.21744898915913516,-0.21583950928235615,-0.21423002940557714,-0.21262054952879814,-0.21101106965201916,-0.20940158977524015,-0.20779210989846114,-0.20618263002168213,-0.20457315014490313,-0.20296367026812417,-0.20135419039134517,-0.19974471051456616,-0.19813523063778715,-0.19652575076100817,-0.19491627088422916,-0.19330679100745016,-0.19169731113067115,-0.19008783125389214,-0.18847835137711316,-0.18686887150033415,-0.18525939162355515,-0.18364991174677617,-0.1820404318699972,-0.18043095199321818,-0.17882147211643917,-0.17721199223966017,-0.17560251236288119,-0.17399303248610218,-0.17238355260932317,-0.17077407273254416,-0.16916459285576516,-0.16755511297898618,-0.1659456331022072,-0.1643361532254282,-0.16272667334864918,-0.1611171934718702,-0.1595077135950912,-0.1578982337183122,-0.15628875384153318,-0.15467927396475417,-0.1530697940879752,-0.15146031421119618,-0.14985083433441718,-0.14824135445763817,-0.14663187458085922,-0.1450223947040802,-0.1434129148273012,-0.1418034349505222,-0.1401939550737432,-0.1385844751969642,-0.1369749953201852,-0.1353655154434062,-0.13375603556662718,-0.1321465556898482,-0.1305370758130692,-0.1289275959362902,-0.1273181160595112,-0.12570863618273223,-0.12409915630595322,-0.12248967642917422,-0.12088019655239521,-0.1192707166756162,-0.11766123679883722,-0.11605175692205821,-0.1144422770452792,-0.1128327971685002,-0.11122331729172125,-0.10961383741494224,-0.10800435753816323,-0.10639487766138422,-0.10478539778460522,-0.10317591790782621,-0.1015664380310472,-0.09995695815426825,-0.09834747827748924,-0.09673799840071023,-0.09512851852393123,-0.09351903864715222,-0.09190955877037321,-0.0903000788935942,-0.0886905990168152,-0.08708111914003619,-0.08547163926325724,-0.08386215938647823,-0.08225267950969922,-0.08064319963292027,-0.07903371975614126,-0.07742423987936226,-0.07581476000258325,-0.07420528012580424,-0.07259580024902529,-0.07098632037224628,-0.06937684049546727,-0.06776736061868827,-0.06615788074190926,-0.06454840086513025,-0.06293892098835124,-0.061329441111572236,-0.05971996123479323,-0.058110481358014276,-0.05650100148123527,-0.05489152160445626,-0.053282041727677254,-0.051672561850898246,-0.05006308197411924,-0.04845360209734023,-0.046844122220561224,-0.045234642343782216,-0.04362516246700332,-0.04201568259022431,-0.040406202713445305,-0.0387967228366663,-0.03718724295988729,-0.03557776308310828,-0.033968283206329275,-0.03235880332955027,-0.03074932345277126,-0.029139843575992308,-0.0275303636992133,-0.025920883822434293,-0.024311403945655286,-0.022701924068876278,-0.02109244419209727,-0.019482964315318263,-0.017873484438539256,-0.016264004561760248,-0.014654524684981296,-0.013045044808202289,-0.011435564931423281,-0.009826085054644274,-0.008216605177865266,-0.0066071253010862585,-0.0049976454243073065,-0.003388165547528299,-0.0017786856707492915,-0.00016920579397033952,0.001440274082808668,0.0030497539595876755,0.004659233836366683,0.0062687137131456905,0.007878193589924698,0.009487673466703705,0.011097153343482713,0.012706633220261665,0.014316113097040672,0.01592559297381968,0.017535072850598687,0.019144552727377695,0.020754032604156702,0.02236351248093571,0.023972992357714717,0.025582472234493725,0.027191952111272677,0.028801431988051684,0.030410911864830692,0.032020391741609644,0.03362987161838865,0.03523935149516766,0.036848831371946666,0.038458311248725674,0.04006779112550468,0.04167727100228363,0.04328675087906264,0.04489623075584165,0.046505710632620656,0.04811519050939966,0.04972467038617867,0.05133415026295768,0.052943630139736686,0.054553110016515693,0.056162589893294645,0.05777206977007365,0.05938154964685266,0.06099102952363167,0.06260050940041068,0.06420998927718968,0.06581946915396869,0.0674289490307477,0.0690384289075267,0.0706479087843056,0.07225738866108461,0.07386686853786362,0.07547634841464262,0.07708582829142163,0.07869530816820064,0.08030478804497965,0.08191426792175865,0.08352374779853766,0.08513322767531661,0.08674270755209562,0.08835218742887463,0.08996166730565364,0.09157114718243264,0.09318062705921165,0.09479010693599066,0.09639958681276967,0.09800906668954862,0.09961854656632763,0.10122802644310663,0.10283750631988564,0.10444698619666465,0.10605646607344366,0.10766594595022261,0.10927542582700162,0.11088490570378062,0.11249438558055957,0.11410386545733858,0.11571334533411759,0.1173228252108966,0.1189323050876756,0.12054178496445461,0.12215126484123362,0.12376074471801263,0.12537022459479163,0.1269797044715706,0.1285891843483496,0.1301986642251286,0.1318081441019076,0.13341762397868662,0.13502710385546562,0.13663658373224458,0.13824606360902364,0.1398555434858026,0.14146502336258154,0.1430745032393606,0.14468398311613956,0.14629346299291862,0.14790294286969757,0.14951242274647664,0.1511219026232556,0.15273138250003465,0.1543408623768136,0.15595034225359267,0.15755982213037162,0.15916930200715068,0.16077878188392963,0.16238826176070859,0.16399774163748754,0.1656072215142665,0.16721670139104555,0.1688261812678245,0.17043566114460357,0.17204514102138252,0.17365462089816158,0.17526410077494053,0.1768735806517196,0.17848306052849855,0.1800925404052776,0.18170202028205656,0.18331150015883563,0.18492098003561458,0.18653045991239364,0.1881399397891726,0.18974941966595166,0.1913588995427305,0.19296837941950956,0.1945778592962885,0.19618733917306758,0.19779681904984653,0.1994062989266256,0.20101577880340454,0.2026252586801835,0.20423473855696256,0.2058442184337415,0.20745369831052057,0.20906317818729953,0.2106726580640786,0.21228213794085754,0.2138916178176366,0.21550109769441556,0.21711057757119462,0.21872005744797346,0.22032953732475252,0.22193901720153147,0.22354849707831054,0.2251579769550895,0.22676745683186855,0.2283769367086475,0.22998641658542657,0.23159589646220552,0.23320537633898458,0.23481485621576353,0.2364243360925426,0.23803381596932155,0.2396432958461005,0.24125277572287956,0.24286225559965852,0.24447173547643758,0.24608121535321653,0.24769069522999548,0.24930017510677444,0.2509096549835535,0.25251913486033245,0.2541286147371115,0.25573809461389047,0.25734757449066953,0.2589570543674485,0.26056653424422754,0.2621760141210065,0.26378549399778556,0.2653949738745645,0.2670044537513436,0.2686139336281225,0.2702234135049016,0.27183289338168054,0.2734423732584596,0.27505185313523856,0.2766613330120174,0.27827081288879646,0.2798802927655754,0.2814897726423545,0.2830992525191334,0.2847087323959125,0.28631821227269144,0.2879276921494705,0.28953717202624946,0.2911466519030285,0.29275613177980747,0.29436561165658653,0.2959750915333655,0.29758457141014455,0.2991940512869235,0.30080353116370256,0.3024130110404815,0.30402249091726047,0.3056319707940394,0.3072414506708185,0.30885093054759744,0.3104604104243765,0.31206989030115545,0.3136793701779345,0.31528885005471347,0.3168983299314924,0.3185078098082715,0.32011728968505043,0.3217267695618295,0.32333624943860845,0.3249457293153875,0.32655520919216646,0.3281646890689455,0.3297741689457245,0.33138364882250354,0.3329931286992824,0.33460260857606144,0.3362120884528404,0.33782156832961946,0.3394310482063984,0.3410405280831775,0.3426500079599564,0.3442594878367355,0.34586896771351444,0.3474784475902935,0.34908792746707246,0.3506974073438515,0.35230688722063047,0.3539163670974094,0.3555258469741885,0.35713532685096744,0.3587448067277465,0.36035428660452545,0.3619637664813044,0.36357324635808336,0.3651827262348624,0.3667922061116414,0.36840168598842044,0.3700111658651994,0.37162064574197845,0.3732301256187574,0.37483960549553647,0.3764490853723154,0.3780585652490945,0.37966804512587343,0.3812775250026525,0.38288700487943145,0.3844964847562105,0.38610596463298946,0.3877154445097685,0.38932492438654737,0.3909344042633263,0.3925438841401054,0.39415336401688433,0.3957628438936634,0.39737232377044235,0.3989818036472214,0.40059128352400036,0.4022007634007794,0.4038102432775584,0.40541972315433744,0.4070292030311164,0.40863868290789546,0.4102481627846744,0.41185764266145347,0.4134671225382324,0.4150766024150115,0.41668608229179044,0.4182955621685694,0.41990504204534834,0.4215145219221274,0.42312400179890636,0.4247334816756854,0.4263429615524644,0.4279524414292433,0.4295619213060224,0.43117140118280134,0.4327808810595804,0.43439036093635935,0.4359998408131384,0.43760932068991737,0.43921880056669643],\"xaxis\":\"x\",\"y\":[0.015810853198368512,0.016224049306848697,0.016644617741808372,0.017076931078786186,0.017525830450389766,0.017996582870662824,0.018494829524307983,0.019026525672509145,0.019597873009533466,0.020215245470453395,0.020885109636313563,0.02161394100561415,0.022408137497540375,0.023273931621160638,0.02421730278486109,0.025243891231392524,0.02635891506663289,0.027567091805766043,0.028872565790888958,0.03027884274143479,0.03178873258595214,0.0334043015936989,0.03512683468030757,0.03695680860659735,0.03889387662652131,0.040936864972159606,0.043083781393309754,0.045331835799040425,0.04767747288078315,0.05011641643309195,0.05264372493086871,0.05525385777222916,0.05794075145575165,0.06069790483106592,0.06351847244404185,0.06639536489373245,0.06932135502928437,0.07228918874288363,0.0752916990611518,0.07832192220388567,0.081373214267217,0.08443936719948134,0.08751472277329664,0.09059428331704789,0.09367381805296451,0.09674996399630179,0.09982032049889726,0.10288353666773244,0.10593939105114526,0.10898886315713827,0.11203419654395928,0.11507895339618648,0.1181280606627741,0.12118784797946494,0.12426607771928114,0.12737196760454814,0.13051620636600242,0.1337109629441812,0.13696988969230328,0.14030811995707151,0.14374226028533982,0.14729037733395448,0.15097197935339604,0.15480799188169989,0.1588207270344213,0.16303384552201805,0.1674723102824037,0.17216233039896842,0.17713129379879505,0.18240768710739708,0.18802100098909236,0.1940016193381642,0.20038069081448331,0.20718998144408635,0.21446170733213948,0.2222283469601171,0.23052243305364467,0.2393763246003462,0.24882196025176584,0.2588905950395829,0.2696125230499629,0.2810167894045672,0.29313089556439853,0.3059805025747964,0.3195891373787375,0.33397790771542696,0.3491652313693894,0.3651665856236779,0.3819942826865252,0.39965727659688116,0.4181610066706935,0.43750728193319255,0.4576942102064643,0.47871617460641297,0.5005638591749968,0.5232243242634751,0.5466811311254303,0.570914514012109,0.5959015969258452,0.621616651118079,0.6480313884529414,0.675115284927946,0.702835927977618,0.7311593807053778,0.760050555907988,0.7894735926823097,0.8193922285347736,0.8497701602409679,0.8805713872097322,0.9117605317700815,0.9433031315916299,0.9751659003369435,1.007316953591745,1.039725998089132,1.0723644832004289,1.1052057145735061,1.1382249306284191,1.1713993433440284,1.2047081453677089,1.2381324859401013,1.27165541844188,1.3052618225409638,1.338938303954757,1.3726730747576437,1.40645581697948,1.4402775319811632,1.474130377786333,1.5080074962236707,1.5419028314214767,1.5758109409235215,1.6097268004874832,1.6436456035053586,1.6775625559643392,1.7114726679555627,1.74537054293897,1.779250166280023,1.813104694976132,1.8469262509685775,1.8807057209649694,1.914432566248436,1.9480946464900464,1.9816780620754006,2.0151670198694793,2.048543727641398,2.0817883225210156,2.114878838834961,2.147791220448858,2.1804993823101837,2.2129753252350324,2.2451893071130415,2.277110072627465,2.308705142320287,2.339941160401831,2.370784299144996,2.4012007160570454,2.4311570583333286,2.460621007418163,2.489561854881405,2.5179510993188194,2.5457630526530073,2.572975443099259,2.59957000121235,2.6255330148852063,2.6508558389595165,2.67553534525443,2.6995742993346603,2.72298165122582,2.7457727285337725,2.767969322016632,2.789599655562886,2.8106982347074587,2.8313055702210903,2.8514677758819826,2.871236042220985,2.8906659907577237,2.90981691594788,2.9287509246741124,2.947531985569429,2.966224902700482,2.984894230103042,3.0036031453033503,3.0224123012362982,3.0413786768525863,3.060554447170524,3.07998589356268,3.0997123746723694,3.1197653775394047,3.140167667297874,3.1609325522188767,3.1820632789442027,3.2035525705354533,3.225382317495155,3.247523429254107,3.269935850817358,3.292568746375944,3.3153608487791564,3.3382409708779988,3.3611286719478186,3.3839350697274853,3.4065637861207008,3.4289120123351196,3.450871677224923,3.4723307008861126,3.493174314158994,3.5132864236422114,3.5325510011345513,3.550853476106041,3.5680821098642994,3.5841293305250526,3.5988930087101476,3.612277655068851,3.624195522228323,3.6345675955998513,3.6433244595648406,3.650407027898333,3.655767129811268,3.6593679456539054,3.6611842890647632,3.661202735112161,3.6594215966962227,3.6558507540955087,3.6505113449924385,3.6434353245373297,3.634664906959118,3.624251901856022,3.6122569595650598,3.5987487408894805,3.5838030269442003,3.567501784960297,3.5499322055829596,3.531185726528659,3.5113570564746532,3.490543211786522,3.468842577205595,3.4463539999834993,3.423175925235171,3.3994055785558315,3.3751382002806896,3.3504663342230345,3.3254791723633774,3.300261955825538,3.2748954315985257,3.249455363865059,3.2240120984828375,3.19863017912219,3.1733680137678038,3.1482775907038665,3.1234042436708154,3.098786466549026,3.0744557786254854,3.0504366421672007,3.026746434594124,3.0033954779544674,2.980387128603837,2.9577179299356002,2.9353778306753546,2.91335047062478,2.8916135348230645,2.870139175907231,2.848894503031534,2.8278421341002438,2.8069408063391044,2.7861460384493935,2.765410835831623,2.744686428712698,2.723923031538834,2.7030706107798315,2.682079647393265,2.6609018796732293,2.6394910120971895,2.6178033761100252,2.595798529553409,2.573439782650841,2.5506946400660886,2.5275351505220387,2.503938157739709,2.4798854489633197,2.455363799997335,2.4303649184093263,2.404885289259719,2.378925930317298,2.3524920661231743,2.325592732397336,2.298240324072466,2.270450101632188,2.242239671382113,2.213628455763345,2.184637169816689,2.155287319424437,2.125600736013687,2.095599161033164,2.0653038917605113,2.0347354979158716,2.003913616216817,1.972856827482478,1.9415826182588853,1.910107426272618,1.8784467664051434,1.8466154313916652,1.814627759156954,1.7824979566702248,1.7502404684864856,1.7178703767875003,1.68540381877482,1.6528584067214789,1.6202536358669455,1.5876112656384669,1.5549556603862045,1.5223140769033126,1.4897168874296496,1.4571977285643476,1.4247935684862532,1.392544687045079,1.3604945655788754,1.3286896856720871,1.29717923843006,1.2660147481484656,1.2352496164414783,1.2049385949068812,1.175137196201322,1.1459010549342385,1.1172852510308242,1.0893436091385569,1.0621279882417205,1.0356875758973267,1.0100682014147953,0.9853116818810335,0.9614552141991711,0.9385308252882467,0.9165648913129442,0.8955777353132808,0.8755833109238698,0.856588978054087,0.8385953744892501,0.8215963854141679,0.8055792108998109,0.7905245294749181,0.7764067540689571,0.7631943748989497,0.7508503823147544,0.7393327612447621,0.7285950477211341,0.7185869370292105,0.7092549323325967,0.7005430221803794,0.6923933751070953,0.684747039584485,0.677544637866666,0.6707270427716542,0.664236027142671,0.6580148766085732,0.6520089572875503,0.646166231222816,0.6404377135729831,0.6347778668719513,0.6291449289925689,0.6235011727650959,0.6178130964873977,0.6120515457931421,0.6061917684942104,0.6002134050648769,0.5941004183724367,0.5878409670704422,0.5814272277489135,0.5748551714773669,0.5681243007812345,0.5612373533638979,0.554199979031396,0.547020396303911,0.5397090351179344,0.5322781718476867,0.5247415626164044,0.5171140805404186,0.5094113621637419,0.5016494679099048,0.4938445609113,0.48601260808356855,0.4781691068011063,0.47032884000589803,0.46250566205046634,0.45471231704047993,0.44696029090657136,0.43925969790049507,0.43161920168030765,0.42404597062524213,0.4165456665064701,0.40912246513874645,0.40177910715495796,0.3945169765865881,0.3873362045051362,0.3802357945903306,0.37321376714922166,0.3662673178247119,0.35939298701176176,0.3525868358525937,0.34584462461611315,0.3391619892871215,0.33253461230157405,0.3259583835663763,0.31942954819469577,0.31294483776614035,0.306501582378038,0.3000978012792812,0.29373227045863715,0.2874045661798697,0.28111508409912256,0.2748650342474168,0.2686564127936287,0.26249195210210835,0.2563750511460353,0.2503096888163345,0.24430032306222202,0.2383517791020176,0.23246913014359624,0.2266575741484923,0.2209223101614589,0.21526841761148577,0.20970074177753553,0.20422378831264132,0.1988416293463151,0.1935578232525315,0.18837534969545572,0.18329656106515876,0.1783231509083451,0.1734561394617375,0.16869587592397536,0.1640420566697005,0.15949375822860562,0.15504948353161546,0.1507072196722509,0.14646450524672652,0.14231850522183673,0.13826609123270436,0.13430392522827383,0.1304285444541211,0.1266364458814505,0.1229241683485238,0.11928837086640094,0.11572590574469138,0.1122338854056037,0.10880974196722538,0.10545127888228473,0.1021567141105964,0.09892471447762771,0.09575442102537148,0.09264546529390456,0.08959797658297552,0.08661258033444469,0.08369038785106302,0.08083297762842823,0.07804236862890819,0.0753209858728649,0.07267161876753099,0.0700973726407147,0.06760161399787744,0.06518791007883877,0.0628599633553233,0.060621541682584414,0.05847640489631904,0.056428228727900175,0.0544805269937751,0.05263657309514917,0.050899321937890527,0.049271333445759805,0.047754698888464266,0.046350971275705116,0.04506110107587547,0.043885378500466525,0.04282338355047411,0.041873944947901136,0.041035108973564556,0.040304119102492215,0.03967740717191014,0.0391505966367213,0.03871851826686221,0.03837523842411928,0.03811409982759658,0.037927774482215904,0.03780832820883665,0.03774729598339046,0.0377357670713715,0.03776447873847937,0.03782391713321523,0.03790442377737923,0.03799630596973425,0.03808994930995738,0.03817593048702699,0.03824512845021926,0.03828883209290452,0.03829884262946456,0.03826756893314936,0.038188114225949345,0.03805435266814309,0.03786099458187082,0.037603639255953114,0.03727881451365165,0.03688400247605918,0.036417651215783935,0.035879172262748824,0.03526892419028442],\"yaxis\":\"y\",\"type\":\"scatter\"},{\"legendgroup\":\"distribution of plot\",\"marker\":{\"color\":\"#B1D182\",\"symbol\":\"line-ns-open\"},\"mode\":\"markers\",\"name\":\"distribution of plot\",\"showlegend\":false,\"x\":[-0.07245400649793388,0.1088864573136068,0.05162194309541551,0.027870926663342274,-0.055907109065561345,-0.08555999674464498,0.007304297237474566,0.18375423627346982,0.03760136399907307,0.12416151586363583,-0.009955008699420065,-0.06575837222566472,0.042489198916314364,0.07324438057344945,0.3149726649819242,0.22921049281862182,-0.36391165794602404,-0.0254532975910456,-0.06254830989844803,-0.08571668750409778,-0.1211378106688033,0.00400126773417836,-0.07942047149422288,0.0676979131031582,0.053069233748711885,-0.11341023253305835,-0.07134738007371094,-0.18899849611921002,-0.03595470364940345,-0.09022700141233275,0.14960849168459883,-0.03595470364940345,-0.04411945016699334,0.26152553279410107,0.04233433113955182,0.16031039419618354,-0.02944545815801486,-0.06077720701433187,0.10573470085236317,0.0842871866137237,0.20758236408270342,0.008616380653933553,-0.04504379675607445,0.010115626923161841,0.1007450741764403,0.026553396360243786,0.1512059289142763,-0.1308217253397653,-0.1268953669715096,-0.039698982798138834,-0.16269412822793394,0.08439175312203873,-0.07209456591466128,-0.1777888394360858,0.007406057948461969,0.10604930758742948,-0.12966319064630466,-0.11685076384671017,-0.0672177209254996,0.06060427699358645,0.09050016280923212,-0.08157126130010413,0.008146074617870536,-0.10593459283389178,-0.2814766201254838,-0.09675469987804813,-0.017982967982925924,-0.018063190614370866,0.03209052302933474,-0.16794156376308259,-0.14052549769305367,0.026803279935679547,-0.05789488236505125,-0.08068327814531666,0.09477139292907455,0.022017802952033316,-0.09448390762701694,-0.09753613119285343,-0.009528985062156659,-0.018312573153574985,0.08274735360826435,0.21639485360027283,-0.04856241651639398,-0.04226999133951104,-0.06205922748247404,-0.008152823925679398,0.10644910190465989,0.10153707161054565,-0.04517807372446385,-0.018856178351939312,-0.010863104495542952,0.004455523792827404,0.11196746269381119,0.015647209626844794,-0.06985643751369497,-0.15309219452798142,-0.027087493054468684,0.11105831236893283,0.1142635086832739,0.07821080278278092,-0.1957508013274525,0.010432285080239745,-0.02006431100593764,0.05590823919448468,-0.1407002663895353,-0.006826982933867132,0.016049541282899704,0.000826447768165206,-0.1203613153310716,0.07469952879119764,-0.163089124219842,0.17292040971891043,-0.019586651959416695,-0.023408211483503027,0.03392835117822818,-0.03416991189038454,-0.038487210527093474,-0.015596530271804077,-0.14383627634520374,-0.0768325316086435,-0.1547020962450114,-0.006638250086070718,-0.21383891582734646,0.00882849874824257,0.18470626086411013,-0.029515331936983247,0.018697161019606112,0.02979820082014656,0.23679617985854323,0.019873624655176753,0.04046460728453519,0.007926012277274103,0.2518183399645741,0.15333642776833734,0.2234243436963409,-0.18968456911786552,-0.07504747273382874,-0.12190421932485965,0.08057086948697939,0.0420557807468509,-0.041939737353993534,0.0071426715100821325,0.027372271067733933,-0.06472099500216688,-0.06989910123650594,0.07693160016741618,-0.17754204284620956,0.00400126773417836,-0.14537203837796933,-0.06527340219441699,-0.09773172898434443,-0.09305322737028851,-0.15929113397143752,-0.1932004074386435,-0.04919321349799888,-0.06727998637027105,0.1343437095045562,-0.1857359970791659,-0.12262720890475647,0.008328595373838343,0.03664580692869657,-0.06837143635476406,-0.04448926631832792,-0.012202934841367141,0.13127003004484475,-0.07713938173897267,-0.0793281657325744,-0.2688183383527463,0.05325147080518888,-0.03897245653785883,-0.06579357177223849,-0.09580548388421285,0.03826393636303019,0.21733335273920895,0.02074634389344923,0.07329401442315525,0.1303184985935067,-0.033635351320162266,-0.09044647013824983,0.12905524898963783,0.024077923249315236,-3.262935630243824e-06,0.19948287100923323,0.1521755866651065,-0.07298436647108997,-0.13241862136105753,-0.04152682378731832,0.008303421836563851,0.1311654065477142,0.06103301837930358,0.031862091103363355,-0.15748140902753885,-0.030675484132840936,0.08445263230243516,0.10824781549553117,-0.03543043744699391,-0.0502238142863371,-0.051407027605355315,0.06719661501873897,0.1285170153847307,-0.058518723074343526,-0.014983734898190937,0.16365657330333908,0.054826859486101664,-0.03792964319915071,0.21733335273920895,-0.0023272445399401542,-0.023800201301769075,0.09632684506597333,-0.13552822518494845,0.03289721647408055,0.08920410554540464,-0.030412623195587657,0.09550498322480794,0.19630846435904062,0.4162188646658954,0.012611563566769318,-0.11071372108845223,0.11186732893698259,-0.1581647845554783,0.03775422203528295,-0.08939266611518981,-0.021740476295907585,0.08053960930065202,-0.051407027605355315,-0.09696134436161123,-0.05196444328835642,-0.09404292014191783,0.3499282845734981,0.0010817791480150496,-0.09831004974611593,0.06994665278021794,0.015403741609625488,0.05746802940731882,-0.06255262289463176,0.010909538096661953,0.0031481874838523716,-0.008541934685623087,-0.13968674874783515,0.05931870003855477,-0.11072252913292159,-0.04810198895157597,-0.09223827389742033,0.02733706659265034,-0.026366716849396177,-0.0489799150526396,0.2108619412389997,0.24655908331213383,0.02685356022297547,-0.13408225184672806,0.21119550117431313,-0.10886428757110364,-0.09747521308117005,-0.13813662125380688,-0.02972119532927997,0.27917823973446687,-0.013877546855171952,-0.16260161762913877,0.12742226989897487,0.21668223011335558,0.2182383141464992,0.06015753437462451,-0.08129468203206022,0.01561705984388434,0.021404827965061546,-0.07382361702868968,0.18544176426980552,0.04572932749181219,0.03544631491995641,-0.1957508013274525,0.0658065146045515,0.12137386214131485,-0.1696868655613762,0.04074755286937687,-0.02142091791783418,-0.020466885233826282,0.15022825815554536,-0.010242960736398521,0.1081524108617048,0.08678546421674727,-0.1909609306964878,-0.16022722213035479,0.13440254213168215,0.025908766698175184,0.04568808834652793,-0.16508647676245392,0.11107315296212097,0.03771548163703156,-0.02987577552881851,-0.11287550844387466,-0.09116434947564314,0.11858762961684385,-0.012822285401102085,0.032164838040629085,-0.028102404393077818,-0.12966511158136054,-0.008152823925679398,-0.00015110026516890543,-0.2503845869725501,-0.16717183373771582,-0.06004120125681456,-0.08552163073862262,0.015329052083432437,-0.07713938173897267,-0.1499116629876508,-0.01166601554827748,0.04338773472748214,-0.049926674861235976,-0.09010427434702345,-0.0032159794489104443,-0.023448153873530872,0.02074634389344923,-0.12711084569864955,-0.02769985188893508,0.0577499267336663,0.16115088201930672,-0.14590271964590765,0.0702118503149308,-0.07628741923376876,0.018988251794501698,0.11024566201017899,-0.041210609951464444,-0.038209132309997784,-0.20468290417162482,0.024535661560219357,-0.29954079963269603,0.13684697978174376,-0.09132289929888532,-0.09848119137580927,0.020351896194623298,0.09482977344087024,0.14165310397964093,-0.045449381145796,0.07324438057344945,0.014886732195621144,0.03370198296572691,0.061722472093903136,0.11396632262679549,-0.05937232182328678,-0.03416991189038454,0.06598915288466145,0.09290634737448503,-0.017548953658764826,-0.18802001697401338,0.11343936580299663,-0.05627161858152835,-0.23977882990497035,0.2516457536008948,-0.14978286117031592,-0.10143664460548502,-0.012471944844803962,-0.015432971793007788,-0.16574186076086994,-0.15616324532640663,0.08087904624714351,-0.08304531701197537,0.2957898348593681,-0.2479209215921442,0.24476017281854792,0.10998052412009268,0.033264840927939715,-0.05100941348884347,0.09082483402778085,0.054249500961442654,0.07907729600794067,-0.014942550107660824,0.07907729600794067,-0.058957019261562715,0.1268102254631248,-0.18899849611921002,0.09298225339284769,0.09295778191731577,-0.17907830068376535,0.09606448685367522,-0.011480158210382452,-0.15071389942226604,0.05965883429899743,0.13209080261134382,0.12092310274516382,-0.14418551960047304,-0.08316077435135164,0.09290634737448503,0.08227441984227848,-0.12326909715749736,-0.03085463384037279,-0.05307083800998018,0.03179947792000423,0.22028961808515848,-0.0063084333593429465,-0.12598734376709933,0.004055747279880728,-0.0339555564090247,-0.05941218188619288,-0.1255055864934778,-0.06667673788027817,0.07145725641893758,0.02822653032009792,0.07196618185038406,-0.11108597184221011,0.2787466007471442,-0.028807047000625155,-0.05771017012050286,0.23476622831620633,-0.016306398343122974,0.22847360108035003,-0.09029175578315032,-0.0183911935187262,-0.04856241651639398,-0.04018157157443068,0.020742206647228145,0.12954685868575339,-0.17526336308380255,-0.13678542390288723,0.1055960482705876,0.07554853812685886,-0.119566896390087,-0.17313946661608648,0.07732394647852653,-0.014143360232529614,-0.0866064375578771,-0.07903495518847331,0.0033853576724475754,-0.09028713023672164,0.04207989400724821,-0.030163900373081615,-0.09122076092644893,-0.05966402732229068,-0.08192964554132712,0.05354056401970564,0.07203824279873935,-0.09516742959673782,-0.04984841713813906,0.13298958863879584,-0.030870639341720574,-0.011273712468860775,0.061137524587798725,-0.15071389942226604,0.03719838235527256,0.276704291552015,0.03647274245507133,-0.014457787860858301,-0.07162073111544445,-0.2790121870591167,0.045938296238808546,0.08514647401231312,-0.048310540509943156,0.06586844653764079,-0.024931214597010753,-0.16778537537115418,0.06217802012318602,0.1322419678288913,-0.03792964319915071,-0.006227659640597738,-0.08951264175330709,-0.04959603870834908,-0.16316705432680512,0.1802422747847474,-0.1189984907182699,-0.04783275826248702,-0.10346352572903998,-0.17981047342610101,-0.09160966315796953,-0.007186293171635771,0.07821080278278092,-0.14067985606806782,0.169274150882198,-0.027568847778065675,0.0250224942920248,0.299474204136354,-0.1457995565978492,0.2373828347151118,-0.09454747838084188,0.08057086948697939,-0.23089777696543368,-0.001187825346814872,0.08906494929165804,-0.0011201655647297692,0.2622539343260005,0.20249778043971745,-0.030508329143210167,-0.07828610251141904,0.04524923771240305,-0.22300735825243007,0.09716497251491024,-0.060208079863928815,0.1181472916184202,-0.10405128473400702,0.010438554709268855,-0.06263683687386562,-0.12482932953184961,0.18893672464546019,-0.07073258473882482,-0.06543656465058661,0.07469952879119764,-0.013126208831317043,-0.029671379611832124,0.001439251274524933,0.08303532315301859,-0.0339555564090247,0.07446683723911568,0.07892522032914817,-0.04112755177227856,-0.13836946920533383,0.06565621733627602,-0.02321906804974383,-0.02001135030288992,-0.1457995565978492,-0.12785187403441844,0.19300102853180107,-0.17102553386991637,-0.025717985558482676,0.04030845023496821,0.10929039780220329,-0.07866126690579711,0.04306328008663471,0.01209596444679556,-0.015852693805738408,-0.0321416254891882,0.011625937914892581,-0.16717183373771582,0.17275664470061408,-0.05029519768699081,-0.06020448577969684,-0.0793849995306686,-0.061521732674178375,-0.01210521501188197,0.008516002733322703,0.08227441984227848,-0.11477669620042155,-0.17367913982703498,-0.14239745072859505,-0.12473325340696141,-0.08224597699135106,-0.14590271964590765,-0.1811738025104376,-0.01619167937575089,0.034582741100846026,-0.040063179516932834,0.19630904115188924,0.13886862088229474,-0.08991842878175166,-0.02088831642102318,0.056510832170345915,-0.050711494109002275,0.028819706911667187,-0.17313946661608648,-0.1457599737931455,-0.11039185203850926,0.2900387705856898,-0.02263788292260549,0.3607865653927646,-0.24049421985876962,-0.09773172898434443,0.2277116862693955,0.07145725641893758,-0.04326430991143404,0.25917824793285094,-0.002874855274230148,-0.0039534108565070225,-0.11673063842843422,0.03760136399907307,0.06289018093376642,-0.014045471170749724,-0.0917148288270509,-0.08635761929891206,-0.10237740136214829,0.026956545344014204,-0.11063945627179111,0.07257359586617601,0.1577528001952131,0.06086825722516537,-0.11994856928982264,0.07725207190209943,-0.11408233130759429,0.10407734279255443,0.0739039732295417,-0.01486926303990077,0.08766505447245532,0.06475269516774407,-0.09132289929888532,0.15759429445937745,0.007335883104144736,-0.03875400747923596,0.11565214140493624,0.04536648667147336,-0.10827950895511812,-0.1088283301975575,-0.032938030882179226,0.08634796320375504,0.0006106027978284023,-0.1466106063746031,0.08115503661519885,0.009058051959709545,0.28443783467376266,-0.01008370227996959,0.19256150611779188,-0.050947530692102866,-0.10324762053232114,-0.002968190580982133,-0.029671379611832124,-0.020862182953458763,0.03676934191940967,0.2724967749839473,-0.034311223420917636,0.19243970319562592,-0.006189660200063167,-0.04684709469674064,-0.042240098473356746,-0.0923428272957231,-0.09223827389742033,0.1365049667800195,-0.026067861249285562,-0.16285611320532908,0.03529459607482449,-0.09454747838084188,0.12483799975909571,0.03358510778711615,-0.07318281838593171,0.08648630830890347,-0.06725163800568466,0.03546803140885438,0.02165895372167559,-0.07728606507042549,0.17455866798101072,-0.041210609951464444,-0.09767888572539213,0.01871798728201779,-0.04829896734365538,-0.13859385167640653,-0.09021292430861572,-0.03636556602225792,0.1311654065477142,0.026220280954986963,-0.0996723715923178,-0.11408233130759429,0.06128040950558511,0.06217802012318602,-0.18398299854322248,-0.3071780365358295,-0.06197214583454293,0.09243876843539162,0.00809324138817663,-0.12723296057895297,0.12591116516602413,0.08634796320375504,0.019771221507739162,-0.1480559130139167,0.02733706659265034,-0.08104368653376717,0.09498218868760588,0.08688577959367255,-0.10324762053232114,0.13095735887118654,0.01496981979857942,-0.17526336308380255,-0.10292903784600288,-0.005802781403222768,-0.013050763975739621,0.19863749157805127,0.21314091461142526,-0.08129468203206022,-0.008353754977773686,-0.14305795370607235,-0.06384963666735177,0.11960950539121518,0.14286675305166158,0.0729391162721893,-0.036828606530575014,-0.020874823474225923,-0.07230975025114283,0.03467081558288007,0.04404281342530514,-0.004521574736385869,0.06396713452693331,-0.06440409598124266,-0.07828610251141904,0.034380439561698395,-0.014942550107660824,-0.19343351454906207,0.11024566201017899,0.06987170404729759,-0.01166601554827748,-0.1348252662170971,-0.014983734898190937,0.17179744912941625,-0.18899849611921002,0.08377738074454577,-0.1132792915305636,-0.026355067416740097,-0.004754820776189314,-0.16166661714663697,-0.025068392751655733,-0.019170937234351815,-0.009684708839446776,0.06971980578769094,-0.001817949266175567,0.117740975153449,0.033153537711128944,0.1422717417598086,0.12613625436997744,-0.029138180574890135,-0.06476966145639397,-0.07551893457192294,0.21801690530873025,-0.11050438962795023,0.1007450741764403,-0.12299509080017476,-0.18475331038410261,-0.024390088919224673,-0.01619167937575089,0.05323130740825896,0.3236199726556771,0.08060674676219151,-0.012202934841367141,-0.18356147263790187,-0.0612647808519739,0.2445689456583664,-0.11108597184221011,0.11107315296212097,0.02569387389470748,-0.07795486930807735,-0.14584507074513658,-0.10035315021026028,0.09829211626281364,-0.06579357177223849,0.27917823973446687,0.010909538096661953,0.006969789560826112,0.33532985500610757,-0.07903495518847331,-0.07511192618811208,0.11280414522950499,0.1383432142618884,0.04129290361914856,-0.03283735143960176,0.055406839902364724,0.004455523792827404,-0.08021447019461359,-0.10030040336920326,-0.029671379611832124,-0.12586790477065185,-0.013141864515430646,0.001439251274524933,0.17286412880388125,0.059447123306662714,-0.045773965425332075,0.07693160016741618,-0.027739075276099312,0.10597885510084384,-0.19430512957285087,-0.04919321349799888,-0.07728606507042549,-0.2722803817853997,0.09911853757680655,-0.02080211933777454,0.1516505697602779,-0.08068327814531666,0.13741192783734119,-0.014466170716296578,-0.12326909715749736,-0.03490445002656607,-0.17716981126972503,0.02674000193951309,0.10153707161054565,-0.006165333866690936,-0.011982037343998109,-0.1696868655613762,0.13300426767001544,0.018697161019606112,-0.007060414483251259,-0.17614992284930014,0.15556739228149896,-0.02876599648406225,-0.04124614797002371,0.010438554709268855,0.03760136399907307,0.01943432096597464,-0.04961021275172983,-0.10779120694121186,0.005203205648022735,0.054420501453366216,0.09487050193903745,-0.10323385872665808,-0.08028200288140064,0.022707926384270744,-0.1550019148107471,-0.10264826933811566,0.0734751140282516,0.06848836235208139,0.13503184744993768,-0.02065377747532049,0.10147440113973938,-0.05842801295548575,0.03897464961277183,0.12350513737714813,-0.037253027469891564,0.43499848344576175,0.05355642179150255,-0.09753613119285343,0.0670356526249431,-0.03390420479744041,-0.0946507157663444,-0.1593800127960387,-0.07434212015832325,-0.07960021898543745,0.08285015538934953,-0.0321416254891882,-0.006356149517514509,0.2768225710028433,0.044551070215929967,0.07153682993966515,-0.016834763926729224,-0.007994330209905198,-0.19649581288657703,-0.11224818862652076,-0.021340940857927093,0.19841718840566042,-0.04304888360289824,0.07630216009641204,-0.05605880330735541,0.14186519793760152,0.01050189779298577,0.20171432649184087,0.054420501453366216,-0.0035605825418990045,0.14407394986828892,-0.13886583274515363,0.022919844121188804,0.13821922901963213,-0.031113067494463617,-0.07640150053141292,-0.14305795370607235,-0.11155480990524545,0.05800659792006013,-0.19343351454906207,-0.027653653210406443,0.06193029709899478,0.06713136565582956,-0.13836946920533383,0.027940100111478433,-0.017548953658764826,-0.06314253264811909,-0.07434212015832325,0.005773294378391192,-0.05026421828982652,0.24679255269678224,0.06658038954754703,-0.10896275539784514,0.05912182022731971,0.033973745575967884,-0.13059609665313926,-0.01639706309163247,-0.1598508812566293,-0.06024690829242832,-0.0005218939449015692,-6.9618236548940615e-06,-0.11524712925578329,0.27738627627692214,0.05965883429899743,0.026553396360243786,0.0257091923485111,-0.09702232675622441,0.2900387705856898,-7.322217036231926e-05,-0.10707905636098797,0.04988571147328001,-0.19705501687632748,0.0803090434553704,0.20349314776249466,-0.06592409719675041,0.1055960482705876,0.09379395578879471,0.16059522992520645,-0.14828800653418295,-0.007186293171635771,-0.034163522619200304,-0.09502402290777882,-0.15622337231126698,-0.051794777660725336,-0.004268613354311501,0.1525036213124147,-0.03407033627367001,-0.032268243177734815,0.4408282804434754,-0.15964621303967932,0.19373340821331203,0.016922210675652194,-0.08572482523703662,-0.01011270919371099,-0.09071784919799887,-0.11408233130759429,0.09768517900371584,0.0592349951668486,-0.1499116629876508,-0.07960021898543745,-0.0003330241987861138,0.07183161937636122,-0.18398299854322248,-0.09790768626139934,0.23876413711043243,-0.06452315024972362,-0.042929548824714586,-0.043276172122523826,0.15340591326062425,0.005203205648022735,-0.03845718169359352,0.036329452625675496,-0.050711494109002275,-0.011982037343998109,0.028994490694739194,0.12416151586363583,-0.09745379877405203,-0.18341828640397626,-0.04195562201199304,0.023080066527504883,0.11565214140493624,0.14941481723442918,-0.1087758257485692,-0.13968674874783515,0.12969738470740344,0.08053960930065202,0.02903751198021179,0.050024623142581603,0.02039140116844912,-0.11204825663375818,0.07615796330379648,-0.1932004074386435,-0.13552822518494845,0.007985160910047251,0.04796897544940282,-0.02987577552881851,-0.10973300534297184,0.06044156306331461,0.03931364529902642,-0.1461721257279316,0.00809324138817663,-0.01639706309163247,0.017252228493326582,0.10427914256057752,-0.009757639001999052,-0.07859796739642302,0.32927222613979246,-0.1261314476287775,0.019407409431838288,-0.11071372108845223,0.00231064774732459,-0.1189159015914715,0.14423077863165637,0.03664580692869657,-0.0492736726355297,0.10191764053662677,-0.0950783475182177,-0.11950421503169188,-0.03449679174544107,0.07091100825240315,0.1995443179193368,-0.07569693263734367,0.0057559895880029965,-0.009450453110274482,-0.001187825346814872,-0.00860866932850951,0.20569396237535476,0.13651482011282193,0.12642727425364964,0.1344309248943979,-0.017756533796161156,-0.07649586689575985,-0.11918540649030049,-0.12966511158136054,0.03170266889447798,0.09143745059339348,0.1242092899584114,0.07009697298127221,-0.11155480990524545,0.14960849168459883,-0.11688433983852348,0.17675216871546237,-0.054222233759411154,-0.08803562471338436,0.1055960482705876,-0.14787583048841887,-0.0063084333593429465,-0.05524418687401797,0.13300426767001544,0.039633762425323404,-0.04043412380127806,0.09694555688345569,0.2373828347151118,-0.0039534108565070225,0.1995443179193368,0.02063939068929932,-0.19539560672356096,0.07171247935145253,0.0633230307382625,0.03771496496693172,0.06103301837930358,-0.045449381145796,-0.0707533903783582,0.22273918658932057,-0.21383891582734646,-0.05374958889814263,0.024711796009624476,0.12082169907348456,0.06910329996461212,0.05661795924670193,-0.0721943639320497,-0.001368580886217885,0.08210587578014866,0.0025772579936332862,-0.056246333399421936,-0.23390409641877008,-0.009684708839446776,-0.02858673818911696,0.18130080123345887,0.04344177021615381,-0.03467102953689108,-0.005802781403222768,-0.09680012730342283,-0.1386230903245054,0.13550819416623733,-0.1088283301975575,0.027873948094027545,-0.14706687854259518,0.04706537195588384,0.052981689014475586,0.04306328008663471,0.057978302372619875,0.2516058032896731,0.005747775205472705,-0.13408225184672806,-0.1330370545438868,-0.1249335085712962,0.03142626428986717,-0.09391108192050196,0.032130393661836815,-0.025253884769772694,-0.08237524682894178,-0.048078229143642605,-0.13025368982688335,0.008881418107338002,-0.1366433762261262,0.12642727425364964,-0.15307132643663718,0.250795144095583,0.09371237701026247,0.09143745059339348,0.06344013842791785,0.02465114154566596,-0.045773965425332075,0.10728415642374495,0.011148246856863261,0.10256911044932226,-0.1217279870050892,-0.10119572433151647,0.1592187186351776,-0.1480559130139167,-0.1132792915305636,-0.07802036392734175,-0.011851974239898644,0.007658211833893813,0.0894057408963364,-0.0026922093364469823,0.2080085067165221,-0.0430568175788264,-0.028536389037890852,-0.058408241998044785,-0.014694657034031278,0.032143463654570825,-0.10009822762506702,0.30989072187424427,-0.16035775084845788,0.11872494152809987,0.02714201984634944,0.0899317910467684,0.1282227993021352,0.044551070215929967,0.06506090768898565,0.10214373160571555,-0.0025283672278273994,0.03018016556388592,0.03019051517209237,-0.006189660200063167,-0.09119793869383008,0.028047022633206076,0.01630733008096724,-0.011982037343998109,0.0042933680344275915,-0.037027581839640944,0.005649479295686322,-0.0946507157663444,0.22409082376727207,0.06894083228208006,-0.12299509080017476,0.10691230679577957,0.04685040989362699,-0.09197826045696669,0.07141583709754545,0.2891710626850511,0.15340591326062425,-0.019210068635213073,-0.12089104239857708,-0.2098351631249968,0.33040187677250266,-0.1285843408201254,-0.08551742145838792,-0.09416646202769727,0.04404281342530514,0.370970895745813,0.14650772972666853,-0.14268716230642156,0.029017159730061526,-0.2790121870591167,0.12918801775161542,0.08986765586585227,-0.2320661150547422,-0.1087758257485692,-0.1211378106688033,0.004030530906243501,0.08126141661535066],\"xaxis\":\"x\",\"y\":[\"distribution of plot\",\"distribution of plot\",\"distribution of plot\",\"distribution of plot\",\"distribution of plot\",\"distribution of plot\",\"distribution of plot\",\"distribution of plot\",\"distribution of plot\",\"distribution of plot\",\"distribution of plot\",\"distribution of plot\",\"distribution of plot\",\"distribution of plot\",\"distribution of plot\",\"distribution of plot\",\"distribution of plot\",\"distribution of plot\",\"distribution of plot\",\"distribution of plot\",\"distribution of plot\",\"distribution of plot\",\"distribution of plot\",\"distribution of plot\",\"distribution of plot\",\"distribution of plot\",\"distribution of plot\",\"distribution of plot\",\"distribution of plot\",\"distribution of plot\",\"distribution of plot\",\"distribution of plot\",\"distribution of plot\",\"distribution of plot\",\"distribution of plot\",\"distribution of plot\",\"distribution of plot\",\"distribution of plot\",\"distribution of plot\",\"distribution of plot\",\"distribution of plot\",\"distribution of plot\",\"distribution of plot\",\"distribution of plot\",\"distribution of plot\",\"distribution of plot\",\"distribution of plot\",\"distribution of plot\",\"distribution of plot\",\"distribution of plot\",\"distribution of plot\",\"distribution of plot\",\"distribution of plot\",\"distribution of plot\",\"distribution of plot\",\"distribution of plot\",\"distribution of plot\",\"distribution of plot\",\"distribution of plot\",\"distribution of plot\",\"distribution of plot\",\"distribution of plot\",\"distribution of plot\",\"distribution of plot\",\"distribution of plot\",\"distribution of plot\",\"distribution of plot\",\"distribution of plot\",\"distribution of plot\",\"distribution of plot\",\"distribution of plot\",\"distribution of plot\",\"distribution of plot\",\"distribution of plot\",\"distribution of plot\",\"distribution of plot\",\"distribution of plot\",\"distribution of plot\",\"distribution of plot\",\"distribution of plot\",\"distribution of plot\",\"distribution of plot\",\"distribution of plot\",\"distribution of plot\",\"distribution of plot\",\"distribution of plot\",\"distribution of plot\",\"distribution of plot\",\"distribution of plot\",\"distribution of plot\",\"distribution of plot\",\"distribution of plot\",\"distribution of plot\",\"distribution of plot\",\"distribution of plot\",\"distribution of plot\",\"distribution of plot\",\"distribution of plot\",\"distribution of plot\",\"distribution of plot\",\"distribution of plot\",\"distribution of plot\",\"distribution of plot\",\"distribution of plot\",\"distribution of plot\",\"distribution of plot\",\"distribution of plot\",\"distribution of plot\",\"distribution of plot\",\"distribution of plot\",\"distribution of plot\",\"distribution of plot\",\"distribution of plot\",\"distribution of plot\",\"distribution of plot\",\"distribution of plot\",\"distribution of plot\",\"distribution of plot\",\"distribution of plot\",\"distribution of plot\",\"distribution of plot\",\"distribution of plot\",\"distribution of plot\",\"distribution of plot\",\"distribution of plot\",\"distribution of plot\",\"distribution of plot\",\"distribution of plot\",\"distribution of plot\",\"distribution of plot\",\"distribution of plot\",\"distribution of plot\",\"distribution of plot\",\"distribution of plot\",\"distribution of plot\",\"distribution of plot\",\"distribution of plot\",\"distribution of plot\",\"distribution of plot\",\"distribution of plot\",\"distribution of plot\",\"distribution of plot\",\"distribution of plot\",\"distribution of plot\",\"distribution of plot\",\"distribution of plot\",\"distribution of plot\",\"distribution of plot\",\"distribution of plot\",\"distribution of plot\",\"distribution of plot\",\"distribution of plot\",\"distribution of plot\",\"distribution of plot\",\"distribution of plot\",\"distribution of plot\",\"distribution of plot\",\"distribution of plot\",\"distribution of plot\",\"distribution of plot\",\"distribution of plot\",\"distribution of plot\",\"distribution of plot\",\"distribution of plot\",\"distribution of plot\",\"distribution of plot\",\"distribution of plot\",\"distribution of plot\",\"distribution of plot\",\"distribution of plot\",\"distribution of plot\",\"distribution of plot\",\"distribution of plot\",\"distribution of plot\",\"distribution of plot\",\"distribution of plot\",\"distribution of plot\",\"distribution of plot\",\"distribution of plot\",\"distribution of plot\",\"distribution of plot\",\"distribution of plot\",\"distribution of plot\",\"distribution of plot\",\"distribution of plot\",\"distribution of plot\",\"distribution of plot\",\"distribution of plot\",\"distribution of plot\",\"distribution of plot\",\"distribution of plot\",\"distribution of plot\",\"distribution of plot\",\"distribution of plot\",\"distribution of plot\",\"distribution of plot\",\"distribution of plot\",\"distribution of plot\",\"distribution of plot\",\"distribution of plot\",\"distribution of plot\",\"distribution of plot\",\"distribution of plot\",\"distribution of plot\",\"distribution of plot\",\"distribution of plot\",\"distribution of plot\",\"distribution of plot\",\"distribution of plot\",\"distribution of plot\",\"distribution of plot\",\"distribution of plot\",\"distribution of plot\",\"distribution of plot\",\"distribution of plot\",\"distribution of plot\",\"distribution of plot\",\"distribution of plot\",\"distribution of plot\",\"distribution of plot\",\"distribution of plot\",\"distribution of plot\",\"distribution of plot\",\"distribution of plot\",\"distribution of plot\",\"distribution of plot\",\"distribution of plot\",\"distribution of plot\",\"distribution of plot\",\"distribution of plot\",\"distribution of plot\",\"distribution of plot\",\"distribution of plot\",\"distribution of plot\",\"distribution of plot\",\"distribution of plot\",\"distribution of plot\",\"distribution of plot\",\"distribution of plot\",\"distribution of plot\",\"distribution of plot\",\"distribution of plot\",\"distribution of plot\",\"distribution of plot\",\"distribution of plot\",\"distribution of plot\",\"distribution of plot\",\"distribution of plot\",\"distribution of plot\",\"distribution of plot\",\"distribution of plot\",\"distribution of plot\",\"distribution of plot\",\"distribution of plot\",\"distribution of plot\",\"distribution of plot\",\"distribution of plot\",\"distribution of plot\",\"distribution of plot\",\"distribution of plot\",\"distribution of plot\",\"distribution of plot\",\"distribution of plot\",\"distribution of plot\",\"distribution of plot\",\"distribution of plot\",\"distribution of plot\",\"distribution of plot\",\"distribution of plot\",\"distribution of plot\",\"distribution of plot\",\"distribution of plot\",\"distribution of plot\",\"distribution of plot\",\"distribution of plot\",\"distribution of plot\",\"distribution of plot\",\"distribution of plot\",\"distribution of plot\",\"distribution of plot\",\"distribution of plot\",\"distribution of plot\",\"distribution of plot\",\"distribution of plot\",\"distribution of plot\",\"distribution of plot\",\"distribution of plot\",\"distribution of plot\",\"distribution of plot\",\"distribution of plot\",\"distribution of plot\",\"distribution of plot\",\"distribution of plot\",\"distribution of plot\",\"distribution of plot\",\"distribution of plot\",\"distribution of plot\",\"distribution of plot\",\"distribution of plot\",\"distribution of plot\",\"distribution of plot\",\"distribution of plot\",\"distribution of plot\",\"distribution of plot\",\"distribution of plot\",\"distribution of plot\",\"distribution of plot\",\"distribution of plot\",\"distribution of plot\",\"distribution of plot\",\"distribution of plot\",\"distribution of plot\",\"distribution of plot\",\"distribution of plot\",\"distribution of plot\",\"distribution of plot\",\"distribution of plot\",\"distribution of plot\",\"distribution of plot\",\"distribution of plot\",\"distribution of plot\",\"distribution of plot\",\"distribution of plot\",\"distribution of plot\",\"distribution of plot\",\"distribution of plot\",\"distribution of plot\",\"distribution of plot\",\"distribution of plot\",\"distribution of plot\",\"distribution of plot\",\"distribution of plot\",\"distribution of plot\",\"distribution of plot\",\"distribution of plot\",\"distribution of plot\",\"distribution of plot\",\"distribution of plot\",\"distribution of plot\",\"distribution of plot\",\"distribution of plot\",\"distribution of plot\",\"distribution of plot\",\"distribution of plot\",\"distribution of plot\",\"distribution of plot\",\"distribution of plot\",\"distribution of plot\",\"distribution of plot\",\"distribution of plot\",\"distribution of plot\",\"distribution of plot\",\"distribution of plot\",\"distribution of plot\",\"distribution of plot\",\"distribution of plot\",\"distribution of plot\",\"distribution of plot\",\"distribution of plot\",\"distribution of plot\",\"distribution of plot\",\"distribution of plot\",\"distribution of plot\",\"distribution of plot\",\"distribution of plot\",\"distribution of plot\",\"distribution of plot\",\"distribution of plot\",\"distribution of plot\",\"distribution of plot\",\"distribution of plot\",\"distribution of plot\",\"distribution of plot\",\"distribution of plot\",\"distribution of plot\",\"distribution of plot\",\"distribution of plot\",\"distribution of plot\",\"distribution of plot\",\"distribution of plot\",\"distribution of plot\",\"distribution of plot\",\"distribution of plot\",\"distribution of plot\",\"distribution of plot\",\"distribution of plot\",\"distribution of plot\",\"distribution of plot\",\"distribution of plot\",\"distribution of plot\",\"distribution of plot\",\"distribution of plot\",\"distribution of plot\",\"distribution of plot\",\"distribution of plot\",\"distribution of plot\",\"distribution of plot\",\"distribution of plot\",\"distribution of plot\",\"distribution of plot\",\"distribution of plot\",\"distribution of plot\",\"distribution of plot\",\"distribution of plot\",\"distribution of plot\",\"distribution of plot\",\"distribution of plot\",\"distribution of plot\",\"distribution of plot\",\"distribution of plot\",\"distribution of plot\",\"distribution of plot\",\"distribution of plot\",\"distribution of plot\",\"distribution of plot\",\"distribution of plot\",\"distribution of plot\",\"distribution of plot\",\"distribution of plot\",\"distribution of plot\",\"distribution of plot\",\"distribution of plot\",\"distribution of plot\",\"distribution of plot\",\"distribution of plot\",\"distribution of plot\",\"distribution of plot\",\"distribution of plot\",\"distribution of plot\",\"distribution of plot\",\"distribution of plot\",\"distribution of plot\",\"distribution of plot\",\"distribution of plot\",\"distribution of plot\",\"distribution of plot\",\"distribution of plot\",\"distribution of plot\",\"distribution of plot\",\"distribution of plot\",\"distribution of plot\",\"distribution of plot\",\"distribution of plot\",\"distribution of plot\",\"distribution of plot\",\"distribution of plot\",\"distribution of plot\",\"distribution of plot\",\"distribution of plot\",\"distribution of plot\",\"distribution of plot\",\"distribution of plot\",\"distribution of plot\",\"distribution of plot\",\"distribution of plot\",\"distribution of plot\",\"distribution of plot\",\"distribution of plot\",\"distribution of plot\",\"distribution of plot\",\"distribution of plot\",\"distribution of plot\",\"distribution of plot\",\"distribution of plot\",\"distribution of plot\",\"distribution of plot\",\"distribution of plot\",\"distribution of plot\",\"distribution of plot\",\"distribution of plot\",\"distribution of plot\",\"distribution of plot\",\"distribution of plot\",\"distribution of plot\",\"distribution of plot\",\"distribution of plot\",\"distribution of plot\",\"distribution of plot\",\"distribution of plot\",\"distribution of plot\",\"distribution of plot\",\"distribution of plot\",\"distribution of plot\",\"distribution of plot\",\"distribution of plot\",\"distribution of plot\",\"distribution of plot\",\"distribution of plot\",\"distribution of plot\",\"distribution of plot\",\"distribution of plot\",\"distribution of plot\",\"distribution of plot\",\"distribution of plot\",\"distribution of plot\",\"distribution of plot\",\"distribution of plot\",\"distribution of plot\",\"distribution of plot\",\"distribution of plot\",\"distribution of plot\",\"distribution of plot\",\"distribution of plot\",\"distribution of plot\",\"distribution of plot\",\"distribution of plot\",\"distribution of plot\",\"distribution of plot\",\"distribution of plot\",\"distribution of plot\",\"distribution of plot\",\"distribution of plot\",\"distribution of plot\",\"distribution of plot\",\"distribution of plot\",\"distribution of plot\",\"distribution of plot\",\"distribution of plot\",\"distribution of plot\",\"distribution of plot\",\"distribution of plot\",\"distribution of plot\",\"distribution of plot\",\"distribution of plot\",\"distribution of plot\",\"distribution of plot\",\"distribution of plot\",\"distribution of plot\",\"distribution of plot\",\"distribution of plot\",\"distribution of plot\",\"distribution of plot\",\"distribution of plot\",\"distribution of plot\",\"distribution of plot\",\"distribution of plot\",\"distribution of plot\",\"distribution of plot\",\"distribution of plot\",\"distribution of plot\",\"distribution of plot\",\"distribution of plot\",\"distribution of plot\",\"distribution of plot\",\"distribution of plot\",\"distribution of plot\",\"distribution of plot\",\"distribution of plot\",\"distribution of plot\",\"distribution of plot\",\"distribution of plot\",\"distribution of plot\",\"distribution of plot\",\"distribution of plot\",\"distribution of plot\",\"distribution of plot\",\"distribution of plot\",\"distribution of plot\",\"distribution of plot\",\"distribution of plot\",\"distribution of plot\",\"distribution of plot\",\"distribution of plot\",\"distribution of plot\",\"distribution of plot\",\"distribution of plot\",\"distribution of plot\",\"distribution of plot\",\"distribution of plot\",\"distribution of plot\",\"distribution of plot\",\"distribution of plot\",\"distribution of plot\",\"distribution of plot\",\"distribution of plot\",\"distribution of plot\",\"distribution of plot\",\"distribution of plot\",\"distribution of plot\",\"distribution of plot\",\"distribution of plot\",\"distribution of plot\",\"distribution of plot\",\"distribution of plot\",\"distribution of plot\",\"distribution of plot\",\"distribution of plot\",\"distribution of plot\",\"distribution of plot\",\"distribution of plot\",\"distribution of plot\",\"distribution of plot\",\"distribution of plot\",\"distribution of plot\",\"distribution of plot\",\"distribution of plot\",\"distribution of plot\",\"distribution of plot\",\"distribution of plot\",\"distribution of plot\",\"distribution of plot\",\"distribution of plot\",\"distribution of plot\",\"distribution of plot\",\"distribution of plot\",\"distribution of plot\",\"distribution of plot\",\"distribution of plot\",\"distribution of plot\",\"distribution of plot\",\"distribution of plot\",\"distribution of plot\",\"distribution of plot\",\"distribution of plot\",\"distribution of plot\",\"distribution of plot\",\"distribution of plot\",\"distribution of plot\",\"distribution of plot\",\"distribution of plot\",\"distribution of plot\",\"distribution of plot\",\"distribution of plot\",\"distribution of plot\",\"distribution of plot\",\"distribution of plot\",\"distribution of plot\",\"distribution of plot\",\"distribution of plot\",\"distribution of plot\",\"distribution of plot\",\"distribution of plot\",\"distribution of plot\",\"distribution of plot\",\"distribution of plot\",\"distribution of plot\",\"distribution of plot\",\"distribution of plot\",\"distribution of plot\",\"distribution of plot\",\"distribution of plot\",\"distribution of plot\",\"distribution of plot\",\"distribution of plot\",\"distribution of plot\",\"distribution of plot\",\"distribution of plot\",\"distribution of plot\",\"distribution of plot\",\"distribution of plot\",\"distribution of plot\",\"distribution of plot\",\"distribution of plot\",\"distribution of plot\",\"distribution of plot\",\"distribution of plot\",\"distribution of plot\",\"distribution of plot\",\"distribution of plot\",\"distribution of plot\",\"distribution of plot\",\"distribution of plot\",\"distribution of plot\",\"distribution of plot\",\"distribution of plot\",\"distribution of plot\",\"distribution of plot\",\"distribution of plot\",\"distribution of plot\",\"distribution of plot\",\"distribution of plot\",\"distribution of plot\",\"distribution of plot\",\"distribution of plot\",\"distribution of plot\",\"distribution of plot\",\"distribution of plot\",\"distribution of plot\",\"distribution of plot\",\"distribution of plot\",\"distribution of plot\",\"distribution of plot\",\"distribution of plot\",\"distribution of plot\",\"distribution of plot\",\"distribution of plot\",\"distribution of plot\",\"distribution of plot\",\"distribution of plot\",\"distribution of plot\",\"distribution of plot\",\"distribution of plot\",\"distribution of plot\",\"distribution of plot\",\"distribution of plot\",\"distribution of plot\",\"distribution of plot\",\"distribution of plot\",\"distribution of plot\",\"distribution of plot\",\"distribution of plot\",\"distribution of plot\",\"distribution of plot\",\"distribution of plot\",\"distribution of plot\",\"distribution of plot\",\"distribution of plot\",\"distribution of plot\",\"distribution of plot\",\"distribution of plot\",\"distribution of plot\",\"distribution of plot\",\"distribution of plot\",\"distribution of plot\",\"distribution of plot\",\"distribution of plot\",\"distribution of plot\",\"distribution of plot\",\"distribution of plot\",\"distribution of plot\",\"distribution of plot\",\"distribution of plot\",\"distribution of plot\",\"distribution of plot\",\"distribution of plot\",\"distribution of plot\",\"distribution of plot\",\"distribution of plot\",\"distribution of plot\",\"distribution of plot\",\"distribution of plot\",\"distribution of plot\",\"distribution of plot\",\"distribution of plot\",\"distribution of plot\",\"distribution of plot\",\"distribution of plot\",\"distribution of plot\",\"distribution of plot\",\"distribution of plot\",\"distribution of plot\",\"distribution of plot\",\"distribution of plot\",\"distribution of plot\",\"distribution of plot\",\"distribution of plot\",\"distribution of plot\",\"distribution of plot\",\"distribution of plot\",\"distribution of plot\",\"distribution of plot\",\"distribution of plot\",\"distribution of plot\",\"distribution of plot\",\"distribution of plot\",\"distribution of plot\",\"distribution of plot\",\"distribution of plot\",\"distribution of plot\",\"distribution of plot\",\"distribution of plot\",\"distribution of plot\",\"distribution of plot\",\"distribution of plot\",\"distribution of plot\",\"distribution of plot\",\"distribution of plot\",\"distribution of plot\",\"distribution of plot\",\"distribution of plot\",\"distribution of plot\",\"distribution of plot\",\"distribution of plot\",\"distribution of plot\",\"distribution of plot\",\"distribution of plot\",\"distribution of plot\",\"distribution of plot\",\"distribution of plot\",\"distribution of plot\",\"distribution of plot\",\"distribution of plot\",\"distribution of plot\",\"distribution of plot\",\"distribution of plot\",\"distribution of plot\",\"distribution of plot\",\"distribution of plot\",\"distribution of plot\",\"distribution of plot\",\"distribution of plot\",\"distribution of plot\",\"distribution of plot\",\"distribution of plot\",\"distribution of plot\",\"distribution of plot\",\"distribution of plot\",\"distribution of plot\",\"distribution of plot\",\"distribution of plot\",\"distribution of plot\",\"distribution of plot\",\"distribution of plot\",\"distribution of plot\",\"distribution of plot\",\"distribution of plot\",\"distribution of plot\",\"distribution of plot\",\"distribution of plot\",\"distribution of plot\",\"distribution of plot\",\"distribution of plot\",\"distribution of plot\",\"distribution of plot\",\"distribution of plot\",\"distribution of plot\",\"distribution of plot\",\"distribution of plot\",\"distribution of plot\",\"distribution of plot\",\"distribution of plot\",\"distribution of plot\",\"distribution of plot\",\"distribution of plot\",\"distribution of plot\",\"distribution of plot\",\"distribution of plot\",\"distribution of plot\",\"distribution of plot\",\"distribution of plot\",\"distribution of plot\",\"distribution of plot\",\"distribution of plot\",\"distribution of plot\",\"distribution of plot\",\"distribution of plot\",\"distribution of plot\",\"distribution of plot\",\"distribution of plot\",\"distribution of plot\",\"distribution of plot\",\"distribution of plot\",\"distribution of plot\",\"distribution of plot\",\"distribution of plot\",\"distribution of plot\",\"distribution of plot\",\"distribution of plot\",\"distribution of plot\",\"distribution of plot\",\"distribution of plot\",\"distribution of plot\",\"distribution of plot\",\"distribution of plot\",\"distribution of plot\",\"distribution of plot\",\"distribution of plot\",\"distribution of plot\",\"distribution of plot\",\"distribution of plot\",\"distribution of plot\",\"distribution of plot\",\"distribution of plot\",\"distribution of plot\",\"distribution of plot\",\"distribution of plot\",\"distribution of plot\",\"distribution of plot\",\"distribution of plot\",\"distribution of plot\",\"distribution of plot\",\"distribution of plot\",\"distribution of plot\",\"distribution of plot\",\"distribution of plot\",\"distribution of plot\",\"distribution of plot\",\"distribution of plot\",\"distribution of plot\",\"distribution of plot\",\"distribution of plot\",\"distribution of plot\",\"distribution of plot\",\"distribution of plot\",\"distribution of plot\",\"distribution of plot\",\"distribution of plot\",\"distribution of plot\",\"distribution of plot\",\"distribution of plot\",\"distribution of plot\",\"distribution of plot\",\"distribution of plot\",\"distribution of plot\",\"distribution of plot\",\"distribution of plot\",\"distribution of plot\",\"distribution of plot\",\"distribution of plot\",\"distribution of plot\",\"distribution of plot\",\"distribution of plot\",\"distribution of plot\",\"distribution of plot\",\"distribution of plot\",\"distribution of plot\",\"distribution of plot\",\"distribution of plot\",\"distribution of plot\",\"distribution of plot\",\"distribution of plot\",\"distribution of plot\",\"distribution of plot\",\"distribution of plot\",\"distribution of plot\",\"distribution of plot\",\"distribution of plot\",\"distribution of plot\",\"distribution of plot\",\"distribution of plot\",\"distribution of plot\",\"distribution of plot\",\"distribution of plot\",\"distribution of plot\",\"distribution of plot\",\"distribution of plot\",\"distribution of plot\",\"distribution of plot\",\"distribution of plot\",\"distribution of plot\",\"distribution of plot\",\"distribution of plot\",\"distribution of plot\",\"distribution of plot\",\"distribution of plot\",\"distribution of plot\",\"distribution of plot\",\"distribution of plot\",\"distribution of plot\",\"distribution of plot\",\"distribution of plot\",\"distribution of plot\",\"distribution of plot\",\"distribution of plot\",\"distribution of plot\",\"distribution of plot\",\"distribution of plot\",\"distribution of plot\",\"distribution of plot\",\"distribution of plot\",\"distribution of plot\",\"distribution of plot\",\"distribution of plot\",\"distribution of plot\",\"distribution of plot\",\"distribution of plot\",\"distribution of plot\",\"distribution of plot\",\"distribution of plot\",\"distribution of plot\",\"distribution of plot\",\"distribution of plot\",\"distribution of plot\",\"distribution of plot\",\"distribution of plot\",\"distribution of plot\",\"distribution of plot\",\"distribution of plot\",\"distribution of plot\",\"distribution of plot\",\"distribution of plot\",\"distribution of plot\",\"distribution of plot\",\"distribution of plot\",\"distribution of plot\",\"distribution of plot\",\"distribution of plot\",\"distribution of plot\",\"distribution of plot\",\"distribution of plot\",\"distribution of plot\",\"distribution of plot\",\"distribution of plot\",\"distribution of plot\",\"distribution of plot\",\"distribution of plot\",\"distribution of plot\",\"distribution of plot\",\"distribution of plot\",\"distribution of plot\",\"distribution of plot\",\"distribution of plot\",\"distribution of plot\",\"distribution of plot\",\"distribution of plot\",\"distribution of plot\",\"distribution of plot\",\"distribution of plot\",\"distribution of plot\",\"distribution of plot\",\"distribution of plot\",\"distribution of plot\",\"distribution of plot\",\"distribution of plot\",\"distribution of plot\",\"distribution of plot\",\"distribution of plot\",\"distribution of plot\",\"distribution of plot\",\"distribution of plot\",\"distribution of plot\",\"distribution of plot\",\"distribution of plot\",\"distribution of plot\",\"distribution of plot\",\"distribution of plot\",\"distribution of plot\",\"distribution of plot\",\"distribution of plot\",\"distribution of plot\",\"distribution of plot\",\"distribution of plot\",\"distribution of plot\",\"distribution of plot\",\"distribution of plot\",\"distribution of plot\",\"distribution of plot\",\"distribution of plot\",\"distribution of plot\",\"distribution of plot\",\"distribution of plot\",\"distribution of plot\",\"distribution of plot\",\"distribution of plot\",\"distribution of plot\",\"distribution of plot\",\"distribution of plot\",\"distribution of plot\",\"distribution of plot\",\"distribution of plot\",\"distribution of plot\",\"distribution of plot\",\"distribution of plot\",\"distribution of plot\",\"distribution of plot\",\"distribution of plot\",\"distribution of plot\",\"distribution of plot\",\"distribution of plot\",\"distribution of plot\",\"distribution of plot\",\"distribution of plot\",\"distribution of plot\",\"distribution of plot\",\"distribution of plot\",\"distribution of plot\",\"distribution of plot\",\"distribution of plot\",\"distribution of plot\",\"distribution of plot\",\"distribution of plot\",\"distribution of plot\",\"distribution of plot\",\"distribution of plot\",\"distribution of plot\",\"distribution of plot\",\"distribution of plot\",\"distribution of plot\",\"distribution of plot\",\"distribution of plot\",\"distribution of plot\",\"distribution of plot\",\"distribution of plot\",\"distribution of plot\",\"distribution of plot\",\"distribution of plot\",\"distribution of plot\",\"distribution of plot\",\"distribution of plot\",\"distribution of plot\",\"distribution of plot\",\"distribution of plot\",\"distribution of plot\",\"distribution of plot\",\"distribution of plot\",\"distribution of plot\",\"distribution of plot\",\"distribution of plot\",\"distribution of plot\",\"distribution of plot\",\"distribution of plot\",\"distribution of plot\",\"distribution of plot\",\"distribution of plot\",\"distribution of plot\",\"distribution of plot\",\"distribution of plot\",\"distribution of plot\",\"distribution of plot\",\"distribution of plot\",\"distribution of plot\",\"distribution of plot\",\"distribution of plot\",\"distribution of plot\",\"distribution of plot\",\"distribution of plot\",\"distribution of plot\",\"distribution of plot\",\"distribution of plot\",\"distribution of plot\",\"distribution of plot\",\"distribution of plot\",\"distribution of plot\",\"distribution of plot\",\"distribution of plot\",\"distribution of plot\",\"distribution of plot\",\"distribution of plot\",\"distribution of plot\"],\"yaxis\":\"y2\",\"type\":\"scatter\"}],                        {\"barmode\":\"overlay\",\"hovermode\":\"closest\",\"legend\":{\"traceorder\":\"reversed\"},\"xaxis\":{\"anchor\":\"y2\",\"domain\":[0.0,1.0],\"zeroline\":false,\"title\":{\"text\":\"Possible residual Values\"}},\"yaxis\":{\"anchor\":\"free\",\"domain\":[0.35,1],\"position\":0.0,\"title\":{\"text\":\"\"}},\"yaxis2\":{\"anchor\":\"x\",\"domain\":[0,0.25],\"dtick\":1,\"showticklabels\":false},\"template\":{\"data\":{\"barpolar\":[{\"marker\":{\"line\":{\"color\":\"white\",\"width\":0.5},\"pattern\":{\"fillmode\":\"overlay\",\"size\":10,\"solidity\":0.2}},\"type\":\"barpolar\"}],\"bar\":[{\"error_x\":{\"color\":\"#2a3f5f\"},\"error_y\":{\"color\":\"#2a3f5f\"},\"marker\":{\"line\":{\"color\":\"white\",\"width\":0.5},\"pattern\":{\"fillmode\":\"overlay\",\"size\":10,\"solidity\":0.2}},\"type\":\"bar\"}],\"carpet\":[{\"aaxis\":{\"endlinecolor\":\"#2a3f5f\",\"gridcolor\":\"#C8D4E3\",\"linecolor\":\"#C8D4E3\",\"minorgridcolor\":\"#C8D4E3\",\"startlinecolor\":\"#2a3f5f\"},\"baxis\":{\"endlinecolor\":\"#2a3f5f\",\"gridcolor\":\"#C8D4E3\",\"linecolor\":\"#C8D4E3\",\"minorgridcolor\":\"#C8D4E3\",\"startlinecolor\":\"#2a3f5f\"},\"type\":\"carpet\"}],\"choropleth\":[{\"colorbar\":{\"outlinewidth\":0,\"ticks\":\"\"},\"type\":\"choropleth\"}],\"contourcarpet\":[{\"colorbar\":{\"outlinewidth\":0,\"ticks\":\"\"},\"type\":\"contourcarpet\"}],\"contour\":[{\"colorbar\":{\"outlinewidth\":0,\"ticks\":\"\"},\"colorscale\":[[0.0,\"#0d0887\"],[0.1111111111111111,\"#46039f\"],[0.2222222222222222,\"#7201a8\"],[0.3333333333333333,\"#9c179e\"],[0.4444444444444444,\"#bd3786\"],[0.5555555555555556,\"#d8576b\"],[0.6666666666666666,\"#ed7953\"],[0.7777777777777778,\"#fb9f3a\"],[0.8888888888888888,\"#fdca26\"],[1.0,\"#f0f921\"]],\"type\":\"contour\"}],\"heatmapgl\":[{\"colorbar\":{\"outlinewidth\":0,\"ticks\":\"\"},\"colorscale\":[[0.0,\"#0d0887\"],[0.1111111111111111,\"#46039f\"],[0.2222222222222222,\"#7201a8\"],[0.3333333333333333,\"#9c179e\"],[0.4444444444444444,\"#bd3786\"],[0.5555555555555556,\"#d8576b\"],[0.6666666666666666,\"#ed7953\"],[0.7777777777777778,\"#fb9f3a\"],[0.8888888888888888,\"#fdca26\"],[1.0,\"#f0f921\"]],\"type\":\"heatmapgl\"}],\"heatmap\":[{\"colorbar\":{\"outlinewidth\":0,\"ticks\":\"\"},\"colorscale\":[[0.0,\"#0d0887\"],[0.1111111111111111,\"#46039f\"],[0.2222222222222222,\"#7201a8\"],[0.3333333333333333,\"#9c179e\"],[0.4444444444444444,\"#bd3786\"],[0.5555555555555556,\"#d8576b\"],[0.6666666666666666,\"#ed7953\"],[0.7777777777777778,\"#fb9f3a\"],[0.8888888888888888,\"#fdca26\"],[1.0,\"#f0f921\"]],\"type\":\"heatmap\"}],\"histogram2dcontour\":[{\"colorbar\":{\"outlinewidth\":0,\"ticks\":\"\"},\"colorscale\":[[0.0,\"#0d0887\"],[0.1111111111111111,\"#46039f\"],[0.2222222222222222,\"#7201a8\"],[0.3333333333333333,\"#9c179e\"],[0.4444444444444444,\"#bd3786\"],[0.5555555555555556,\"#d8576b\"],[0.6666666666666666,\"#ed7953\"],[0.7777777777777778,\"#fb9f3a\"],[0.8888888888888888,\"#fdca26\"],[1.0,\"#f0f921\"]],\"type\":\"histogram2dcontour\"}],\"histogram2d\":[{\"colorbar\":{\"outlinewidth\":0,\"ticks\":\"\"},\"colorscale\":[[0.0,\"#0d0887\"],[0.1111111111111111,\"#46039f\"],[0.2222222222222222,\"#7201a8\"],[0.3333333333333333,\"#9c179e\"],[0.4444444444444444,\"#bd3786\"],[0.5555555555555556,\"#d8576b\"],[0.6666666666666666,\"#ed7953\"],[0.7777777777777778,\"#fb9f3a\"],[0.8888888888888888,\"#fdca26\"],[1.0,\"#f0f921\"]],\"type\":\"histogram2d\"}],\"histogram\":[{\"marker\":{\"pattern\":{\"fillmode\":\"overlay\",\"size\":10,\"solidity\":0.2}},\"type\":\"histogram\"}],\"mesh3d\":[{\"colorbar\":{\"outlinewidth\":0,\"ticks\":\"\"},\"type\":\"mesh3d\"}],\"parcoords\":[{\"line\":{\"colorbar\":{\"outlinewidth\":0,\"ticks\":\"\"}},\"type\":\"parcoords\"}],\"pie\":[{\"automargin\":true,\"type\":\"pie\"}],\"scatter3d\":[{\"line\":{\"colorbar\":{\"outlinewidth\":0,\"ticks\":\"\"}},\"marker\":{\"colorbar\":{\"outlinewidth\":0,\"ticks\":\"\"}},\"type\":\"scatter3d\"}],\"scattercarpet\":[{\"marker\":{\"colorbar\":{\"outlinewidth\":0,\"ticks\":\"\"}},\"type\":\"scattercarpet\"}],\"scattergeo\":[{\"marker\":{\"colorbar\":{\"outlinewidth\":0,\"ticks\":\"\"}},\"type\":\"scattergeo\"}],\"scattergl\":[{\"marker\":{\"colorbar\":{\"outlinewidth\":0,\"ticks\":\"\"}},\"type\":\"scattergl\"}],\"scattermapbox\":[{\"marker\":{\"colorbar\":{\"outlinewidth\":0,\"ticks\":\"\"}},\"type\":\"scattermapbox\"}],\"scatterpolargl\":[{\"marker\":{\"colorbar\":{\"outlinewidth\":0,\"ticks\":\"\"}},\"type\":\"scatterpolargl\"}],\"scatterpolar\":[{\"marker\":{\"colorbar\":{\"outlinewidth\":0,\"ticks\":\"\"}},\"type\":\"scatterpolar\"}],\"scatter\":[{\"marker\":{\"colorbar\":{\"outlinewidth\":0,\"ticks\":\"\"}},\"type\":\"scatter\"}],\"scatterternary\":[{\"marker\":{\"colorbar\":{\"outlinewidth\":0,\"ticks\":\"\"}},\"type\":\"scatterternary\"}],\"surface\":[{\"colorbar\":{\"outlinewidth\":0,\"ticks\":\"\"},\"colorscale\":[[0.0,\"#0d0887\"],[0.1111111111111111,\"#46039f\"],[0.2222222222222222,\"#7201a8\"],[0.3333333333333333,\"#9c179e\"],[0.4444444444444444,\"#bd3786\"],[0.5555555555555556,\"#d8576b\"],[0.6666666666666666,\"#ed7953\"],[0.7777777777777778,\"#fb9f3a\"],[0.8888888888888888,\"#fdca26\"],[1.0,\"#f0f921\"]],\"type\":\"surface\"}],\"table\":[{\"cells\":{\"fill\":{\"color\":\"#EBF0F8\"},\"line\":{\"color\":\"white\"}},\"header\":{\"fill\":{\"color\":\"#C8D4E3\"},\"line\":{\"color\":\"white\"}},\"type\":\"table\"}]},\"layout\":{\"annotationdefaults\":{\"arrowcolor\":\"#2a3f5f\",\"arrowhead\":0,\"arrowwidth\":1},\"autotypenumbers\":\"strict\",\"coloraxis\":{\"colorbar\":{\"outlinewidth\":0,\"ticks\":\"\"}},\"colorscale\":{\"diverging\":[[0,\"#8e0152\"],[0.1,\"#c51b7d\"],[0.2,\"#de77ae\"],[0.3,\"#f1b6da\"],[0.4,\"#fde0ef\"],[0.5,\"#f7f7f7\"],[0.6,\"#e6f5d0\"],[0.7,\"#b8e186\"],[0.8,\"#7fbc41\"],[0.9,\"#4d9221\"],[1,\"#276419\"]],\"sequential\":[[0.0,\"#0d0887\"],[0.1111111111111111,\"#46039f\"],[0.2222222222222222,\"#7201a8\"],[0.3333333333333333,\"#9c179e\"],[0.4444444444444444,\"#bd3786\"],[0.5555555555555556,\"#d8576b\"],[0.6666666666666666,\"#ed7953\"],[0.7777777777777778,\"#fb9f3a\"],[0.8888888888888888,\"#fdca26\"],[1.0,\"#f0f921\"]],\"sequentialminus\":[[0.0,\"#0d0887\"],[0.1111111111111111,\"#46039f\"],[0.2222222222222222,\"#7201a8\"],[0.3333333333333333,\"#9c179e\"],[0.4444444444444444,\"#bd3786\"],[0.5555555555555556,\"#d8576b\"],[0.6666666666666666,\"#ed7953\"],[0.7777777777777778,\"#fb9f3a\"],[0.8888888888888888,\"#fdca26\"],[1.0,\"#f0f921\"]]},\"colorway\":[\"#636efa\",\"#EF553B\",\"#00cc96\",\"#ab63fa\",\"#FFA15A\",\"#19d3f3\",\"#FF6692\",\"#B6E880\",\"#FF97FF\",\"#FECB52\"],\"font\":{\"color\":\"#2a3f5f\"},\"geo\":{\"bgcolor\":\"white\",\"lakecolor\":\"white\",\"landcolor\":\"white\",\"showlakes\":true,\"showland\":true,\"subunitcolor\":\"#C8D4E3\"},\"hoverlabel\":{\"align\":\"left\"},\"hovermode\":\"closest\",\"mapbox\":{\"style\":\"light\"},\"paper_bgcolor\":\"white\",\"plot_bgcolor\":\"white\",\"polar\":{\"angularaxis\":{\"gridcolor\":\"#EBF0F8\",\"linecolor\":\"#EBF0F8\",\"ticks\":\"\"},\"bgcolor\":\"white\",\"radialaxis\":{\"gridcolor\":\"#EBF0F8\",\"linecolor\":\"#EBF0F8\",\"ticks\":\"\"}},\"scene\":{\"xaxis\":{\"backgroundcolor\":\"white\",\"gridcolor\":\"#DFE8F3\",\"gridwidth\":2,\"linecolor\":\"#EBF0F8\",\"showbackground\":true,\"ticks\":\"\",\"zerolinecolor\":\"#EBF0F8\"},\"yaxis\":{\"backgroundcolor\":\"white\",\"gridcolor\":\"#DFE8F3\",\"gridwidth\":2,\"linecolor\":\"#EBF0F8\",\"showbackground\":true,\"ticks\":\"\",\"zerolinecolor\":\"#EBF0F8\"},\"zaxis\":{\"backgroundcolor\":\"white\",\"gridcolor\":\"#DFE8F3\",\"gridwidth\":2,\"linecolor\":\"#EBF0F8\",\"showbackground\":true,\"ticks\":\"\",\"zerolinecolor\":\"#EBF0F8\"}},\"shapedefaults\":{\"line\":{\"color\":\"#2a3f5f\"}},\"ternary\":{\"aaxis\":{\"gridcolor\":\"#DFE8F3\",\"linecolor\":\"#A2B1C6\",\"ticks\":\"\"},\"baxis\":{\"gridcolor\":\"#DFE8F3\",\"linecolor\":\"#A2B1C6\",\"ticks\":\"\"},\"bgcolor\":\"white\",\"caxis\":{\"gridcolor\":\"#DFE8F3\",\"linecolor\":\"#A2B1C6\",\"ticks\":\"\"}},\"title\":{\"x\":0.05},\"xaxis\":{\"automargin\":true,\"gridcolor\":\"#EBF0F8\",\"linecolor\":\"#EBF0F8\",\"ticks\":\"\",\"title\":{\"standoff\":15},\"zerolinecolor\":\"#EBF0F8\",\"zerolinewidth\":2},\"yaxis\":{\"automargin\":true,\"gridcolor\":\"#EBF0F8\",\"linecolor\":\"#EBF0F8\",\"ticks\":\"\",\"title\":{\"standoff\":15},\"zerolinecolor\":\"#EBF0F8\",\"zerolinewidth\":2}}},\"title\":{\"text\":\"Normality of Residuals\",\"x\":0.5},\"font\":{\"size\":18},\"width\":800,\"height\":700},                        {\"responsive\": true}                    ).then(function(){\n",
              "                            \n",
              "var gd = document.getElementById('ac5e52bc-ad1e-4680-9e31-af96f0f612a3');\n",
              "var x = new MutationObserver(function (mutations, observer) {{\n",
              "        var display = window.getComputedStyle(gd).display;\n",
              "        if (!display || display === 'none') {{\n",
              "            console.log([gd, 'removed!']);\n",
              "            Plotly.purge(gd);\n",
              "            observer.disconnect();\n",
              "        }}\n",
              "}});\n",
              "\n",
              "// Listen for the removal of the full notebook cells\n",
              "var notebookContainer = gd.closest('#notebook-container');\n",
              "if (notebookContainer) {{\n",
              "    x.observe(notebookContainer, {childList: true});\n",
              "}}\n",
              "\n",
              "// Listen for the clearing of the current output cell\n",
              "var outputEl = gd.closest('.output');\n",
              "if (outputEl) {{\n",
              "    x.observe(outputEl, {childList: true});\n",
              "}}\n",
              "\n",
              "                        })                };                            </script>        </div>\n",
              "</body>\n",
              "</html>"
            ]
          },
          "metadata": {}
        }
      ],
      "source": [
        "color = [colors[2]]\n",
        "\n",
        "hist_data = [res.resid]\n",
        "group_labels = ['distribution of plot'] # name of the dataset\n",
        "\n",
        "fig = ff.create_distplot(hist_data, \n",
        "                         group_labels,\n",
        "                         bin_size=0.01,\n",
        "                         colors= color)\n",
        "\n",
        "fig.update_layout(\n",
        "        title=\"Normality of Residuals\",\n",
        "        title_x=0.5,\n",
        "        width=800,\n",
        "        height=700,\n",
        "        font=dict(size=18),\n",
        "        template=\"plotly_white\",\n",
        "        yaxis_title=\"\",\n",
        "        xaxis_title=\"Possible residual Values\")\n",
        "\n",
        "fig.show()"
      ]
    },
    {
      "cell_type": "code",
      "execution_count": null,
      "metadata": {
        "id": "2UmedjSnAa9_"
      },
      "outputs": [],
      "source": [
        "qqplot_data = qqplot(res.resid, line='s').gca().lines"
      ]
    },
    {
      "cell_type": "code",
      "execution_count": 36,
      "metadata": {
        "colab": {
          "base_uri": "https://localhost:8080/",
          "height": 717
        },
        "id": "vS6rPU079CUE",
        "outputId": "3d0b7268-37e1-49fa-8bba-9d1aef5945ac"
      },
      "outputs": [
        {
          "output_type": "display_data",
          "data": {
            "text/html": [
              "<html>\n",
              "<head><meta charset=\"utf-8\" /></head>\n",
              "<body>\n",
              "    <div>            <script src=\"https://cdnjs.cloudflare.com/ajax/libs/mathjax/2.7.5/MathJax.js?config=TeX-AMS-MML_SVG\"></script><script type=\"text/javascript\">if (window.MathJax) {MathJax.Hub.Config({SVG: {font: \"STIX-Web\"}});}</script>                <script type=\"text/javascript\">window.PlotlyConfig = {MathJaxConfig: 'local'};</script>\n",
              "        <script src=\"https://cdn.plot.ly/plotly-2.8.3.min.js\"></script>                <div id=\"964c4d1d-ede8-4fa8-a522-1ce4d5bf6d2f\" class=\"plotly-graph-div\" style=\"height:700px; width:800px;\"></div>            <script type=\"text/javascript\">                                    window.PLOTLYENV=window.PLOTLYENV || {};                                    if (document.getElementById(\"964c4d1d-ede8-4fa8-a522-1ce4d5bf6d2f\")) {                    Plotly.newPlot(                        \"964c4d1d-ede8-4fa8-a522-1ce4d5bf6d2f\",                        [{\"marker\":{\"color\":\"#B1D182\",\"size\":8},\"mode\":\"markers\",\"x\":[-3.1237346303238445,-2.913726318334338,-2.7847353457361406,-2.6901095271588655,-2.6147770556013405,-2.5518818113716377,-2.497705474412373,-2.4499976606027287,-2.4072894006982386,-2.368567059267873,-2.3331007685514598,-2.300346955727878,-2.26988954347443,-2.241402727604945,-2.21462646021447,-2.189349755522085,-2.1653989962951483,-2.142629540955912,-2.1209195705388657,-2.1001654928444697,-2.0802784525252753,-2.0611816416301294,-2.042808199403668,-2.025099552524569,-2.0080040891184923,-1.9914760889023235,-1.9754748521393737,-1.9599639845400545,-1.9449108056709448,-1.930285856057582,-1.91606248380542,-1.9022164957820153,-1.8887258615922684,-1.87557046101229,-1.8627318674216515,-1.8501931612292957,-1.8379387684276949,-1.8259543203082647,-1.814226531084455,-1.8027430907391904,-1.7914925708719764,-1.7804643416920256,-1.7696484986056422,-1.7590357970929549,-1.7486175947720166,-1.7383857997158696,-1.7283328242271954,-1.7184515433910246,-1.7087352578229016,-1.6991776601112984,-1.6897728045217497,-1.6805150795882322,-1.671399183266669,-1.6624201003674497,-1.6535730820197796,-1.6448536269514729,-1.636257464394271,-1.627780538447626,-1.6194189937535992,-1.6111691623526774,-1.6030275516051615,-1.5949908330757576,-1.5870558322903148,-1.5792195192835745,-1.571478999865478,-1.5638315075412297,-1.5562743960270486,-1.5488051323094818,-1.5414212902014115,-1.5341205443525463,-1.526900664676335,-1.5197595111588966,-1.512695029018862,-1.505705244189933,-1.4987882591005781,-1.4919422487276346,-1.485165456902677,-1.4784561928518916,-1.471812827951905,-1.465233792685523,-1.4587175737827294,-1.4522627115335212,-1.445867797260287,-1.4395314709384563,-1.433252418955054,-1.427029371995656,-1.4208611030509677,-1.414746425534976,-1.4086841915072195,-1.4026732899923229,-1.3967126453904508,-1.390801215972819,-1.384937992456833,-1.3791219966558366,-1.3733522801988087,-1.3676279233156883,-1.3619480336843126,-1.3563117453352471,-1.3507182176110346,-1.3451666341766395,-1.339656202078083,-1.334186150846469,-1.3287557316447878,-1.323364216455058,-1.318010897303537,-1.3126950855218626,-1.3074161110421476,-1.3021733217241485,-1.2969660827127876,-1.2917937758243683,-1.2866557989599732,-1.2815515655446004,-1.2764805039906841,-1.2714420571847378,-1.266435681995933,-1.2614608488054833,-1.256517041055794,-1.2516037548183734,-1.2467204983795792,-1.2418667918433202,-1.2370421667498837,-1.2322461657100987,-1.2274783420541127,-1.2227382594940654,-1.218025491800021,-1.213339622488518,-1.2086802445231624,-1.204046960026702,-1.199439380004054,-1.1948571240757904,-1.190299820221607,-1.1857671045333316,-1.1812586209770397,-1.1767740211638875,-1.1723129641292673,-1.1678751161199359,-1.1634601503887594,-1.159067746996758,-1.1546975926221377,-1.1503493803760079,-1.1460228096245144,-1.1417175858171107,-1.1374334203207235,-1.1331700302595604,-1.1289271383603408,-1.124704472802719,-1.1205017670747006,-1.116318759832843,-1.1121551947670634,-1.1080108204698564,-1.1038853903097678,-1.0997786623089363,-1.095690399024565,-1.0916203674341678,-1.0875683388244402,-1.0835340886836176,-1.0795173965972014,-1.0755180461469145,-1.07153582481277,-1.0675705238781414,-1.0636219383377197,-1.0596898668082535,-1.0557741114419745,-1.051874477842607,-1.0479907749838702,-1.0441228151303865,-1.0402704137609093,-1.0364333894937898,-1.0326115640145985,-1.0288047620058414,-1.0250128110786798,-1.021235541706597,-1.017472787160945,-1.0137243834483025,-1.009990169249582,-1.0062699858608395,-1.0025636771357134,-0.9988710894294478,-0.9951920715444516,-0.9915264746773306,-0.9878741523673573,-0.984234960446325,-0.9806087569897415,-0.976995402269323,-0.9733947587067434,-0.9698066908285993,-0.9662310652225569,-0.9626677504946358,-0.9591166172276023,-0.9555775379404315,-0.952050387048809,-0.9485350408266378,-0.9450313773685227,-0.9415392765531984,-0.9380586200078761,-0.9345892910734802,-0.9311311747707464,-0.9276841577671586,-0.9242481283446978,-0.9208229763683788,-0.9174085932555535,-0.9140048719459558,-0.9106117068724701,-0.9072289939325966,-0.903856630460602,-0.9004945152003261,-0.8971425482786334,-0.893800631179489,-0.8904686667186377,-0.887146559018876,-0.883834213485894,-0.8805315367846749,-0.8772384368164378,-0.8739548226961033,-0.8706806047302748,-0.8674156943957149,-0.8641600043183083,-0.8609134482524956,-0.8576759410611644,-0.8544473986959894,-0.8512277381782047,-0.8480168775797998,-0.8448147360051278,-0.8416212335729142,-0.8384362913986564,-0.8352598315774018,-0.832091777166899,-0.8289320521711075,-0.8257805815240602,-0.822637291074067,-0.819502107568254,-0.8163749586374262,-0.8132557727812482,-0.8101444793537337,-0.8070410085490357,-0.8039452913875315,-0.8008572597021931,-0.7977768461252381,-0.7947039840750516,-0.7916386077433746,-0.788580652082752,-0.7855300527942329,-0.7824867463153183,-0.7794506698081487,-0.7764217611479277,-0.7733999589115741,-0.7703852023665994,-0.7673774314602017,-0.7643765868085748,-0.7613826096864253,-0.7583954420166931,-0.7554150263604693,-0.7524413059071113,-0.7494742244645438,-0.7465137264497481,-0.7435597568794307,-0.7406122613608688,-0.737671186082929,-0.7347364778072544,-0.7318080838596176,-0.7288859521214334,-0.7259700310214301,-0.7230602695274757,-0.7201566171385523,-0.7172590238768808,-0.7143674402801876,-0.7114818173941121,-0.708602106764754,-0.7057282604313524,-0.7028602309190991,-0.6999979712320801,-0.6971414348463417,-0.6942905757030833,-0.6914453482019672,-0.6886057071945499,-0.685771607977826,-0.6829430062878877,-0.680119858293694,-0.6773021205909482,-0.6744897501960817,-0.6716827045403423,-0.6688809414639829,-0.6660844192105514,-0.6632930964212768,-0.6605069321295521,-0.6577258857555088,-0.654949917100686,-0.6521789863427861,-0.6494130540305203,-0.6466520810785402,-0.6438960287624531,-0.6411448587139197,-0.6383985329158341,-0.6356570136975827,-0.6329202637303789,-0.6301882460226785,-0.6274609239156644,-0.6247382610788095,-0.6220202215055073,-0.6193067695087762,-0.6165978697170302,-0.6138934870699198,-0.6111935868142363,-0.6084981344998834,-0.6058070959759126,-0.603120437386619,-0.6004381251677009,-0.5977601260424784,-0.595086407018171,-0.5924169353822332,-0.5897516786987472,-0.5870906048048712,-0.5844336818073419,-0.5817808780790314,-0.579132162255556,-0.5764875032319371,-0.5738468701593129,-0.5712102324416991,-0.5685775597327993,-0.5659488219328631,-0.5633239891855905,-0.5607030318750833,-0.5580859206228418,-0.555472626284805,-0.5528631199484364,-0.5502573729298502,-0.5476553567709816,-0.5450570432367979,-0.5424624043125493,-0.5398714122010614,-0.5372840393200643,-0.5347002582995636,-0.5321200419792451,-0.5295433634059203,-0.526970195831006,-0.5244005127080409,-0.5218342876902361,-0.5192714946280621,-0.5167121075668678,-0.5141561007445341,-0.5116034485891594,-0.5090541257167783,-0.5065081069291113,-0.5039653672113453,-0.5014258817299453,-0.49888962583049595,-0.4963565750355725,-0.493826705042641,-0.4912999917219864,-0.4887764111146695,-0.48625593943051115,-0.48373855304610314,-0.48122422850284635,-0.4787129425050145,-0.4762046719178444,-0.47369939376565057,-0.4711970852299657,-0.46869772364770435,-0.4662012865093524,-0.463707751457179,-0.46121709628347146,-0.45872929892879405,-0.456244337480269,-0.45376219016987945,-0.45128283537279373,-0.4488062516057124,-0.4463324175252349,-0.44386131192624767,-0.44139291374033285,-0.4389272020341964,-0.4364641560081164,-0.43400375499441063,-0.43154597845592335,-0.4290908059845307,-0.42663821729966467,-0.42418819224685544,-0.42174071079629105,-0.419295753041396,-0.41685329919742514,-0.4144133296000765,-0.41197582470412,-0.40954076508204273,-0.40710813142271096,-0.4046779045300476,-0.40225006532172536,-0.39982459482787625,-0.3974014741898154,-0.3949806846587804,-0.3925622075946854,-0.39014602446488944,-0.38773211684297954,-0.38532046640756773,-0.3829110549411018,-0.3805038643286898,-0.3780988765569388,-0.375696073712805,-0.37329543798245873,-0.3708969516501618,-0.3685005970971567,-0.36610635680056963,-0.36371421333232434,-0.3613241493580693,-0.35893614763611564,-0.35655019101638796,-0.35416626243938565,-0.35178434493515626,-0.3494044216222794,-0.34702647570686246,-0.34465049048154645,-0.3422764493245228,-0.339904335698561,-0.33753413315004566,-0.3351658253080253,-0.3327993958832692,-0.3304348286673361,-0.3280721075316511,-0.32571121642659345,-0.32335213938059243,-0.320994860499234,-0.31863936396437514,-0.31628563403326887,-0.3139336550376962,-0.31158341138310885,-0.30923488754777895,-0.3068880680819584,-0.3045429376070458,-0.30219948081476244,-0.29985768246633526,-0.29751752739168896,-0.29517900048864587,-0.29284208672213213,-0.2905067711233938,-0.28817303878921846,-0.2858408748811656,-0.28351026462480367,-0.2811811933089543,-0.27885364628494413,-0.2765276089658628,-0.27420306682582873,-0.2718800053992609,-0.2695584102801578,-0.2672382671213827,-0.26491956163395564,-0.26260227958635135,-0.26028640680380394,-0.2579719291676174,-0.2556588326144825,-0.2533471031357997,-0.2510367267770074,-0.24872768963691652,-0.24641997786705086,-0.24411357767099295,-0.24180847530373525,-0.2395046570710373,-0.23720210932878769,-0.23490081848237185,-0.23260077098604467,-0.23030195334230857,-0.22800435210129635,-0.22570795386015938,-0.22341274526246022,-0.22111871299757055,-0.21882584380007353,-0.21653412444917083,-0.21424354176809507,-0.21195408262352514,-0.20966573392500756,-0.20737848262438158,-0.20509231571520853,-0.20280722023220576,-0.20052318325068436,-0.19824019188599135,-0.1959582332929557,-0.19367729466533856,-0.1913973632352871,-0.18911842627279252,-0.18684047108515173,-0.1845634850164327,-0.18228745544694347,-0.1800123697927051,-0.1777382155049277,-0.17546498006949002,-0.17319265100642342,-0.17092121586939724,-0.16865066224520955,-0.16638097775327992,-0.16411215004514582,-0.16184416680396213,-0.15957701574400365,-0.1573106846101707,-0.15504516117749784,-0.1527804332506652,-0.15051648866351308,-0.14825331527855895,-0.1459909009865177,-0.14372923370582416,-0.1414683013821586,-0.1392080919879747,-0.13694859352202998,-0.13468979400891956,-0.13243168149861076,-0.13017424406598177,-0.12791746981036184,-0.12566134685507402,-0.12340586334698013,-0.12115100745602797,-0.1188967673748008,-0.1166431313180688,-0.11439008752234278,-0.11213762424542992,-0.1098857297659914,-0.10763439238310216,-0.10538360041581242,-0.10313334220271121,-0.10088360610149168,-0.09863438048851805,-0.09638565375839458,-0.0941374143235364,-0.09188965061374095,-0.08964235107576254,-0.08739550417288731,-0.08514909838451043,-0.08290312220571439,-0.08065756414684888,-0.0784124127331122,-0.07616765650413386,-0.07392328401355859,-0.07167928382863167,-0.06943564452978553,-0.06719235471022743,-0.06494940297552851,-0.06270677794321385,-0.06046446824235365,-0.0582224625131554,-0.05598074940655765,-0.05373931758382345,-0.05149815571613618,-0.049257252484195456,-0.04701659657781415,-0.04477617669551624,-0.042535981544135404,-0.040295999838414386,-0.03805622030060514,-0.035816631660069605,-0.033577222652881156,-0.03133798202142662,-0.029098898514008934,-0.02685996088445032,-0.024621157891695937,-0.02238247829941801,-0.02014391087562042,-0.01790544439224351,-0.015667067624769982,-0.013428769351829664,-0.01119053835480604,-0.008952363417442261,-0.006714233325447546,-0.004476136866103757,-0.002238062827872111,0.0,0.002238062827872111,0.004476136866103757,0.006714233325447546,0.008952363417442261,0.01119053835480604,0.013428769351829664,0.015667067624769982,0.01790544439224351,0.020143910875620282,0.02238247829941787,0.024621157891695798,0.026859960884450182,0.029098898514008795,0.03133798202142648,0.03357722265288102,0.035816631660069466,0.038056220300605,0.040295999838414524,0.04253598154413554,0.04477617669551638,0.04701659657781429,0.049257252484195595,0.05149815571613632,0.05373931758382359,0.05598074940655779,0.05822246251315554,0.06046446824235365,0.06270677794321385,0.06494940297552851,0.06719235471022743,0.06943564452978553,0.07167928382863167,0.07392328401355859,0.07616765650413386,0.0784124127331122,0.08065756414684888,0.08290312220571439,0.08514909838451043,0.08739550417288731,0.08964235107576254,0.09188965061374095,0.0941374143235364,0.09638565375839458,0.09863438048851791,0.10088360610149154,0.10313334220271107,0.10538360041581228,0.10763439238310202,0.10988572976599126,0.11213762424542978,0.11439008752234264,0.11664313131806867,0.11889676737480094,0.12115100745602812,0.12340586334698027,0.12566134685507416,0.12791746981036198,0.1301742440659819,0.1324316814986109,0.1346897940089197,0.13694859352203015,0.1392080919879747,0.1414683013821586,0.14372923370582416,0.1459909009865177,0.14825331527855895,0.15051648866351308,0.1527804332506652,0.15504516117749784,0.1573106846101707,0.15957701574400365,0.16184416680396213,0.16411215004514582,0.16638097775327992,0.16865066224520955,0.17092121586939724,0.17319265100642342,0.17546498006949002,0.17773821550492755,0.18001236979270496,0.18228745544694333,0.18456348501643255,0.1868404710851516,0.18911842627279238,0.19139736323528697,0.19367729466533842,0.19595823329295556,0.19824019188599148,0.2005231832506845,0.2028072202322059,0.20509231571520872,0.20737848262438172,0.2096657339250077,0.21195408262352528,0.21424354176809524,0.21653412444917097,0.21882584380007353,0.22111871299757055,0.22341274526246022,0.22570795386015938,0.22800435210129635,0.23030195334230857,0.23260077098604467,0.23490081848237185,0.23720210932878769,0.2395046570710373,0.24180847530373525,0.24411357767099295,0.24641997786705086,0.24872768963691652,0.2510367267770074,0.2533471031357997,0.2556588326144825,0.2579719291676173,0.26028640680380377,0.26260227958635124,0.2649195616339555,0.2672382671213826,0.26955841028015765,0.27188000539926077,0.27420306682582857,0.27652760896586265,0.2788536462849443,0.28118119330895447,0.2835102646248038,0.2858408748811657,0.2881730387892186,0.29050677112339396,0.2928420867221323,0.295179000488646,0.29751752739168913,0.29985768246633526,0.30219948081476244,0.3045429376070458,0.3068880680819584,0.30923488754777895,0.31158341138310885,0.3139336550376962,0.31628563403326887,0.31863936396437514,0.320994860499234,0.32335213938059243,0.32571121642659345,0.3280721075316511,0.3304348286673361,0.3327993958832692,0.3351658253080253,0.33753413315004566,0.3399043356985608,0.34227644932452267,0.3446504904815462,0.3470264757068623,0.34940442162227925,0.3517843449351561,0.35416626243938554,0.3565501910163878,0.3589361476361155,0.36132414935806945,0.3637142133323245,0.3661063568005698,0.3685005970971569,0.3708969516501619,0.3732954379824589,0.37569607371280517,0.37809887655693897,0.38050386432868993,0.3829110549411018,0.38532046640756773,0.38773211684297954,0.39014602446488944,0.3925622075946854,0.3949806846587804,0.3974014741898154,0.39982459482787625,0.40225006532172536,0.4046779045300476,0.40710813142271096,0.40954076508204273,0.41197582470412,0.4144133296000765,0.41685329919742514,0.419295753041396,0.42174071079629105,0.4241881922468552,0.42663821729966456,0.42909080598453053,0.4315459784559232,0.43400375499441046,0.4364641560081162,0.4389272020341963,0.4413929137403327,0.4438613119262475,0.446332417525235,0.4488062516057125,0.4512828353727939,0.45376219016987956,0.4562443374802692,0.4587292989287942,0.46121709628347163,0.4637077514571792,0.46620128650935255,0.46869772364770435,0.4711970852299657,0.47369939376565057,0.4762046719178444,0.4787129425050145,0.48122422850284635,0.48373855304610314,0.48625593943051115,0.4887764111146695,0.4912999917219864,0.493826705042641,0.4963565750355725,0.49888962583049595,0.5014258817299453,0.5039653672113453,0.5065081069291113,0.5090541257167783,0.5116034485891593,0.514156100744534,0.5167121075668677,0.519271494628062,0.521834287690236,0.5244005127080407,0.5269701958310059,0.5295433634059201,0.5321200419792449,0.5347002582995637,0.5372840393200645,0.5398714122010615,0.5424624043125496,0.545057043236798,0.5476553567709819,0.5502573729298503,0.5528631199484365,0.5554726262848051,0.5580859206228418,0.5607030318750833,0.5633239891855905,0.5659488219328631,0.5685775597327993,0.5712102324416991,0.5738468701593129,0.5764875032319371,0.579132162255556,0.5817808780790314,0.5844336818073419,0.5870906048048712,0.5897516786987472,0.5924169353822332,0.595086407018171,0.5977601260424784,0.6004381251677009,0.6031204373866189,0.6058070959759125,0.6084981344998833,0.6111935868142361,0.6138934870699196,0.6165978697170301,0.619306769508776,0.6220202215055071,0.6247382610788094,0.6274609239156647,0.6301882460226786,0.632920263730379,0.6356570136975828,0.6383985329158344,0.6411448587139198,0.6438960287624532,0.6466520810785404,0.6494130540305204,0.6521789863427861,0.654949917100686,0.6577258857555088,0.6605069321295521,0.6632930964212768,0.6660844192105514,0.6688809414639829,0.6716827045403423,0.6744897501960817,0.6773021205909482,0.680119858293694,0.6829430062878877,0.685771607977826,0.6886057071945499,0.6914453482019672,0.6942905757030833,0.6971414348463417,0.6999979712320801,0.7028602309190991,0.7057282604313524,0.708602106764754,0.7114818173941121,0.7143674402801873,0.7172590238768807,0.7201566171385521,0.7230602695274754,0.7259700310214303,0.7288859521214336,0.7318080838596178,0.7347364778072545,0.737671186082929,0.7406122613608688,0.7435597568794307,0.7465137264497481,0.7494742244645438,0.7524413059071113,0.7554150263604693,0.7583954420166931,0.7613826096864253,0.7643765868085748,0.7673774314602017,0.7703852023665994,0.7733999589115741,0.7764217611479277,0.7794506698081487,0.7824867463153183,0.7855300527942329,0.788580652082752,0.7916386077433746,0.7947039840750516,0.7977768461252381,0.8008572597021931,0.8039452913875315,0.8070410085490357,0.8101444793537337,0.8132557727812482,0.8163749586374262,0.8195021075682538,0.8226372910740668,0.8257805815240601,0.8289320521711073,0.8320917771668993,0.8352598315774019,0.8384362913986565,0.8416212335729143,0.8448147360051278,0.8480168775797998,0.8512277381782047,0.8544473986959894,0.8576759410611644,0.8609134482524956,0.8641600043183083,0.8674156943957149,0.8706806047302748,0.8739548226961033,0.8772384368164378,0.8805315367846749,0.883834213485894,0.887146559018876,0.8904686667186377,0.893800631179489,0.8971425482786334,0.9004945152003261,0.903856630460602,0.9072289939325966,0.9106117068724701,0.9140048719459558,0.9174085932555535,0.9208229763683788,0.9242481283446978,0.9276841577671586,0.9311311747707464,0.93458929107348,0.9380586200078758,0.941539276553198,0.9450313773685225,0.9485350408266381,0.9520503870488092,0.9555775379404315,0.9591166172276024,0.9626677504946358,0.9662310652225569,0.9698066908285993,0.9733947587067434,0.976995402269323,0.9806087569897415,0.984234960446325,0.9878741523673573,0.9915264746773306,0.9951920715444516,0.9988710894294478,1.0025636771357134,1.0062699858608395,1.009990169249582,1.0137243834483025,1.017472787160945,1.021235541706597,1.0250128110786798,1.0288047620058414,1.0326115640145985,1.0364333894937898,1.0402704137609093,1.0441228151303865,1.0479907749838702,1.051874477842607,1.0557741114419745,1.0596898668082535,1.0636219383377197,1.0675705238781412,1.07153582481277,1.0755180461469138,1.0795173965972016,1.0835340886836176,1.0875683388244402,1.0916203674341685,1.095690399024565,1.0997786623089363,1.1038853903097685,1.1080108204698564,1.1121551947670634,1.116318759832843,1.1205017670747006,1.1247044728027196,1.1289271383603408,1.1331700302595604,1.1374334203207235,1.1417175858171107,1.1460228096245144,1.1503493803760079,1.1546975926221377,1.159067746996758,1.1634601503887594,1.1678751161199359,1.1723129641292673,1.1767740211638869,1.1812586209770397,1.1857671045333316,1.190299820221607,1.1948571240757904,1.199439380004054,1.2040469600267016,1.2086802445231624,1.2133396224885171,1.218025491800021,1.2227382594940654,1.227478342054112,1.2322461657100987,1.2370421667498839,1.2418667918433206,1.2467204983795792,1.2516037548183738,1.2565170410557949,1.2614608488054833,1.266435681995933,1.2714420571847378,1.2764805039906841,1.2815515655446004,1.2866557989599732,1.2917937758243683,1.2969660827127876,1.3021733217241485,1.3074161110421476,1.3126950855218626,1.318010897303537,1.323364216455058,1.3287557316447878,1.334186150846469,1.339656202078083,1.3451666341766395,1.3507182176110346,1.3563117453352471,1.3619480336843126,1.3676279233156883,1.3733522801988087,1.379121996655836,1.3849379924568324,1.390801215972819,1.3967126453904506,1.4026732899923222,1.4086841915072192,1.414746425534976,1.4208611030509681,1.4270293719956564,1.4332524189550542,1.4395314709384563,1.4458677972602874,1.4522627115335212,1.4587175737827294,1.465233792685523,1.471812827951905,1.4784561928518916,1.485165456902677,1.4919422487276346,1.4987882591005781,1.5057052441899337,1.512695029018862,1.5197595111588966,1.526900664676335,1.5341205443525463,1.5414212902014115,1.5488051323094818,1.556274396027048,1.563831507541229,1.571478999865478,1.5792195192835745,1.5870558322903143,1.5949908330757576,1.6030275516051609,1.6111691623526765,1.6194189937535985,1.6277805384476256,1.6362574643942707,1.6448536269514722,1.6535730820197796,1.662420100367449,1.6713991832666684,1.6805150795882327,1.6897728045217502,1.6991776601112993,1.7087352578229025,1.7184515433910255,1.728332824227196,1.7383857997158703,1.7486175947720173,1.7590357970929555,1.7696484986056424,1.7804643416920256,1.7914925708719764,1.8027430907391908,1.814226531084455,1.8259543203082647,1.8379387684276953,1.8501931612292957,1.8627318674216515,1.87557046101229,1.8887258615922684,1.9022164957820153,1.9160624838054197,1.9302858560575813,1.9449108056709445,1.959963984540054,1.975474852139373,1.9914760889023233,2.008004089118491,2.0250995525245687,2.0428081994036673,2.061181641630128,2.0802784525252744,2.100165492844469,2.120919570538865,2.14262954095591,2.165398996295149,2.1893497555220858,2.2146264602144723,2.241402727604947,2.2698895434744313,2.300346955727879,2.333100768551461,2.368567059267874,2.4072894006982395,2.44999766060273,2.497705474412374,2.551881811371639,2.6147770556013423,2.690109527158867,2.7847353457361415,2.9137263183343394,3.1237346303238454],\"y\":[-0.36391165794602404,-0.3071780365358295,-0.29954079963269603,-0.2814766201254838,-0.2790121870591167,-0.2790121870591167,-0.2722803817853997,-0.2688183383527463,-0.2503845869725501,-0.2479209215921442,-0.24049421985876962,-0.23977882990497035,-0.23390409641877008,-0.2320661150547422,-0.23089777696543368,-0.22300735825243007,-0.21383891582734646,-0.21383891582734646,-0.2098351631249968,-0.20468290417162482,-0.19705501687632748,-0.19649581288657703,-0.1957508013274525,-0.1957508013274525,-0.19539560672356096,-0.19430512957285087,-0.19343351454906207,-0.19343351454906207,-0.1932004074386435,-0.1932004074386435,-0.1909609306964878,-0.18968456911786552,-0.18899849611921002,-0.18899849611921002,-0.18899849611921002,-0.18802001697401338,-0.1857359970791659,-0.18475331038410261,-0.18398299854322248,-0.18398299854322248,-0.18356147263790187,-0.18341828640397626,-0.1811738025104376,-0.17981047342610101,-0.17907830068376535,-0.1777888394360858,-0.17754204284620956,-0.17716981126972503,-0.17614992284930014,-0.17526336308380255,-0.17526336308380255,-0.17367913982703498,-0.17313946661608648,-0.17313946661608648,-0.17102553386991637,-0.1696868655613762,-0.1696868655613762,-0.16794156376308259,-0.16778537537115418,-0.16717183373771582,-0.16717183373771582,-0.16574186076086994,-0.16508647676245392,-0.16316705432680512,-0.163089124219842,-0.16285611320532908,-0.16269412822793394,-0.16260161762913877,-0.16166661714663697,-0.16035775084845788,-0.16022722213035479,-0.1598508812566293,-0.15964621303967932,-0.1593800127960387,-0.15929113397143752,-0.1581647845554783,-0.15748140902753885,-0.15622337231126698,-0.15616324532640663,-0.1550019148107471,-0.1547020962450114,-0.15309219452798142,-0.15307132643663718,-0.15071389942226604,-0.15071389942226604,-0.1499116629876508,-0.1499116629876508,-0.14978286117031592,-0.14828800653418295,-0.1480559130139167,-0.1480559130139167,-0.14787583048841887,-0.14706687854259518,-0.1466106063746031,-0.1461721257279316,-0.14590271964590765,-0.14590271964590765,-0.14584507074513658,-0.1457995565978492,-0.1457995565978492,-0.1457599737931455,-0.14537203837796933,-0.14418551960047304,-0.14383627634520374,-0.14305795370607235,-0.14305795370607235,-0.14268716230642156,-0.14239745072859505,-0.1407002663895353,-0.14067985606806782,-0.14052549769305367,-0.13968674874783515,-0.13968674874783515,-0.13886583274515363,-0.1386230903245054,-0.13859385167640653,-0.13836946920533383,-0.13836946920533383,-0.13813662125380688,-0.13678542390288723,-0.1366433762261262,-0.13552822518494845,-0.13552822518494845,-0.1348252662170971,-0.13408225184672806,-0.13408225184672806,-0.1330370545438868,-0.13241862136105753,-0.1308217253397653,-0.13059609665313926,-0.13025368982688335,-0.12966511158136054,-0.12966511158136054,-0.12966319064630466,-0.1285843408201254,-0.12785187403441844,-0.12723296057895297,-0.12711084569864955,-0.1268953669715096,-0.1261314476287775,-0.12598734376709933,-0.12586790477065185,-0.1255055864934778,-0.1249335085712962,-0.12482932953184961,-0.12473325340696141,-0.12326909715749736,-0.12326909715749736,-0.12299509080017476,-0.12299509080017476,-0.12262720890475647,-0.12190421932485965,-0.1217279870050892,-0.1211378106688033,-0.1211378106688033,-0.12089104239857708,-0.1203613153310716,-0.11994856928982264,-0.119566896390087,-0.11950421503169188,-0.11918540649030049,-0.1189984907182699,-0.1189159015914715,-0.11688433983852348,-0.11685076384671017,-0.11673063842843422,-0.11524712925578329,-0.11477669620042155,-0.11408233130759429,-0.11408233130759429,-0.11408233130759429,-0.11341023253305835,-0.1132792915305636,-0.1132792915305636,-0.11287550844387466,-0.11224818862652076,-0.11204825663375818,-0.11155480990524545,-0.11155480990524545,-0.11108597184221011,-0.11108597184221011,-0.11072252913292159,-0.11071372108845223,-0.11071372108845223,-0.11063945627179111,-0.11050438962795023,-0.11039185203850926,-0.10973300534297184,-0.10896275539784514,-0.10886428757110364,-0.1088283301975575,-0.1088283301975575,-0.1087758257485692,-0.1087758257485692,-0.10827950895511812,-0.10779120694121186,-0.10707905636098797,-0.10593459283389178,-0.10405128473400702,-0.10346352572903998,-0.10324762053232114,-0.10324762053232114,-0.10323385872665808,-0.10292903784600288,-0.10264826933811566,-0.10237740136214829,-0.10143664460548502,-0.10119572433151647,-0.10035315021026028,-0.10030040336920326,-0.10009822762506702,-0.0996723715923178,-0.09848119137580927,-0.09831004974611593,-0.09790768626139934,-0.09773172898434443,-0.09773172898434443,-0.09767888572539213,-0.09753613119285343,-0.09753613119285343,-0.09747521308117005,-0.09745379877405203,-0.09702232675622441,-0.09696134436161123,-0.09680012730342283,-0.09675469987804813,-0.09580548388421285,-0.09516742959673782,-0.0950783475182177,-0.09502402290777882,-0.0946507157663444,-0.0946507157663444,-0.09454747838084188,-0.09454747838084188,-0.09448390762701694,-0.09416646202769727,-0.09404292014191783,-0.09391108192050196,-0.09305322737028851,-0.0923428272957231,-0.09223827389742033,-0.09223827389742033,-0.09197826045696669,-0.0917148288270509,-0.09160966315796953,-0.09132289929888532,-0.09132289929888532,-0.09122076092644893,-0.09119793869383008,-0.09116434947564314,-0.09071784919799887,-0.09044647013824983,-0.09029175578315032,-0.09028713023672164,-0.09022700141233275,-0.09021292430861572,-0.09010427434702345,-0.08991842878175166,-0.08951264175330709,-0.08939266611518981,-0.08803562471338436,-0.0866064375578771,-0.08635761929891206,-0.08572482523703662,-0.08571668750409778,-0.08555999674464498,-0.08552163073862262,-0.08551742145838792,-0.08316077435135164,-0.08304531701197537,-0.08237524682894178,-0.08224597699135106,-0.08192964554132712,-0.08157126130010413,-0.08129468203206022,-0.08129468203206022,-0.08104368653376717,-0.08068327814531666,-0.08068327814531666,-0.08028200288140064,-0.08021447019461359,-0.07960021898543745,-0.07960021898543745,-0.07942047149422288,-0.0793849995306686,-0.0793281657325744,-0.07903495518847331,-0.07903495518847331,-0.07866126690579711,-0.07859796739642302,-0.07828610251141904,-0.07828610251141904,-0.07802036392734175,-0.07795486930807735,-0.07728606507042549,-0.07728606507042549,-0.07713938173897267,-0.07713938173897267,-0.0768325316086435,-0.07649586689575985,-0.07640150053141292,-0.07628741923376876,-0.07569693263734367,-0.07551893457192294,-0.07511192618811208,-0.07504747273382874,-0.07434212015832325,-0.07434212015832325,-0.07382361702868968,-0.07318281838593171,-0.07298436647108997,-0.07245400649793388,-0.07230975025114283,-0.0721943639320497,-0.07209456591466128,-0.07162073111544445,-0.07134738007371094,-0.0707533903783582,-0.07073258473882482,-0.06989910123650594,-0.06985643751369497,-0.06837143635476406,-0.06727998637027105,-0.06725163800568466,-0.0672177209254996,-0.06667673788027817,-0.06592409719675041,-0.06579357177223849,-0.06579357177223849,-0.06575837222566472,-0.06543656465058661,-0.06527340219441699,-0.06476966145639397,-0.06472099500216688,-0.06452315024972362,-0.06440409598124266,-0.06384963666735177,-0.06314253264811909,-0.06263683687386562,-0.06255262289463176,-0.06254830989844803,-0.06205922748247404,-0.06197214583454293,-0.061521732674178375,-0.0612647808519739,-0.06077720701433187,-0.06024690829242832,-0.060208079863928815,-0.06020448577969684,-0.06004120125681456,-0.05966402732229068,-0.05941218188619288,-0.05937232182328678,-0.058957019261562715,-0.058518723074343526,-0.05842801295548575,-0.058408241998044785,-0.05789488236505125,-0.05771017012050286,-0.05627161858152835,-0.056246333399421936,-0.05605880330735541,-0.055907109065561345,-0.05524418687401797,-0.054222233759411154,-0.05374958889814263,-0.05307083800998018,-0.05196444328835642,-0.051794777660725336,-0.051407027605355315,-0.051407027605355315,-0.05100941348884347,-0.050947530692102866,-0.050711494109002275,-0.050711494109002275,-0.05029519768699081,-0.05026421828982652,-0.0502238142863371,-0.049926674861235976,-0.04984841713813906,-0.04961021275172983,-0.04959603870834908,-0.0492736726355297,-0.04919321349799888,-0.04919321349799888,-0.0489799150526396,-0.04856241651639398,-0.04856241651639398,-0.048310540509943156,-0.04829896734365538,-0.04810198895157597,-0.048078229143642605,-0.04783275826248702,-0.04684709469674064,-0.045773965425332075,-0.045773965425332075,-0.045449381145796,-0.045449381145796,-0.04517807372446385,-0.04504379675607445,-0.04448926631832792,-0.04411945016699334,-0.043276172122523826,-0.04326430991143404,-0.0430568175788264,-0.04304888360289824,-0.042929548824714586,-0.04226999133951104,-0.042240098473356746,-0.04195562201199304,-0.041939737353993534,-0.04152682378731832,-0.04124614797002371,-0.041210609951464444,-0.041210609951464444,-0.04112755177227856,-0.04043412380127806,-0.04018157157443068,-0.040063179516932834,-0.039698982798138834,-0.03897245653785883,-0.03875400747923596,-0.038487210527093474,-0.03845718169359352,-0.038209132309997784,-0.03792964319915071,-0.03792964319915071,-0.037253027469891564,-0.037027581839640944,-0.036828606530575014,-0.03636556602225792,-0.03595470364940345,-0.03595470364940345,-0.03543043744699391,-0.03490445002656607,-0.03467102953689108,-0.03449679174544107,-0.034311223420917636,-0.03416991189038454,-0.03416991189038454,-0.034163522619200304,-0.03407033627367001,-0.0339555564090247,-0.0339555564090247,-0.03390420479744041,-0.033635351320162266,-0.032938030882179226,-0.03283735143960176,-0.032268243177734815,-0.0321416254891882,-0.0321416254891882,-0.031113067494463617,-0.030870639341720574,-0.03085463384037279,-0.030675484132840936,-0.030508329143210167,-0.030412623195587657,-0.030163900373081615,-0.02987577552881851,-0.02987577552881851,-0.02972119532927997,-0.029671379611832124,-0.029671379611832124,-0.029671379611832124,-0.029515331936983247,-0.02944545815801486,-0.029138180574890135,-0.028807047000625155,-0.02876599648406225,-0.02858673818911696,-0.028536389037890852,-0.028102404393077818,-0.027739075276099312,-0.02769985188893508,-0.027653653210406443,-0.027568847778065675,-0.027087493054468684,-0.026366716849396177,-0.026355067416740097,-0.026067861249285562,-0.025717985558482676,-0.0254532975910456,-0.025253884769772694,-0.025068392751655733,-0.024931214597010753,-0.024390088919224673,-0.023800201301769075,-0.023448153873530872,-0.023408211483503027,-0.02321906804974383,-0.02263788292260549,-0.021740476295907585,-0.02142091791783418,-0.021340940857927093,-0.02088831642102318,-0.020874823474225923,-0.020862182953458763,-0.02080211933777454,-0.02065377747532049,-0.020466885233826282,-0.02006431100593764,-0.02001135030288992,-0.019586651959416695,-0.019210068635213073,-0.019170937234351815,-0.018856178351939312,-0.0183911935187262,-0.018312573153574985,-0.018063190614370866,-0.017982967982925924,-0.017756533796161156,-0.017548953658764826,-0.017548953658764826,-0.016834763926729224,-0.01639706309163247,-0.01639706309163247,-0.016306398343122974,-0.01619167937575089,-0.01619167937575089,-0.015852693805738408,-0.015596530271804077,-0.015432971793007788,-0.014983734898190937,-0.014983734898190937,-0.014942550107660824,-0.014942550107660824,-0.01486926303990077,-0.014694657034031278,-0.014466170716296578,-0.014457787860858301,-0.014143360232529614,-0.014045471170749724,-0.013877546855171952,-0.013141864515430646,-0.013126208831317043,-0.013050763975739621,-0.012822285401102085,-0.012471944844803962,-0.012202934841367141,-0.012202934841367141,-0.01210521501188197,-0.011982037343998109,-0.011982037343998109,-0.011982037343998109,-0.011851974239898644,-0.01166601554827748,-0.01166601554827748,-0.011480158210382452,-0.011273712468860775,-0.010863104495542952,-0.010242960736398521,-0.01011270919371099,-0.01008370227996959,-0.009955008699420065,-0.009757639001999052,-0.009684708839446776,-0.009684708839446776,-0.009528985062156659,-0.009450453110274482,-0.00860866932850951,-0.008541934685623087,-0.008353754977773686,-0.008152823925679398,-0.008152823925679398,-0.007994330209905198,-0.007186293171635771,-0.007186293171635771,-0.007060414483251259,-0.006826982933867132,-0.006638250086070718,-0.006356149517514509,-0.0063084333593429465,-0.0063084333593429465,-0.006227659640597738,-0.006189660200063167,-0.006189660200063167,-0.006165333866690936,-0.005802781403222768,-0.005802781403222768,-0.004754820776189314,-0.004521574736385869,-0.004268613354311501,-0.0039534108565070225,-0.0039534108565070225,-0.0035605825418990045,-0.0032159794489104443,-0.002968190580982133,-0.002874855274230148,-0.0026922093364469823,-0.0025283672278273994,-0.0023272445399401542,-0.001817949266175567,-0.001368580886217885,-0.001187825346814872,-0.001187825346814872,-0.0011201655647297692,-0.0005218939449015692,-0.0003330241987861138,-0.00015110026516890543,-7.322217036231926e-05,-6.9618236548940615e-06,-3.262935630243824e-06,0.0006106027978284023,0.000826447768165206,0.0010817791480150496,0.001439251274524933,0.001439251274524933,0.00231064774732459,0.0025772579936332862,0.0031481874838523716,0.0033853576724475754,0.00400126773417836,0.00400126773417836,0.004030530906243501,0.004055747279880728,0.0042933680344275915,0.004455523792827404,0.004455523792827404,0.005203205648022735,0.005203205648022735,0.005649479295686322,0.005747775205472705,0.0057559895880029965,0.005773294378391192,0.006969789560826112,0.0071426715100821325,0.007304297237474566,0.007335883104144736,0.007406057948461969,0.007658211833893813,0.007926012277274103,0.007985160910047251,0.00809324138817663,0.00809324138817663,0.008146074617870536,0.008303421836563851,0.008328595373838343,0.008516002733322703,0.008616380653933553,0.00882849874824257,0.008881418107338002,0.009058051959709545,0.010115626923161841,0.010432285080239745,0.010438554709268855,0.010438554709268855,0.01050189779298577,0.010909538096661953,0.010909538096661953,0.011148246856863261,0.011625937914892581,0.01209596444679556,0.012611563566769318,0.014886732195621144,0.01496981979857942,0.015329052083432437,0.015403741609625488,0.01561705984388434,0.015647209626844794,0.016049541282899704,0.01630733008096724,0.016922210675652194,0.017252228493326582,0.018697161019606112,0.018697161019606112,0.01871798728201779,0.018988251794501698,0.019407409431838288,0.01943432096597464,0.019771221507739162,0.019873624655176753,0.020351896194623298,0.02039140116844912,0.02063939068929932,0.020742206647228145,0.02074634389344923,0.02074634389344923,0.021404827965061546,0.02165895372167559,0.022017802952033316,0.022707926384270744,0.022919844121188804,0.023080066527504883,0.024077923249315236,0.024535661560219357,0.02465114154566596,0.024711796009624476,0.0250224942920248,0.02569387389470748,0.0257091923485111,0.025908766698175184,0.026220280954986963,0.026553396360243786,0.026553396360243786,0.02674000193951309,0.026803279935679547,0.02685356022297547,0.026956545344014204,0.02714201984634944,0.02733706659265034,0.02733706659265034,0.027372271067733933,0.027870926663342274,0.027873948094027545,0.027940100111478433,0.028047022633206076,0.02822653032009792,0.028819706911667187,0.028994490694739194,0.029017159730061526,0.02903751198021179,0.02979820082014656,0.03018016556388592,0.03019051517209237,0.03142626428986717,0.03170266889447798,0.03179947792000423,0.031862091103363355,0.03209052302933474,0.032130393661836815,0.032143463654570825,0.032164838040629085,0.03289721647408055,0.033153537711128944,0.033264840927939715,0.03358510778711615,0.03370198296572691,0.03392835117822818,0.033973745575967884,0.034380439561698395,0.034582741100846026,0.03467081558288007,0.03529459607482449,0.03544631491995641,0.03546803140885438,0.036329452625675496,0.03647274245507133,0.03664580692869657,0.03664580692869657,0.03676934191940967,0.03719838235527256,0.03760136399907307,0.03760136399907307,0.03760136399907307,0.03771496496693172,0.03771548163703156,0.03775422203528295,0.03826393636303019,0.03897464961277183,0.03931364529902642,0.039633762425323404,0.04030845023496821,0.04046460728453519,0.04074755286937687,0.04129290361914856,0.0420557807468509,0.04207989400724821,0.04233433113955182,0.042489198916314364,0.04306328008663471,0.04306328008663471,0.04338773472748214,0.04344177021615381,0.04404281342530514,0.04404281342530514,0.044551070215929967,0.044551070215929967,0.04524923771240305,0.04536648667147336,0.04568808834652793,0.04572932749181219,0.045938296238808546,0.04685040989362699,0.04706537195588384,0.04796897544940282,0.04988571147328001,0.050024623142581603,0.05162194309541551,0.052981689014475586,0.053069233748711885,0.05323130740825896,0.05325147080518888,0.05354056401970564,0.05355642179150255,0.054249500961442654,0.054420501453366216,0.054420501453366216,0.054826859486101664,0.055406839902364724,0.05590823919448468,0.056510832170345915,0.05661795924670193,0.05746802940731882,0.0577499267336663,0.057978302372619875,0.05800659792006013,0.05912182022731971,0.0592349951668486,0.05931870003855477,0.059447123306662714,0.05965883429899743,0.05965883429899743,0.06015753437462451,0.06044156306331461,0.06060427699358645,0.06086825722516537,0.06103301837930358,0.06103301837930358,0.061137524587798725,0.06128040950558511,0.061722472093903136,0.06193029709899478,0.06217802012318602,0.06217802012318602,0.06289018093376642,0.0633230307382625,0.06344013842791785,0.06396713452693331,0.06475269516774407,0.06506090768898565,0.06565621733627602,0.0658065146045515,0.06586844653764079,0.06598915288466145,0.06658038954754703,0.0670356526249431,0.06713136565582956,0.06719661501873897,0.0676979131031582,0.06848836235208139,0.06894083228208006,0.06910329996461212,0.06971980578769094,0.06987170404729759,0.06994665278021794,0.07009697298127221,0.0702118503149308,0.07091100825240315,0.07141583709754545,0.07145725641893758,0.07145725641893758,0.07153682993966515,0.07171247935145253,0.07183161937636122,0.07196618185038406,0.07203824279873935,0.07257359586617601,0.0729391162721893,0.07324438057344945,0.07324438057344945,0.07329401442315525,0.0734751140282516,0.0739039732295417,0.07446683723911568,0.07469952879119764,0.07469952879119764,0.07554853812685886,0.07615796330379648,0.07630216009641204,0.07693160016741618,0.07693160016741618,0.07725207190209943,0.07732394647852653,0.07821080278278092,0.07821080278278092,0.07892522032914817,0.07907729600794067,0.07907729600794067,0.0803090434553704,0.08053960930065202,0.08053960930065202,0.08057086948697939,0.08057086948697939,0.08060674676219151,0.08087904624714351,0.08115503661519885,0.08126141661535066,0.08210587578014866,0.08227441984227848,0.08227441984227848,0.08274735360826435,0.08285015538934953,0.08303532315301859,0.08377738074454577,0.0842871866137237,0.08439175312203873,0.08445263230243516,0.08514647401231312,0.08634796320375504,0.08634796320375504,0.08648630830890347,0.08678546421674727,0.08688577959367255,0.08766505447245532,0.08906494929165804,0.08920410554540464,0.0894057408963364,0.08986765586585227,0.0899317910467684,0.09050016280923212,0.09082483402778085,0.09143745059339348,0.09143745059339348,0.09243876843539162,0.09290634737448503,0.09290634737448503,0.09295778191731577,0.09298225339284769,0.09371237701026247,0.09379395578879471,0.09477139292907455,0.09482977344087024,0.09487050193903745,0.09498218868760588,0.09550498322480794,0.09606448685367522,0.09632684506597333,0.09694555688345569,0.09716497251491024,0.09768517900371584,0.09829211626281364,0.09911853757680655,0.1007450741764403,0.1007450741764403,0.10147440113973938,0.10153707161054565,0.10153707161054565,0.10191764053662677,0.10214373160571555,0.10256911044932226,0.10407734279255443,0.10427914256057752,0.1055960482705876,0.1055960482705876,0.1055960482705876,0.10573470085236317,0.10597885510084384,0.10604930758742948,0.10644910190465989,0.10691230679577957,0.10728415642374495,0.1081524108617048,0.10824781549553117,0.1088864573136068,0.10929039780220329,0.10998052412009268,0.11024566201017899,0.11024566201017899,0.11105831236893283,0.11107315296212097,0.11107315296212097,0.11186732893698259,0.11196746269381119,0.11280414522950499,0.11343936580299663,0.11396632262679549,0.1142635086832739,0.11565214140493624,0.11565214140493624,0.117740975153449,0.1181472916184202,0.11858762961684385,0.11872494152809987,0.11960950539121518,0.12082169907348456,0.12092310274516382,0.12137386214131485,0.12350513737714813,0.12416151586363583,0.12416151586363583,0.1242092899584114,0.12483799975909571,0.12591116516602413,0.12613625436997744,0.12642727425364964,0.12642727425364964,0.1268102254631248,0.12742226989897487,0.1282227993021352,0.1285170153847307,0.12905524898963783,0.12918801775161542,0.12954685868575339,0.12969738470740344,0.1303184985935067,0.13095735887118654,0.1311654065477142,0.1311654065477142,0.13127003004484475,0.13209080261134382,0.1322419678288913,0.13298958863879584,0.13300426767001544,0.13300426767001544,0.1343437095045562,0.13440254213168215,0.1344309248943979,0.13503184744993768,0.13550819416623733,0.1365049667800195,0.13651482011282193,0.13684697978174376,0.13741192783734119,0.13821922901963213,0.1383432142618884,0.13886862088229474,0.14165310397964093,0.14186519793760152,0.1422717417598086,0.14286675305166158,0.14407394986828892,0.14423077863165637,0.14650772972666853,0.14941481723442918,0.14960849168459883,0.14960849168459883,0.15022825815554536,0.1512059289142763,0.1516505697602779,0.1521755866651065,0.1525036213124147,0.15333642776833734,0.15340591326062425,0.15340591326062425,0.15556739228149896,0.15759429445937745,0.1577528001952131,0.1592187186351776,0.16031039419618354,0.16059522992520645,0.16115088201930672,0.16365657330333908,0.169274150882198,0.17179744912941625,0.17275664470061408,0.17286412880388125,0.17292040971891043,0.17455866798101072,0.17675216871546237,0.1802422747847474,0.18130080123345887,0.18375423627346982,0.18470626086411013,0.18544176426980552,0.18893672464546019,0.19243970319562592,0.19256150611779188,0.19300102853180107,0.19373340821331203,0.19630846435904062,0.19630904115188924,0.19841718840566042,0.19863749157805127,0.19948287100923323,0.1995443179193368,0.1995443179193368,0.20171432649184087,0.20249778043971745,0.20349314776249466,0.20569396237535476,0.20758236408270342,0.2080085067165221,0.2108619412389997,0.21119550117431313,0.21314091461142526,0.21639485360027283,0.21668223011335558,0.21733335273920895,0.21733335273920895,0.21801690530873025,0.2182383141464992,0.22028961808515848,0.22273918658932057,0.2234243436963409,0.22409082376727207,0.2277116862693955,0.22847360108035003,0.22921049281862182,0.23476622831620633,0.23679617985854323,0.2373828347151118,0.2373828347151118,0.23876413711043243,0.2445689456583664,0.24476017281854792,0.24655908331213383,0.24679255269678224,0.250795144095583,0.2516058032896731,0.2516457536008948,0.2518183399645741,0.25917824793285094,0.26152553279410107,0.2622539343260005,0.2724967749839473,0.276704291552015,0.2768225710028433,0.27738627627692214,0.2787466007471442,0.27917823973446687,0.27917823973446687,0.28443783467376266,0.2891710626850511,0.2900387705856898,0.2900387705856898,0.2957898348593681,0.299474204136354,0.30989072187424427,0.3149726649819242,0.3236199726556771,0.32927222613979246,0.33040187677250266,0.33532985500610757,0.3499282845734981,0.3607865653927646,0.370970895745813,0.4162188646658954,0.43499848344576175,0.4408282804434754],\"type\":\"scatter\"},{\"marker\":{\"color\":\"#688F4E\",\"size\":5},\"mode\":\"lines\",\"showlegend\":false,\"x\":[-3.1237346303238445,-2.913726318334338,-2.7847353457361406,-2.6901095271588655,-2.6147770556013405,-2.5518818113716377,-2.497705474412373,-2.4499976606027287,-2.4072894006982386,-2.368567059267873,-2.3331007685514598,-2.300346955727878,-2.26988954347443,-2.241402727604945,-2.21462646021447,-2.189349755522085,-2.1653989962951483,-2.142629540955912,-2.1209195705388657,-2.1001654928444697,-2.0802784525252753,-2.0611816416301294,-2.042808199403668,-2.025099552524569,-2.0080040891184923,-1.9914760889023235,-1.9754748521393737,-1.9599639845400545,-1.9449108056709448,-1.930285856057582,-1.91606248380542,-1.9022164957820153,-1.8887258615922684,-1.87557046101229,-1.8627318674216515,-1.8501931612292957,-1.8379387684276949,-1.8259543203082647,-1.814226531084455,-1.8027430907391904,-1.7914925708719764,-1.7804643416920256,-1.7696484986056422,-1.7590357970929549,-1.7486175947720166,-1.7383857997158696,-1.7283328242271954,-1.7184515433910246,-1.7087352578229016,-1.6991776601112984,-1.6897728045217497,-1.6805150795882322,-1.671399183266669,-1.6624201003674497,-1.6535730820197796,-1.6448536269514729,-1.636257464394271,-1.627780538447626,-1.6194189937535992,-1.6111691623526774,-1.6030275516051615,-1.5949908330757576,-1.5870558322903148,-1.5792195192835745,-1.571478999865478,-1.5638315075412297,-1.5562743960270486,-1.5488051323094818,-1.5414212902014115,-1.5341205443525463,-1.526900664676335,-1.5197595111588966,-1.512695029018862,-1.505705244189933,-1.4987882591005781,-1.4919422487276346,-1.485165456902677,-1.4784561928518916,-1.471812827951905,-1.465233792685523,-1.4587175737827294,-1.4522627115335212,-1.445867797260287,-1.4395314709384563,-1.433252418955054,-1.427029371995656,-1.4208611030509677,-1.414746425534976,-1.4086841915072195,-1.4026732899923229,-1.3967126453904508,-1.390801215972819,-1.384937992456833,-1.3791219966558366,-1.3733522801988087,-1.3676279233156883,-1.3619480336843126,-1.3563117453352471,-1.3507182176110346,-1.3451666341766395,-1.339656202078083,-1.334186150846469,-1.3287557316447878,-1.323364216455058,-1.318010897303537,-1.3126950855218626,-1.3074161110421476,-1.3021733217241485,-1.2969660827127876,-1.2917937758243683,-1.2866557989599732,-1.2815515655446004,-1.2764805039906841,-1.2714420571847378,-1.266435681995933,-1.2614608488054833,-1.256517041055794,-1.2516037548183734,-1.2467204983795792,-1.2418667918433202,-1.2370421667498837,-1.2322461657100987,-1.2274783420541127,-1.2227382594940654,-1.218025491800021,-1.213339622488518,-1.2086802445231624,-1.204046960026702,-1.199439380004054,-1.1948571240757904,-1.190299820221607,-1.1857671045333316,-1.1812586209770397,-1.1767740211638875,-1.1723129641292673,-1.1678751161199359,-1.1634601503887594,-1.159067746996758,-1.1546975926221377,-1.1503493803760079,-1.1460228096245144,-1.1417175858171107,-1.1374334203207235,-1.1331700302595604,-1.1289271383603408,-1.124704472802719,-1.1205017670747006,-1.116318759832843,-1.1121551947670634,-1.1080108204698564,-1.1038853903097678,-1.0997786623089363,-1.095690399024565,-1.0916203674341678,-1.0875683388244402,-1.0835340886836176,-1.0795173965972014,-1.0755180461469145,-1.07153582481277,-1.0675705238781414,-1.0636219383377197,-1.0596898668082535,-1.0557741114419745,-1.051874477842607,-1.0479907749838702,-1.0441228151303865,-1.0402704137609093,-1.0364333894937898,-1.0326115640145985,-1.0288047620058414,-1.0250128110786798,-1.021235541706597,-1.017472787160945,-1.0137243834483025,-1.009990169249582,-1.0062699858608395,-1.0025636771357134,-0.9988710894294478,-0.9951920715444516,-0.9915264746773306,-0.9878741523673573,-0.984234960446325,-0.9806087569897415,-0.976995402269323,-0.9733947587067434,-0.9698066908285993,-0.9662310652225569,-0.9626677504946358,-0.9591166172276023,-0.9555775379404315,-0.952050387048809,-0.9485350408266378,-0.9450313773685227,-0.9415392765531984,-0.9380586200078761,-0.9345892910734802,-0.9311311747707464,-0.9276841577671586,-0.9242481283446978,-0.9208229763683788,-0.9174085932555535,-0.9140048719459558,-0.9106117068724701,-0.9072289939325966,-0.903856630460602,-0.9004945152003261,-0.8971425482786334,-0.893800631179489,-0.8904686667186377,-0.887146559018876,-0.883834213485894,-0.8805315367846749,-0.8772384368164378,-0.8739548226961033,-0.8706806047302748,-0.8674156943957149,-0.8641600043183083,-0.8609134482524956,-0.8576759410611644,-0.8544473986959894,-0.8512277381782047,-0.8480168775797998,-0.8448147360051278,-0.8416212335729142,-0.8384362913986564,-0.8352598315774018,-0.832091777166899,-0.8289320521711075,-0.8257805815240602,-0.822637291074067,-0.819502107568254,-0.8163749586374262,-0.8132557727812482,-0.8101444793537337,-0.8070410085490357,-0.8039452913875315,-0.8008572597021931,-0.7977768461252381,-0.7947039840750516,-0.7916386077433746,-0.788580652082752,-0.7855300527942329,-0.7824867463153183,-0.7794506698081487,-0.7764217611479277,-0.7733999589115741,-0.7703852023665994,-0.7673774314602017,-0.7643765868085748,-0.7613826096864253,-0.7583954420166931,-0.7554150263604693,-0.7524413059071113,-0.7494742244645438,-0.7465137264497481,-0.7435597568794307,-0.7406122613608688,-0.737671186082929,-0.7347364778072544,-0.7318080838596176,-0.7288859521214334,-0.7259700310214301,-0.7230602695274757,-0.7201566171385523,-0.7172590238768808,-0.7143674402801876,-0.7114818173941121,-0.708602106764754,-0.7057282604313524,-0.7028602309190991,-0.6999979712320801,-0.6971414348463417,-0.6942905757030833,-0.6914453482019672,-0.6886057071945499,-0.685771607977826,-0.6829430062878877,-0.680119858293694,-0.6773021205909482,-0.6744897501960817,-0.6716827045403423,-0.6688809414639829,-0.6660844192105514,-0.6632930964212768,-0.6605069321295521,-0.6577258857555088,-0.654949917100686,-0.6521789863427861,-0.6494130540305203,-0.6466520810785402,-0.6438960287624531,-0.6411448587139197,-0.6383985329158341,-0.6356570136975827,-0.6329202637303789,-0.6301882460226785,-0.6274609239156644,-0.6247382610788095,-0.6220202215055073,-0.6193067695087762,-0.6165978697170302,-0.6138934870699198,-0.6111935868142363,-0.6084981344998834,-0.6058070959759126,-0.603120437386619,-0.6004381251677009,-0.5977601260424784,-0.595086407018171,-0.5924169353822332,-0.5897516786987472,-0.5870906048048712,-0.5844336818073419,-0.5817808780790314,-0.579132162255556,-0.5764875032319371,-0.5738468701593129,-0.5712102324416991,-0.5685775597327993,-0.5659488219328631,-0.5633239891855905,-0.5607030318750833,-0.5580859206228418,-0.555472626284805,-0.5528631199484364,-0.5502573729298502,-0.5476553567709816,-0.5450570432367979,-0.5424624043125493,-0.5398714122010614,-0.5372840393200643,-0.5347002582995636,-0.5321200419792451,-0.5295433634059203,-0.526970195831006,-0.5244005127080409,-0.5218342876902361,-0.5192714946280621,-0.5167121075668678,-0.5141561007445341,-0.5116034485891594,-0.5090541257167783,-0.5065081069291113,-0.5039653672113453,-0.5014258817299453,-0.49888962583049595,-0.4963565750355725,-0.493826705042641,-0.4912999917219864,-0.4887764111146695,-0.48625593943051115,-0.48373855304610314,-0.48122422850284635,-0.4787129425050145,-0.4762046719178444,-0.47369939376565057,-0.4711970852299657,-0.46869772364770435,-0.4662012865093524,-0.463707751457179,-0.46121709628347146,-0.45872929892879405,-0.456244337480269,-0.45376219016987945,-0.45128283537279373,-0.4488062516057124,-0.4463324175252349,-0.44386131192624767,-0.44139291374033285,-0.4389272020341964,-0.4364641560081164,-0.43400375499441063,-0.43154597845592335,-0.4290908059845307,-0.42663821729966467,-0.42418819224685544,-0.42174071079629105,-0.419295753041396,-0.41685329919742514,-0.4144133296000765,-0.41197582470412,-0.40954076508204273,-0.40710813142271096,-0.4046779045300476,-0.40225006532172536,-0.39982459482787625,-0.3974014741898154,-0.3949806846587804,-0.3925622075946854,-0.39014602446488944,-0.38773211684297954,-0.38532046640756773,-0.3829110549411018,-0.3805038643286898,-0.3780988765569388,-0.375696073712805,-0.37329543798245873,-0.3708969516501618,-0.3685005970971567,-0.36610635680056963,-0.36371421333232434,-0.3613241493580693,-0.35893614763611564,-0.35655019101638796,-0.35416626243938565,-0.35178434493515626,-0.3494044216222794,-0.34702647570686246,-0.34465049048154645,-0.3422764493245228,-0.339904335698561,-0.33753413315004566,-0.3351658253080253,-0.3327993958832692,-0.3304348286673361,-0.3280721075316511,-0.32571121642659345,-0.32335213938059243,-0.320994860499234,-0.31863936396437514,-0.31628563403326887,-0.3139336550376962,-0.31158341138310885,-0.30923488754777895,-0.3068880680819584,-0.3045429376070458,-0.30219948081476244,-0.29985768246633526,-0.29751752739168896,-0.29517900048864587,-0.29284208672213213,-0.2905067711233938,-0.28817303878921846,-0.2858408748811656,-0.28351026462480367,-0.2811811933089543,-0.27885364628494413,-0.2765276089658628,-0.27420306682582873,-0.2718800053992609,-0.2695584102801578,-0.2672382671213827,-0.26491956163395564,-0.26260227958635135,-0.26028640680380394,-0.2579719291676174,-0.2556588326144825,-0.2533471031357997,-0.2510367267770074,-0.24872768963691652,-0.24641997786705086,-0.24411357767099295,-0.24180847530373525,-0.2395046570710373,-0.23720210932878769,-0.23490081848237185,-0.23260077098604467,-0.23030195334230857,-0.22800435210129635,-0.22570795386015938,-0.22341274526246022,-0.22111871299757055,-0.21882584380007353,-0.21653412444917083,-0.21424354176809507,-0.21195408262352514,-0.20966573392500756,-0.20737848262438158,-0.20509231571520853,-0.20280722023220576,-0.20052318325068436,-0.19824019188599135,-0.1959582332929557,-0.19367729466533856,-0.1913973632352871,-0.18911842627279252,-0.18684047108515173,-0.1845634850164327,-0.18228745544694347,-0.1800123697927051,-0.1777382155049277,-0.17546498006949002,-0.17319265100642342,-0.17092121586939724,-0.16865066224520955,-0.16638097775327992,-0.16411215004514582,-0.16184416680396213,-0.15957701574400365,-0.1573106846101707,-0.15504516117749784,-0.1527804332506652,-0.15051648866351308,-0.14825331527855895,-0.1459909009865177,-0.14372923370582416,-0.1414683013821586,-0.1392080919879747,-0.13694859352202998,-0.13468979400891956,-0.13243168149861076,-0.13017424406598177,-0.12791746981036184,-0.12566134685507402,-0.12340586334698013,-0.12115100745602797,-0.1188967673748008,-0.1166431313180688,-0.11439008752234278,-0.11213762424542992,-0.1098857297659914,-0.10763439238310216,-0.10538360041581242,-0.10313334220271121,-0.10088360610149168,-0.09863438048851805,-0.09638565375839458,-0.0941374143235364,-0.09188965061374095,-0.08964235107576254,-0.08739550417288731,-0.08514909838451043,-0.08290312220571439,-0.08065756414684888,-0.0784124127331122,-0.07616765650413386,-0.07392328401355859,-0.07167928382863167,-0.06943564452978553,-0.06719235471022743,-0.06494940297552851,-0.06270677794321385,-0.06046446824235365,-0.0582224625131554,-0.05598074940655765,-0.05373931758382345,-0.05149815571613618,-0.049257252484195456,-0.04701659657781415,-0.04477617669551624,-0.042535981544135404,-0.040295999838414386,-0.03805622030060514,-0.035816631660069605,-0.033577222652881156,-0.03133798202142662,-0.029098898514008934,-0.02685996088445032,-0.024621157891695937,-0.02238247829941801,-0.02014391087562042,-0.01790544439224351,-0.015667067624769982,-0.013428769351829664,-0.01119053835480604,-0.008952363417442261,-0.006714233325447546,-0.004476136866103757,-0.002238062827872111,0.0,0.002238062827872111,0.004476136866103757,0.006714233325447546,0.008952363417442261,0.01119053835480604,0.013428769351829664,0.015667067624769982,0.01790544439224351,0.020143910875620282,0.02238247829941787,0.024621157891695798,0.026859960884450182,0.029098898514008795,0.03133798202142648,0.03357722265288102,0.035816631660069466,0.038056220300605,0.040295999838414524,0.04253598154413554,0.04477617669551638,0.04701659657781429,0.049257252484195595,0.05149815571613632,0.05373931758382359,0.05598074940655779,0.05822246251315554,0.06046446824235365,0.06270677794321385,0.06494940297552851,0.06719235471022743,0.06943564452978553,0.07167928382863167,0.07392328401355859,0.07616765650413386,0.0784124127331122,0.08065756414684888,0.08290312220571439,0.08514909838451043,0.08739550417288731,0.08964235107576254,0.09188965061374095,0.0941374143235364,0.09638565375839458,0.09863438048851791,0.10088360610149154,0.10313334220271107,0.10538360041581228,0.10763439238310202,0.10988572976599126,0.11213762424542978,0.11439008752234264,0.11664313131806867,0.11889676737480094,0.12115100745602812,0.12340586334698027,0.12566134685507416,0.12791746981036198,0.1301742440659819,0.1324316814986109,0.1346897940089197,0.13694859352203015,0.1392080919879747,0.1414683013821586,0.14372923370582416,0.1459909009865177,0.14825331527855895,0.15051648866351308,0.1527804332506652,0.15504516117749784,0.1573106846101707,0.15957701574400365,0.16184416680396213,0.16411215004514582,0.16638097775327992,0.16865066224520955,0.17092121586939724,0.17319265100642342,0.17546498006949002,0.17773821550492755,0.18001236979270496,0.18228745544694333,0.18456348501643255,0.1868404710851516,0.18911842627279238,0.19139736323528697,0.19367729466533842,0.19595823329295556,0.19824019188599148,0.2005231832506845,0.2028072202322059,0.20509231571520872,0.20737848262438172,0.2096657339250077,0.21195408262352528,0.21424354176809524,0.21653412444917097,0.21882584380007353,0.22111871299757055,0.22341274526246022,0.22570795386015938,0.22800435210129635,0.23030195334230857,0.23260077098604467,0.23490081848237185,0.23720210932878769,0.2395046570710373,0.24180847530373525,0.24411357767099295,0.24641997786705086,0.24872768963691652,0.2510367267770074,0.2533471031357997,0.2556588326144825,0.2579719291676173,0.26028640680380377,0.26260227958635124,0.2649195616339555,0.2672382671213826,0.26955841028015765,0.27188000539926077,0.27420306682582857,0.27652760896586265,0.2788536462849443,0.28118119330895447,0.2835102646248038,0.2858408748811657,0.2881730387892186,0.29050677112339396,0.2928420867221323,0.295179000488646,0.29751752739168913,0.29985768246633526,0.30219948081476244,0.3045429376070458,0.3068880680819584,0.30923488754777895,0.31158341138310885,0.3139336550376962,0.31628563403326887,0.31863936396437514,0.320994860499234,0.32335213938059243,0.32571121642659345,0.3280721075316511,0.3304348286673361,0.3327993958832692,0.3351658253080253,0.33753413315004566,0.3399043356985608,0.34227644932452267,0.3446504904815462,0.3470264757068623,0.34940442162227925,0.3517843449351561,0.35416626243938554,0.3565501910163878,0.3589361476361155,0.36132414935806945,0.3637142133323245,0.3661063568005698,0.3685005970971569,0.3708969516501619,0.3732954379824589,0.37569607371280517,0.37809887655693897,0.38050386432868993,0.3829110549411018,0.38532046640756773,0.38773211684297954,0.39014602446488944,0.3925622075946854,0.3949806846587804,0.3974014741898154,0.39982459482787625,0.40225006532172536,0.4046779045300476,0.40710813142271096,0.40954076508204273,0.41197582470412,0.4144133296000765,0.41685329919742514,0.419295753041396,0.42174071079629105,0.4241881922468552,0.42663821729966456,0.42909080598453053,0.4315459784559232,0.43400375499441046,0.4364641560081162,0.4389272020341963,0.4413929137403327,0.4438613119262475,0.446332417525235,0.4488062516057125,0.4512828353727939,0.45376219016987956,0.4562443374802692,0.4587292989287942,0.46121709628347163,0.4637077514571792,0.46620128650935255,0.46869772364770435,0.4711970852299657,0.47369939376565057,0.4762046719178444,0.4787129425050145,0.48122422850284635,0.48373855304610314,0.48625593943051115,0.4887764111146695,0.4912999917219864,0.493826705042641,0.4963565750355725,0.49888962583049595,0.5014258817299453,0.5039653672113453,0.5065081069291113,0.5090541257167783,0.5116034485891593,0.514156100744534,0.5167121075668677,0.519271494628062,0.521834287690236,0.5244005127080407,0.5269701958310059,0.5295433634059201,0.5321200419792449,0.5347002582995637,0.5372840393200645,0.5398714122010615,0.5424624043125496,0.545057043236798,0.5476553567709819,0.5502573729298503,0.5528631199484365,0.5554726262848051,0.5580859206228418,0.5607030318750833,0.5633239891855905,0.5659488219328631,0.5685775597327993,0.5712102324416991,0.5738468701593129,0.5764875032319371,0.579132162255556,0.5817808780790314,0.5844336818073419,0.5870906048048712,0.5897516786987472,0.5924169353822332,0.595086407018171,0.5977601260424784,0.6004381251677009,0.6031204373866189,0.6058070959759125,0.6084981344998833,0.6111935868142361,0.6138934870699196,0.6165978697170301,0.619306769508776,0.6220202215055071,0.6247382610788094,0.6274609239156647,0.6301882460226786,0.632920263730379,0.6356570136975828,0.6383985329158344,0.6411448587139198,0.6438960287624532,0.6466520810785404,0.6494130540305204,0.6521789863427861,0.654949917100686,0.6577258857555088,0.6605069321295521,0.6632930964212768,0.6660844192105514,0.6688809414639829,0.6716827045403423,0.6744897501960817,0.6773021205909482,0.680119858293694,0.6829430062878877,0.685771607977826,0.6886057071945499,0.6914453482019672,0.6942905757030833,0.6971414348463417,0.6999979712320801,0.7028602309190991,0.7057282604313524,0.708602106764754,0.7114818173941121,0.7143674402801873,0.7172590238768807,0.7201566171385521,0.7230602695274754,0.7259700310214303,0.7288859521214336,0.7318080838596178,0.7347364778072545,0.737671186082929,0.7406122613608688,0.7435597568794307,0.7465137264497481,0.7494742244645438,0.7524413059071113,0.7554150263604693,0.7583954420166931,0.7613826096864253,0.7643765868085748,0.7673774314602017,0.7703852023665994,0.7733999589115741,0.7764217611479277,0.7794506698081487,0.7824867463153183,0.7855300527942329,0.788580652082752,0.7916386077433746,0.7947039840750516,0.7977768461252381,0.8008572597021931,0.8039452913875315,0.8070410085490357,0.8101444793537337,0.8132557727812482,0.8163749586374262,0.8195021075682538,0.8226372910740668,0.8257805815240601,0.8289320521711073,0.8320917771668993,0.8352598315774019,0.8384362913986565,0.8416212335729143,0.8448147360051278,0.8480168775797998,0.8512277381782047,0.8544473986959894,0.8576759410611644,0.8609134482524956,0.8641600043183083,0.8674156943957149,0.8706806047302748,0.8739548226961033,0.8772384368164378,0.8805315367846749,0.883834213485894,0.887146559018876,0.8904686667186377,0.893800631179489,0.8971425482786334,0.9004945152003261,0.903856630460602,0.9072289939325966,0.9106117068724701,0.9140048719459558,0.9174085932555535,0.9208229763683788,0.9242481283446978,0.9276841577671586,0.9311311747707464,0.93458929107348,0.9380586200078758,0.941539276553198,0.9450313773685225,0.9485350408266381,0.9520503870488092,0.9555775379404315,0.9591166172276024,0.9626677504946358,0.9662310652225569,0.9698066908285993,0.9733947587067434,0.976995402269323,0.9806087569897415,0.984234960446325,0.9878741523673573,0.9915264746773306,0.9951920715444516,0.9988710894294478,1.0025636771357134,1.0062699858608395,1.009990169249582,1.0137243834483025,1.017472787160945,1.021235541706597,1.0250128110786798,1.0288047620058414,1.0326115640145985,1.0364333894937898,1.0402704137609093,1.0441228151303865,1.0479907749838702,1.051874477842607,1.0557741114419745,1.0596898668082535,1.0636219383377197,1.0675705238781412,1.07153582481277,1.0755180461469138,1.0795173965972016,1.0835340886836176,1.0875683388244402,1.0916203674341685,1.095690399024565,1.0997786623089363,1.1038853903097685,1.1080108204698564,1.1121551947670634,1.116318759832843,1.1205017670747006,1.1247044728027196,1.1289271383603408,1.1331700302595604,1.1374334203207235,1.1417175858171107,1.1460228096245144,1.1503493803760079,1.1546975926221377,1.159067746996758,1.1634601503887594,1.1678751161199359,1.1723129641292673,1.1767740211638869,1.1812586209770397,1.1857671045333316,1.190299820221607,1.1948571240757904,1.199439380004054,1.2040469600267016,1.2086802445231624,1.2133396224885171,1.218025491800021,1.2227382594940654,1.227478342054112,1.2322461657100987,1.2370421667498839,1.2418667918433206,1.2467204983795792,1.2516037548183738,1.2565170410557949,1.2614608488054833,1.266435681995933,1.2714420571847378,1.2764805039906841,1.2815515655446004,1.2866557989599732,1.2917937758243683,1.2969660827127876,1.3021733217241485,1.3074161110421476,1.3126950855218626,1.318010897303537,1.323364216455058,1.3287557316447878,1.334186150846469,1.339656202078083,1.3451666341766395,1.3507182176110346,1.3563117453352471,1.3619480336843126,1.3676279233156883,1.3733522801988087,1.379121996655836,1.3849379924568324,1.390801215972819,1.3967126453904506,1.4026732899923222,1.4086841915072192,1.414746425534976,1.4208611030509681,1.4270293719956564,1.4332524189550542,1.4395314709384563,1.4458677972602874,1.4522627115335212,1.4587175737827294,1.465233792685523,1.471812827951905,1.4784561928518916,1.485165456902677,1.4919422487276346,1.4987882591005781,1.5057052441899337,1.512695029018862,1.5197595111588966,1.526900664676335,1.5341205443525463,1.5414212902014115,1.5488051323094818,1.556274396027048,1.563831507541229,1.571478999865478,1.5792195192835745,1.5870558322903143,1.5949908330757576,1.6030275516051609,1.6111691623526765,1.6194189937535985,1.6277805384476256,1.6362574643942707,1.6448536269514722,1.6535730820197796,1.662420100367449,1.6713991832666684,1.6805150795882327,1.6897728045217502,1.6991776601112993,1.7087352578229025,1.7184515433910255,1.728332824227196,1.7383857997158703,1.7486175947720173,1.7590357970929555,1.7696484986056424,1.7804643416920256,1.7914925708719764,1.8027430907391908,1.814226531084455,1.8259543203082647,1.8379387684276953,1.8501931612292957,1.8627318674216515,1.87557046101229,1.8887258615922684,1.9022164957820153,1.9160624838054197,1.9302858560575813,1.9449108056709445,1.959963984540054,1.975474852139373,1.9914760889023233,2.008004089118491,2.0250995525245687,2.0428081994036673,2.061181641630128,2.0802784525252744,2.100165492844469,2.120919570538865,2.14262954095591,2.165398996295149,2.1893497555220858,2.2146264602144723,2.241402727604947,2.2698895434744313,2.300346955727879,2.333100768551461,2.368567059267874,2.4072894006982395,2.44999766060273,2.497705474412374,2.551881811371639,2.6147770556013423,2.690109527158867,2.7847353457361415,2.9137263183343394,3.1237346303238454],\"y\":[-0.3581140034645226,-0.3340380411092979,-0.3192501416637122,-0.3084019632067917,-0.2997656300437708,-0.2925551367159036,-0.28634420422081075,-0.2808748419920031,-0.27597864313217396,-0.27153940153382133,-0.26747344303875714,-0.2637184508812561,-0.2602267247495389,-0.25696091350618105,-0.2538912045046692,-0.25099340972277306,-0.2482476251770852,-0.24563726873736574,-0.24314837472387563,-0.2407690670262229,-0.23848915900950743,-0.23629984518730332,-0.23419346044857794,-0.23216328977778822,-0.23020341623987606,-0.22830859832889971,-0.2264741701089297,-0.22469595923298713,-0.22297021912134213,-0.22129357245434747,-0.21966296378146546,-0.21807561953178148,-0.2165290140768665,-0.21502084077586267,-0.21354898714752776,-0.2121115134808404,-0.21070663432637998,-0.2093327024136947,-0.2079881946216576,-0.206671699694186,-0.20538190744628065,-0.2041175992478768,-0.20287763960760888,-0.20166096870689013,-0.20046659575797296,-0.1992935930788672,-0.19814109079393188,-0.19700827208223756,-0.19589436890690784,-0.19479865816798034,-0.19372045822920073,-0.19265912577581892,-0.19161405296611483,-0.19058466484419684,-0.18957041698573526,-0.1885707933518235,-0.18758530432919412,-0.1866134849376376,-0.18565489318773118,-0.18470910857395137,-0.18377573068994704,-0.1828543779542366,-0.18194468643589065,-0.1810463087708987,-0.18015891316091306,-0.17928218244694175,-0.17841581325133227,-0.17755951518207122,-0.17671301009402637,-0.1758760314022919,-0.1750483234432736,-0.17422964087956958,-0.17341974814508043,-0.17261841892711677,-0.1718254356825713,-0.17104058918549217,-0.1702636781036345,-0.16949450860178142,-0.16873289396982297,-0.16797865427375314,-0.16723161602790548,-0.1664916118868891,-0.16575848035581442,-0.16503206551751776,-0.16431221677559535,-0.16359878861215796,-0.1628916403592991,-0.16219063598335462,-0.1614956438810986,-0.1608065366870898,-0.16012319109144157,-0.1594454876673429,-0.1587733107077081,-0.15810654807038002,-0.15744509103135262,-0.15678883414551675,-0.1561376751144701,-0.15549151466096353,-0.1548502564095864,-0.15421380677332125,-0.15358207484562258,-0.15295497229770028,-0.1523324132807062,-0.15171431433254629,-0.15110059428905598,-0.1504911741992957,-0.1498859772447382,-0.1492849286621334,-0.14868795566985274,-0.14809498739752325,-0.14750595481877765,-0.14692079068695538,-0.14633942947359915,-0.145761807309602,-0.14518786192886957,-0.14461753261436713,-0.14405076014643292,-0.14348748675324222,-0.14292765606331603,-0.14237121305997377,-0.14181810403763445,-0.1412682765598761,-0.1407216794191705,-0.14017826259821126,-0.13963797723276153,-0.1391007755759486,-0.138566610963939,-0.13803543778292987,-0.13750721143739594,-0.13698188831953578,-0.13645942577986203,-0.13593978209888566,-0.13542291645984442,-0.1349087889224301,-0.1343973603974706,-0.13388859262252553,-0.1333824481383552,-0.13287889026622646,-0.13237788308601953,-0.13187939141510138,-0.1313833807879345,-0.1308898174363894,-0.1303986682707329,-0.12990990086126328,-0.12942348342056692,-0.12893938478637054,-0.12845757440496566,-0.1279780223151816,-0.12750069913288656,-0.12702557603599457,-0.1265526247499599,-0.12608181753373837,-0.12561312716619857,-0.1251465269329665,-0.12468199061368515,-0.12421949246967426,-0.12375900723197607,-0.12330051008977119,-0.12284397667915159,-0.12238938307223747,-0.12193670576662526,-0.1214859216751546,-0.12103700811598313,-0.12058994280295764,-0.12014470383627093,-0.11970126969339451,-0.11925961922027713,-0.11881973162280017,-0.11838158645847999,-0.11794516362841023,-0.11751044336943418,-0.11707740624653996,-0.11664603314547149,-0.11621630526554703,-0.11578820411267823,-0.11536171149258434,-0.11493680950419335,-0.11451348053322453,-0.11409170724594725,-0.11367147258310856,-0.11325275975402559,-0.11283555223083674,-0.11241983374290636,-0.11200558827137848,-0.11159280004387451,-0.11118145352933033,-0.11077153343296883,-0.11036302469140277,-0.1099559124678649,-0.10955018214756054,-0.10914581933313944,-0.10874280984028277,-0.10834113969340226,-0.10794079512144741,-0.10754176255381821,-0.10714402861637969,-0.10674758012757525,-0.1063524040946364,-0.10595848770988518,-0.1055658183471273,-0.10517438355813283,-0.10478417106920218,-0.10439516877781484,-0.10400736474935812,-0.10362074721393441,-0.10323530456324363,-0.10285102534753972,-0.10246789827265851,-0.10208591219711492,-0.10170505612926813,-0.10132531922455192,-0.10094669078276909,-0.10056916024544812,-0.10019271719325974,-0.09981735134349269,-0.09944305254758609,-0.09906981078871784,-0.09869761617944665,-0.09832645895940693,-0.09795632949305474,-0.09758721826746354,-0.09721911589016842,-0.09685201308705768,-0.09648590070031017,-0.09612076968637759,-0.09575661111401008,-0.09539341616232463,-0.09503117611891465,-0.09466988237799978,-0.09430952643861508,-0.09395009990283851,-0.09359159447405549,-0.09323400195526013,-0.0928773142473915,-0.09252152334770473,-0.09216662134817566,-0.09181260043393841,-0.09145945288175487,-0.09110717105851548,-0.09075574741977047,-0.09040517450829078,-0.09005544495265809,-0.08970655146588305,-0.08935848684405108,-0.08901124396499523,-0.08866481578699521,-0.0883191953475023,-0.08797437576188899,-0.08763035022222342,-0.08728711199606752,-0.08694465442529854,-0.08660297092495332,-0.08626205498209491,-0.08592190015470069,-0.08558250007057211,-0.08524384842626483,-0.08490593898603926,-0.08456876558083092,-0.08423232210724003,-0.08389660252654031,-0.08356160086370591,-0.08322731120645657,-0.08289372770432059,-0.08256084456771468,-0.08222865606704123,-0.08189715653180164,-0.08156634034972596,-0.08123620196591841,-0.0809067358820182,-0.08057793665537552,-0.08024979889824241,-0.07992231727697781,-0.07959548651126712,-0.07926930137335533,-0.07894375668729382,-0.07861884732820032,-0.07829456822153201,-0.0779709143423711,-0.0776478807147231,-0.07732546241082693,-0.07700365455047731,-0.07668245230035847,-0.07636185087338958,-0.07604184552808108,-0.07572243156790227,-0.07540360434065926,-0.07508535923788381,-0.07476769169423218,-0.07445059718689412,-0.07413407123501185,-0.07381810939910863,-0.07350270728052666,-0.07318786052087463,-0.07287356480148402,-0.07255981584287445,-0.07224660940422793,-0.07193394128287127,-0.0716218073137674,-0.07131020336901446,-0.07099912535735332,-0.07068856922368272,-0.0703785309485824,-0.07006900654784372,-0.0697599920720076,-0.06945148360591023,-0.06914347726823535,-0.06883596921107397,-0.06852895561949097,-0.06822243271109824,-0.0679163967356346,-0.06761084397455235,-0.06730577074060991,-0.06700117337747105,-0.06669704825931004,-0.0663933917904229,-0.06609020040484462,-0.06578747056597216,-0.06548519876619308,-0.06518338152651988,-0.06488201539622986,-0.06458109695251009,-0.06428062280010809,-0.06398058957098737,-0.06368099392398822,-0.06338183254449353,-0.06308310214409941,-0.06278479946029071,-0.062486921256121326,-0.06218946431989905,-0.06189242546487514,-0.06159580152893813,-0.06129958937431242,-0.061003785887260784,-0.06070838797779146,-0.06041339257936924,-0.06011879664863077,-0.0598245971651037,-0.059530791130930086,-0.0592373755705934,-0.05894434753064954,-0.0586517040794615,-0.05835944230693781,-0.058067559324274584,-0.05777605226370106,-0.05748491827822871,-0.05719415454140381,-0.05690375824706334,-0.05661372660909429,-0.056324056861196105,-0.05603474625664645,-0.05574579206807015,-0.05545719158721113,-0.05516894212470751,-0.05488104100986962,-0.05459348559046106,-0.054306273232482584,-0.054019401319958874,-0.053732867254728034,-0.05344666845623405,-0.05316080236132178,-0.05287526642403456,-0.052590058115414694,-0.05230517492330626,-0.05202061435216065,-0.05173637392284438,-0.051452451172449676,-0.05116884365410714,-0.05088554893680103,-0.050602564605186764,-0.05031988825941077,-0.050037517514932565,-0.04975545000234908,-0.049473683367221175,-0.049192215269902306,-0.04891104338536931,-0.04863016540305525,-0.04834957902668438,-0.048069281974109104,-0.04778927197714882,-0.04750954678143088,-0.04723010414623339,-0.04695094184432989,-0.04667205766183595,-0.046393449398057604,-0.046115114865341464,-0.04583705188892681,-0.04555925830679928,-0.04528173196954634,-0.04500447074021445,-0.044727472494167864,-0.04445073511894913,-0.04417425651414116,-0.04389803459123089,-0.043622067273474556,-0.04334635249576449,-0.04307088820449737,-0.04279567235744408,-0.04252070292362097,-0.04224597788316255,-0.04197149522719571,-0.04169725295771521,-0.041423249087460694,-0.041149481639794906,-0.040875948648583425,-0.040602648158075606,-0.040329578222786835,-0.0400567369073821,-0.039784122286560815,-0.03951173244494285,-0.039239565476955826,-0.03896761948672366,-0.03869589258795613,-0.03842438290383984,-0.038153088566930116,-0.03788200771904421,-0.03761113851115549,-0.037340479103288846,-0.03707002766441706,-0.0367997823723584,-0.03652974141367502,-0.036259902983572734,-0.03599026528580144,-0.03572082653255686,-0.03545158494438307,-0.03518253875007612,-0.0349136861865885,-0.03464502549893472,-0.034376554940097614,-0.03410827277093573,-0.033840177260091565,-0.03357226668390065,-0.03330453932630157,-0.033036993478746814,-0.032769627440114496,-0.03250243951662091,-0.03223542802173386,-0.031968591276086936,-0.031701927607394396,-0.03143543535036701,-0.031169112846628603,-0.030902958444633352,-0.03063697049958386,-0.030371147373349998,-0.030105487434388407,-0.029839989057662792,-0.029574650624564863,-0.029309470522836042,-0.029044447146489818,-0.028779578895734747,-0.028514864176898184,-0.02825030140235062,-0.027985888990430714,-0.027721625365370917,-0.02745750895722376,-0.02719353820178871,-0.026929711540539705,-0.026666027420553212,-0.026402484294436937,-0.026139080620259072,-0.02587581486147815,-0.025612685486873423,-0.025349690970475833,-0.025086829791499492,-0.024824100434273716,-0.024561501388175647,-0.024299031147563245,-0.02403668821170893,-0.02377447108473368,-0.023512378275541625,-0.02325040829775514,-0.022988559669650372,-0.02272683091409331,-0.02246522055847628,-0.02220372713465488,-0.02194234917888542,-0.02168108523176274,-0.021419933838158524,-0.021158893547159996,-0.020897962912009047,-0.020637140490041807,-0.020376424842628586,-0.02011581453511421,-0.019855308136758853,-0.019594904220679048,-0.0193346013637893,-0.019074398146743943,-0.018814293153879388,-0.018554284973156775,-0.018294372196104903,-0.018034553417763586,-0.017774827236627305,-0.017515192254589196,-0.017255647076885407,-0.016996190312039715,-0.016736820571808534,-0.016477536471126167,-0.01621833662805042,-0.015959219663708477,-0.01570018420224307,-0.015441228870759025,-0.015182352299269926,-0.014923553120645194,-0.014664829970557399,-0.014406181487429826,-0.014147606312384316,-0.013889103089189354,-0.013630670464208414,-0.013372307086348553,-0.013114011607009226,-0.012855782680031375,-0.0125976189616467,-0.012339519110427192,-0.01208148178723487,-0.011823505655171741,-0.011565589379529957,-0.011307731627742179,-0.01104993106933216,-0.010792186375865542,-0.010534496220900726,-0.010276859279940096,-0.010019274230381296,-0.00976173975146875,-0.00950425452424533,-0.00924681723150418,-0.008989426557740729,-0.008732081189104849,-0.008474779813353149,-0.008217521119801452,-0.007960303799277388,-0.007703126544073135,-0.0074459880478983005,-0.007188887005832926,-0.00693182211428062,-0.006674792070921802,-0.006417795574667129,-0.006160831325610893,-0.005903898024984678,-0.005646994375111038,-0.005390119079357298,-0.005133270842089448,-0.004876448368626126,-0.0046196503651926915,-0.004362875538875376,-0.004106122597575526,-0.003849390249963903,-0.003592677205435061,-0.003335982174061797,-0.003079303866549651,-0.002822640994191474,-0.00256599226882204,-0.0023093564027727186,-0.002052732108826165,-0.0017961181001711405,-0.0015395130903572039,-0.0012829157932495998,-0.0010263249229840918,-0.0007697391939218399,-0.0005131573206042961,-0.00025657801770811707,-8.889721448294373e-17,0.00025657801770793926,0.0005131573206041183,0.0007697391939216621,0.001026324922983914,0.001282915793249422,0.001539513090357026,0.0017961181001709626,0.002052732108825987,0.0023093564027725252,0.0025659922688218463,0.00282264099419128,0.0030793038665494574,0.003335982174061603,0.0035926772054348673,0.0038493902499637093,0.004106122597575333,0.004362875538875184,0.00461965036519253,0.004876448368625966,0.005133270842089287,0.005390119079357137,0.005646994375110877,0.005903898024984517,0.006160831325610731,0.006417795574666968,0.006674792070921641,0.006931822114280443,0.007188887005832749,0.007445988047898124,0.007703126544072958,0.00796030379927721,0.008217521119801275,0.008474779813352972,0.008732081189104672,0.008989426557740552,0.009246817231504003,0.009504254524245153,0.009761739751468573,0.010019274230381119,0.01027685927993992,0.010534496220900549,0.010792186375865365,0.011049931069331984,0.011307731627741987,0.011565589379529765,0.011823505655171549,0.012081481787234678,0.012339519110427,0.012597618961646505,0.012855782680031182,0.013114011607009033,0.01337230708634836,0.013630670464208254,0.013889103089189194,0.014147606312384155,0.014406181487429665,0.014664829970557238,0.014923553120645033,0.015182352299269765,0.015441228870758864,0.015700184202242905,0.015959219663708297,0.01621833662805024,0.016477536471125986,0.016736820571808354,0.016996190312039534,0.017255647076885226,0.017515192254589015,0.017774827236627124,0.018034553417763406,0.018294372196104722,0.018554284973156594,0.018814293153879207,0.019074398146743762,0.01933460136378912,0.019594904220678867,0.019855308136758672,0.02011581453511403,0.020376424842628388,0.02063714049004161,0.02089796291200885,0.021158893547159798,0.02141993383815833,0.021681085231762542,0.021942349178885226,0.022203727134654686,0.022465220558476082,0.02272683091409315,0.022988559669650206,0.023250408297754974,0.02351237827554147,0.023774471084733514,0.024036688211708762,0.02429903114756308,0.024561501388175488,0.024824100434273553,0.025086829791499312,0.025349690970475652,0.025612685486873243,0.02587581486147797,0.02613908062025889,0.026402484294436757,0.026666027420553032,0.026929711540539525,0.02719353820178853,0.02745750895722358,0.027721625365370737,0.027985888990430533,0.02825030140235044,0.028514864176898004,0.028779578895734566,0.029044447146489637,0.029309470522835862,0.02957465062456467,0.02983998905766259,0.030105487434388213,0.030371147373349804,0.03063697049958367,0.030902958444633154,0.031169112846628412,0.03143543535036681,0.031701927607394195,0.031968591276086776,0.0322354280217337,0.03250243951662074,0.03276962744011433,0.033036993478746654,0.03330453932630141,0.03357226668390049,0.0338401772600914,0.03410827277093556,0.034376554940097434,0.03464502549893454,0.03491368618658832,0.03518253875007594,0.03545158494438289,0.035720826532556677,0.03599026528580126,0.03625990298357255,0.03652974141367484,0.03679978237235822,0.03707002766441688,0.037340479103288665,0.03761113851115531,0.03788200771904403,0.038153088566929935,0.03842438290383966,0.03869589258795595,0.03896761948672346,0.03923956547695563,0.03951173244494264,0.039784122286560614,0.04005673690738191,0.04032957822278664,0.04060264815807541,0.04087594864858323,0.041149481639794705,0.041423249087460534,0.04169725295771505,0.041971495227195545,0.04224597788316239,0.0425207029236208,0.04279567235744392,0.04307088820449721,0.04334635249576432,0.04362206727347439,0.04389803459123071,0.04417425651414098,0.04445073511894895,0.04472747249416768,0.04500447074021427,0.04528173196954616,0.0455592583067991,0.04583705188892663,0.04611511486534128,0.046393449398057424,0.04667205766183577,0.046950941844329706,0.04723010414623321,0.0475095467814307,0.04778927197714864,0.048069281974108924,0.0483495790266842,0.04863016540305505,0.04891104338536911,0.04919221526990211,0.04947368336722097,0.04975545000234888,0.050037517514932364,0.050319888259410576,0.05060256460518656,0.05088554893680083,0.05116884365410697,0.05145245117244951,0.05173637392284422,0.05202061435216048,0.05230517492330611,0.052590058115414534,0.0528752664240344,0.05316080236132161,0.05344666845623389,0.053732867254727854,0.05401940131995869,0.054306273232482404,0.05459348559046088,0.05488104100986944,0.055168942124707326,0.05545719158721095,0.05574579206806997,0.05603474625664627,0.056324056861195924,0.05661372660909411,0.05690375824706316,0.05719415454140363,0.057484918278228526,0.05777605226370088,0.058067559324274404,0.05835944230693763,0.058651704079461305,0.058944347530649345,0.059237375570593206,0.05953079113092989,0.05982459716510351,0.06011879664863056,0.06041339257936905,0.06070838797779126,0.06100378588726058,0.061299589374312256,0.061595801528937975,0.06189242546487497,0.0621894643198989,0.06248692125612116,0.06278479946029056,0.06308310214409926,0.06338183254449338,0.06368099392398807,0.0639805895709872,0.06428062280010792,0.06458109695250992,0.06488201539622969,0.06518338152651972,0.06548519876619291,0.06578747056597199,0.06609020040484445,0.06639339179042274,0.06669704825930987,0.06700117337747089,0.06730577074060974,0.06761084397455218,0.06791639673563443,0.06822243271109807,0.06852895561949081,0.06883596921107381,0.06914347726823517,0.06945148360591005,0.06975999207200742,0.07006900654784352,0.07037853094858222,0.07068856922368254,0.07099912535735313,0.07131020336901427,0.07162180731376722,0.07193394128287113,0.07224660940422778,0.0725598158428743,0.07287356480148387,0.07318786052087448,0.0735027072805265,0.07381810939910846,0.07413407123501171,0.07445059718689397,0.07476769169423202,0.07508535923788365,0.0754036043406591,0.07572243156790211,0.07604184552808091,0.07636185087338941,0.0766824523003583,0.07700365455047714,0.07732546241082676,0.07764788071472294,0.07797091434237094,0.07829456822153184,0.07861884732820015,0.07894375668729366,0.07926930137335517,0.07959548651126695,0.07992231727697764,0.08024979889824224,0.08057793665537535,0.08090673588201804,0.08123620196591824,0.08156634034972579,0.08189715653180145,0.08222865606704105,0.08256084456771448,0.08289372770432038,0.08322731120645643,0.08356160086370577,0.08389660252654017,0.08423232210723987,0.08456876558083075,0.0849059389860391,0.08524384842626466,0.08558250007057194,0.08592190015470053,0.08626205498209474,0.08660297092495316,0.08694465442529838,0.08728711199606735,0.08763035022222325,0.08797437576188882,0.08831919534750213,0.08866481578699505,0.08901124396499506,0.08935848684405091,0.08970655146588288,0.09005544495265792,0.09040517450829061,0.0907557474197703,0.09110717105851532,0.09145945288175471,0.09181260043393824,0.09216662134817549,0.09252152334770457,0.09287731424739133,0.09323400195525997,0.09359159447405532,0.09395009990283831,0.09430952643861489,0.0946698823779996,0.09503117611891446,0.09539341616232451,0.09575661111400993,0.09612076968637744,0.09648590070031002,0.09685201308705751,0.09721911589016825,0.09758721826746337,0.09795632949305458,0.09832645895940677,0.09869761617944649,0.09906981078871767,0.09944305254758593,0.09981735134349252,0.10019271719325958,0.10056916024544796,0.10094669078276892,0.10132531922455175,0.10170505612926796,0.10208591219711476,0.10246789827265834,0.10285102534753955,0.10323530456324347,0.10362074721393424,0.10400736474935796,0.10439516877781467,0.10478417106920201,0.10517438355813266,0.10556581834712714,0.10595848770988502,0.10635240409463623,0.10674758012757508,0.10714402861637949,0.10754176255381802,0.1079407951214472,0.10834113969340206,0.10874280984028264,0.1091458193331393,0.10955018214756038,0.10995591246786474,0.1103630246914026,0.11077153343296867,0.11118145352933016,0.11159280004387434,0.11200558827137831,0.11241983374290619,0.11283555223083658,0.11325275975402542,0.11367147258310839,0.11409170724594708,0.11451348053322437,0.11493680950419319,0.11536171149258417,0.11578820411267807,0.11621630526554687,0.11664603314547133,0.1170774062465398,0.11751044336943402,0.11794516362841007,0.11838158645847982,0.1188197316228,0.11925961922027696,0.11970126969339434,0.12014470383627077,0.12058994280295747,0.12103700811598296,0.12148592167515443,0.12193670576662509,0.12238938307223728,0.12284397667915142,0.12330051008977096,0.12375900723197593,0.12421949246967409,0.12468199061368498,0.1251465269329664,0.1256131271661984,0.1260818175337382,0.12655262474995982,0.1270255760359944,0.1275006991328864,0.12797802231518143,0.1284575744049655,0.12893938478637046,0.12942348342056675,0.1299099008612631,0.13039866827073274,0.13088981743638922,0.13138338078793432,0.13187939141510122,0.13237788308601936,0.1328788902662263,0.13338244813835504,0.13388859262252537,0.13439736039747044,0.13490878892242986,0.13542291645984425,0.1359397820988855,0.13645942577986186,0.13698188831953562,0.13750721143739578,0.13803543778292965,0.13856661096393882,0.13910077557594833,0.13963797723276136,0.1401782625982111,0.14072167941917024,0.14126827655987592,0.14181810403763428,0.14237121305997366,0.14292765606331587,0.1434874867532421,0.14405076014643287,0.14461753261436697,0.1451878619288694,0.14576180730960184,0.146339429473599,0.1469207906869552,0.14750595481877748,0.14809498739752308,0.14868795566985257,0.14928492866213322,0.14988597724473804,0.15049117419929553,0.1511005942890558,0.15171431433254612,0.15233241328070604,0.1529549722977001,0.15358207484562242,0.15421380677332108,0.15485025640958625,0.15549151466096336,0.15613767511446994,0.1567888341455166,0.15744509103135246,0.1581065480703798,0.15877331070770784,0.15944548766734273,0.16012319109144138,0.16080653668708955,0.1614956438810984,0.16219063598335445,0.16289164035929898,0.16359878861215782,0.1643122167755952,0.1650320655175176,0.1657584803558143,0.16649161188688893,0.16723161602790532,0.16797865427375297,0.1687328939698228,0.16949450860178125,0.17026367810363432,0.171040589185492,0.17182543568257114,0.17261841892711668,0.17341974814508027,0.1742296408795694,0.17504832344327342,0.17587603140229174,0.1767130100940262,0.17755951518207105,0.17841581325133202,0.17928218244694152,0.1801589131609129,0.18104630877089853,0.18194468643589043,0.18285437795423642,0.1837757306899468,0.1847091085739511,0.18565489318773093,0.18661348493763738,0.1875853043291939,0.18857079335182325,0.1895704169857351,0.1905846648441966,0.19161405296611458,0.1926591257758188,0.19372045822920061,0.19479865816798028,0.19589436890690778,0.19700827208223748,0.19814109079393177,0.1992935930788671,0.20046659575797288,0.20166096870689004,0.20287763960760874,0.20411759924787665,0.2053819074462805,0.2066716996941859,0.20798819462165744,0.20933270241369453,0.21070663432637984,0.21211151348084023,0.2135489871475276,0.2150208407758625,0.21652901407686634,0.2180756195317813,0.21966296378146524,0.22129357245434722,0.22297021912134193,0.2246959592329869,0.22647417010892948,0.22830859832889955,0.23020341623987575,0.232163289777788,0.23419346044857767,0.23629984518730301,0.23848915900950715,0.24076906702622264,0.24314837472387535,0.24563726873736536,0.24824762517708515,0.25099340972277295,0.2538912045046692,0.25696091350618105,0.26022672474953884,0.26371845088125595,0.2674734430387571,0.27153940153382117,0.27597864313217385,0.280874841992003,0.2863442042208107,0.29255513671590355,0.2997656300437708,0.30840196320679164,0.319250141663712,0.33403804110929786,0.3581140034645225],\"type\":\"scatter\"}],                        {\"template\":{\"data\":{\"barpolar\":[{\"marker\":{\"line\":{\"color\":\"white\",\"width\":0.5},\"pattern\":{\"fillmode\":\"overlay\",\"size\":10,\"solidity\":0.2}},\"type\":\"barpolar\"}],\"bar\":[{\"error_x\":{\"color\":\"#2a3f5f\"},\"error_y\":{\"color\":\"#2a3f5f\"},\"marker\":{\"line\":{\"color\":\"white\",\"width\":0.5},\"pattern\":{\"fillmode\":\"overlay\",\"size\":10,\"solidity\":0.2}},\"type\":\"bar\"}],\"carpet\":[{\"aaxis\":{\"endlinecolor\":\"#2a3f5f\",\"gridcolor\":\"#C8D4E3\",\"linecolor\":\"#C8D4E3\",\"minorgridcolor\":\"#C8D4E3\",\"startlinecolor\":\"#2a3f5f\"},\"baxis\":{\"endlinecolor\":\"#2a3f5f\",\"gridcolor\":\"#C8D4E3\",\"linecolor\":\"#C8D4E3\",\"minorgridcolor\":\"#C8D4E3\",\"startlinecolor\":\"#2a3f5f\"},\"type\":\"carpet\"}],\"choropleth\":[{\"colorbar\":{\"outlinewidth\":0,\"ticks\":\"\"},\"type\":\"choropleth\"}],\"contourcarpet\":[{\"colorbar\":{\"outlinewidth\":0,\"ticks\":\"\"},\"type\":\"contourcarpet\"}],\"contour\":[{\"colorbar\":{\"outlinewidth\":0,\"ticks\":\"\"},\"colorscale\":[[0.0,\"#0d0887\"],[0.1111111111111111,\"#46039f\"],[0.2222222222222222,\"#7201a8\"],[0.3333333333333333,\"#9c179e\"],[0.4444444444444444,\"#bd3786\"],[0.5555555555555556,\"#d8576b\"],[0.6666666666666666,\"#ed7953\"],[0.7777777777777778,\"#fb9f3a\"],[0.8888888888888888,\"#fdca26\"],[1.0,\"#f0f921\"]],\"type\":\"contour\"}],\"heatmapgl\":[{\"colorbar\":{\"outlinewidth\":0,\"ticks\":\"\"},\"colorscale\":[[0.0,\"#0d0887\"],[0.1111111111111111,\"#46039f\"],[0.2222222222222222,\"#7201a8\"],[0.3333333333333333,\"#9c179e\"],[0.4444444444444444,\"#bd3786\"],[0.5555555555555556,\"#d8576b\"],[0.6666666666666666,\"#ed7953\"],[0.7777777777777778,\"#fb9f3a\"],[0.8888888888888888,\"#fdca26\"],[1.0,\"#f0f921\"]],\"type\":\"heatmapgl\"}],\"heatmap\":[{\"colorbar\":{\"outlinewidth\":0,\"ticks\":\"\"},\"colorscale\":[[0.0,\"#0d0887\"],[0.1111111111111111,\"#46039f\"],[0.2222222222222222,\"#7201a8\"],[0.3333333333333333,\"#9c179e\"],[0.4444444444444444,\"#bd3786\"],[0.5555555555555556,\"#d8576b\"],[0.6666666666666666,\"#ed7953\"],[0.7777777777777778,\"#fb9f3a\"],[0.8888888888888888,\"#fdca26\"],[1.0,\"#f0f921\"]],\"type\":\"heatmap\"}],\"histogram2dcontour\":[{\"colorbar\":{\"outlinewidth\":0,\"ticks\":\"\"},\"colorscale\":[[0.0,\"#0d0887\"],[0.1111111111111111,\"#46039f\"],[0.2222222222222222,\"#7201a8\"],[0.3333333333333333,\"#9c179e\"],[0.4444444444444444,\"#bd3786\"],[0.5555555555555556,\"#d8576b\"],[0.6666666666666666,\"#ed7953\"],[0.7777777777777778,\"#fb9f3a\"],[0.8888888888888888,\"#fdca26\"],[1.0,\"#f0f921\"]],\"type\":\"histogram2dcontour\"}],\"histogram2d\":[{\"colorbar\":{\"outlinewidth\":0,\"ticks\":\"\"},\"colorscale\":[[0.0,\"#0d0887\"],[0.1111111111111111,\"#46039f\"],[0.2222222222222222,\"#7201a8\"],[0.3333333333333333,\"#9c179e\"],[0.4444444444444444,\"#bd3786\"],[0.5555555555555556,\"#d8576b\"],[0.6666666666666666,\"#ed7953\"],[0.7777777777777778,\"#fb9f3a\"],[0.8888888888888888,\"#fdca26\"],[1.0,\"#f0f921\"]],\"type\":\"histogram2d\"}],\"histogram\":[{\"marker\":{\"pattern\":{\"fillmode\":\"overlay\",\"size\":10,\"solidity\":0.2}},\"type\":\"histogram\"}],\"mesh3d\":[{\"colorbar\":{\"outlinewidth\":0,\"ticks\":\"\"},\"type\":\"mesh3d\"}],\"parcoords\":[{\"line\":{\"colorbar\":{\"outlinewidth\":0,\"ticks\":\"\"}},\"type\":\"parcoords\"}],\"pie\":[{\"automargin\":true,\"type\":\"pie\"}],\"scatter3d\":[{\"line\":{\"colorbar\":{\"outlinewidth\":0,\"ticks\":\"\"}},\"marker\":{\"colorbar\":{\"outlinewidth\":0,\"ticks\":\"\"}},\"type\":\"scatter3d\"}],\"scattercarpet\":[{\"marker\":{\"colorbar\":{\"outlinewidth\":0,\"ticks\":\"\"}},\"type\":\"scattercarpet\"}],\"scattergeo\":[{\"marker\":{\"colorbar\":{\"outlinewidth\":0,\"ticks\":\"\"}},\"type\":\"scattergeo\"}],\"scattergl\":[{\"marker\":{\"colorbar\":{\"outlinewidth\":0,\"ticks\":\"\"}},\"type\":\"scattergl\"}],\"scattermapbox\":[{\"marker\":{\"colorbar\":{\"outlinewidth\":0,\"ticks\":\"\"}},\"type\":\"scattermapbox\"}],\"scatterpolargl\":[{\"marker\":{\"colorbar\":{\"outlinewidth\":0,\"ticks\":\"\"}},\"type\":\"scatterpolargl\"}],\"scatterpolar\":[{\"marker\":{\"colorbar\":{\"outlinewidth\":0,\"ticks\":\"\"}},\"type\":\"scatterpolar\"}],\"scatter\":[{\"marker\":{\"colorbar\":{\"outlinewidth\":0,\"ticks\":\"\"}},\"type\":\"scatter\"}],\"scatterternary\":[{\"marker\":{\"colorbar\":{\"outlinewidth\":0,\"ticks\":\"\"}},\"type\":\"scatterternary\"}],\"surface\":[{\"colorbar\":{\"outlinewidth\":0,\"ticks\":\"\"},\"colorscale\":[[0.0,\"#0d0887\"],[0.1111111111111111,\"#46039f\"],[0.2222222222222222,\"#7201a8\"],[0.3333333333333333,\"#9c179e\"],[0.4444444444444444,\"#bd3786\"],[0.5555555555555556,\"#d8576b\"],[0.6666666666666666,\"#ed7953\"],[0.7777777777777778,\"#fb9f3a\"],[0.8888888888888888,\"#fdca26\"],[1.0,\"#f0f921\"]],\"type\":\"surface\"}],\"table\":[{\"cells\":{\"fill\":{\"color\":\"#EBF0F8\"},\"line\":{\"color\":\"white\"}},\"header\":{\"fill\":{\"color\":\"#C8D4E3\"},\"line\":{\"color\":\"white\"}},\"type\":\"table\"}]},\"layout\":{\"annotationdefaults\":{\"arrowcolor\":\"#2a3f5f\",\"arrowhead\":0,\"arrowwidth\":1},\"autotypenumbers\":\"strict\",\"coloraxis\":{\"colorbar\":{\"outlinewidth\":0,\"ticks\":\"\"}},\"colorscale\":{\"diverging\":[[0,\"#8e0152\"],[0.1,\"#c51b7d\"],[0.2,\"#de77ae\"],[0.3,\"#f1b6da\"],[0.4,\"#fde0ef\"],[0.5,\"#f7f7f7\"],[0.6,\"#e6f5d0\"],[0.7,\"#b8e186\"],[0.8,\"#7fbc41\"],[0.9,\"#4d9221\"],[1,\"#276419\"]],\"sequential\":[[0.0,\"#0d0887\"],[0.1111111111111111,\"#46039f\"],[0.2222222222222222,\"#7201a8\"],[0.3333333333333333,\"#9c179e\"],[0.4444444444444444,\"#bd3786\"],[0.5555555555555556,\"#d8576b\"],[0.6666666666666666,\"#ed7953\"],[0.7777777777777778,\"#fb9f3a\"],[0.8888888888888888,\"#fdca26\"],[1.0,\"#f0f921\"]],\"sequentialminus\":[[0.0,\"#0d0887\"],[0.1111111111111111,\"#46039f\"],[0.2222222222222222,\"#7201a8\"],[0.3333333333333333,\"#9c179e\"],[0.4444444444444444,\"#bd3786\"],[0.5555555555555556,\"#d8576b\"],[0.6666666666666666,\"#ed7953\"],[0.7777777777777778,\"#fb9f3a\"],[0.8888888888888888,\"#fdca26\"],[1.0,\"#f0f921\"]]},\"colorway\":[\"#636efa\",\"#EF553B\",\"#00cc96\",\"#ab63fa\",\"#FFA15A\",\"#19d3f3\",\"#FF6692\",\"#B6E880\",\"#FF97FF\",\"#FECB52\"],\"font\":{\"color\":\"#2a3f5f\"},\"geo\":{\"bgcolor\":\"white\",\"lakecolor\":\"white\",\"landcolor\":\"white\",\"showlakes\":true,\"showland\":true,\"subunitcolor\":\"#C8D4E3\"},\"hoverlabel\":{\"align\":\"left\"},\"hovermode\":\"closest\",\"mapbox\":{\"style\":\"light\"},\"paper_bgcolor\":\"white\",\"plot_bgcolor\":\"white\",\"polar\":{\"angularaxis\":{\"gridcolor\":\"#EBF0F8\",\"linecolor\":\"#EBF0F8\",\"ticks\":\"\"},\"bgcolor\":\"white\",\"radialaxis\":{\"gridcolor\":\"#EBF0F8\",\"linecolor\":\"#EBF0F8\",\"ticks\":\"\"}},\"scene\":{\"xaxis\":{\"backgroundcolor\":\"white\",\"gridcolor\":\"#DFE8F3\",\"gridwidth\":2,\"linecolor\":\"#EBF0F8\",\"showbackground\":true,\"ticks\":\"\",\"zerolinecolor\":\"#EBF0F8\"},\"yaxis\":{\"backgroundcolor\":\"white\",\"gridcolor\":\"#DFE8F3\",\"gridwidth\":2,\"linecolor\":\"#EBF0F8\",\"showbackground\":true,\"ticks\":\"\",\"zerolinecolor\":\"#EBF0F8\"},\"zaxis\":{\"backgroundcolor\":\"white\",\"gridcolor\":\"#DFE8F3\",\"gridwidth\":2,\"linecolor\":\"#EBF0F8\",\"showbackground\":true,\"ticks\":\"\",\"zerolinecolor\":\"#EBF0F8\"}},\"shapedefaults\":{\"line\":{\"color\":\"#2a3f5f\"}},\"ternary\":{\"aaxis\":{\"gridcolor\":\"#DFE8F3\",\"linecolor\":\"#A2B1C6\",\"ticks\":\"\"},\"baxis\":{\"gridcolor\":\"#DFE8F3\",\"linecolor\":\"#A2B1C6\",\"ticks\":\"\"},\"bgcolor\":\"white\",\"caxis\":{\"gridcolor\":\"#DFE8F3\",\"linecolor\":\"#A2B1C6\",\"ticks\":\"\"}},\"title\":{\"x\":0.05},\"xaxis\":{\"automargin\":true,\"gridcolor\":\"#EBF0F8\",\"linecolor\":\"#EBF0F8\",\"ticks\":\"\",\"title\":{\"standoff\":15},\"zerolinecolor\":\"#EBF0F8\",\"zerolinewidth\":2},\"yaxis\":{\"automargin\":true,\"gridcolor\":\"#EBF0F8\",\"linecolor\":\"#EBF0F8\",\"ticks\":\"\",\"title\":{\"standoff\":15},\"zerolinecolor\":\"#EBF0F8\",\"zerolinewidth\":2}}},\"title\":{\"text\":\"Quantile-Quantile Plot\",\"x\":0.5},\"font\":{\"size\":18},\"width\":800,\"height\":700,\"showlegend\":false,\"yaxis\":{\"title\":{\"text\":\"Sample Quantities\"}},\"xaxis\":{\"title\":{\"text\":\"Theoritical Quantities\"}}},                        {\"responsive\": true}                    ).then(function(){\n",
              "                            \n",
              "var gd = document.getElementById('964c4d1d-ede8-4fa8-a522-1ce4d5bf6d2f');\n",
              "var x = new MutationObserver(function (mutations, observer) {{\n",
              "        var display = window.getComputedStyle(gd).display;\n",
              "        if (!display || display === 'none') {{\n",
              "            console.log([gd, 'removed!']);\n",
              "            Plotly.purge(gd);\n",
              "            observer.disconnect();\n",
              "        }}\n",
              "}});\n",
              "\n",
              "// Listen for the removal of the full notebook cells\n",
              "var notebookContainer = gd.closest('#notebook-container');\n",
              "if (notebookContainer) {{\n",
              "    x.observe(notebookContainer, {childList: true});\n",
              "}}\n",
              "\n",
              "// Listen for the clearing of the current output cell\n",
              "var outputEl = gd.closest('.output');\n",
              "if (outputEl) {{\n",
              "    x.observe(outputEl, {childList: true});\n",
              "}}\n",
              "\n",
              "                        })                };                            </script>        </div>\n",
              "</body>\n",
              "</html>"
            ]
          },
          "metadata": {}
        }
      ],
      "source": [
        "fig = go.Figure()\n",
        "\n",
        "fig.add_trace(go.Scatter(x= qqplot_data[0].get_xdata(),\n",
        "                         y= qqplot_data[0].get_ydata(),\n",
        "                         mode='markers',\n",
        "                         marker=dict(color=colors[2],size =8 )))\n",
        "\n",
        "\n",
        "fig.add_trace(go.Scatter(x= qqplot_data[1].get_xdata(),\n",
        "                         y= qqplot_data[1].get_ydata(),\n",
        "                         showlegend=False,\n",
        "                         mode='lines',\n",
        "                         marker=dict(color=colors[1],size = 5)))\n",
        "\n",
        "\n",
        "\n",
        "\n",
        "fig.update_layout(\n",
        "        title=\"Quantile-Quantile Plot\",\n",
        "        title_x=0.5,\n",
        "        width=800,\n",
        "        height=700,\n",
        "        font=dict(size=18),\n",
        "        showlegend =False,\n",
        "        template=\"plotly_white\",\n",
        "        yaxis_title=\"Sample Quantities\",\n",
        "        xaxis_title=\"Theoritical Quantities\")\n",
        "\n",
        "\n",
        "fig.show()\n",
        "#py.iplot(fig, filename='normality-QQ')"
      ]
    },
    {
      "cell_type": "markdown",
      "metadata": {
        "id": "n3vHAW3THECp"
      },
      "source": [
        "### **Statistical Tests**\n",
        "\n",
        "**Anderson Darling Test for checking Normality of Errors:**\n",
        "\n",
        "$$\\mathcal{H}_{0}:  The\\ residuals\\ follows\\ a\\ specified\\ distribution $$ \n",
        "\n",
        "$$\\mathcal{H}_{1}:  The\\ residuals\\ doesn't\\ follows\\ a\\ specified\\ distribution $$ \n"
      ]
    },
    {
      "cell_type": "code",
      "execution_count": 37,
      "metadata": {
        "colab": {
          "base_uri": "https://localhost:8080/"
        },
        "id": "EoDJPdwEGYJE",
        "outputId": "eee22f1a-ea3a-43c0-f2cc-4a9c556c7bd8"
      },
      "outputs": [
        {
          "output_type": "execute_result",
          "data": {
            "text/plain": [
              "[('Overall p-value', 3.0803763706908285),\n",
              " ('p-value', array([0.574, 0.654, 0.784, 0.915, 1.088]))]"
            ]
          },
          "metadata": {},
          "execution_count": 37
        }
      ],
      "source": [
        "anderson_results = stats.anderson(res.resid, dist='norm')\n",
        "name = ['Overall p-value', 'p-value']\n",
        "lzip(name,anderson_results)"
      ]
    },
    {
      "cell_type": "markdown",
      "metadata": {
        "id": "G-K2hWAMB0wk"
      },
      "source": [
        "- The distribution plot shows somehow a bell shape, skewed to the right a little bit. But acceptable. ✅\n",
        "\n",
        "- The Q-Q plot shows that most values are present on straight line. ✅\n",
        "\n",
        "- In the test the p-value is more than 0.05 then, we accept the null hypothesis that residuals follows a normal distribution. ✅"
      ]
    },
    {
      "cell_type": "markdown",
      "metadata": {
        "id": "zZj-3r7YgivT"
      },
      "source": [
        "## Assumption 4: Dropping Multicollinear Variables 🔻\n",
        "\n",
        "In regression, multicollinearity refers to the extent to which independent variables are correlated. Multicollinearity affects the coefficients and p-values, but it does not influence the predictions, precision of the predictions, and the goodness-of-fit statistics. If your primary goal is to make predictions, and you don’t need to understand the role of each independent variable, you don’t need to reduce severe multicollinearity\n",
        "\n",
        "-------------------------"
      ]
    },
    {
      "cell_type": "code",
      "execution_count": 38,
      "metadata": {
        "colab": {
          "base_uri": "https://localhost:8080/"
        },
        "id": "Sr6gOvPUgA9u",
        "outputId": "b278618c-a9e7-4e54-b5e6-bfed9c8d44b2"
      },
      "outputs": [
        {
          "output_type": "stream",
          "name": "stdout",
          "text": [
            "Variance Inflating Factor\n",
            "-- fixed acidity = 1.11\n",
            "-- volatile acidity = 1.077\n",
            "-- residual sugar = 1.051\n",
            "-- chlorides = 1.024\n",
            "-- total sulfur dioxide = 1.048\n"
          ]
        },
        {
          "output_type": "stream",
          "name": "stderr",
          "text": [
            "/usr/local/lib/python3.7/dist-packages/statsmodels/tsa/tsatools.py:117: FutureWarning:\n",
            "\n",
            "In a future version of pandas all arguments of concat except for the argument 'objs' will be keyword-only\n",
            "\n"
          ]
        }
      ],
      "source": [
        "#Calculate the VIF and remove the features with VIF above 5 if you see fit to do so\n",
        "\n",
        "print('Variance Inflating Factor')\n",
        "cnames = x_train.columns\n",
        "for i in np.arange(0,len(cnames)):\n",
        "  xvars = list(cnames)\n",
        "  yvar = xvars.pop(i)\n",
        "  mod = sma.OLS(x_train[yvar], sma.add_constant(x_train_new[xvars]))\n",
        "  res_1 = mod.fit()\n",
        "  vif = 1 / (1- res_1.rsquared)\n",
        "  print('--',yvar,'=',round(vif,3))"
      ]
    },
    {
      "cell_type": "code",
      "execution_count": 39,
      "metadata": {
        "id": "Xu0PTTzht-6E"
      },
      "outputs": [],
      "source": [
        "def df_to_plotly(df):\n",
        "    return {'z': df.values.tolist(),\n",
        "            'x': df.columns.tolist(),\n",
        "            'y': df.index.tolist()}"
      ]
    },
    {
      "cell_type": "code",
      "execution_count": 40,
      "metadata": {
        "id": "FEaW8ACVuAXF"
      },
      "outputs": [],
      "source": [
        "z = X\n",
        "z = z.corr()"
      ]
    },
    {
      "cell_type": "code",
      "execution_count": 41,
      "metadata": {
        "colab": {
          "base_uri": "https://localhost:8080/",
          "height": 717
        },
        "id": "-UzQdItmtIRM",
        "outputId": "283d576c-3d3a-43f9-9b79-e87b4cfd9d24"
      },
      "outputs": [
        {
          "output_type": "display_data",
          "data": {
            "text/html": [
              "<html>\n",
              "<head><meta charset=\"utf-8\" /></head>\n",
              "<body>\n",
              "    <div>            <script src=\"https://cdnjs.cloudflare.com/ajax/libs/mathjax/2.7.5/MathJax.js?config=TeX-AMS-MML_SVG\"></script><script type=\"text/javascript\">if (window.MathJax) {MathJax.Hub.Config({SVG: {font: \"STIX-Web\"}});}</script>                <script type=\"text/javascript\">window.PlotlyConfig = {MathJaxConfig: 'local'};</script>\n",
              "        <script src=\"https://cdn.plot.ly/plotly-2.8.3.min.js\"></script>                <div id=\"6604c065-c236-477d-bc1a-2b4b7a3234fa\" class=\"plotly-graph-div\" style=\"height:700px; width:800px;\"></div>            <script type=\"text/javascript\">                                    window.PLOTLYENV=window.PLOTLYENV || {};                                    if (document.getElementById(\"6604c065-c236-477d-bc1a-2b4b7a3234fa\")) {                    Plotly.newPlot(                        \"6604c065-c236-477d-bc1a-2b4b7a3234fa\",                        [{\"colorscale\":[[0.0,\"#688f4e\"],[0.001,\"#688f4e\"],[0.002,\"#688f4e\"],[0.003,\"#688f4e\"],[0.004,\"#698f4f\"],[0.005,\"#698f4f\"],[0.006,\"#69904f\"],[0.007,\"#69904f\"],[0.008,\"#69904f\"],[0.009,\"#69904f\"],[0.01,\"#699050\"],[0.011,\"#6a9050\"],[0.012,\"#6a9050\"],[0.013,\"#6a9050\"],[0.014,\"#6a9050\"],[0.015,\"#6a9050\"],[0.016,\"#6a9150\"],[0.017,\"#6a9151\"],[0.018,\"#6b9151\"],[0.019,\"#6b9151\"],[0.02,\"#6b9151\"],[0.021,\"#6b9151\"],[0.022,\"#6b9151\"],[0.023,\"#6b9152\"],[0.024,\"#6b9152\"],[0.025,\"#6c9152\"],[0.026,\"#6c9252\"],[0.027,\"#6c9252\"],[0.028,\"#6c9252\"],[0.029,\"#6c9252\"],[0.03,\"#6c9253\"],[0.031,\"#6c9253\"],[0.032,\"#6c9253\"],[0.033,\"#6d9253\"],[0.034,\"#6d9253\"],[0.035,\"#6d9253\"],[0.036,\"#6d9354\"],[0.037,\"#6d9354\"],[0.038,\"#6d9354\"],[0.039,\"#6d9354\"],[0.04,\"#6e9354\"],[0.041,\"#6e9354\"],[0.042,\"#6e9355\"],[0.043,\"#6e9355\"],[0.044,\"#6e9355\"],[0.045,\"#6e9355\"],[0.046,\"#6e9455\"],[0.047,\"#6f9455\"],[0.048,\"#6f9455\"],[0.049,\"#6f9456\"],[0.05,\"#6f9456\"],[0.051,\"#6f9456\"],[0.052,\"#6f9456\"],[0.053,\"#6f9456\"],[0.054,\"#709456\"],[0.055,\"#709457\"],[0.056,\"#709457\"],[0.057,\"#709557\"],[0.058,\"#709557\"],[0.059,\"#709557\"],[0.06,\"#709557\"],[0.061,\"#719557\"],[0.062,\"#719558\"],[0.063,\"#719558\"],[0.064,\"#719558\"],[0.065,\"#719558\"],[0.066,\"#719558\"],[0.067,\"#719658\"],[0.068,\"#729659\"],[0.069,\"#729659\"],[0.07,\"#729659\"],[0.071,\"#729659\"],[0.072,\"#729659\"],[0.073,\"#729659\"],[0.074,\"#729659\"],[0.075,\"#72965a\"],[0.076,\"#73965a\"],[0.077,\"#73975a\"],[0.078,\"#73975a\"],[0.079,\"#73975a\"],[0.08,\"#73975a\"],[0.081,\"#73975b\"],[0.082,\"#73975b\"],[0.083,\"#74975b\"],[0.084,\"#74975b\"],[0.085,\"#74975b\"],[0.086,\"#74975b\"],[0.087,\"#74985b\"],[0.088,\"#74985c\"],[0.089,\"#74985c\"],[0.09,\"#75985c\"],[0.091,\"#75985c\"],[0.092,\"#75985c\"],[0.093,\"#75985c\"],[0.094,\"#75985d\"],[0.095,\"#75985d\"],[0.096,\"#75985d\"],[0.097,\"#76995d\"],[0.098,\"#76995d\"],[0.099,\"#76995d\"],[0.1,\"#76995e\"],[0.101,\"#76995e\"],[0.102,\"#76995e\"],[0.103,\"#76995e\"],[0.104,\"#77995e\"],[0.105,\"#77995e\"],[0.106,\"#77995e\"],[0.107,\"#77995f\"],[0.108,\"#779a5f\"],[0.109,\"#779a5f\"],[0.11,\"#779a5f\"],[0.111,\"#789a5f\"],[0.112,\"#789a5f\"],[0.113,\"#789a60\"],[0.114,\"#789a60\"],[0.115,\"#789a60\"],[0.116,\"#789a60\"],[0.117,\"#789a60\"],[0.118,\"#799b60\"],[0.119,\"#799b60\"],[0.12,\"#799b61\"],[0.121,\"#799b61\"],[0.122,\"#799b61\"],[0.123,\"#799b61\"],[0.124,\"#799b61\"],[0.125,\"#7a9b61\"],[0.126,\"#7a9b62\"],[0.127,\"#7a9b62\"],[0.128,\"#7a9c62\"],[0.129,\"#7a9c62\"],[0.13,\"#7a9c62\"],[0.131,\"#7a9c62\"],[0.132,\"#7a9c62\"],[0.133,\"#7b9c63\"],[0.134,\"#7b9c63\"],[0.135,\"#7b9c63\"],[0.136,\"#7b9c63\"],[0.137,\"#7b9c63\"],[0.138,\"#7b9d63\"],[0.139,\"#7b9d64\"],[0.14,\"#7c9d64\"],[0.141,\"#7c9d64\"],[0.142,\"#7c9d64\"],[0.143,\"#7c9d64\"],[0.144,\"#7c9d64\"],[0.145,\"#7c9d64\"],[0.146,\"#7c9d65\"],[0.147,\"#7d9d65\"],[0.148,\"#7d9e65\"],[0.149,\"#7d9e65\"],[0.15,\"#7d9e65\"],[0.151,\"#7d9e65\"],[0.152,\"#7d9e66\"],[0.153,\"#7d9e66\"],[0.154,\"#7e9e66\"],[0.155,\"#7e9e66\"],[0.156,\"#7e9e66\"],[0.157,\"#7e9e66\"],[0.158,\"#7e9e66\"],[0.159,\"#7e9f67\"],[0.16,\"#7e9f67\"],[0.161,\"#7f9f67\"],[0.162,\"#7f9f67\"],[0.163,\"#7f9f67\"],[0.164,\"#7f9f67\"],[0.165,\"#7f9f68\"],[0.166,\"#7f9f68\"],[0.167,\"#7f9f68\"],[0.168,\"#809f68\"],[0.169,\"#80a068\"],[0.17,\"#80a068\"],[0.171,\"#80a069\"],[0.172,\"#80a069\"],[0.173,\"#80a069\"],[0.174,\"#80a069\"],[0.175,\"#80a069\"],[0.176,\"#81a069\"],[0.177,\"#81a069\"],[0.178,\"#81a06a\"],[0.179,\"#81a16a\"],[0.18,\"#81a16a\"],[0.181,\"#81a16a\"],[0.182,\"#81a16a\"],[0.183,\"#82a16a\"],[0.184,\"#82a16b\"],[0.185,\"#82a16b\"],[0.186,\"#82a16b\"],[0.187,\"#82a16b\"],[0.188,\"#82a16b\"],[0.189,\"#82a26b\"],[0.19,\"#83a26b\"],[0.191,\"#83a26c\"],[0.192,\"#83a26c\"],[0.193,\"#83a26c\"],[0.194,\"#83a26c\"],[0.195,\"#83a26c\"],[0.196,\"#83a26c\"],[0.197,\"#84a26d\"],[0.198,\"#84a26d\"],[0.199,\"#84a36d\"],[0.2,\"#84a36d\"],[0.201,\"#84a36d\"],[0.202,\"#84a36d\"],[0.203,\"#84a36d\"],[0.204,\"#85a36e\"],[0.205,\"#85a36e\"],[0.206,\"#85a36e\"],[0.207,\"#85a36e\"],[0.208,\"#85a36e\"],[0.209,\"#85a36e\"],[0.21,\"#85a46f\"],[0.211,\"#86a46f\"],[0.212,\"#86a46f\"],[0.213,\"#86a46f\"],[0.214,\"#86a46f\"],[0.215,\"#86a46f\"],[0.216,\"#86a46f\"],[0.217,\"#86a470\"],[0.218,\"#87a470\"],[0.219,\"#87a470\"],[0.22,\"#87a570\"],[0.221,\"#87a570\"],[0.222,\"#87a570\"],[0.223,\"#87a571\"],[0.224,\"#87a571\"],[0.225,\"#88a571\"],[0.226,\"#88a571\"],[0.227,\"#88a571\"],[0.228,\"#88a571\"],[0.229,\"#88a571\"],[0.23,\"#88a672\"],[0.231,\"#88a672\"],[0.232,\"#88a672\"],[0.233,\"#89a672\"],[0.234,\"#89a672\"],[0.235,\"#89a672\"],[0.236,\"#89a673\"],[0.237,\"#89a673\"],[0.238,\"#89a673\"],[0.239,\"#89a673\"],[0.24,\"#8aa773\"],[0.241,\"#8aa773\"],[0.242,\"#8aa774\"],[0.243,\"#8aa774\"],[0.244,\"#8aa774\"],[0.245,\"#8aa774\"],[0.246,\"#8aa774\"],[0.247,\"#8ba774\"],[0.248,\"#8ba774\"],[0.249,\"#8ba775\"],[0.25,\"#8ba875\"],[0.251,\"#8ba875\"],[0.252,\"#8ba875\"],[0.253,\"#8ba875\"],[0.254,\"#8ca875\"],[0.255,\"#8ca876\"],[0.256,\"#8ca876\"],[0.257,\"#8ca876\"],[0.258,\"#8ca876\"],[0.259,\"#8ca876\"],[0.26,\"#8ca876\"],[0.261,\"#8da976\"],[0.262,\"#8da977\"],[0.263,\"#8da977\"],[0.264,\"#8da977\"],[0.265,\"#8da977\"],[0.266,\"#8da977\"],[0.267,\"#8da977\"],[0.268,\"#8ea978\"],[0.269,\"#8ea978\"],[0.27,\"#8ea978\"],[0.271,\"#8eaa78\"],[0.272,\"#8eaa78\"],[0.273,\"#8eaa78\"],[0.274,\"#8eaa78\"],[0.275,\"#8eaa79\"],[0.276,\"#8faa79\"],[0.277,\"#8faa79\"],[0.278,\"#8faa79\"],[0.279,\"#8faa79\"],[0.28,\"#8faa79\"],[0.281,\"#8fab7a\"],[0.282,\"#8fab7a\"],[0.283,\"#90ab7a\"],[0.284,\"#90ab7a\"],[0.285,\"#90ab7a\"],[0.286,\"#90ab7a\"],[0.287,\"#90ab7a\"],[0.288,\"#90ab7b\"],[0.289,\"#90ab7b\"],[0.29,\"#91ab7b\"],[0.291,\"#91ac7b\"],[0.292,\"#91ac7b\"],[0.293,\"#91ac7b\"],[0.294,\"#91ac7c\"],[0.295,\"#91ac7c\"],[0.296,\"#91ac7c\"],[0.297,\"#92ac7c\"],[0.298,\"#92ac7c\"],[0.299,\"#92ac7c\"],[0.3,\"#92ac7c\"],[0.301,\"#92ac7d\"],[0.302,\"#92ad7d\"],[0.303,\"#92ad7d\"],[0.304,\"#93ad7d\"],[0.305,\"#93ad7d\"],[0.306,\"#93ad7d\"],[0.307,\"#93ad7e\"],[0.308,\"#93ad7e\"],[0.309,\"#93ad7e\"],[0.31,\"#93ad7e\"],[0.311,\"#94ad7e\"],[0.312,\"#94ae7e\"],[0.313,\"#94ae7f\"],[0.314,\"#94ae7f\"],[0.315,\"#94ae7f\"],[0.316,\"#94ae7f\"],[0.317,\"#94ae7f\"],[0.318,\"#95ae7f\"],[0.319,\"#95ae7f\"],[0.32,\"#95ae80\"],[0.321,\"#95ae80\"],[0.322,\"#95af80\"],[0.323,\"#95af80\"],[0.324,\"#95af80\"],[0.325,\"#96af80\"],[0.326,\"#96af81\"],[0.327,\"#96af81\"],[0.328,\"#96af81\"],[0.329,\"#96af81\"],[0.33,\"#96af81\"],[0.331,\"#96af81\"],[0.332,\"#96b081\"],[0.333,\"#97b082\"],[0.334,\"#97b082\"],[0.335,\"#97b082\"],[0.336,\"#97b082\"],[0.337,\"#97b082\"],[0.338,\"#97b082\"],[0.339,\"#97b083\"],[0.34,\"#98b083\"],[0.341,\"#98b083\"],[0.342,\"#98b183\"],[0.343,\"#98b183\"],[0.344,\"#98b183\"],[0.345,\"#98b183\"],[0.346,\"#98b184\"],[0.347,\"#99b184\"],[0.348,\"#99b184\"],[0.349,\"#99b184\"],[0.35,\"#99b184\"],[0.351,\"#99b184\"],[0.352,\"#99b185\"],[0.353,\"#99b285\"],[0.354,\"#9ab285\"],[0.355,\"#9ab285\"],[0.356,\"#9ab285\"],[0.357,\"#9ab285\"],[0.358,\"#9ab285\"],[0.359,\"#9ab286\"],[0.36,\"#9ab286\"],[0.361,\"#9bb286\"],[0.362,\"#9bb286\"],[0.363,\"#9bb386\"],[0.364,\"#9bb386\"],[0.365,\"#9bb387\"],[0.366,\"#9bb387\"],[0.367,\"#9bb387\"],[0.368,\"#9cb387\"],[0.369,\"#9cb387\"],[0.37,\"#9cb387\"],[0.371,\"#9cb388\"],[0.372,\"#9cb388\"],[0.373,\"#9cb488\"],[0.374,\"#9cb488\"],[0.375,\"#9cb488\"],[0.376,\"#9db488\"],[0.377,\"#9db488\"],[0.378,\"#9db489\"],[0.379,\"#9db489\"],[0.38,\"#9db489\"],[0.381,\"#9db489\"],[0.382,\"#9db489\"],[0.383,\"#9eb589\"],[0.384,\"#9eb58a\"],[0.385,\"#9eb58a\"],[0.386,\"#9eb58a\"],[0.387,\"#9eb58a\"],[0.388,\"#9eb58a\"],[0.389,\"#9eb58a\"],[0.39,\"#9fb58a\"],[0.391,\"#9fb58b\"],[0.392,\"#9fb58b\"],[0.393,\"#9fb68b\"],[0.394,\"#9fb68b\"],[0.395,\"#9fb68b\"],[0.396,\"#9fb68b\"],[0.397,\"#a0b68c\"],[0.398,\"#a0b68c\"],[0.399,\"#a0b68c\"],[0.4,\"#a0b68c\"],[0.401,\"#a0b68c\"],[0.402,\"#a0b68c\"],[0.403,\"#a0b68c\"],[0.404,\"#a1b78d\"],[0.405,\"#a1b78d\"],[0.406,\"#a1b78d\"],[0.407,\"#a1b78d\"],[0.408,\"#a1b78d\"],[0.409,\"#a1b78d\"],[0.41,\"#a1b78e\"],[0.411,\"#a2b78e\"],[0.412,\"#a2b78e\"],[0.413,\"#a2b78e\"],[0.414,\"#a2b88e\"],[0.415,\"#a2b88e\"],[0.416,\"#a2b88e\"],[0.417,\"#a2b88f\"],[0.418,\"#a3b88f\"],[0.419,\"#a3b88f\"],[0.42,\"#a3b88f\"],[0.421,\"#a3b88f\"],[0.422,\"#a3b88f\"],[0.423,\"#a3b890\"],[0.424,\"#a3b990\"],[0.425,\"#a3b990\"],[0.426,\"#a4b990\"],[0.427,\"#a4b990\"],[0.428,\"#a4b990\"],[0.429,\"#a4b990\"],[0.43,\"#a4b991\"],[0.431,\"#a4b991\"],[0.432,\"#a4b991\"],[0.433,\"#a5b991\"],[0.434,\"#a5ba91\"],[0.435,\"#a5ba91\"],[0.436,\"#a5ba92\"],[0.437,\"#a5ba92\"],[0.438,\"#a5ba92\"],[0.439,\"#a5ba92\"],[0.44,\"#a6ba92\"],[0.441,\"#a6ba92\"],[0.442,\"#a6ba93\"],[0.443,\"#a6ba93\"],[0.444,\"#a6bb93\"],[0.445,\"#a6bb93\"],[0.446,\"#a6bb93\"],[0.447,\"#a7bb93\"],[0.448,\"#a7bb93\"],[0.449,\"#a7bb94\"],[0.45,\"#a7bb94\"],[0.451,\"#a7bb94\"],[0.452,\"#a7bb94\"],[0.453,\"#a7bb94\"],[0.454,\"#a8bb94\"],[0.455,\"#a8bc95\"],[0.456,\"#a8bc95\"],[0.457,\"#a8bc95\"],[0.458,\"#a8bc95\"],[0.459,\"#a8bc95\"],[0.46,\"#a8bc95\"],[0.461,\"#a9bc95\"],[0.462,\"#a9bc96\"],[0.463,\"#a9bc96\"],[0.464,\"#a9bc96\"],[0.465,\"#a9bd96\"],[0.466,\"#a9bd96\"],[0.467,\"#a9bd96\"],[0.468,\"#aabd97\"],[0.469,\"#aabd97\"],[0.47,\"#aabd97\"],[0.471,\"#aabd97\"],[0.472,\"#aabd97\"],[0.473,\"#aabd97\"],[0.474,\"#aabd97\"],[0.475,\"#abbe98\"],[0.476,\"#abbe98\"],[0.477,\"#abbe98\"],[0.478,\"#abbe98\"],[0.479,\"#abbe98\"],[0.48,\"#abbe98\"],[0.481,\"#abbe99\"],[0.482,\"#abbe99\"],[0.483,\"#acbe99\"],[0.484,\"#acbe99\"],[0.485,\"#acbf99\"],[0.486,\"#acbf99\"],[0.487,\"#acbf99\"],[0.488,\"#acbf9a\"],[0.489,\"#acbf9a\"],[0.49,\"#adbf9a\"],[0.491,\"#adbf9a\"],[0.492,\"#adbf9a\"],[0.493,\"#adbf9a\"],[0.494,\"#adbf9b\"],[0.495,\"#adc09b\"],[0.496,\"#adc09b\"],[0.497,\"#aec09b\"],[0.498,\"#aec09b\"],[0.499,\"#aec09b\"],[0.5,\"#aec09c\"],[0.501,\"#aec09c\"],[0.502,\"#aec09c\"],[0.503,\"#aec09c\"],[0.504,\"#afc09c\"],[0.505,\"#afc09c\"],[0.506,\"#afc19c\"],[0.507,\"#afc19d\"],[0.508,\"#afc19d\"],[0.509,\"#afc19d\"],[0.51,\"#afc19d\"],[0.511,\"#b0c19d\"],[0.512,\"#b0c19d\"],[0.513,\"#b0c19e\"],[0.514,\"#b0c19e\"],[0.515,\"#b0c19e\"],[0.516,\"#b0c29e\"],[0.517,\"#b0c29e\"],[0.518,\"#b1c29e\"],[0.519,\"#b1c29e\"],[0.52,\"#b1c29f\"],[0.521,\"#b1c29f\"],[0.522,\"#b1c29f\"],[0.523,\"#b1c29f\"],[0.524,\"#b1c29f\"],[0.525,\"#b2c29f\"],[0.526,\"#b2c3a0\"],[0.527,\"#b2c3a0\"],[0.528,\"#b2c3a0\"],[0.529,\"#b2c3a0\"],[0.53,\"#b2c3a0\"],[0.531,\"#b2c3a0\"],[0.532,\"#b2c3a0\"],[0.533,\"#b3c3a1\"],[0.534,\"#b3c3a1\"],[0.535,\"#b3c3a1\"],[0.536,\"#b3c4a1\"],[0.537,\"#b3c4a1\"],[0.538,\"#b3c4a1\"],[0.539,\"#b3c4a2\"],[0.54,\"#b4c4a2\"],[0.541,\"#b4c4a2\"],[0.542,\"#b4c4a2\"],[0.543,\"#b4c4a2\"],[0.544,\"#b4c4a2\"],[0.545,\"#b4c4a2\"],[0.546,\"#b4c5a3\"],[0.547,\"#b5c5a3\"],[0.548,\"#b5c5a3\"],[0.549,\"#b5c5a3\"],[0.55,\"#b5c5a3\"],[0.551,\"#b5c5a3\"],[0.552,\"#b5c5a4\"],[0.553,\"#b5c5a4\"],[0.554,\"#b6c5a4\"],[0.555,\"#b6c5a4\"],[0.556,\"#b6c5a4\"],[0.557,\"#b6c6a4\"],[0.558,\"#b6c6a4\"],[0.559,\"#b6c6a5\"],[0.56,\"#b6c6a5\"],[0.561,\"#b7c6a5\"],[0.562,\"#b7c6a5\"],[0.563,\"#b7c6a5\"],[0.564,\"#b7c6a5\"],[0.565,\"#b7c6a6\"],[0.566,\"#b7c6a6\"],[0.567,\"#b7c7a6\"],[0.568,\"#b8c7a6\"],[0.569,\"#b8c7a6\"],[0.57,\"#b8c7a6\"],[0.571,\"#b8c7a7\"],[0.572,\"#b8c7a7\"],[0.573,\"#b8c7a7\"],[0.574,\"#b8c7a7\"],[0.575,\"#b8c7a7\"],[0.576,\"#b9c7a7\"],[0.577,\"#b9c8a7\"],[0.578,\"#b9c8a8\"],[0.579,\"#b9c8a8\"],[0.58,\"#b9c8a8\"],[0.581,\"#b9c8a8\"],[0.582,\"#b9c8a8\"],[0.583,\"#bac8a8\"],[0.584,\"#bac8a9\"],[0.585,\"#bac8a9\"],[0.586,\"#bac8a9\"],[0.587,\"#bac9a9\"],[0.588,\"#bac9a9\"],[0.589,\"#bac9a9\"],[0.59,\"#bbc9a9\"],[0.591,\"#bbc9aa\"],[0.592,\"#bbc9aa\"],[0.593,\"#bbc9aa\"],[0.594,\"#bbc9aa\"],[0.595,\"#bbc9aa\"],[0.596,\"#bbc9aa\"],[0.597,\"#bccaab\"],[0.598,\"#bccaab\"],[0.599,\"#bccaab\"],[0.6,\"#bccaab\"],[0.601,\"#bccaab\"],[0.602,\"#bccaab\"],[0.603,\"#bccaab\"],[0.604,\"#bdcaac\"],[0.605,\"#bdcaac\"],[0.606,\"#bdcaac\"],[0.607,\"#bdcaac\"],[0.608,\"#bdcbac\"],[0.609,\"#bdcbac\"],[0.61,\"#bdcbad\"],[0.611,\"#becbad\"],[0.612,\"#becbad\"],[0.613,\"#becbad\"],[0.614,\"#becbad\"],[0.615,\"#becbad\"],[0.616,\"#becbad\"],[0.617,\"#becbae\"],[0.618,\"#bfccae\"],[0.619,\"#bfccae\"],[0.62,\"#bfccae\"],[0.621,\"#bfccae\"],[0.622,\"#bfccae\"],[0.623,\"#bfccaf\"],[0.624,\"#bfccaf\"],[0.625,\"#c0ccaf\"],[0.626,\"#c0ccaf\"],[0.627,\"#c0ccaf\"],[0.628,\"#c0cdaf\"],[0.629,\"#c0cdaf\"],[0.63,\"#c0cdb0\"],[0.631,\"#c0cdb0\"],[0.632,\"#c0cdb0\"],[0.633,\"#c1cdb0\"],[0.634,\"#c1cdb0\"],[0.635,\"#c1cdb0\"],[0.636,\"#c1cdb1\"],[0.637,\"#c1cdb1\"],[0.638,\"#c1ceb1\"],[0.639,\"#c1ceb1\"],[0.64,\"#c2ceb1\"],[0.641,\"#c2ceb1\"],[0.642,\"#c2ceb2\"],[0.643,\"#c2ceb2\"],[0.644,\"#c2ceb2\"],[0.645,\"#c2ceb2\"],[0.646,\"#c2ceb2\"],[0.647,\"#c3ceb2\"],[0.648,\"#c3cfb2\"],[0.649,\"#c3cfb3\"],[0.65,\"#c3cfb3\"],[0.651,\"#c3cfb3\"],[0.652,\"#c3cfb3\"],[0.653,\"#c3cfb3\"],[0.654,\"#c4cfb3\"],[0.655,\"#c4cfb4\"],[0.656,\"#c4cfb4\"],[0.657,\"#c4cfb4\"],[0.658,\"#c4cfb4\"],[0.659,\"#c4d0b4\"],[0.66,\"#c4d0b4\"],[0.661,\"#c5d0b4\"],[0.662,\"#c5d0b5\"],[0.663,\"#c5d0b5\"],[0.664,\"#c5d0b5\"],[0.665,\"#c5d0b5\"],[0.666,\"#c5d0b5\"],[0.667,\"#c5d0b5\"],[0.668,\"#c6d0b6\"],[0.669,\"#c6d1b6\"],[0.67,\"#c6d1b6\"],[0.671,\"#c6d1b6\"],[0.672,\"#c6d1b6\"],[0.673,\"#c6d1b6\"],[0.674,\"#c6d1b6\"],[0.675,\"#c7d1b7\"],[0.676,\"#c7d1b7\"],[0.677,\"#c7d1b7\"],[0.678,\"#c7d1b7\"],[0.679,\"#c7d2b7\"],[0.68,\"#c7d2b7\"],[0.681,\"#c7d2b8\"],[0.682,\"#c7d2b8\"],[0.683,\"#c8d2b8\"],[0.684,\"#c8d2b8\"],[0.685,\"#c8d2b8\"],[0.686,\"#c8d2b8\"],[0.687,\"#c8d2b8\"],[0.688,\"#c8d2b9\"],[0.689,\"#c8d3b9\"],[0.69,\"#c9d3b9\"],[0.691,\"#c9d3b9\"],[0.692,\"#c9d3b9\"],[0.693,\"#c9d3b9\"],[0.694,\"#c9d3ba\"],[0.695,\"#c9d3ba\"],[0.696,\"#c9d3ba\"],[0.697,\"#cad3ba\"],[0.698,\"#cad3ba\"],[0.699,\"#cad4ba\"],[0.7,\"#cad4ba\"],[0.701,\"#cad4bb\"],[0.702,\"#cad4bb\"],[0.703,\"#cad4bb\"],[0.704,\"#cbd4bb\"],[0.705,\"#cbd4bb\"],[0.706,\"#cbd4bb\"],[0.707,\"#cbd4bc\"],[0.708,\"#cbd4bc\"],[0.709,\"#cbd4bc\"],[0.71,\"#cbd5bc\"],[0.711,\"#ccd5bc\"],[0.712,\"#ccd5bc\"],[0.713,\"#ccd5bd\"],[0.714,\"#ccd5bd\"],[0.715,\"#ccd5bd\"],[0.716,\"#ccd5bd\"],[0.717,\"#ccd5bd\"],[0.718,\"#cdd5bd\"],[0.719,\"#cdd5bd\"],[0.72,\"#cdd6be\"],[0.721,\"#cdd6be\"],[0.722,\"#cdd6be\"],[0.723,\"#cdd6be\"],[0.724,\"#cdd6be\"],[0.725,\"#ced6be\"],[0.726,\"#ced6bf\"],[0.727,\"#ced6bf\"],[0.728,\"#ced6bf\"],[0.729,\"#ced6bf\"],[0.73,\"#ced7bf\"],[0.731,\"#ced7bf\"],[0.732,\"#ced7bf\"],[0.733,\"#cfd7c0\"],[0.734,\"#cfd7c0\"],[0.735,\"#cfd7c0\"],[0.736,\"#cfd7c0\"],[0.737,\"#cfd7c0\"],[0.738,\"#cfd7c0\"],[0.739,\"#cfd7c1\"],[0.74,\"#d0d8c1\"],[0.741,\"#d0d8c1\"],[0.742,\"#d0d8c1\"],[0.743,\"#d0d8c1\"],[0.744,\"#d0d8c1\"],[0.745,\"#d0d8c1\"],[0.746,\"#d0d8c2\"],[0.747,\"#d1d8c2\"],[0.748,\"#d1d8c2\"],[0.749,\"#d1d8c2\"],[0.75,\"#d1d8c2\"],[0.751,\"#d1d9c2\"],[0.752,\"#d1d9c3\"],[0.753,\"#d1d9c3\"],[0.754,\"#d2d9c3\"],[0.755,\"#d2d9c3\"],[0.756,\"#d2d9c3\"],[0.757,\"#d2d9c3\"],[0.758,\"#d2d9c3\"],[0.759,\"#d2d9c4\"],[0.76,\"#d2d9c4\"],[0.761,\"#d3dac4\"],[0.762,\"#d3dac4\"],[0.763,\"#d3dac4\"],[0.764,\"#d3dac4\"],[0.765,\"#d3dac5\"],[0.766,\"#d3dac5\"],[0.767,\"#d3dac5\"],[0.768,\"#d4dac5\"],[0.769,\"#d4dac5\"],[0.77,\"#d4dac5\"],[0.771,\"#d4dbc6\"],[0.772,\"#d4dbc6\"],[0.773,\"#d4dbc6\"],[0.774,\"#d4dbc6\"],[0.775,\"#d4dbc6\"],[0.776,\"#d5dbc6\"],[0.777,\"#d5dbc6\"],[0.778,\"#d5dbc7\"],[0.779,\"#d5dbc7\"],[0.78,\"#d5dbc7\"],[0.781,\"#d5dcc7\"],[0.782,\"#d5dcc7\"],[0.783,\"#d6dcc7\"],[0.784,\"#d6dcc8\"],[0.785,\"#d6dcc8\"],[0.786,\"#d6dcc8\"],[0.787,\"#d6dcc8\"],[0.788,\"#d6dcc8\"],[0.789,\"#d6dcc8\"],[0.79,\"#d7dcc8\"],[0.791,\"#d7ddc9\"],[0.792,\"#d7ddc9\"],[0.793,\"#d7ddc9\"],[0.794,\"#d7ddc9\"],[0.795,\"#d7ddc9\"],[0.796,\"#d7ddc9\"],[0.797,\"#d8ddca\"],[0.798,\"#d8ddca\"],[0.799,\"#d8ddca\"],[0.8,\"#d8ddca\"],[0.801,\"#d8ddca\"],[0.802,\"#d8deca\"],[0.803,\"#d8deca\"],[0.804,\"#d9decb\"],[0.805,\"#d9decb\"],[0.806,\"#d9decb\"],[0.807,\"#d9decb\"],[0.808,\"#d9decb\"],[0.809,\"#d9decb\"],[0.81,\"#d9decc\"],[0.811,\"#dadecc\"],[0.812,\"#dadfcc\"],[0.813,\"#dadfcc\"],[0.814,\"#dadfcc\"],[0.815,\"#dadfcc\"],[0.816,\"#dadfcc\"],[0.817,\"#dadfcd\"],[0.818,\"#dbdfcd\"],[0.819,\"#dbdfcd\"],[0.82,\"#dbdfcd\"],[0.821,\"#dbdfcd\"],[0.822,\"#dbe0cd\"],[0.823,\"#dbe0ce\"],[0.824,\"#dbe0ce\"],[0.825,\"#dce0ce\"],[0.826,\"#dce0ce\"],[0.827,\"#dce0ce\"],[0.828,\"#dce0ce\"],[0.829,\"#dce0ce\"],[0.83,\"#dce0cf\"],[0.831,\"#dce0cf\"],[0.832,\"#dce1cf\"],[0.833,\"#dde1cf\"],[0.834,\"#dde1cf\"],[0.835,\"#dde1cf\"],[0.836,\"#dde1d0\"],[0.837,\"#dde1d0\"],[0.838,\"#dde1d0\"],[0.839,\"#dde1d0\"],[0.84,\"#dee1d0\"],[0.841,\"#dee1d0\"],[0.842,\"#dee2d1\"],[0.843,\"#dee2d1\"],[0.844,\"#dee2d1\"],[0.845,\"#dee2d1\"],[0.846,\"#dee2d1\"],[0.847,\"#dfe2d1\"],[0.848,\"#dfe2d1\"],[0.849,\"#dfe2d2\"],[0.85,\"#dfe2d2\"],[0.851,\"#dfe2d2\"],[0.852,\"#dfe2d2\"],[0.853,\"#dfe3d2\"],[0.854,\"#e0e3d2\"],[0.855,\"#e0e3d3\"],[0.856,\"#e0e3d3\"],[0.857,\"#e0e3d3\"],[0.858,\"#e0e3d3\"],[0.859,\"#e0e3d3\"],[0.86,\"#e0e3d3\"],[0.861,\"#e1e3d3\"],[0.862,\"#e1e3d4\"],[0.863,\"#e1e4d4\"],[0.864,\"#e1e4d4\"],[0.865,\"#e1e4d4\"],[0.866,\"#e1e4d4\"],[0.867,\"#e1e4d4\"],[0.868,\"#e2e4d5\"],[0.869,\"#e2e4d5\"],[0.87,\"#e2e4d5\"],[0.871,\"#e2e4d5\"],[0.872,\"#e2e4d5\"],[0.873,\"#e2e5d5\"],[0.874,\"#e2e5d5\"],[0.875,\"#e3e5d6\"],[0.876,\"#e3e5d6\"],[0.877,\"#e3e5d6\"],[0.878,\"#e3e5d6\"],[0.879,\"#e3e5d6\"],[0.88,\"#e3e5d6\"],[0.881,\"#e3e5d7\"],[0.882,\"#e3e5d7\"],[0.883,\"#e4e6d7\"],[0.884,\"#e4e6d7\"],[0.885,\"#e4e6d7\"],[0.886,\"#e4e6d7\"],[0.887,\"#e4e6d7\"],[0.888,\"#e4e6d8\"],[0.889,\"#e4e6d8\"],[0.89,\"#e5e6d8\"],[0.891,\"#e5e6d8\"],[0.892,\"#e5e6d8\"],[0.893,\"#e5e7d8\"],[0.894,\"#e5e7d9\"],[0.895,\"#e5e7d9\"],[0.896,\"#e5e7d9\"],[0.897,\"#e6e7d9\"],[0.898,\"#e6e7d9\"],[0.899,\"#e6e7d9\"],[0.9,\"#e6e7da\"],[0.901,\"#e6e7da\"],[0.902,\"#e6e7da\"],[0.903,\"#e6e7da\"],[0.904,\"#e7e8da\"],[0.905,\"#e7e8da\"],[0.906,\"#e7e8da\"],[0.907,\"#e7e8db\"],[0.908,\"#e7e8db\"],[0.909,\"#e7e8db\"],[0.91,\"#e7e8db\"],[0.911,\"#e8e8db\"],[0.912,\"#e8e8db\"],[0.913,\"#e8e8dc\"],[0.914,\"#e8e9dc\"],[0.915,\"#e8e9dc\"],[0.916,\"#e8e9dc\"],[0.917,\"#e8e9dc\"],[0.918,\"#e9e9dc\"],[0.919,\"#e9e9dc\"],[0.92,\"#e9e9dd\"],[0.921,\"#e9e9dd\"],[0.922,\"#e9e9dd\"],[0.923,\"#e9e9dd\"],[0.924,\"#e9eadd\"],[0.925,\"#eaeadd\"],[0.926,\"#eaeade\"],[0.927,\"#eaeade\"],[0.928,\"#eaeade\"],[0.929,\"#eaeade\"],[0.93,\"#eaeade\"],[0.931,\"#eaeade\"],[0.932,\"#eaeade\"],[0.933,\"#ebeadf\"],[0.934,\"#ebebdf\"],[0.935,\"#ebebdf\"],[0.936,\"#ebebdf\"],[0.937,\"#ebebdf\"],[0.938,\"#ebebdf\"],[0.939,\"#ebebe0\"],[0.94,\"#ecebe0\"],[0.941,\"#ecebe0\"],[0.942,\"#ecebe0\"],[0.943,\"#ecebe0\"],[0.944,\"#ecece0\"],[0.945,\"#ecece0\"],[0.946,\"#ecece1\"],[0.947,\"#edece1\"],[0.948,\"#edece1\"],[0.949,\"#edece1\"],[0.95,\"#edece1\"],[0.951,\"#edece1\"],[0.952,\"#edece2\"],[0.953,\"#edece2\"],[0.954,\"#eeece2\"],[0.955,\"#eeede2\"],[0.956,\"#eeede2\"],[0.957,\"#eeede2\"],[0.958,\"#eeede2\"],[0.959,\"#eeede3\"],[0.96,\"#eeede3\"],[0.961,\"#efede3\"],[0.962,\"#efede3\"],[0.963,\"#efede3\"],[0.964,\"#efede3\"],[0.965,\"#efeee4\"],[0.966,\"#efeee4\"],[0.967,\"#efeee4\"],[0.968,\"#f0eee4\"],[0.969,\"#f0eee4\"],[0.97,\"#f0eee4\"],[0.971,\"#f0eee5\"],[0.972,\"#f0eee5\"],[0.973,\"#f0eee5\"],[0.974,\"#f0eee5\"],[0.975,\"#f1efe5\"],[0.976,\"#f1efe5\"],[0.977,\"#f1efe5\"],[0.978,\"#f1efe6\"],[0.979,\"#f1efe6\"],[0.98,\"#f1efe6\"],[0.981,\"#f1efe6\"],[0.982,\"#f1efe6\"],[0.983,\"#f2efe6\"],[0.984,\"#f2efe7\"],[0.985,\"#f2f0e7\"],[0.986,\"#f2f0e7\"],[0.987,\"#f2f0e7\"],[0.988,\"#f2f0e7\"],[0.989,\"#f2f0e7\"],[0.99,\"#f3f0e7\"],[0.991,\"#f3f0e8\"],[0.992,\"#f3f0e8\"],[0.993,\"#f3f0e8\"],[0.994,\"#f3f0e8\"],[0.995,\"#f3f1e8\"],[0.996,\"#f3f1e8\"],[0.997,\"#f4f1e9\"],[0.998,\"#f4f1e9\"],[0.999,\"#f4f1e9\"],[1.0,\"#f4f1e9\"]],\"x\":[\"fixed acidity\",\"volatile acidity\",\"residual sugar\",\"chlorides\",\"total sulfur dioxide\"],\"y\":[\"fixed acidity\",\"volatile acidity\",\"residual sugar\",\"chlorides\",\"total sulfur dioxide\"],\"z\":[[1.0,-0.2561308947703812,0.11477672449492153,0.09370518632130556,-0.11318144304548165],[-0.2561308947703812,1.0,0.0019178819627909175,0.06129777247646159,0.07647000482092811],[0.11477672449492153,0.0019178819627909175,1.0,0.05560953520353229,0.20302788169710137],[0.09370518632130556,0.06129777247646159,0.05560953520353229,1.0,0.04740046825907547],[-0.11318144304548165,0.07647000482092811,0.20302788169710137,0.04740046825907547,1.0]],\"type\":\"heatmap\"}],                        {\"template\":{\"data\":{\"barpolar\":[{\"marker\":{\"line\":{\"color\":\"white\",\"width\":0.5},\"pattern\":{\"fillmode\":\"overlay\",\"size\":10,\"solidity\":0.2}},\"type\":\"barpolar\"}],\"bar\":[{\"error_x\":{\"color\":\"#2a3f5f\"},\"error_y\":{\"color\":\"#2a3f5f\"},\"marker\":{\"line\":{\"color\":\"white\",\"width\":0.5},\"pattern\":{\"fillmode\":\"overlay\",\"size\":10,\"solidity\":0.2}},\"type\":\"bar\"}],\"carpet\":[{\"aaxis\":{\"endlinecolor\":\"#2a3f5f\",\"gridcolor\":\"#C8D4E3\",\"linecolor\":\"#C8D4E3\",\"minorgridcolor\":\"#C8D4E3\",\"startlinecolor\":\"#2a3f5f\"},\"baxis\":{\"endlinecolor\":\"#2a3f5f\",\"gridcolor\":\"#C8D4E3\",\"linecolor\":\"#C8D4E3\",\"minorgridcolor\":\"#C8D4E3\",\"startlinecolor\":\"#2a3f5f\"},\"type\":\"carpet\"}],\"choropleth\":[{\"colorbar\":{\"outlinewidth\":0,\"ticks\":\"\"},\"type\":\"choropleth\"}],\"contourcarpet\":[{\"colorbar\":{\"outlinewidth\":0,\"ticks\":\"\"},\"type\":\"contourcarpet\"}],\"contour\":[{\"colorbar\":{\"outlinewidth\":0,\"ticks\":\"\"},\"colorscale\":[[0.0,\"#0d0887\"],[0.1111111111111111,\"#46039f\"],[0.2222222222222222,\"#7201a8\"],[0.3333333333333333,\"#9c179e\"],[0.4444444444444444,\"#bd3786\"],[0.5555555555555556,\"#d8576b\"],[0.6666666666666666,\"#ed7953\"],[0.7777777777777778,\"#fb9f3a\"],[0.8888888888888888,\"#fdca26\"],[1.0,\"#f0f921\"]],\"type\":\"contour\"}],\"heatmapgl\":[{\"colorbar\":{\"outlinewidth\":0,\"ticks\":\"\"},\"colorscale\":[[0.0,\"#0d0887\"],[0.1111111111111111,\"#46039f\"],[0.2222222222222222,\"#7201a8\"],[0.3333333333333333,\"#9c179e\"],[0.4444444444444444,\"#bd3786\"],[0.5555555555555556,\"#d8576b\"],[0.6666666666666666,\"#ed7953\"],[0.7777777777777778,\"#fb9f3a\"],[0.8888888888888888,\"#fdca26\"],[1.0,\"#f0f921\"]],\"type\":\"heatmapgl\"}],\"heatmap\":[{\"colorbar\":{\"outlinewidth\":0,\"ticks\":\"\"},\"colorscale\":[[0.0,\"#0d0887\"],[0.1111111111111111,\"#46039f\"],[0.2222222222222222,\"#7201a8\"],[0.3333333333333333,\"#9c179e\"],[0.4444444444444444,\"#bd3786\"],[0.5555555555555556,\"#d8576b\"],[0.6666666666666666,\"#ed7953\"],[0.7777777777777778,\"#fb9f3a\"],[0.8888888888888888,\"#fdca26\"],[1.0,\"#f0f921\"]],\"type\":\"heatmap\"}],\"histogram2dcontour\":[{\"colorbar\":{\"outlinewidth\":0,\"ticks\":\"\"},\"colorscale\":[[0.0,\"#0d0887\"],[0.1111111111111111,\"#46039f\"],[0.2222222222222222,\"#7201a8\"],[0.3333333333333333,\"#9c179e\"],[0.4444444444444444,\"#bd3786\"],[0.5555555555555556,\"#d8576b\"],[0.6666666666666666,\"#ed7953\"],[0.7777777777777778,\"#fb9f3a\"],[0.8888888888888888,\"#fdca26\"],[1.0,\"#f0f921\"]],\"type\":\"histogram2dcontour\"}],\"histogram2d\":[{\"colorbar\":{\"outlinewidth\":0,\"ticks\":\"\"},\"colorscale\":[[0.0,\"#0d0887\"],[0.1111111111111111,\"#46039f\"],[0.2222222222222222,\"#7201a8\"],[0.3333333333333333,\"#9c179e\"],[0.4444444444444444,\"#bd3786\"],[0.5555555555555556,\"#d8576b\"],[0.6666666666666666,\"#ed7953\"],[0.7777777777777778,\"#fb9f3a\"],[0.8888888888888888,\"#fdca26\"],[1.0,\"#f0f921\"]],\"type\":\"histogram2d\"}],\"histogram\":[{\"marker\":{\"pattern\":{\"fillmode\":\"overlay\",\"size\":10,\"solidity\":0.2}},\"type\":\"histogram\"}],\"mesh3d\":[{\"colorbar\":{\"outlinewidth\":0,\"ticks\":\"\"},\"type\":\"mesh3d\"}],\"parcoords\":[{\"line\":{\"colorbar\":{\"outlinewidth\":0,\"ticks\":\"\"}},\"type\":\"parcoords\"}],\"pie\":[{\"automargin\":true,\"type\":\"pie\"}],\"scatter3d\":[{\"line\":{\"colorbar\":{\"outlinewidth\":0,\"ticks\":\"\"}},\"marker\":{\"colorbar\":{\"outlinewidth\":0,\"ticks\":\"\"}},\"type\":\"scatter3d\"}],\"scattercarpet\":[{\"marker\":{\"colorbar\":{\"outlinewidth\":0,\"ticks\":\"\"}},\"type\":\"scattercarpet\"}],\"scattergeo\":[{\"marker\":{\"colorbar\":{\"outlinewidth\":0,\"ticks\":\"\"}},\"type\":\"scattergeo\"}],\"scattergl\":[{\"marker\":{\"colorbar\":{\"outlinewidth\":0,\"ticks\":\"\"}},\"type\":\"scattergl\"}],\"scattermapbox\":[{\"marker\":{\"colorbar\":{\"outlinewidth\":0,\"ticks\":\"\"}},\"type\":\"scattermapbox\"}],\"scatterpolargl\":[{\"marker\":{\"colorbar\":{\"outlinewidth\":0,\"ticks\":\"\"}},\"type\":\"scatterpolargl\"}],\"scatterpolar\":[{\"marker\":{\"colorbar\":{\"outlinewidth\":0,\"ticks\":\"\"}},\"type\":\"scatterpolar\"}],\"scatter\":[{\"marker\":{\"colorbar\":{\"outlinewidth\":0,\"ticks\":\"\"}},\"type\":\"scatter\"}],\"scatterternary\":[{\"marker\":{\"colorbar\":{\"outlinewidth\":0,\"ticks\":\"\"}},\"type\":\"scatterternary\"}],\"surface\":[{\"colorbar\":{\"outlinewidth\":0,\"ticks\":\"\"},\"colorscale\":[[0.0,\"#0d0887\"],[0.1111111111111111,\"#46039f\"],[0.2222222222222222,\"#7201a8\"],[0.3333333333333333,\"#9c179e\"],[0.4444444444444444,\"#bd3786\"],[0.5555555555555556,\"#d8576b\"],[0.6666666666666666,\"#ed7953\"],[0.7777777777777778,\"#fb9f3a\"],[0.8888888888888888,\"#fdca26\"],[1.0,\"#f0f921\"]],\"type\":\"surface\"}],\"table\":[{\"cells\":{\"fill\":{\"color\":\"#EBF0F8\"},\"line\":{\"color\":\"white\"}},\"header\":{\"fill\":{\"color\":\"#C8D4E3\"},\"line\":{\"color\":\"white\"}},\"type\":\"table\"}]},\"layout\":{\"annotationdefaults\":{\"arrowcolor\":\"#2a3f5f\",\"arrowhead\":0,\"arrowwidth\":1},\"autotypenumbers\":\"strict\",\"coloraxis\":{\"colorbar\":{\"outlinewidth\":0,\"ticks\":\"\"}},\"colorscale\":{\"diverging\":[[0,\"#8e0152\"],[0.1,\"#c51b7d\"],[0.2,\"#de77ae\"],[0.3,\"#f1b6da\"],[0.4,\"#fde0ef\"],[0.5,\"#f7f7f7\"],[0.6,\"#e6f5d0\"],[0.7,\"#b8e186\"],[0.8,\"#7fbc41\"],[0.9,\"#4d9221\"],[1,\"#276419\"]],\"sequential\":[[0.0,\"#0d0887\"],[0.1111111111111111,\"#46039f\"],[0.2222222222222222,\"#7201a8\"],[0.3333333333333333,\"#9c179e\"],[0.4444444444444444,\"#bd3786\"],[0.5555555555555556,\"#d8576b\"],[0.6666666666666666,\"#ed7953\"],[0.7777777777777778,\"#fb9f3a\"],[0.8888888888888888,\"#fdca26\"],[1.0,\"#f0f921\"]],\"sequentialminus\":[[0.0,\"#0d0887\"],[0.1111111111111111,\"#46039f\"],[0.2222222222222222,\"#7201a8\"],[0.3333333333333333,\"#9c179e\"],[0.4444444444444444,\"#bd3786\"],[0.5555555555555556,\"#d8576b\"],[0.6666666666666666,\"#ed7953\"],[0.7777777777777778,\"#fb9f3a\"],[0.8888888888888888,\"#fdca26\"],[1.0,\"#f0f921\"]]},\"colorway\":[\"#636efa\",\"#EF553B\",\"#00cc96\",\"#ab63fa\",\"#FFA15A\",\"#19d3f3\",\"#FF6692\",\"#B6E880\",\"#FF97FF\",\"#FECB52\"],\"font\":{\"color\":\"#2a3f5f\"},\"geo\":{\"bgcolor\":\"white\",\"lakecolor\":\"white\",\"landcolor\":\"white\",\"showlakes\":true,\"showland\":true,\"subunitcolor\":\"#C8D4E3\"},\"hoverlabel\":{\"align\":\"left\"},\"hovermode\":\"closest\",\"mapbox\":{\"style\":\"light\"},\"paper_bgcolor\":\"white\",\"plot_bgcolor\":\"white\",\"polar\":{\"angularaxis\":{\"gridcolor\":\"#EBF0F8\",\"linecolor\":\"#EBF0F8\",\"ticks\":\"\"},\"bgcolor\":\"white\",\"radialaxis\":{\"gridcolor\":\"#EBF0F8\",\"linecolor\":\"#EBF0F8\",\"ticks\":\"\"}},\"scene\":{\"xaxis\":{\"backgroundcolor\":\"white\",\"gridcolor\":\"#DFE8F3\",\"gridwidth\":2,\"linecolor\":\"#EBF0F8\",\"showbackground\":true,\"ticks\":\"\",\"zerolinecolor\":\"#EBF0F8\"},\"yaxis\":{\"backgroundcolor\":\"white\",\"gridcolor\":\"#DFE8F3\",\"gridwidth\":2,\"linecolor\":\"#EBF0F8\",\"showbackground\":true,\"ticks\":\"\",\"zerolinecolor\":\"#EBF0F8\"},\"zaxis\":{\"backgroundcolor\":\"white\",\"gridcolor\":\"#DFE8F3\",\"gridwidth\":2,\"linecolor\":\"#EBF0F8\",\"showbackground\":true,\"ticks\":\"\",\"zerolinecolor\":\"#EBF0F8\"}},\"shapedefaults\":{\"line\":{\"color\":\"#2a3f5f\"}},\"ternary\":{\"aaxis\":{\"gridcolor\":\"#DFE8F3\",\"linecolor\":\"#A2B1C6\",\"ticks\":\"\"},\"baxis\":{\"gridcolor\":\"#DFE8F3\",\"linecolor\":\"#A2B1C6\",\"ticks\":\"\"},\"bgcolor\":\"white\",\"caxis\":{\"gridcolor\":\"#DFE8F3\",\"linecolor\":\"#A2B1C6\",\"ticks\":\"\"}},\"title\":{\"x\":0.05},\"xaxis\":{\"automargin\":true,\"gridcolor\":\"#EBF0F8\",\"linecolor\":\"#EBF0F8\",\"ticks\":\"\",\"title\":{\"standoff\":15},\"zerolinecolor\":\"#EBF0F8\",\"zerolinewidth\":2},\"yaxis\":{\"automargin\":true,\"gridcolor\":\"#EBF0F8\",\"linecolor\":\"#EBF0F8\",\"ticks\":\"\",\"title\":{\"standoff\":15},\"zerolinecolor\":\"#EBF0F8\",\"zerolinewidth\":2}}},\"title\":{\"text\":\"Heat Map\",\"x\":0.5},\"font\":{\"size\":18},\"width\":800,\"height\":700,\"showlegend\":false},                        {\"responsive\": true}                    ).then(function(){\n",
              "                            \n",
              "var gd = document.getElementById('6604c065-c236-477d-bc1a-2b4b7a3234fa');\n",
              "var x = new MutationObserver(function (mutations, observer) {{\n",
              "        var display = window.getComputedStyle(gd).display;\n",
              "        if (!display || display === 'none') {{\n",
              "            console.log([gd, 'removed!']);\n",
              "            Plotly.purge(gd);\n",
              "            observer.disconnect();\n",
              "        }}\n",
              "}});\n",
              "\n",
              "// Listen for the removal of the full notebook cells\n",
              "var notebookContainer = gd.closest('#notebook-container');\n",
              "if (notebookContainer) {{\n",
              "    x.observe(notebookContainer, {childList: true});\n",
              "}}\n",
              "\n",
              "// Listen for the clearing of the current output cell\n",
              "var outputEl = gd.closest('.output');\n",
              "if (outputEl) {{\n",
              "    x.observe(outputEl, {childList: true});\n",
              "}}\n",
              "\n",
              "                        })                };                            </script>        </div>\n",
              "</body>\n",
              "</html>"
            ]
          },
          "metadata": {}
        }
      ],
      "source": [
        "fig = go.Figure(data=go.Heatmap(df_to_plotly(z),\n",
        "                                colorscale = c))\n",
        "\n",
        "fig.update_layout(\n",
        "        title=\"Heat Map\",\n",
        "        title_x=0.5,\n",
        "        width=800,\n",
        "        height=700,\n",
        "        font=dict(size=18),\n",
        "        showlegend =False,\n",
        "        template=\"plotly_white\")\n",
        "fig.show()"
      ]
    },
    {
      "cell_type": "markdown",
      "metadata": {
        "id": "61TRmYj-KB7l"
      },
      "source": [
        "- VIF showed no multicollinearity. ✅\n",
        "- Heatmap shared the same result. ✅\n"
      ]
    },
    {
      "cell_type": "markdown",
      "metadata": {
        "id": "KYQEfb7IISla"
      },
      "source": [
        "## Assumption 5: No Autocorrelation of Residuals 🔗\n",
        "\n",
        "Linear regression model assumes that error terms are independent. This means that the error term of one observation is not influenced by the error term of another observation. In case it is not so, it is termed as autocorrelation.\n"
      ]
    },
    {
      "cell_type": "markdown",
      "metadata": {
        "id": "mmcx4NQGKxA1"
      },
      "source": [
        "**Durbin Watson test is used to check for autocorrelation:**\n",
        "\n",
        "$$\\mathcal{H}_{0}:  Autocorrelation\\ is\\ absent\\  $$ \n",
        "\n",
        "$$\\mathcal{H}_{1}:  Autocorrelation\\ is\\ present\\ $$ "
      ]
    },
    {
      "cell_type": "code",
      "execution_count": 42,
      "metadata": {
        "colab": {
          "base_uri": "https://localhost:8080/"
        },
        "id": "jIKbzVSUIo4a",
        "outputId": "ba8fe591-17be-4679-9cd3-3b09b21e44e1"
      },
      "outputs": [
        {
          "output_type": "execute_result",
          "data": {
            "text/plain": [
              "2.093652924882907"
            ]
          },
          "metadata": {},
          "execution_count": 42
        }
      ],
      "source": [
        "from statsmodels.stats.stattools import durbin_watson\n",
        "durbin_watson(res.resid)"
      ]
    },
    {
      "cell_type": "markdown",
      "metadata": {
        "id": "qMsU6J3iIy_8"
      },
      "source": [
        "The value of the statistic will lie between 0 to 4. A value between 1.8 and 2.2 indicates no autocorrelation. A value less than 1.8 indicates positive autocorrelation and a value greater than 2.2 indicates negative autocorrelation"
      ]
    },
    {
      "cell_type": "markdown",
      "metadata": {
        "id": "NWAuat4vLGEj"
      },
      "source": [
        "- Durbin test indicates no autocorrelation. ✅ \n"
      ]
    },
    {
      "cell_type": "markdown",
      "metadata": {
        "id": "Z1oJlsVWCIfK"
      },
      "source": [
        "# Final Evaluation 📍"
      ]
    },
    {
      "cell_type": "code",
      "execution_count": 44,
      "metadata": {
        "colab": {
          "base_uri": "https://localhost:8080/"
        },
        "id": "O779oraNCYqQ",
        "outputId": "d830ee25-e1b4-4d9a-8ebe-f90620af2b85"
      },
      "outputs": [
        {
          "output_type": "stream",
          "name": "stdout",
          "text": [
            "                   Results: Ordinary least squares\n",
            "=====================================================================\n",
            "Model:                OLS              Adj. R-squared:     0.654     \n",
            "Dependent Variable:   citric acid      AIC:                -1659.7740\n",
            "Date:                 2022-02-17 11:54 BIC:                -1629.6529\n",
            "No. Observations:     1119             Log-Likelihood:     835.89    \n",
            "Df Model:             5                F-statistic:        424.1     \n",
            "Df Residuals:         1113             Prob (F-statistic): 9.24e-255 \n",
            "R-squared:            0.656            Scale:              0.013214  \n",
            "---------------------------------------------------------------------\n",
            "                      Coef.  Std.Err.    t     P>|t|   [0.025  0.975]\n",
            "---------------------------------------------------------------------\n",
            "const                -0.1127   0.0236  -4.7826 0.0000 -0.1589 -0.0664\n",
            "fixed acidity         0.0613   0.0021  29.0163 0.0000  0.0572  0.0655\n",
            "volatile acidity     -0.4726   0.0196 -24.1117 0.0000 -0.5111 -0.4342\n",
            "residual sugar        0.0101   0.0025   4.0806 0.0000  0.0052  0.0149\n",
            "chlorides             0.7623   0.0738  10.3324 0.0000  0.6176  0.9071\n",
            "total sulfur dioxide  0.0007   0.0001   6.5670 0.0000  0.0005  0.0009\n",
            "---------------------------------------------------------------------\n",
            "Omnibus:                44.679        Durbin-Watson:           2.094 \n",
            "Prob(Omnibus):          0.000         Jarque-Bera (JB):        51.252\n",
            "Skew:                   0.456         Prob(JB):                0.000 \n",
            "Kurtosis:               3.517         Condition No.:           1244  \n",
            "=====================================================================\n",
            "* The condition number is large (1e+03). This might indicate\n",
            "strong multicollinearity or other numerical problems.\n"
          ]
        }
      ],
      "source": [
        "print(res.summary2())"
      ]
    },
    {
      "cell_type": "markdown",
      "metadata": {
        "id": "CAYMuAUoCfRQ"
      },
      "source": [
        "## Overall Model Accuarcy:\n",
        "\n",
        "This is evaluated by R-squared. R2 = 0.65 or 65%. Thus, our model **MAY BE** good enough to deploy on unseen data.\n",
        "\n"
      ]
    },
    {
      "cell_type": "code",
      "source": [
        "res.params"
      ],
      "metadata": {
        "colab": {
          "base_uri": "https://localhost:8080/"
        },
        "id": "7V6mJmqzi0X-",
        "outputId": "08d767f6-63da-4a2b-91c3-2a477175ea56"
      },
      "execution_count": 45,
      "outputs": [
        {
          "output_type": "execute_result",
          "data": {
            "text/plain": [
              "const                  -0.112672\n",
              "fixed acidity           0.061313\n",
              "volatile acidity       -0.472614\n",
              "residual sugar          0.010075\n",
              "chlorides               0.762333\n",
              "total sulfur dioxide    0.000700\n",
              "dtype: float64"
            ]
          },
          "metadata": {},
          "execution_count": 45
        }
      ]
    },
    {
      "cell_type": "markdown",
      "metadata": {
        "id": "U-DkzJIJDKlJ"
      },
      "source": [
        "## Model Significance\n",
        "\n",
        "Our Model:\n",
        "\n",
        "$$\\mathcal{Y}_{citric acid}= 0.075 {x}_{fixed acidity} +  0.0008 {x}_{free sulfur dioxide} - 0.33  $$\n",
        "\n",
        "In order to prove that our linear model is statistically significant, we have to perform hypothesis testing for every β. Let us asume that:\n",
        "$$\\mathcal{H}_{0}: β_{1} = 0 $$\n",
        "$$\\mathcal{H}_{1}: β_{1} ≠ 0 $$\n",
        "Simply, if β1 = 0 then the model shows no association between both variables \n",
        "$$\\mathcal{Y}_{}= β_{0} + ε $$\n",
        "\n",
        "\n",
        "\n"
      ]
    },
    {
      "cell_type": "markdown",
      "metadata": {
        "id": "QSBO_UiR4LWH"
      },
      "source": [
        "To test the coefficient’s null hypothesis we will be using the t statistic. Look at the P>| t | column. These are the p-values for the t-test. In short, if they are less than the desired significance (commonly .05), you reject the null hypothesis. Otherwise, you fail to reject the null and therefore should toss out that independent variable.\n",
        "\n",
        "Above, assuming a significance value of 0.05, our P-Value of 0.000 is much lower than a significance. Therefore, we reject the null hypothesis that the coefficient is equal to 0 and conclude that` fixed acidity` and `free sulfur dioxide` is an important independent variable to utilize.\n",
        "\n",
        "Now, going back to the assumptions of the linear regression, some assumptions were violated. It seems that the free sulfur dioxide is skewing the results. \n",
        "Notice the t-score of both variables.\n",
        "Generally, any t-value greater than +2 or less than – 2 is acceptable. We know that the higher the t-value, the greater the confidence we have in the coefficient as a predictor.Low t-values are indications of low reliability of the predictive power of that coefficient.\n",
        "\n",
        "- fixed acidity           36.208    very high 🟢\n",
        "- free sulfur dioxide     2.314     very low 🔴\n",
        "\n",
        "Therefore in the model update i will remove the free sulfur dioxide from the equation.\n",
        "\n"
      ]
    }
  ],
  "metadata": {
    "colab": {
      "name": "Statistical_Model_Multiple_Linear_Regression.ipynb",
      "provenance": [],
      "collapsed_sections": [],
      "include_colab_link": true
    },
    "kernelspec": {
      "display_name": "Python 3",
      "name": "python3"
    },
    "language_info": {
      "name": "python",
      "version": "3.8.10"
    }
  },
  "nbformat": 4,
  "nbformat_minor": 0
}